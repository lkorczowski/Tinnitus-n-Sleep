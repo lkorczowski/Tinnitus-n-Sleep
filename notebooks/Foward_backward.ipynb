{
 "cells": [
  {
   "cell_type": "markdown",
   "metadata": {},
   "source": [
    "\n",
    "## Small foward backward example"
   ]
  },
  {
   "cell_type": "code",
   "execution_count": 1,
   "metadata": {},
   "outputs": [
    {
     "name": "stdout",
     "output_type": "stream",
     "text": [
      "['C:\\\\Users\\\\Zeta\\\\Documents\\\\acou_sommeil_HD_ENS\\\\provisoire', 'C:\\\\Users\\\\Zeta\\\\Anaconda3\\\\python37.zip', 'C:\\\\Users\\\\Zeta\\\\Anaconda3\\\\DLLs', 'C:\\\\Users\\\\Zeta\\\\Anaconda3\\\\lib', 'C:\\\\Users\\\\Zeta\\\\Anaconda3', '', 'C:\\\\Users\\\\Zeta\\\\Anaconda3\\\\lib\\\\site-packages', 'C:\\\\Users\\\\Zeta\\\\Anaconda3\\\\lib\\\\site-packages\\\\win32', 'C:\\\\Users\\\\Zeta\\\\Anaconda3\\\\lib\\\\site-packages\\\\win32\\\\lib', 'C:\\\\Users\\\\Zeta\\\\Anaconda3\\\\lib\\\\site-packages\\\\Pythonwin', 'C:\\\\Users\\\\Zeta\\\\Anaconda3\\\\lib\\\\site-packages\\\\IPython\\\\extensions', 'C:\\\\Users\\\\Zeta\\\\.ipython']\n"
     ]
    }
   ],
   "source": [
    "#Only once when launching notebook\n",
    "import os\n",
    "import sys\n",
    "print(sys.path)\n",
    "sys.path.append('C:\\\\Users\\\\Zeta\\\\Documents\\\\acou_sommeil_HD_ENS\\\\Tinnitus-n-Sleep')\n",
    "\n",
    "import os\n",
    "PATH = os.getcwd() \n",
    "import sys\n",
    "sys.path.append(PATH + '/../')"
   ]
  },
  {
   "cell_type": "code",
   "execution_count": 3,
   "metadata": {},
   "outputs": [
    {
     "name": "stdout",
     "output_type": "stream",
     "text": [
      "Config loaded\n"
     ]
    }
   ],
   "source": [
    "import matplotlib.pyplot as plt\n",
    "%matplotlib qt\n",
    "import numpy as np\n",
    "import mne\n",
    "import scipy\n",
    "import seaborn as sns\n",
    "from tinnsleep.config import Config\n",
    "from tinnsleep.data import CreateRaw, RawToEpochs_sliding, CleanAnnotations, AnnotateRaw_sliding\n",
    "from tinnsleep.classification import AmplitudeThresholding\n",
    "from tinnsleep.check_impedance import create_annotation_mne, Impedance_thresholding_sliding, check_RMS, fuse_with_classif_result\n",
    "from tinnsleep.signal import rms\n",
    "from tinnsleep.visualization import plotTimeSeries, plotAnnotations, zoom_effect\n",
    "from IPython.core.display import display\n",
    "from ipywidgets import widgets\n",
    "print(\"Config loaded\")\n"
   ]
  },
  {
   "cell_type": "code",
   "execution_count": 4,
   "metadata": {},
   "outputs": [
    {
     "name": "stdout",
     "output_type": "stream",
     "text": [
      "['E:/Acou_sommeil/EDF_V2_PAUL\\\\robin_nuit_23_sept.edf', 'E:/Acou_sommeil/EDF_V2_PAUL\\\\robin_nuit_son_24_sept.edf']\n",
      "\n",
      "['E:/Acou_sommeil/EDF_V2_PAUL\\\\1DA15_nuit_son.edf', 'E:/Acou_sommeil/EDF_V2_PAUL\\\\1GB19_nuit_hab.edf', 'E:/Acou_sommeil/EDF_V2_PAUL\\\\1MF19_nuit_hab.edf', 'E:/Acou_sommeil/EDF_V2_PAUL\\\\1RA17_nuit_hab.edf', 'E:/Acou_sommeil/EDF_V2_PAUL\\\\HZB_nuit_1.edf', 'E:/Acou_sommeil/EDF_V2_PAUL\\\\HZB_nuit_2.edf', 'E:/Acou_sommeil/EDF_V2_PAUL\\\\HZB_nuit_3.edf', 'E:/Acou_sommeil/EDF_V2_PAUL\\\\SCHMIDTLIN_nuit_1_dec_OD__0to0.edf', 'E:/Acou_sommeil/EDF_V2_PAUL\\\\SCHMIDTLIN_nuit_3_dec_OD__4to0to2.edf', 'E:/Acou_sommeil/EDF_V2_PAUL\\\\SCHMIDTLIN_nuit_4_dec_OD__3to3.edf', 'E:/Acou_sommeil/EDF_V2_PAUL\\\\SCHMIDTLIN_nuit_5_dec_OD__0to1.edf', 'E:/Acou_sommeil/EDF_V2_PAUL\\\\SCHM_nuit_1.edf', 'E:/Acou_sommeil/EDF_V2_PAUL\\\\SCHM_nuit_2.edf', 'E:/Acou_sommeil/EDF_V2_PAUL\\\\SCHM_nuit_3.edf', 'E:/Acou_sommeil/EDF_V2_PAUL\\\\Schmidtlin_nuit_2_dec_3to0to4.edf', 'E:/Acou_sommeil/EDF_V2_PAUL\\\\Unger_2.edf', 'E:/Acou_sommeil/EDF_V2_PAUL\\\\jon_mema.edf', 'E:/Acou_sommeil/EDF_V2_PAUL\\\\jose_mema.edf', 'E:/Acou_sommeil/EDF_V2_PAUL\\\\robin_mema_nuit_1.edf', 'E:/Acou_sommeil/EDF_V2_PAUL\\\\robin_mema_nuit_2.edf', 'E:/Acou_sommeil/EDF_V2_PAUL\\\\sophie_mema.edf', 'E:/Acou_sommeil/EDF_V2_PAUL\\\\tom_mema.edf', 'E:/Acou_sommeil/EDF_V2_PAUL\\\\unger_nuit_1.edf']\n",
      "23\n"
     ]
    }
   ],
   "source": [
    "print(Config.bruxisme_files[44:46])\n",
    "print(\"\")\n",
    "ME_files=[Config.bruxisme_files[5], Config.bruxisme_files[9], \n",
    "          Config.bruxisme_files[14], Config.bruxisme_files[22]]\n",
    "ME_files.extend(Config.bruxisme_files[28:44])\n",
    "ME_files.extend(Config.bruxisme_files[46:])\n",
    "\n",
    "print(ME_files)\n",
    "print(len(ME_files))"
   ]
  },
  {
   "cell_type": "code",
   "execution_count": 5,
   "metadata": {},
   "outputs": [
    {
     "name": "stdout",
     "output_type": "stream",
     "text": [
      "Extracting EDF parameters from E:\\Acou_sommeil\\EDF_V2_PAUL\\1DA15_nuit_son.edf...\n",
      "EDF file detected\n",
      "Setting channel info structure...\n",
      "Creating raw.info structure...\n"
     ]
    },
    {
     "name": "stderr",
     "output_type": "stream",
     "text": [
      "<ipython-input-5-a6b76c3aae4d>:8: RuntimeWarning: 6 channel names are too long, have been truncated to 15 characters:\n",
      "['Inductance Abdom', 'Inductance Thora', 'Jambe droite Imp', 'Jambe gauche Imp', 'Tension (aliment', 'Tension (Bluetoo']\n",
      "  raw  = mne.io.read_raw_edf(filename, preload=False)  # prepare loading\n"
     ]
    },
    {
     "name": "stdout",
     "output_type": "stream",
     "text": [
      "Data filtered\n",
      "Epochs done, shape (32460, 1, 200)\n",
      "bursts count: 122/32460 (0.38%)\n",
      "bursts time: 122 seconds\n",
      "bursts count: 129/32460 (0.40%)\n",
      "bursts time: 129 seconds\n",
      "Raw annotated\n",
      "Extracting EDF parameters from E:\\Acou_sommeil\\EDF_V2_PAUL\\1GB19_nuit_hab.edf...\n",
      "EDF file detected\n",
      "Setting channel info structure...\n",
      "Creating raw.info structure...\n"
     ]
    },
    {
     "name": "stderr",
     "output_type": "stream",
     "text": [
      "<ipython-input-5-a6b76c3aae4d>:8: RuntimeWarning: 6 channel names are too long, have been truncated to 15 characters:\n",
      "['Inductance Abdom', 'Inductance Thora', 'Jambe droite Imp', 'Jambe gauche Imp', 'Tension (aliment', 'Tension (Bluetoo']\n",
      "  raw  = mne.io.read_raw_edf(filename, preload=False)  # prepare loading\n"
     ]
    },
    {
     "ename": "KeyboardInterrupt",
     "evalue": "",
     "output_type": "error",
     "traceback": [
      "\u001b[1;31m---------------------------------------------------------------------------\u001b[0m",
      "\u001b[1;31mKeyboardInterrupt\u001b[0m                         Traceback (most recent call last)",
      "\u001b[1;32m<ipython-input-5-a6b76c3aae4d>\u001b[0m in \u001b[0;36m<module>\u001b[1;34m\u001b[0m\n\u001b[0;32m      7\u001b[0m \u001b[1;33m\u001b[0m\u001b[0m\n\u001b[0;32m      8\u001b[0m     \u001b[0mraw\u001b[0m  \u001b[1;33m=\u001b[0m \u001b[0mmne\u001b[0m\u001b[1;33m.\u001b[0m\u001b[0mio\u001b[0m\u001b[1;33m.\u001b[0m\u001b[0mread_raw_edf\u001b[0m\u001b[1;33m(\u001b[0m\u001b[0mfilename\u001b[0m\u001b[1;33m,\u001b[0m \u001b[0mpreload\u001b[0m\u001b[1;33m=\u001b[0m\u001b[1;32mFalse\u001b[0m\u001b[1;33m)\u001b[0m  \u001b[1;31m# prepare loading\u001b[0m\u001b[1;33m\u001b[0m\u001b[1;33m\u001b[0m\u001b[0m\n\u001b[1;32m----> 9\u001b[1;33m     \u001b[0mraw\u001b[0m  \u001b[1;33m=\u001b[0m \u001b[0mCreateRaw\u001b[0m\u001b[1;33m(\u001b[0m\u001b[0mraw\u001b[0m\u001b[1;33m[\u001b[0m\u001b[0mpicks_chan\u001b[0m\u001b[1;33m]\u001b[0m\u001b[1;33m[\u001b[0m\u001b[1;36m0\u001b[0m\u001b[1;33m]\u001b[0m\u001b[1;33m,\u001b[0m \u001b[0mpicks_chan\u001b[0m\u001b[1;33m,\u001b[0m \u001b[0mch_types\u001b[0m\u001b[1;33m=\u001b[0m\u001b[1;33m[\u001b[0m\u001b[1;34m'emg'\u001b[0m\u001b[1;33m]\u001b[0m\u001b[1;33m)\u001b[0m        \u001b[1;31m# pick channels and load\u001b[0m\u001b[1;33m\u001b[0m\u001b[1;33m\u001b[0m\u001b[0m\n\u001b[0m\u001b[0;32m     10\u001b[0m \u001b[1;33m\u001b[0m\u001b[0m\n\u001b[0;32m     11\u001b[0m     \u001b[0mch_names\u001b[0m \u001b[1;33m=\u001b[0m \u001b[0mraw\u001b[0m\u001b[1;33m.\u001b[0m\u001b[0minfo\u001b[0m\u001b[1;33m[\u001b[0m\u001b[1;34m\"ch_names\"\u001b[0m\u001b[1;33m]\u001b[0m\u001b[1;33m\u001b[0m\u001b[1;33m\u001b[0m\u001b[0m\n",
      "\u001b[1;32m~\\Anaconda3\\lib\\site-packages\\mne\\io\\base.py\u001b[0m in \u001b[0;36m__getitem__\u001b[1;34m(self, item)\u001b[0m\n\u001b[0;32m    730\u001b[0m         \u001b[1;32melse\u001b[0m\u001b[1;33m:\u001b[0m\u001b[1;33m\u001b[0m\u001b[1;33m\u001b[0m\u001b[0m\n\u001b[0;32m    731\u001b[0m             data = self._read_segment(start=start, stop=stop, sel=sel,\n\u001b[1;32m--> 732\u001b[1;33m                                       projector=self._projector)\n\u001b[0m\u001b[0;32m    733\u001b[0m         \u001b[0mtimes\u001b[0m \u001b[1;33m=\u001b[0m \u001b[0mself\u001b[0m\u001b[1;33m.\u001b[0m\u001b[0mtimes\u001b[0m\u001b[1;33m[\u001b[0m\u001b[0mstart\u001b[0m\u001b[1;33m:\u001b[0m\u001b[0mstop\u001b[0m\u001b[1;33m]\u001b[0m\u001b[1;33m\u001b[0m\u001b[1;33m\u001b[0m\u001b[0m\n\u001b[0;32m    734\u001b[0m         \u001b[1;32mreturn\u001b[0m \u001b[0mdata\u001b[0m\u001b[1;33m,\u001b[0m \u001b[0mtimes\u001b[0m\u001b[1;33m\u001b[0m\u001b[1;33m\u001b[0m\u001b[0m\n",
      "\u001b[1;32m<decorator-gen-148>\u001b[0m in \u001b[0;36m_read_segment\u001b[1;34m(self, start, stop, sel, data_buffer, projector, verbose)\u001b[0m\n",
      "\u001b[1;32m~\\Anaconda3\\lib\\site-packages\\mne\\io\\base.py\u001b[0m in \u001b[0;36m_read_segment\u001b[1;34m(self, start, stop, sel, data_buffer, projector, verbose)\u001b[0m\n\u001b[0;32m    385\u001b[0m             self._read_segment_file(data[:, this_sl], idx, fi,\n\u001b[0;32m    386\u001b[0m                                     \u001b[0mint\u001b[0m\u001b[1;33m(\u001b[0m\u001b[0mstart_file\u001b[0m\u001b[1;33m)\u001b[0m\u001b[1;33m,\u001b[0m \u001b[0mint\u001b[0m\u001b[1;33m(\u001b[0m\u001b[0mstop_file\u001b[0m\u001b[1;33m)\u001b[0m\u001b[1;33m,\u001b[0m\u001b[1;33m\u001b[0m\u001b[1;33m\u001b[0m\u001b[0m\n\u001b[1;32m--> 387\u001b[1;33m                                     cals, mult)\n\u001b[0m\u001b[0;32m    388\u001b[0m             \u001b[0moffset\u001b[0m \u001b[1;33m+=\u001b[0m \u001b[0mn_read\u001b[0m\u001b[1;33m\u001b[0m\u001b[1;33m\u001b[0m\u001b[0m\n\u001b[0;32m    389\u001b[0m         \u001b[1;32mreturn\u001b[0m \u001b[0mdata\u001b[0m\u001b[1;33m\u001b[0m\u001b[1;33m\u001b[0m\u001b[0m\n",
      "\u001b[1;32m~\\Anaconda3\\lib\\site-packages\\mne\\io\\edf\\edf.py\u001b[0m in \u001b[0;36m_read_segment_file\u001b[1;34m(self, data, idx, fi, start, stop, cals, mult)\u001b[0m\n\u001b[0;32m    138\u001b[0m         return _read_segment_file(data, idx, fi, start, stop,\n\u001b[0;32m    139\u001b[0m                                   \u001b[0mself\u001b[0m\u001b[1;33m.\u001b[0m\u001b[0m_raw_extras\u001b[0m\u001b[1;33m[\u001b[0m\u001b[0mfi\u001b[0m\u001b[1;33m]\u001b[0m\u001b[1;33m,\u001b[0m \u001b[0mself\u001b[0m\u001b[1;33m.\u001b[0m\u001b[0minfo\u001b[0m\u001b[1;33m[\u001b[0m\u001b[1;34m'chs'\u001b[0m\u001b[1;33m]\u001b[0m\u001b[1;33m,\u001b[0m\u001b[1;33m\u001b[0m\u001b[1;33m\u001b[0m\u001b[0m\n\u001b[1;32m--> 140\u001b[1;33m                                   self._filenames[fi])\n\u001b[0m\u001b[0;32m    141\u001b[0m \u001b[1;33m\u001b[0m\u001b[0m\n\u001b[0;32m    142\u001b[0m \u001b[1;33m\u001b[0m\u001b[0m\n",
      "\u001b[1;32m~\\Anaconda3\\lib\\site-packages\\mne\\io\\edf\\edf.py\u001b[0m in \u001b[0;36m_read_segment_file\u001b[1;34m(data, idx, fi, start, stop, raw_extras, chs, filenames)\u001b[0m\n\u001b[0;32m    278\u001b[0m             \u001b[1;31m# Read and reshape to (n_chunks_read, ch0_ch1_ch2_ch3...)\u001b[0m\u001b[1;33m\u001b[0m\u001b[1;33m\u001b[0m\u001b[1;33m\u001b[0m\u001b[0m\n\u001b[0;32m    279\u001b[0m             many_chunk = _read_ch(fid, subtype, ch_offsets[-1] * n_read,\n\u001b[1;32m--> 280\u001b[1;33m                                   dtype_byte, dtype).reshape(n_read, -1)\n\u001b[0m\u001b[0;32m    281\u001b[0m             \u001b[1;32mfor\u001b[0m \u001b[0mii\u001b[0m\u001b[1;33m,\u001b[0m \u001b[0mci\u001b[0m \u001b[1;32min\u001b[0m \u001b[0menumerate\u001b[0m\u001b[1;33m(\u001b[0m\u001b[0mthis_sel\u001b[0m\u001b[1;33m)\u001b[0m\u001b[1;33m:\u001b[0m\u001b[1;33m\u001b[0m\u001b[1;33m\u001b[0m\u001b[0m\n\u001b[0;32m    282\u001b[0m                 \u001b[1;31m# This now has size (n_chunks_read, n_samp[ci])\u001b[0m\u001b[1;33m\u001b[0m\u001b[1;33m\u001b[0m\u001b[1;33m\u001b[0m\u001b[0m\n",
      "\u001b[1;32m~\\Anaconda3\\lib\\site-packages\\mne\\io\\edf\\edf.py\u001b[0m in \u001b[0;36m_read_ch\u001b[1;34m(fid, subtype, samp, dtype_byte, dtype)\u001b[0m\n\u001b[0;32m    225\u001b[0m     \u001b[1;31m# GDF data and EDF data\u001b[0m\u001b[1;33m\u001b[0m\u001b[1;33m\u001b[0m\u001b[1;33m\u001b[0m\u001b[0m\n\u001b[0;32m    226\u001b[0m     \u001b[1;32melse\u001b[0m\u001b[1;33m:\u001b[0m\u001b[1;33m\u001b[0m\u001b[1;33m\u001b[0m\u001b[0m\n\u001b[1;32m--> 227\u001b[1;33m         \u001b[0mch_data\u001b[0m \u001b[1;33m=\u001b[0m \u001b[0mnp\u001b[0m\u001b[1;33m.\u001b[0m\u001b[0mfromfile\u001b[0m\u001b[1;33m(\u001b[0m\u001b[0mfid\u001b[0m\u001b[1;33m,\u001b[0m \u001b[0mdtype\u001b[0m\u001b[1;33m=\u001b[0m\u001b[0mdtype\u001b[0m\u001b[1;33m,\u001b[0m \u001b[0mcount\u001b[0m\u001b[1;33m=\u001b[0m\u001b[0msamp\u001b[0m\u001b[1;33m)\u001b[0m\u001b[1;33m\u001b[0m\u001b[1;33m\u001b[0m\u001b[0m\n\u001b[0m\u001b[0;32m    228\u001b[0m \u001b[1;33m\u001b[0m\u001b[0m\n\u001b[0;32m    229\u001b[0m     \u001b[1;32mreturn\u001b[0m \u001b[0mch_data\u001b[0m\u001b[1;33m\u001b[0m\u001b[1;33m\u001b[0m\u001b[0m\n",
      "\u001b[1;31mKeyboardInterrupt\u001b[0m: "
     ]
    }
   ],
   "source": [
    "filenames = ME_files[:6]  # load file from config\n",
    "#filenames=bad_baseline\n",
    "\n",
    "\n",
    "for filename in filenames:\n",
    "    picks_chan = ['Airflow']           # middle ear electrodes\n",
    "\n",
    "    raw  = mne.io.read_raw_edf(filename, preload=False)  # prepare loading\n",
    "    raw  = CreateRaw(raw[picks_chan][0], raw.info[\"sfreq\"] picks_chan, ch_types=['emg'])        # pick channels and load\n",
    "\n",
    "    ch_names = raw.info[\"ch_names\"]\n",
    "    print(\"Data filtered\")\n",
    "    \n",
    "    #epoching\n",
    "    sfreq = raw.info[\"sfreq\"]\n",
    "    window_length = 1                    # in seconds\n",
    "    duration = int(window_length * sfreq)   # in samples\n",
    "    interval = duration                     # no overlapping\n",
    "    epochs = RawToEpochs_sliding(raw, duration=duration, interval=interval)\n",
    "    print(f\"Epochs done, shape {epochs.shape}\")\n",
    "    \n",
    "    \n",
    "    #Foward\n",
    "    # compute the sum of power over electrodes and samples in each window\n",
    "    pipeline = AmplitudeThresholding(abs_threshold=0., rel_threshold=3.5, n_adaptive=60)\n",
    "    X        = rms(epochs) # take only valid labels\n",
    "    labels   = pipeline.fit_predict(X)\n",
    "    print(f\"bursts count: {np.sum(labels)}/{len(labels)} ({np.sum(labels) / len(labels) * 100:.2f}%)\")\n",
    "    print(f\"bursts time: {np.sum(labels) * window_length} seconds\")\n",
    "    \n",
    "    #Adding annotations\n",
    "    raw = CleanAnnotations(raw)\n",
    "    dict_annotations = {2: \"tot\"}\n",
    "    raw = AnnotateRaw_sliding(raw, labels, \n",
    "                    dict_annotations=dict_annotations, duration=duration, interval=interval)\n",
    "\n",
    "    #Backward\n",
    "    #Reversing epochs array\n",
    "    epochs = epochs[::-1]\n",
    "    \n",
    "     # compute the sum of power over electrodes and samples in each window\n",
    "    pipeline = AmplitudeThresholding(abs_threshold=0., rel_threshold=3.5, n_adaptive=60)\n",
    "    X        = rms(epochs) # take only valid labels\n",
    "    labels   = pipeline.fit_predict(X)\n",
    "    #Reversing labels\n",
    "    labels = labels[::-1]\n",
    "    \n",
    "\n",
    "    print(f\"bursts count: {np.sum(labels)}/{len(labels)} ({np.sum(labels) / len(labels) * 100:.2f}%)\")\n",
    "    print(f\"bursts time: {np.sum(labels) * window_length} seconds\")\n",
    "    \n",
    "    #raw = CleanAnnotations(raw)\n",
    "    dict_annotations = {2: \"tot\"}\n",
    "    raw = AnnotateRaw_sliding(raw, labels, \n",
    "                    dict_annotations=dict_annotations, duration=duration, interval=interval)\n",
    "    print(\"Raw annotated\")\n",
    "    scalings = dict(emg=1)\n",
    "    raw.plot(scalings = scalings)\n",
    "    plt.title(filename)"
   ]
  },
  {
   "cell_type": "code",
   "execution_count": null,
   "metadata": {},
   "outputs": [],
   "source": []
  }
 ],
 "metadata": {
  "kernelspec": {
   "display_name": "Python 3",
   "language": "python",
   "name": "python3"
  },
  "language_info": {
   "codemirror_mode": {
    "name": "ipython",
    "version": 3
   },
   "file_extension": ".py",
   "mimetype": "text/x-python",
   "name": "python",
   "nbconvert_exporter": "python",
   "pygments_lexer": "ipython3",
   "version": "3.8.2"
  }
 },
 "nbformat": 4,
 "nbformat_minor": 4
}
