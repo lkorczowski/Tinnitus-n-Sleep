{
 "cells": [
  {
   "cell_type": "markdown",
   "metadata": {},
   "source": [
    "## Inter-subject analysis\n",
    "\n",
    "This notebook will \n",
    "- Process and generate reports for all the dataset following procedure detailed in Bruxism detection\n",
    "- Display several metrics for all patients of the datasets\n",
    "- Display group analysis differences between tinnitus overnight increase patients and stable overnight patients (for tinnitus masking volume and VAS scales)\n",
    "- Display correlation plots between tinnitus evolution overnight and number of bruxisme episodes per hour (for tinnitus masking volume and VAS scales)"
   ]
  },
  {
   "cell_type": "code",
   "execution_count": 1,
   "metadata": {},
   "outputs": [
    {
     "name": "stdout",
     "output_type": "stream",
     "text": [
      "config loaded\n"
     ]
    }
   ],
   "source": [
    "import os\n",
    "PATH = os.getcwd() \n",
    "import sys\n",
    "sys.path.append(PATH + '/../')\n",
    "import matplotlib.pyplot as plt\n",
    "%matplotlib inline\n",
    "import numpy as np\n",
    "import pandas as pd\n",
    "import scipy\n",
    "import seaborn as sns\n",
    "from statannot import add_stat_annotation\n",
    "from itertools import combinations\n",
    "from tinnsleep.data import read_etiology_file\n",
    "\n",
    "print(\"config loaded\")\n"
   ]
  },
  {
   "cell_type": "code",
   "execution_count": 2,
   "metadata": {},
   "outputs": [],
   "source": [
    "#Setting parameters\n",
    "results_file = \"data/reports_and_datas_bruxism.pk\"\n",
    "info_file = \"data/data_info.csv\"\n",
    "etiology_file = \"data/etiology.xlsx\""
   ]
  },
  {
   "cell_type": "markdown",
   "metadata": {},
   "source": [
    "# PART 1 Compute Results\n",
    "Skip to Part 2 if results files has been computed already"
   ]
  },
  {
   "cell_type": "markdown",
   "metadata": {},
   "source": [
    "## Processing of the dataset and report generation"
   ]
  },
  {
   "cell_type": "code",
   "execution_count": null,
   "metadata": {
    "scrolled": true
   },
   "outputs": [
    {
     "name": "stdout",
     "output_type": "stream",
     "text": [
      "config loaded.\n",
      "Performs Bruxism: <True>\n",
      "Performs MEMA: <False>\n",
      "Will overwrite existing results: <False>\n",
      "parameters set\n"
     ]
    }
   ],
   "source": [
    "# change to --overwrite True if you want to force to recompute the results\n",
    "%run ../compute_results.py --bruxism True --mema False --overwrite False \n"
   ]
  },
  {
   "cell_type": "markdown",
   "metadata": {},
   "source": [
    "# Part 2 Load and Analysis Results\n",
    "Part 1 is optional if the .pk has been saved\n",
    "\n",
    "### Loading results"
   ]
  },
  {
   "cell_type": "code",
   "execution_count": null,
   "metadata": {},
   "outputs": [],
   "source": [
    "results = pd.read_pickle(results_file).to_dict()\n",
    "THR_classif = np.array(results[list(results.keys())[0]][\"THR_classif\"])\n",
    "\n",
    "data_info = pd.read_csv(info_file, sep=\",\").query('emg == 1 & included == 1 & session == \"1\"')\n",
    "etiology = read_etiology_file(etiology_file)\n",
    "data_info = data_info.merge(etiology,on=\"subject\")\n",
    "\n",
    "print(f\"Valid files for bruxism {data_info.shape[0]}\")\n",
    "print(data_info[[\"filename\", \"condition\", \"hyperacusis\"]])\n",
    "\n",
    "# keep only results from query\n",
    "results= {filename:results[filename] for filename in data_info[\"filename\"].values}"
   ]
  },
  {
   "cell_type": "markdown",
   "metadata": {},
   "source": [
    "## 2.a Number of episode per hour"
   ]
  },
  {
   "cell_type": "code",
   "execution_count": null,
   "metadata": {},
   "outputs": [],
   "source": [
    "# vizualization function\n",
    "def plot_inter_subjects(results, value): \n",
    "    for filename in results.keys():\n",
    "        y_axis=[]\n",
    "        for report in results[filename][\"reports\"]:\n",
    "            y_axis.append(report[value])\n",
    "        plt.plot(THR_classif[:,1], y_axis, label=filename)\n",
    "    plt.title('Bruxism scoring')\n",
    "    plt.xlabel('Threshold for classification')\n",
    "    plt.ylabel(value)\n",
    "    plt.legend(bbox_to_anchor=(1, 1), loc='upper left', ncol=1)"
   ]
  },
  {
   "cell_type": "code",
   "execution_count": null,
   "metadata": {},
   "outputs": [],
   "source": [
    "plt.close(\"all\")\n",
    "plt.figure()\n",
    "value = \"Number of episodes per hour\"\n",
    "plot_inter_subjects(results, value)"
   ]
  },
  {
   "cell_type": "markdown",
   "metadata": {},
   "source": [
    "## 2.b Burst Duration "
   ]
  },
  {
   "cell_type": "code",
   "execution_count": null,
   "metadata": {},
   "outputs": [],
   "source": [
    "plt.figure()\n",
    "value = \"Total burst duration\"\n",
    "plot_inter_subjects(results, value)"
   ]
  },
  {
   "cell_type": "markdown",
   "metadata": {},
   "source": [
    "## 2.c Logs of the preprocessing"
   ]
  },
  {
   "cell_type": "code",
   "execution_count": null,
   "metadata": {},
   "outputs": [],
   "source": [
    "file=[]\n",
    "suppr_imp=[]\n",
    "suppr_amp=[]\n",
    "suppr_OMA=[]\n",
    "for elm in results.keys():\n",
    "    #print(results[elm][\"log\"])\n",
    "    #if results[elm][\"log\"][\"bruxism\"]['suppressed_overall']/results[elm][\"log\"][\"bruxism\"]['total_nb_epochs'] > 0.0001:\n",
    "        sum_suppr= results[elm][\"log\"][\"IMP\"]['suppressed_overall']/results[elm][\"log\"][\"IMP\"]['total_nb_epochs'] + results[elm][\"log\"][\"bruxism\"]['suppressed_overall']/results[elm][\"log\"][\"bruxism\"]['total_nb_epochs'] + results[elm][\"log\"][\"OMA\"]['suppressed_overall']/results[elm][\"log\"][\"OMA\"]['total_nb_epochs']\n",
    "        file.append(elm.split(os.path.sep)[-1][:-4] + \" | \" + \n",
    "                    str(\"%.1f\" % (100.0 *sum_suppr))\n",
    "                   + \" % tot_suppr\")\n",
    "        suppr_imp.append(100*(results[elm][\"log\"][\"IMP\"]['suppressed_overall']/results[elm][\"log\"][\"IMP\"]['total_nb_epochs']))\n",
    "        suppr_amp.append(100*results[elm][\"log\"][\"bruxism\"]['suppressed_overall']/results[elm][\"log\"][\"bruxism\"]['total_nb_epochs'])\n",
    "        suppr_OMA.append(100*results[elm][\"log\"][\"OMA\"]['suppressed_overall']/results[elm][\"log\"][\"OMA\"]['total_nb_epochs'])\n",
    "       \n",
    "\n",
    "\n",
    "fig, ax = plt.subplots(figsize=(8, 13))\n",
    "rect1 = ax.barh(file, suppr_imp)\n",
    "rect2 = ax.barh(file, suppr_amp, left=suppr_imp)\n",
    "starts=[]\n",
    "for i in range(len(suppr_imp)):\n",
    "    starts.append(suppr_imp[i]+ suppr_amp[i])\n",
    "rect3 = ax.barh(file, suppr_OMA, left=starts)\n",
    "plt.xlabel(\"% epochs rejected by imp_thr (bl) and by ampl_thr (or) and OMA (gr)\")\n",
    "plt.tight_layout()\n",
    "plt.show()\n"
   ]
  },
  {
   "cell_type": "markdown",
   "metadata": {},
   "source": [
    "## 2.d Comparing episode frequency with variability tinnitus"
   ]
  },
  {
   "cell_type": "code",
   "execution_count": null,
   "metadata": {},
   "outputs": [],
   "source": [
    "# d.1 GROUP BY TINNITUS VOLUME VARIATION\n",
    "reports = None\n",
    "for filename in results.keys():\n",
    "    report = pd.DataFrame(results[filename][\"reports\"])\n",
    "    report[\"THR_classif\"] = THR_classif[:,1]\n",
    "    report[\"filename\"] = filename\n",
    "    if reports is None:\n",
    "        reports = report\n",
    "    else:\n",
    "        reports = reports.append(report, ignore_index=True)\n",
    "\n",
    "        \n",
    "import math     \n",
    "def map_category(x):\n",
    "    if x < (-0.1):\n",
    "        return \"decrease\"\n",
    "    elif x > (0.1):\n",
    "        return \"increase\"\n",
    "    elif math.isnan(x):\n",
    "        return \"control\"\n",
    "    else:\n",
    "        return \"stable\"\n",
    "data_info[\"category\"] = data_info[\"mask_delta\"].apply(map_category)\n",
    "\n",
    "reports = reports.merge(data_info, on=\"filename\")\n",
    "\n",
    "# d.2 reparing values for correlation scatter plots\n",
    "    \n",
    "print(\"Nb_patients in each group : \")\n",
    "for category in list(data_info['category'].unique()):\n",
    "    print(f\"Tinnitus {category} : {(data_info['category']==category).sum()}, {(list(data_info[data_info['category']==category]['subject']))}\")\n",
    "\n",
    "report_mean = reports.groupby(['category', 'THR_classif']).mean()\n",
    "report_std =  reports.groupby(['category', 'THR_classif']).std()\n",
    "\n",
    "# d.3 Displaying\n",
    "plt.figure()\n",
    "value = \"Number of episodes per hour\"\n",
    "for category in list(report_mean.index.get_level_values(0).unique()):\n",
    "    plt.errorbar(THR_classif[:,1],report_mean.loc[category][value], report_std.loc[category][value], label = category)\n",
    "plt.title(\"Influence of bruxism with patient category\" )\n",
    "plt.xlabel('Thresholding of classification')\n",
    "plt.ylabel(value)\n",
    "plt.legend()"
   ]
  },
  {
   "cell_type": "markdown",
   "metadata": {},
   "source": [
    "## 2.e Etiology"
   ]
  },
  {
   "cell_type": "code",
   "execution_count": null,
   "metadata": {},
   "outputs": [],
   "source": [
    "print(list(reports.keys()))"
   ]
  },
  {
   "cell_type": "code",
   "execution_count": null,
   "metadata": {},
   "outputs": [],
   "source": [
    "# ETIOLOGIES\n",
    "from tinnsleep.visualization import etiology_report_with_plot\n",
    "\n",
    "data = reports\n",
    "variable = \"Number of episodes per hour\"\n",
    "\n",
    "hue = \"THR_classif\"\n",
    "threshold = 4\n",
    "\n",
    "etiologies = ['etiology', 'obstructed_ear', 'otalgy', 'hyperacusis', 'jaw_popping', 'jaw_pain_and_fatigue', \n",
    "            'somatosensory_modulation', 'nap_modulation', 'snoring']\n",
    "for etiology in etiologies:\n",
    "    etiology_report_with_plot(data, etiology, variable, hue=hue, hue_stats=threshold)"
   ]
  },
  {
   "cell_type": "markdown",
   "metadata": {},
   "source": [
    "## 2.f Screen for correlated variables"
   ]
  },
  {
   "cell_type": "code",
   "execution_count": null,
   "metadata": {
    "scrolled": true
   },
   "outputs": [],
   "source": [
    "quantitative_variables = list(results[list(results.keys())[0]][\"reports\"][0].keys())[0:-1] #(remove power ratio)\n",
    "print(f'variables: {quantitative_variables}')\n",
    "effect_variable = [\"mask_delta\", \"mask_per\", \"VAS_I_delta\", \"VAS_I_per\", \"VAS_L_delta\", \"VAS_L_per\"]"
   ]
  },
  {
   "cell_type": "code",
   "execution_count": null,
   "metadata": {},
   "outputs": [],
   "source": [
    "import seaborn as sns\n",
    "from tinnsleep.visualization import regression_report_with_plot\n",
    "plt.close(\"all\")\n",
    "\n",
    "data = reports.query(\"category != 'control' & THR_classif == 4.\")\n",
    "meta_results = regression_report_with_plot(data, effect_variable, quantitative_variables, conditions='THR_classif', title=\"Effect of Bruxism\")"
   ]
  },
  {
   "cell_type": "code",
   "execution_count": null,
   "metadata": {},
   "outputs": [],
   "source": [
    "meta_results.query(\"pvalue < 0.05\")"
   ]
  }
 ],
 "metadata": {
  "kernelspec": {
   "display_name": "Python 3",
   "language": "python",
   "name": "python3"
  },
  "language_info": {
   "codemirror_mode": {
    "name": "ipython",
    "version": 3
   },
   "file_extension": ".py",
   "mimetype": "text/x-python",
   "name": "python",
   "nbconvert_exporter": "python",
   "pygments_lexer": "ipython3",
   "version": "3.8.2"
  },
  "pycharm": {
   "stem_cell": {
    "cell_type": "raw",
    "metadata": {
     "collapsed": false
    },
    "source": []
   }
  }
 },
 "nbformat": 4,
 "nbformat_minor": 4
}
