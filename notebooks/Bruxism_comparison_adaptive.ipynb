{
 "cells": [
  {
   "cell_type": "markdown",
   "metadata": {
    "pycharm": {
     "name": "#%% md\n"
    }
   },
   "source": [
    "# Detection of Bruxism events in Tinnitus patients polysomnographic data\n",
    "This notebook will \n",
    "- load EMG channels of polusomnographic data\n",
    "- detect the EMG bursts in a unsupervised way\n",
    "- classify EMG bursts as different bruxism events\n",
    "- give insights on the bruxism events"
   ]
  },
  {
   "cell_type": "code",
   "execution_count": 1,
   "metadata": {
    "pycharm": {
     "is_executing": false
    }
   },
   "outputs": [
    {
     "name": "stdout",
     "output_type": "stream",
     "text": [
      "Config loaded\n",
      "['/Users/louis/Data/SIOPI/bruxisme/1BA07_nuit_hab.edf', '/Users/louis/Data/SIOPI/bruxisme/1DA15_nuit_hab.edf', '/Users/louis/Data/SIOPI/bruxisme/1GB19_nuit_hab.edf', '/Users/louis/Data/SIOPI/bruxisme/1RA17_nuit_hab.edf']\n"
     ]
    }
   ],
   "source": [
    "import os\n",
    "PATH = os.getcwd() \n",
    "import sys\n",
    "sys.path.append(PATH + '/../')\n",
    "import matplotlib.pyplot as plt\n",
    "%matplotlib widget\n",
    "import numpy as np\n",
    "import mne\n",
    "import scipy\n",
    "import seaborn as sns\n",
    "from tinnsleep.config import Config\n",
    "from tinnsleep.data import CreateRaw, RawToEpochs_sliding, CleanAnnotations, AnnotateRaw_sliding\n",
    "from tinnsleep.classification import AmplitudeThresholding\n",
    "from tinnsleep.check_impedance import create_annotation_mne, Impedance_thresholding_sliding, check_RMS, fuse_with_classif_result\n",
    "from tinnsleep.signal import rms\n",
    "from tinnsleep.visualization import plotTimeSeries, plotAnnotations, zoom_effect\n",
    "from IPython.core.display import display\n",
    "from ipywidgets import widgets\n",
    "print(\"Config loaded\")\n",
    "\n",
    "print(Config.bruxisme_files)"
   ]
  },
  {
   "cell_type": "markdown",
   "metadata": {},
   "source": [
    "## Load, filter, and prepare data"
   ]
  },
  {
   "cell_type": "code",
   "execution_count": 2,
   "metadata": {
    "collapsed": false,
    "jupyter": {
     "outputs_hidden": false
    },
    "pycharm": {
     "is_executing": false,
     "name": "#%%\n"
    }
   },
   "outputs": [
    {
     "name": "stdout",
     "output_type": "stream",
     "text": [
      "Extracting EDF parameters from /Users/louis/Data/SIOPI/bruxisme/1BA07_nuit_hab.edf...\n",
      "EDF file detected\n",
      "Setting channel info structure...\n",
      "Creating raw.info structure...\n"
     ]
    },
    {
     "name": "stderr",
     "output_type": "stream",
     "text": [
      "<ipython-input-2-5db0a3ad1304>:4: RuntimeWarning: 7 channel names are too long, have been truncated to 15 characters:\n",
      "['Inductance Abdom', 'Inductance Thora', 'Intensit? lumine', 'Jambe droite Imp', 'Jambe gauche Imp', 'Tension (aliment', 'Tension (Bluetoo']\n",
      "  raw  = mne.io.read_raw_edf(filename, preload=False)  # prepare loading\n"
     ]
    },
    {
     "name": "stdout",
     "output_type": "stream",
     "text": [
      "Data filtered\n",
      "keeping 7.28 hours of recording out of 8.83 hours\n"
     ]
    }
   ],
   "source": [
    "filename = Config.bruxisme_files[0]  # load file from config\n",
    "picks_chan = ['1', '2']           # subset of EMG electrodes\n",
    "\n",
    "raw  = mne.io.read_raw_edf(filename, preload=False)  # prepare loading\n",
    "tmin = raw.times[0]                     \n",
    "tmax = raw.times[-1]\n",
    "\n",
    "croptimes=dict(tmin=raw.times[0]+3600*2, tmax=raw.times[-1]-3600)\n",
    "raw.crop(**croptimes)\n",
    "\n",
    "raw  = CreateRaw(raw[picks_chan][0], picks_chan, ch_types=['emg'])        # pick channels and load\n",
    "\n",
    "raw  = raw.filter(20., 99., n_jobs=4, \n",
    "                  fir_design='firwin', filter_length='auto', phase='zero-double',\n",
    "                  picks=picks_chan)\n",
    "ch_names = raw.info[\"ch_names\"]\n",
    "print(\"Data filtered\")\n",
    "\n",
    "offset = raw.times[0]\n",
    "print(f\"keeping {(raw.times[-1]-raw.times[0])/3600:0.2f} hours of recording out of {(tmax-tmin)/3600:0.2f} hours\")"
   ]
  },
  {
   "cell_type": "markdown",
   "metadata": {},
   "source": [
    "## Epoching data"
   ]
  },
  {
   "cell_type": "code",
   "execution_count": 3,
   "metadata": {
    "pycharm": {
     "is_executing": false,
     "name": "#%%\n"
    }
   },
   "outputs": [
    {
     "name": "stdout",
     "output_type": "stream",
     "text": [
      "Epochs done, shape (104900, 2, 50)\n"
     ]
    }
   ],
   "source": [
    "sfreq = raw.info[\"sfreq\"]\n",
    "window_length = 0.25                    # in seconds\n",
    "duration = int(window_length * sfreq)   # in samples\n",
    "interval = duration                     # no overlapping\n",
    "epochs = RawToEpochs_sliding(raw, duration=duration, interval=interval)\n",
    "print(f\"Epochs done, shape {epochs.shape}\")"
   ]
  },
  {
   "cell_type": "markdown",
   "metadata": {},
   "source": [
    "## Get the impedance & artefacts annotations"
   ]
  },
  {
   "cell_type": "code",
   "execution_count": 4,
   "metadata": {},
   "outputs": [
    {
     "name": "stdout",
     "output_type": "stream",
     "text": [
      "Extracting EDF parameters from /Users/louis/Data/SIOPI/bruxisme/1BA07_nuit_hab.edf...\n",
      "EDF file detected\n",
      "Setting channel info structure...\n",
      "Creating raw.info structure...\n",
      "['1 Imp?dance', '2 Imp?dance']\n"
     ]
    },
    {
     "name": "stderr",
     "output_type": "stream",
     "text": [
      "<ipython-input-4-f1bac0f4cb56>:4: RuntimeWarning: 7 channel names are too long, have been truncated to 15 characters:\n",
      "['Inductance Abdom', 'Inductance Thora', 'Intensit? lumine', 'Jambe droite Imp', 'Jambe gauche Imp', 'Tension (aliment', 'Tension (Bluetoo']\n",
      "  raw_imp  = mne.io.read_raw_edf(filename, preload=False)  # prepare loading\n"
     ]
    },
    {
     "name": "stdout",
     "output_type": "stream",
     "text": [
      "rejected impedances for 5 epochs out of 104900 (0.00%)\n",
      "good amplitudes for 104713 epochs out of 104900 (99.82%)\n",
      "104708\n",
      "good epochs for 104708 epochs out of 104900 (99.82%)\n",
      "104900\n"
     ]
    }
   ],
   "source": [
    "# Value of the impedance threshold\n",
    "THR_imp = 6000\n",
    "\n",
    "raw_imp  = mne.io.read_raw_edf(filename, preload=False)  # prepare loading\n",
    "ch_names = raw_imp.info[\"ch_names\"]\n",
    "picks_chan = [ch_names[1],ch_names[5]]\n",
    "print(picks_chan)\n",
    "\n",
    "croptimes=dict(tmin=raw_imp.times[0]+3600*2, tmax=raw_imp.times[-1]-3600)\n",
    "raw_imp.crop(**croptimes)\n",
    "\n",
    "#Get the table of bad electrodes booleans from the impedance thresholding algo\n",
    "check_imp  = Impedance_thresholding_sliding(raw_imp[picks_chan][0], duration, interval,THR_imp) \n",
    "\n",
    "# convert to labels per epoch\n",
    "impedance_labels = np.any(check_imp, axis=-1)\n",
    "print(f\"rejected impedances for {np.sum(impedance_labels)} epochs out of {len(impedance_labels)} ({np.sum(impedance_labels)/len(impedance_labels)*100:.2f}%)\")\n",
    "\n",
    "# Epoch rejection based on |min-max| thresholding \n",
    "from tinnsleep.signal import is_good_epochs\n",
    "params = dict(ch_names=raw.info[\"ch_names\"],\n",
    "             rejection_thresholds=dict(emg=5e-04), # two order of magnitude higher q0.01\n",
    "             flat_thresholds=dict(emg=1e-09),    # one order of magnitude lower median\n",
    "             channel_type_idx=dict(emg=[0, 1]),\n",
    "             full_report=True\n",
    "            )\n",
    "amplitude_labels, bad_lists = is_good_epochs(epochs, **params)\n",
    "print(f\"good amplitudes for {np.sum(amplitude_labels)} epochs out of {len(amplitude_labels)} ({np.sum(amplitude_labels)/len(amplitude_labels)*100:.2f}%)\")\n",
    "\n",
    "# Merge is_good and amplitude\n",
    "# Logical OR\n",
    "valid_labels = np.all(np.c_[np.invert(impedance_labels), amplitude_labels], axis=-1)\n",
    "\n",
    "print(np.sum(valid_labels))\n",
    "print(f\"good epochs for {np.sum(valid_labels)} epochs out of {len(valid_labels)} ({np.sum(valid_labels)/len(valid_labels)*100:.2f}%)\")\n",
    "print(len(valid_labels))\n",
    "\n",
    "dict_annotations_artefacts = {1: \"artefact\"}\n",
    "annotations_artefacts = []\n",
    "for k, label in enumerate(np.invert(valid_labels)):\n",
    "    if label > 0:\n",
    "        annotations_artefacts.append(dict(\n",
    "            onset=k*interval/sfreq,\n",
    "            duration=duration/sfreq,\n",
    "            description=dict_annotations_artefacts[label],\n",
    "            orig_time=offset\n",
    "        )\n",
    "            \n",
    "        )"
   ]
  },
  {
   "cell_type": "markdown",
   "metadata": {},
   "source": [
    "## Classifying bursts with different adaptive length"
   ]
  },
  {
   "cell_type": "code",
   "execution_count": 5,
   "metadata": {
    "pycharm": {
     "is_executing": false
    }
   },
   "outputs": [],
   "source": [
    "from tinnsleep.scoring import classif_to_burst, burst_to_episode\n",
    "\n",
    "def pipeline2annotations(X, pipeline):\n",
    "    labels   = pipeline.fit_predict(X)\n",
    "    labels   = fuse_with_classif_result(np.invert(valid_labels), labels) # add the missing labels removed with artefacts\n",
    "    print(f\"bursts count ({pipeline.n_adaptive}): {np.sum(labels)}/{len(labels)} ({np.sum(labels) / len(labels) * 100:.2f}%)\")\n",
    "    print(f\"bursts time ({pipeline.n_adaptive}): {np.sum(labels) * window_length} seconds\")\n",
    "    bursts = classif_to_burst(labels, time_interval=window_length)\n",
    "    annotations_episodes = [episode.generate_annotation(orig_time=offset) for episode in burst_to_episode(bursts)]\n",
    "    print(annotations_episodes[:3])\n",
    "    return annotations_episodes"
   ]
  },
  {
   "cell_type": "code",
   "execution_count": 6,
   "metadata": {
    "pycharm": {
     "is_executing": false
    }
   },
   "outputs": [
    {
     "name": "stdout",
     "output_type": "stream",
     "text": [
      "bursts count (0): 7136/104900 (6.80%)\n",
      "bursts time (0): 1784.0 seconds\n",
      "[{'onset': 58.75, 'duration': 5.0, 'description': 'Phasic', 'orig_time': 0.0}, {'onset': 136.75, 'duration': 10.5, 'description': 'Mixed', 'orig_time': 0.0}, {'onset': 150.25, 'duration': 32.75, 'description': 'Phasic', 'orig_time': 0.0}]\n",
      "bursts count (120): 3079/104900 (2.94%)\n",
      "bursts time (120): 769.75 seconds\n",
      "[{'onset': 866.5, 'duration': 2.75, 'description': 'Phasic', 'orig_time': 0.0}, {'onset': 965.25, 'duration': 6.5, 'description': 'Phasic', 'orig_time': 0.0}, {'onset': 1034.5, 'duration': 8.75, 'description': 'Phasic', 'orig_time': 0.0}]\n",
      "bursts count (240): 3525/104900 (3.36%)\n",
      "bursts time (240): 881.25 seconds\n",
      "[{'onset': 58.75, 'duration': 3.0, 'description': 'Phasic', 'orig_time': 0.0}, {'onset': 140.25, 'duration': 2.0, 'description': 'Phasic', 'orig_time': 0.0}, {'onset': 965.25, 'duration': 6.5, 'description': 'Mixed', 'orig_time': 0.0}]\n",
      "bursts count (480): 3953/104900 (3.77%)\n",
      "bursts time (480): 988.25 seconds\n",
      "[{'onset': 58.75, 'duration': 3.0, 'description': 'Phasic', 'orig_time': 0.0}, {'onset': 140.25, 'duration': 3.0, 'description': 'Phasic', 'orig_time': 0.0}, {'onset': 160.25, 'duration': 1.75, 'description': 'Phasic', 'orig_time': 0.0}]\n"
     ]
    }
   ],
   "source": [
    "X        = rms(epochs[valid_labels]) # take only valid labels\n",
    "\n",
    "# without adaptive\n",
    "annotations_episodes = []\n",
    "for n_adaptive in [0, 120, 240, 480]:\n",
    "    annotations_episodes.append(pipeline2annotations(X, AmplitudeThresholding(abs_threshold=0., rel_threshold=2, n_adaptive=n_adaptive)))\n"
   ]
  },
  {
   "cell_type": "markdown",
   "metadata": {
    "pycharm": {
     "name": "#%% md\n"
    }
   },
   "source": [
    "## Display Episode for different adaptive thresholds"
   ]
  },
  {
   "cell_type": "code",
   "execution_count": 7,
   "metadata": {
    "pycharm": {
     "name": "#%% md\n"
    }
   },
   "outputs": [],
   "source": [
    "def plotall(raw, ax1, annotations, annotations_artefacts, plotargs):\n",
    "    plotTimeSeries(raw.get_data().T, ax=ax1,**plotargs)\n",
    "    plotAnnotations(annotations_artefacts, ax=ax1, color=\"red\")\n",
    "    plotAnnotations(annotations, ax=ax1, text_prop=dict(color=\"green\"), color=\"green\")\n",
    "    return ax1\n",
    "\n",
    "def set_xlim_all(xmin, xmax, *args):\n",
    "    for arg in args:\n",
    "        arg.set_xlim(xmin, xmax)"
   ]
  },
  {
   "cell_type": "code",
   "execution_count": 8,
   "metadata": {
    "collapsed": false,
    "jupyter": {
     "outputs_hidden": false
    },
    "pycharm": {
     "is_executing": false,
     "name": "#%%\n"
    }
   },
   "outputs": [
    {
     "data": {
      "application/vnd.jupyter.widget-view+json": {
       "model_id": "731b678c04ae46bab4b35309402dc949",
       "version_major": 2,
       "version_minor": 0
      },
      "text/plain": [
       "Canvas(toolbar=Toolbar(toolitems=[('Home', 'Reset original view', 'home', 'home'), ('Back', 'Back to previous …"
      ]
     },
     "metadata": {},
     "output_type": "display_data"
    }
   ],
   "source": [
    "plt.close(\"all\")\n",
    "# decimate signal to make it more readible \n",
    "raw_ds = raw.copy().resample(100)\n",
    "\n",
    "%matplotlib widget\n",
    "scalings=5e-5\n",
    "plotargs = dict(sfreq=raw_ds.info[\"sfreq\"], scalings=scalings, offset=offset, linewidth=0.5)\n",
    "plt.figure()\n",
    "axes = []\n",
    "for k, annotations in enumerate(annotations_episodes):\n",
    "    axes.append(plt.subplot(len(annotations_episodes),1,k+1))\n",
    "    plotall(raw_ds, axes[-1], annotations, annotations_artefacts, plotargs)\n",
    "set_xlim_all(10000,10200,*axes)"
   ]
  },
  {
   "cell_type": "code",
   "execution_count": 13,
   "metadata": {
    "collapsed": false,
    "jupyter": {
     "outputs_hidden": false
    },
    "pycharm": {
     "is_executing": false,
     "name": "#%%\n"
    }
   },
   "outputs": [],
   "source": [
    "set_xlim_all(8175,8500,*axes)"
   ]
  }
 ],
 "metadata": {
  "kernelspec": {
   "display_name": "tinnsleep-env",
   "language": "python",
   "name": "tinnsleep-env"
  },
  "language_info": {
   "codemirror_mode": {
    "name": "ipython",
    "version": 3
   },
   "file_extension": ".py",
   "mimetype": "text/x-python",
   "name": "python",
   "nbconvert_exporter": "python",
   "pygments_lexer": "ipython3",
   "version": "3.8.2"
  },
  "pycharm": {
   "stem_cell": {
    "cell_type": "raw",
    "metadata": {
     "collapsed": false
    },
    "source": []
   }
  }
 },
 "nbformat": 4,
 "nbformat_minor": 4
}
