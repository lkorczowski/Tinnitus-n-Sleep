{
 "cells": [
  {
   "cell_type": "markdown",
   "metadata": {},
   "source": [
    "## Contralateral Bruxism/MEMA analysis\n",
    "\n",
    "This notebook will \n",
    "- Process and generate reports for all the dataset (if needed)\n",
    "- Display within-subject with contralateral recording of EMG/MEMA results\n",
    "- Display group analysis differences between effect variables (masking, VAS, etc.) and contralateral differences"
   ]
  },
  {
   "cell_type": "code",
   "execution_count": 5,
   "metadata": {},
   "outputs": [
    {
     "name": "stdout",
     "output_type": "stream",
     "text": [
      "config loaded\n"
     ]
    }
   ],
   "source": [
    "import os\n",
    "PATH = os.getcwd() \n",
    "import sys\n",
    "sys.path.append(PATH + '/../')\n",
    "import matplotlib.pyplot as plt\n",
    "%matplotlib inline\n",
    "import numpy as np\n",
    "import pandas as pd\n",
    "import scipy.stats\n",
    "print(\"config loaded\")\n"
   ]
  },
  {
   "cell_type": "code",
   "execution_count": 2,
   "metadata": {},
   "outputs": [],
   "source": [
    "#Setting parameters\n",
    "results_file_bruxism = \"data/reports_and_datas_bruxism.pk\"\n",
    "results_file_mema = \"data/reports_and_datas_MEMA.pk\"\n",
    "info_file = \"data/data_info.csv\""
   ]
  },
  {
   "cell_type": "markdown",
   "metadata": {},
   "source": [
    "# PART 1 Compute Results\n",
    "Skip to Part 2 if results files has been computed already"
   ]
  },
  {
   "cell_type": "markdown",
   "metadata": {},
   "source": [
    "## Processing of the dataset and report generation"
   ]
  },
  {
   "cell_type": "code",
   "execution_count": 3,
   "metadata": {
    "scrolled": true
   },
   "outputs": [
    {
     "name": "stdout",
     "output_type": "stream",
     "text": [
      "config loaded.\n",
      "Performs Bruxism: <True>\n",
      "Performs MEMA: <True>\n",
      "Will overwrite existing results: <False>\n",
      "parameters set\n",
      "result files exist: Reports creation skipped.\n"
     ]
    }
   ],
   "source": [
    "# change to --overwrite True if you want to force to recompute the results\n",
    "%run ../compute_results.py --bruxism True --overwrite False --mema True\n"
   ]
  },
  {
   "cell_type": "markdown",
   "metadata": {},
   "source": [
    "# Part 2 Load and Analysis Results\n",
    "Part 1 is optional if the .pk has been saved\n",
    "\n",
    "### Loading results"
   ]
  },
  {
   "cell_type": "code",
   "execution_count": 3,
   "metadata": {},
   "outputs": [
    {
     "name": "stdout",
     "output_type": "stream",
     "text": [
      "dict_keys(['1AC26_cohort2.edf_right', '1AC26_cohort2.edf_left', '1CB23_cohort2.edf_right', '1CB23_cohort2.edf_left', '1DA15_nuit_hab.edf', '1DM32_cohort2.edf_right', '1DM32_cohort2.edf_left', '1GB18_nuit_hab.edf', '1GF14_cohort2.edf', '1HB20_nuit_1.edf', '1HB20_nuit_1.edf_left', '1HB20_nuit_2.edf', '1HB20_nuit_2.edf_left', '1HS25_cohort2.edf_right', '1HS25_cohort2.edf_left', '1NS30_cohort2.edf_right', '1NS30_cohort2.edf_left', '1PA31_cohort2.edf', '1RF29_cohort2.edf_right', '1RF29_cohort2.edf_left', '1SL21_nuit_2.edf', '1SL21_nuit_2.edf_left', '1SL21_nuit_3.edf', '1SL21_nuit_3.edf_left', '1SL21_nuit_6.edf', '1SL21_nuit_7.edf', '1SL21_nuit_8.edf', '1UC22_nuit_1.edf', '1UC22_nuit_1.edf_left', '1UC22_nuit_2.edf', '1UC22_nuit_2.edf_left', '1ZN04_cohort2.edf_right', '1ZN04_cohort2.edf_left', '2CT04_nuit_1.edf', '2GA06_nuit_1.edf', '2GR01_nuit_3.edf', '2GR01_nuit_4.edf', '2LS05_nuit_1.edf', '2SJ03_nuit_1.edf', '2TL07_nuit_1.edf_right', '2TL07_nuit_1.edf_left', '3BS04_cohort2.edf_right', '3BS04_cohort2.edf_left', '3CL02_cohort2.edf', '3HS08_cohort2.edf_right', '3HS08_cohort2.edf_left', '3KB06_cohort2.edf_right', '3KB06_cohort2.edf_left', '3TR07_cohort2.edf_right', '3TR07_cohort2.edf_left', '3TS03_cohort2.edf'])\n",
      "['1AC26_cohort2.edf', '1DM32_cohort2.edf', '1HB20_nuit_1.edf', '1HS25_cohort2.edf', '1NS30_cohort2.edf', '1RF29_cohort2.edf', '1SL21_nuit_2.edf', '1UC22_nuit_1.edf', '1ZN04_cohort2.edf', '3BS04_cohort2.edf', '3HS08_cohort2.edf', '3TR07_cohort2.edf']\n",
      "                   filename  Number of MEMA episodes per hour\n",
      "0   1AC26_cohort2.edf_right                          9.501178\n",
      "1    1AC26_cohort2.edf_left                          4.280750\n",
      "2   1CB23_cohort2.edf_right                         15.272399\n",
      "3    1CB23_cohort2.edf_left                         16.089104\n",
      "4   1DM32_cohort2.edf_right                          9.883688\n",
      "5    1DM32_cohort2.edf_left                          9.668825\n",
      "6    1HB20_nuit_1.edf_right                          3.817292\n",
      "7     1HB20_nuit_1.edf_left                         12.773246\n",
      "8     1HB20_nuit_2.edf_left                         27.703349\n",
      "9   1HS25_cohort2.edf_right                         10.304990\n",
      "10   1HS25_cohort2.edf_left                          6.869994\n",
      "11  1NS30_cohort2.edf_right                         10.074335\n",
      "12   1NS30_cohort2.edf_left                          8.494047\n",
      "13  1RF29_cohort2.edf_right                          4.478306\n",
      "14   1RF29_cohort2.edf_left                          3.943583\n",
      "15   1SL21_nuit_2.edf_right                          9.481192\n",
      "16    1SL21_nuit_2.edf_left                         16.132177\n",
      "17    1SL21_nuit_3.edf_left                         21.059566\n",
      "18   1UC22_nuit_1.edf_right                         19.367647\n",
      "19    1UC22_nuit_1.edf_left                         38.115530\n",
      "20    1UC22_nuit_2.edf_left                         46.625427\n",
      "21  1ZN04_cohort2.edf_right                          9.663794\n",
      "22   1ZN04_cohort2.edf_left                         10.996731\n",
      "23   2TL07_nuit_1.edf_right                          7.748134\n",
      "24    2TL07_nuit_1.edf_left                          9.131729\n",
      "25  3BS04_cohort2.edf_right                          5.321709\n",
      "26   3BS04_cohort2.edf_left                          6.908886\n",
      "27  3HS08_cohort2.edf_right                          5.836941\n",
      "28   3HS08_cohort2.edf_left                          7.296176\n",
      "29  3KB06_cohort2.edf_right                          7.749927\n",
      "30   3KB06_cohort2.edf_left                          0.826659\n",
      "31  3TR07_cohort2.edf_right                          5.252650\n",
      "32   3TR07_cohort2.edf_left                          7.212594\n"
     ]
    },
    {
     "name": "stderr",
     "output_type": "stream",
     "text": [
      "C:\\Users\\Zeta\\Anaconda3\\lib\\site-packages\\ipykernel_launcher.py:51: SettingWithCopyWarning: \n",
      "A value is trying to be set on a copy of a slice from a DataFrame\n",
      "\n",
      "See the caveats in the documentation: http://pandas.pydata.org/pandas-docs/stable/indexing.html#indexing-view-versus-copy\n",
      "C:\\Users\\Zeta\\Anaconda3\\lib\\site-packages\\ipykernel_launcher.py:49: SettingWithCopyWarning: \n",
      "A value is trying to be set on a copy of a slice from a DataFrame\n",
      "\n",
      "See the caveats in the documentation: http://pandas.pydata.org/pandas-docs/stable/indexing.html#indexing-view-versus-copy\n"
     ]
    },
    {
     "name": "stdout",
     "output_type": "stream",
     "text": [
      "             filename    condition  mema  emg  Laterality  VAS_L_delta  \\\n",
      "28   1HB20_nuit_1.edf  habituation     1    1         1.0          0.0   \n",
      "36   1SL21_nuit_2.edf  habituation     1    1         1.0         -1.0   \n",
      "40   1UC22_nuit_1.edf  habituation     1    1         0.5          2.0   \n",
      "57  1ZN04_cohort2.edf       batch2     1    1         0.5          0.0   \n",
      "58  1HS25_cohort2.edf       batch2     1    1        -0.5          4.0   \n",
      "62  1RF29_cohort2.edf       batch2     1    1         1.0         -1.0   \n",
      "64  1DM32_cohort2.edf       batch2     1    1         0.0         -1.0   \n",
      "65  3BS04_cohort2.edf       batch2     1    1        -0.5         -1.0   \n",
      "66  3TR07_cohort2.edf       batch2     1    1         0.0         -1.0   \n",
      "68  1NS30_cohort2.edf       batch2     1    1         0.5          2.0   \n",
      "69  1AC26_cohort2.edf       batch2     1    1        -1.0         -1.0   \n",
      "72  3HS08_cohort2.edf       batch2     1    1         0.0          0.0   \n",
      "\n",
      "                  has_left  \n",
      "28   1HB20_nuit_1.edf_left  \n",
      "36   1SL21_nuit_2.edf_left  \n",
      "40   1UC22_nuit_1.edf_left  \n",
      "57  1ZN04_cohort2.edf_left  \n",
      "58  1HS25_cohort2.edf_left  \n",
      "62  1RF29_cohort2.edf_left  \n",
      "64  1DM32_cohort2.edf_left  \n",
      "65  3BS04_cohort2.edf_left  \n",
      "66  3TR07_cohort2.edf_left  \n",
      "68  1NS30_cohort2.edf_left  \n",
      "69  1AC26_cohort2.edf_left  \n",
      "72  3HS08_cohort2.edf_left  \n"
     ]
    }
   ],
   "source": [
    "results_file_mema = \"data/reports_and_datas_MEMA_pure.pk\"\n",
    "results = pd.read_pickle(results_file_mema).to_dict()\n",
    "print(results.keys())\n",
    "THR_classif = np.array(results[list(results.keys())[0]][\"THR_classif\"])\n",
    "results_update=dict()\n",
    "    \n",
    "\n",
    "\n",
    "data_info = pd.read_csv(info_file, sep=\";\").query('mema == 1 & emg==1')\n",
    "laterality_study=[]\n",
    "# format reports\n",
    "reports = None\n",
    "for filename in results.keys():\n",
    "    if filename[-4:]==\"left\":\n",
    "        if filename!=\"1SL21_nuit_3.edf_left\":\n",
    "            if filename!='1CB23_cohort2.edf_left':\n",
    "                if filename!='1HB20_nuit_2.edf_left':\n",
    "                    if filename!='1UC22_nuit_2.edf_left':\n",
    "                        if filename!='3KB06_cohort2.edf_left':\n",
    "                            if filename!='2TL07_nuit_1.edf_left':\n",
    "            \n",
    "                                laterality_study.append(filename[:-5])\n",
    "print(laterality_study)\n",
    "#print(results.keys())\n",
    "        \n",
    "for filename in results.keys():\n",
    "    if filename[-4:]==\"left\" or filename[-5:]==\"right\" or filename == '1HB20_nuit_1.edf' or filename == '1SL21_nuit_2.edf' or filename == '1UC22_nuit_1.edf':\n",
    "        \n",
    "        report = pd.DataFrame(results[filename][\"reports\"])\n",
    "        report[\"THR_classif\"] = THR_classif[:,1]\n",
    "        if filename == '1HB20_nuit_1.edf' or filename == '1SL21_nuit_2.edf' or filename == '1UC22_nuit_1.edf':\n",
    "            report[\"filename\"] = filename+\"_right\"\n",
    "        else:\n",
    "            report[\"filename\"] = filename\n",
    "        #if filename[:5] == \"2TL07\":\n",
    "        #    print(results[filename][\"reports\"])\n",
    "        results_update[filename]=results[filename]\n",
    "        if reports is None:\n",
    "            reports = report\n",
    "        else:\n",
    "            reports = reports.append(report, ignore_index=True)\n",
    "    \n",
    "#print(laterality_study)\n",
    "print(reports[[\"filename\", \"Number of MEMA episodes per hour\" ]])\n",
    "\n",
    "data_info[\"has_left\"] = data_info[\"filename\"]\n",
    "for col_name, data in data_info[\"filename\"].items():\n",
    "    if laterality_study.__contains__(data):\n",
    "        data_info[\"has_left\"][col_name]=data+\"_left\"\n",
    "    else:\n",
    "        data_info[\"has_left\"][col_name]=False\n",
    "\n",
    "\n",
    "data_info = data_info.query('has_left!=False')\n",
    "print(data_info[[\"filename\", \"condition\", \"mema\", \"emg\",\"Laterality\", \"VAS_L_delta\", \"has_left\" ]])\n",
    "results=results_update\n"
   ]
  },
  {
   "cell_type": "code",
   "execution_count": 6,
   "metadata": {},
   "outputs": [
    {
     "name": "stdout",
     "output_type": "stream",
     "text": [
      "1HB20_nuit_1.edf\n",
      "1.0\n",
      "-8.955954323001631\n",
      "1SL21_nuit_2.edf\n",
      "1.0\n",
      "-6.650985226322177\n",
      "1UC22_nuit_1.edf\n",
      "0.5\n",
      "-18.747882470574947\n",
      "1ZN04_cohort2.edf\n",
      "0.5\n",
      "-1.3329370725344862\n",
      "1HS25_cohort2.edf\n",
      "-0.5\n",
      "3.434996827515124\n",
      "1RF29_cohort2.edf\n",
      "1.0\n",
      "0.534723138183153\n",
      "1DM32_cohort2.edf\n",
      "0.0\n",
      "0.21486277430814127\n",
      "3BS04_cohort2.edf\n",
      "-0.5\n",
      "-1.5871764442268272\n",
      "3TR07_cohort2.edf\n",
      "0.0\n",
      "-1.9599439717349947\n",
      "1NS30_cohort2.edf\n",
      "0.5\n",
      "1.5802878406507972\n",
      "1AC26_cohort2.edf\n",
      "-1.0\n",
      "5.220427323298975\n",
      "3HS08_cohort2.edf\n",
      "0.0\n",
      "-1.4592352615331095\n",
      "SpearmanrResult(correlation=-0.4795572468976735, pvalue=0.1146516489557299)\n",
      "LinregressResult(slope=-5.133564672472726, intercept=-1.4062420987325135, rvalue=-0.5236397242658676, pvalue=0.08058878748701517, stderr=2.6411639730737466)\n"
     ]
    },
    {
     "data": {
      "image/png": "[encoded data removed]",
      "text/plain": [
       "<Figure size 432x288 with 1 Axes>"
      ]
     },
     "metadata": {
      "needs_background": "light"
     },
     "output_type": "display_data"
    }
   ],
   "source": [
    "#print(data_info.query('has_left!=False'))\n",
    "#print(float(data_info.query('filename==\"1HB20_nuit_1.edf\"')[\"Laterality\"]))\n",
    "for THR in [3]:\n",
    "    datas=[[],[]]\n",
    "    for file in data_info[\"filename\"]:\n",
    "        print(file)\n",
    "        file_left = file+\"_left\"\n",
    "        file_right = file+\"_right\"\n",
    "        print(float(data_info.query('filename==@file')[\"Laterality\"]))\n",
    "        print(float(reports.query('filename==@file_right & THR_classif==@THR')[\"Number of MEMA episodes per hour\"])\n",
    "                        - float(reports.query('filename==@file_left & THR_classif==@THR')[\"Number of MEMA episodes per hour\"]))\n",
    "        \n",
    "        datas[0].append(float(data_info.query('filename==@file')[\"Laterality\"]))\n",
    "        datas[1].append(float(reports.query('filename==@file_right & THR_classif==@THR')[\"Number of MEMA episodes per hour\"])\n",
    "                        - float(reports.query('filename==@file_left & THR_classif==@THR')[\"Number of MEMA episodes per hour\"]))\n",
    "    plt.figure()\n",
    "    plt.scatter(datas[0], datas[1])\n",
    "    print(scipy.stats.spearmanr(datas[0],datas[1]))\n",
    "    print(scipy.stats.linregress(datas[0],datas[1]))"
   ]
  },
  {
   "cell_type": "markdown",
   "metadata": {},
   "source": [
    "## "
   ]
  },
  {
   "cell_type": "code",
   "execution_count": 7,
   "metadata": {},
   "outputs": [
    {
     "name": "stdout",
     "output_type": "stream",
     "text": [
      "1HB20_nuit_1.edf\n",
      "1.0\n",
      "-8.955954323001631\n",
      "1SL21_nuit_2.edf\n",
      "1.0\n",
      "-6.650985226322177\n",
      "1UC22_nuit_1.edf\n",
      "0.5\n",
      "-18.747882470574947\n",
      "1ZN04_cohort2.edf\n",
      "0.5\n",
      "-1.3329370725344862\n",
      "1HS25_cohort2.edf\n",
      "-0.5\n",
      "3.434996827515124\n",
      "1RF29_cohort2.edf\n",
      "1.0\n",
      "0.534723138183153\n",
      "1DM32_cohort2.edf\n",
      "0.0\n",
      "0.21486277430814127\n",
      "3BS04_cohort2.edf\n",
      "-0.5\n",
      "-1.5871764442268272\n",
      "3TR07_cohort2.edf\n",
      "0.0\n",
      "-1.9599439717349947\n",
      "1NS30_cohort2.edf\n",
      "0.5\n",
      "1.5802878406507972\n",
      "1AC26_cohort2.edf\n",
      "-1.0\n",
      "5.220427323298975\n",
      "3HS08_cohort2.edf\n",
      "0.0\n",
      "-1.4592352615331095\n",
      "SpearmanrResult(correlation=0.4246406484542905, pvalue=0.1688385334657336)\n",
      "LinregressResult(slope=3.880895502767998, intercept=2.204465992157698, rvalue=0.29196846518669406, pvalue=0.35713550011925776, stderr=4.02020555551624)\n"
     ]
    },
    {
     "data": {
      "image/png": "[encoded data removed]",
      "text/plain": [
       "<Figure size 432x288 with 1 Axes>"
      ]
     },
     "metadata": {
      "needs_background": "light"
     },
     "output_type": "display_data"
    }
   ],
   "source": [
    "for THR in [3]:\n",
    "    datas=[[],[]]\n",
    "    for file in data_info[\"filename\"]:\n",
    "        print(file)\n",
    "        file_left = file+\"_left\"\n",
    "        file_right = file+\"_right\"\n",
    "        print(float(data_info.query('filename==@file')[\"Laterality\"]))\n",
    "        print(float(reports.query('filename==@file_right & THR_classif==@THR')[\"Number of MEMA episodes per hour\"])\n",
    "                        - float(reports.query('filename==@file_left & THR_classif==@THR')[\"Number of MEMA episodes per hour\"]))\n",
    "        \n",
    "        datas[0].append(abs(float(data_info.query('filename==@file')[\"Laterality\"])))\n",
    "        datas[1].append(abs(float(reports.query('filename==@file_right & THR_classif==@THR')[\"Number of MEMA episodes per hour\"])\n",
    "                        - float(reports.query('filename==@file_left & THR_classif==@THR')[\"Number of MEMA episodes per hour\"])))\n",
    "    plt.figure()\n",
    "    plt.scatter(datas[0], datas[1])\n",
    "    print(scipy.stats.spearmanr(datas[0],datas[1]))\n",
    "    print(scipy.stats.linregress(datas[0],datas[1]))"
   ]
  },
  {
   "cell_type": "code",
   "execution_count": null,
   "metadata": {},
   "outputs": [],
   "source": []
  },
  {
   "cell_type": "markdown",
   "metadata": {},
   "source": [
    "## Data visualization for the entire cohort for nb bursts as a function of THR_classif value : "
   ]
  },
  {
   "cell_type": "code",
   "execution_count": null,
   "metadata": {},
   "outputs": [],
   "source": []
  },
  {
   "cell_type": "markdown",
   "metadata": {},
   "source": [
    "## Logs of the preprocessing : "
   ]
  },
  {
   "cell_type": "code",
   "execution_count": null,
   "metadata": {},
   "outputs": [],
   "source": []
  },
  {
   "cell_type": "markdown",
   "metadata": {},
   "source": [
    "## Comparing episode frequency with variability tinnitus"
   ]
  },
  {
   "cell_type": "code",
   "execution_count": null,
   "metadata": {},
   "outputs": [],
   "source": []
  },
  {
   "cell_type": "code",
   "execution_count": null,
   "metadata": {},
   "outputs": [],
   "source": []
  },
  {
   "cell_type": "code",
   "execution_count": null,
   "metadata": {},
   "outputs": [],
   "source": []
  },
  {
   "cell_type": "markdown",
   "metadata": {},
   "source": [
    "## Displaying correlation between quantitative measurements and Tinnitus"
   ]
  },
  {
   "cell_type": "code",
   "execution_count": null,
   "metadata": {
    "scrolled": true
   },
   "outputs": [],
   "source": []
  },
  {
   "cell_type": "code",
   "execution_count": null,
   "metadata": {},
   "outputs": [],
   "source": []
  },
  {
   "cell_type": "code",
   "execution_count": null,
   "metadata": {},
   "outputs": [],
   "source": []
  },
  {
   "cell_type": "code",
   "execution_count": null,
   "metadata": {},
   "outputs": [],
   "source": []
  },
  {
   "cell_type": "code",
   "execution_count": null,
   "metadata": {},
   "outputs": [],
   "source": []
  },
  {
   "cell_type": "code",
   "execution_count": null,
   "metadata": {},
   "outputs": [],
   "source": [
    "\n"
   ]
  },
  {
   "cell_type": "code",
   "execution_count": null,
   "metadata": {},
   "outputs": [],
   "source": []
  },
  {
   "cell_type": "code",
   "execution_count": null,
   "metadata": {},
   "outputs": [],
   "source": []
  },
  {
   "cell_type": "code",
   "execution_count": null,
   "metadata": {},
   "outputs": [],
   "source": []
  }
 ],
 "metadata": {
  "kernelspec": {
   "display_name": "Python 3",
   "language": "python",
   "name": "python3"
  },
  "language_info": {
   "codemirror_mode": {
    "name": "ipython",
    "version": 3
   },
   "file_extension": ".py",
   "mimetype": "text/x-python",
   "name": "python",
   "nbconvert_exporter": "python",
   "pygments_lexer": "ipython3",
   "version": "3.7.3"
  },
  "pycharm": {
   "stem_cell": {
    "cell_type": "raw",
    "metadata": {
     "collapsed": false
    },
    "source": []
   }
  }
 },
 "nbformat": 4,
 "nbformat_minor": 4
}
