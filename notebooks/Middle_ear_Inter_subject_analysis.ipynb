{
 "cells": [
  {
   "cell_type": "markdown",
   "metadata": {},
   "source": [
    "## Inter-subject analysis\n",
    "\n",
    "This notebook will \n",
    "- Process and generate reports for all the dataset following procedure detailed in Bruxism detection\n",
    "- Display several metrics for all patients of the datasets\n",
    "- Display group analysis differences between tinnitus overnight increase patients and stable overnight patients (for tinnitus masking volume and VAS scales)\n",
    "- Display correlation plots between tinnitus evolution overnight and number of bruxisme episodes per hour (for tinnitus masking volume and VAS scales)"
   ]
  },
  {
   "cell_type": "code",
   "execution_count": 1,
   "metadata": {
    "pycharm": {
     "is_executing": false
    }
   },
   "outputs": [
    {
     "name": "stdout",
     "output_type": "stream",
     "text": [
      "config loaded\n"
     ]
    }
   ],
   "source": [
    "import os\n",
    "PATH = os.getcwd() \n",
    "import sys\n",
    "sys.path.append(PATH + '/../')\n",
    "import mne\n",
    "import matplotlib.pyplot as plt\n",
    "%matplotlib widget\n",
    "import numpy as np\n",
    "import pandas as pd\n",
    "import scipy\n",
    "from tinnsleep.config import Config\n",
    "from tinnsleep.reports import reporting, generate_MEMA_report, preprocess\n",
    "from tinnsleep.data import RawToEpochs_sliding, CreateRaw\n",
    "from tinnsleep.utils import merge_labels_list\n",
    "\n",
    "print(\"config loaded\")\n"
   ]
  },
  {
   "cell_type": "code",
   "execution_count": 2,
   "metadata": {},
   "outputs": [
    {
     "name": "stdout",
     "output_type": "stream",
     "text": [
      "parameters set\n",
      "['1DA15_nuit_son.edf' '1GB19_nuit_hab.edf' '1MF19_nuit_hab.edf']\n"
     ]
    }
   ],
   "source": [
    "#Setting parameters\n",
    "EDF_list = Config.bruxisme_files\n",
    "THR_classif=[[0,2.5], [0,3], [0,3.5], [0,4], [0,5], [0,6], [0,7]]\n",
    "sfreq = 250.0\n",
    "window_length = 0.250                    # in seconds\n",
    "duration = int(window_length * sfreq)   # in samples\n",
    "interval = duration                     # no overlapping\n",
    "duration_OMA = duration * 4\n",
    "interval_OMA = duration_OMA\n",
    "n_adaptive = -60/window_length          # number of epochs for adaptive baseline\n",
    "delim = 3                               # maximal time interval between bursts to merge episode in seconds\n",
    "\n",
    "# Dictionnary of known names of the Airflow\n",
    "mapping = {\"Airflow\": \"MEMA\"}\n",
    "print(\"parameters set\")\n",
    "\n",
    "mema_files = pd.read_csv(\"data/mema_files.csv\",engine='python', sep=\"; \")[\"files_with_mema\"].values\n",
    "print(mema_files[:3])"
   ]
  },
  {
   "cell_type": "markdown",
   "metadata": {},
   "source": [
    "## Processing of the dataset and report generation"
   ]
  },
  {
   "cell_type": "code",
   "execution_count": 3,
   "metadata": {
    "scrolled": true
   },
   "outputs": [
    {
     "name": "stdout",
     "output_type": "stream",
     "text": [
      "Files processed: \n",
      "1BA07_nuit_hab.edf not included\n",
      "1BA07_nuit_son.edf not included\n",
      "1CC05_nuit_hab.edf not included\n",
      "1CC05_nuit_son.edf not included\n",
      "1DA15_nuit_hab.edf not included\n",
      "1DA15_nuit_son.edf preprocess...resampling_factors: [1, 4], min_label 104708, final [104708, 26177]\n",
      "DONE (0.99s) report...DONE (167.32s)\n",
      "1DL12_nuit_hab.edf not included\n",
      "1DL12_nuit_son.edf not included\n",
      "1GB18_nuit_son.edf not included\n",
      "Reports created, process finished in 2.8 min\n"
     ]
    }
   ],
   "source": [
    "import warnings\n",
    "from time import time\n",
    "\n",
    "with warnings.catch_warnings():\n",
    "    warnings.simplefilter(\"ignore\", category=RuntimeWarning)\n",
    "    \n",
    "    results={}\n",
    "    print(\"Files processed: \")\n",
    "    start = time()\n",
    "    for filename in EDF_list[:9]:\n",
    "        #opens the raw file\n",
    "        file = filename.split(os.path.sep)[-1]\n",
    "        print(file, end=\" \")\n",
    "        if file in mema_files:\n",
    "            #Get channels MEMA\n",
    "            raw = mne.io.read_raw_edf(filename, preload=False, verbose=False)  # prepare loading\n",
    "            raw.rename_channels(mapping=mapping)\n",
    "            picks_chan_user= ['MEMA']  # could be remplaced by an user-specific list loaded from .pk\n",
    "            ch_types = \"misc\"\n",
    "            #check if channels exists\n",
    "            picks_chan = [];[picks_chan.append(ch) for ch in picks_chan_user if ch in raw.info[\"ch_names\"]]\n",
    "            #Get channel names from indexes\n",
    "            if len(picks_chan)>0: #ignore file if no channel is good\n",
    "                #----------------- MEMA processing ---------------------------------------------------\n",
    "                print(\"preprocess...\", end=\"\");tmp = time()\n",
    "                epochs, valid_labels, log = preprocess(raw.copy(), duration, interval, picks_chan=['MEMA'])\n",
    "                valid_labels = [valid_labels]\n",
    "                \n",
    "                #----------------- Finding artifacts in other channels (can be stacked) --------------\n",
    "                # 1. OMA\n",
    "                valid_labels.append(preprocess(raw, duration_OMA, interval_OMA,\n",
    "                                        picks_chan=[\"Activity\"],\n",
    "                                        Thresholding_kwargs=dict(abs_threshold=0, rel_threshold=3, decision_function=lambda foo: np.any(foo>0, axis=-1)),\n",
    "                                        burst_to_episode_kwargs = dict(min_burst_joining=0)\n",
    "                                        )[1])\n",
    "                \n",
    "                #----------------- Merging artifacts labels ------------------------------------------\n",
    "                resampling_factors = [int(len(epochs)/len(i)) for i in valid_labels]  # compute all resampling factors\n",
    "                min_labels = min([len(i)*j for (i, j) in zip(valid_labels, resampling_factors)])  # find the common denominator\n",
    "                assert (len(epochs) - min_labels) < max(resampling_factors), f\"shift of {len(epochs) - min_labels} epochs, please check that all duration are proportional\"\n",
    "                epochs = epochs[:min_labels]  # crop last epochs\n",
    "                valid_labels = [i[:int(min_labels/j)] for (i, j) in zip(valid_labels, resampling_factors)]  # crop valid_labels\n",
    "                assert len(epochs) == min_labels, f\"something went wrong when cropping\"\n",
    "                # print(f\"resampling_factors: {resampling_factors}, min_label {min_labels}, final {[len(i) for i in valid_labels]}\")\n",
    "                valid_labels = merge_labels_list(valid_labels, len(epochs))\n",
    "                print(f\"DONE ({time()-tmp:.2f}s)\", end=\" \")\n",
    "                \n",
    "                #----------------- MEMA reporting ----------------------------------------------------\n",
    "                if np.sum(valid_labels)>0 :\n",
    "                    print(\"report...\", end=\"\");tmp = time()\n",
    "                    results[filename] = reporting(epochs, valid_labels, THR_classif, time_interval=window_length, delim=delim, n_adaptive=n_adaptive, generate_report=generate_MEMA_report)\n",
    "                    print(f\"DONE ({time()-tmp:.2f}s)\")\n",
    "                else:\n",
    "                    print(f\"INVALID ({time()-tmp:.2f}s)\")\n",
    "            else:\n",
    "                print(f\"NO VALID CHANNEL\")\n",
    "        else:\n",
    "            print(f\"not included\")\n",
    "\n",
    "\n",
    "print(f\"Reports created, process finished in {(time()-start)/60:.1f} min\")"
   ]
  },
  {
   "cell_type": "markdown",
   "metadata": {},
   "source": [
    "## Saving results"
   ]
  },
  {
   "cell_type": "code",
   "execution_count": 13,
   "metadata": {},
   "outputs": [],
   "source": [
    "df = pd.DataFrame.from_dict(results)\n",
    "df.to_pickle(\"data/reports_and_datas_MEMA.pk\")"
   ]
  },
  {
   "cell_type": "markdown",
   "metadata": {},
   "source": [
    "## Data visualization for the entire cohort for nb MEMA episodes per hour as a function of THR_classif value : "
   ]
  },
  {
   "cell_type": "code",
   "execution_count": 14,
   "metadata": {},
   "outputs": [
    {
     "data": {
      "application/vnd.jupyter.widget-view+json": {
       "model_id": "1456c51ece6d4789a169359c27895d5c",
       "version_major": 2,
       "version_minor": 0
      },
      "text/plain": [
       "Canvas(toolbar=Toolbar(toolitems=[('Home', 'Reset original view', 'home', 'home'), ('Back', 'Back to previous …"
      ]
     },
     "metadata": {},
     "output_type": "display_data"
    },
    {
     "data": {
      "text/plain": [
       "Text(0, 0.5, 'Nb of episodes per hour')"
      ]
     },
     "execution_count": 14,
     "metadata": {},
     "output_type": "execute_result"
    }
   ],
   "source": [
    "plt.figure()\n",
    "for elm in results.keys():\n",
    "    nb_ep=[]\n",
    "    get_r_THRs=[]\n",
    "    for th in results[elm][\"THR_classif\"]:\n",
    "        get_r_THRs.append(th[1])\n",
    "    for ep in results[elm][\"reports\"]:\n",
    "        nb_ep.append(ep[\"Number of MEMA episodes per hour\"])\n",
    "    st = elm.split(os.path.sep)[-1] + \" len \" + str(ep[\"Clean MEMA duration\"])\n",
    "    plt.plot(get_r_THRs, nb_ep)\n",
    "plt.title('Comparison for all subjects for nb of MEMA episodes per hour')\n",
    "plt.xlabel('THR_classif value')\n",
    "plt.ylabel('Nb of episodes per hour')\n"
   ]
  },
  {
   "cell_type": "markdown",
   "metadata": {},
   "source": [
    "## Data visualization for the entire cohort for nb MEMA bursts as a function of THR_classif value : "
   ]
  },
  {
   "cell_type": "code",
   "execution_count": 15,
   "metadata": {},
   "outputs": [
    {
     "data": {
      "application/vnd.jupyter.widget-view+json": {
       "model_id": "4776ee37a7ce4aa2907eb25fb5254f0a",
       "version_major": 2,
       "version_minor": 0
      },
      "text/plain": [
       "Canvas(toolbar=Toolbar(toolitems=[('Home', 'Reset original view', 'home', 'home'), ('Back', 'Back to previous …"
      ]
     },
     "metadata": {},
     "output_type": "display_data"
    },
    {
     "data": {
      "text/plain": [
       "Text(0, 0.5, 'Nb of MEMA burst on the recording')"
      ]
     },
     "execution_count": 15,
     "metadata": {},
     "output_type": "execute_result"
    }
   ],
   "source": [
    "plt.figure()\n",
    "for elm in results.keys():\n",
    "    nb_ep=[]\n",
    "    get_r_THRs=[]\n",
    "    for th in results[elm][\"THR_classif\"]:\n",
    "        get_r_THRs.append(th[1])\n",
    "    for ep in results[elm][\"reports\"]:\n",
    "        nb_ep.append(ep[\"Total number of MEMA burst\"])\n",
    "    #print(f\"Number of bursts for each THR_classif for {elm[-19:]} : {nb_ep}\")\n",
    "    st = elm.split(os.path.sep)[-1] + \" len \" + str(ep[\"Clean MEMA duration\"])\n",
    "    plt.plot(get_r_THRs, nb_ep)\n",
    "plt.title('Comparison for all subjects on total number of MEMA bursts')\n",
    "plt.xlabel('THR_classif value')\n",
    "plt.ylabel('Nb of MEMA burst on the recording')\n"
   ]
  },
  {
   "cell_type": "markdown",
   "metadata": {},
   "source": [
    "## Extracting list of nb of episodes per hour for all THR_classif per patient"
   ]
  },
  {
   "cell_type": "code",
   "execution_count": 16,
   "metadata": {},
   "outputs": [
    {
     "name": "stdout",
     "output_type": "stream",
     "text": [
      "16\n",
      "[['sophie_mema.edf', [31.731225296442688, 29.454545454545453, 28.31620553359684, 28.600790513833992, 27.035573122529645, 24.1897233201581, 21.201581027667984]], ['tom_mema.edf', [26.233663366336632, 22.669306930693068, 21.243564356435645, 19.817821782178218, 18.81980198019802, 17.536633663366338, 16.253465346534654]], ['unger_nuit_1.edf', [79.79341510652034, 65.38411878631375, 55.00322788896062, 40.82633957391866, 26.881859264041317, 18.050355067785667, 14.099418979987089]]]\n"
     ]
    }
   ],
   "source": [
    "get_scores=[]\n",
    "for elm in results.keys():\n",
    "        #print (elm)\n",
    "        l_ep_h=[]\n",
    "        for ep in results[elm][\"reports\"]:\n",
    "            l_ep_h.append(ep[\"Number of MEMA episodes per hour\"])\n",
    "\n",
    "        get_scores.append([elm.split(os.path.sep)[-1], l_ep_h])\n",
    "print(len(get_scores))\n",
    "print(get_scores[-3:])"
   ]
  },
  {
   "cell_type": "markdown",
   "metadata": {},
   "source": [
    "## Getting masking, VAS-Loudness and  VAS-Intrusiveness data"
   ]
  },
  {
   "cell_type": "code",
   "execution_count": 17,
   "metadata": {},
   "outputs": [],
   "source": [
    "get_masking = pd.read_csv(\"data/evol_masquage.csv\", delimiter=\";\")\n",
    "#print(get_masking)\n",
    "get_VAS_L = pd.read_csv(\"data/evol_eva_I.csv\", delimiter=\";\")\n",
    "#print(get_VAS_L)\n",
    "get_VAS_I = pd.read_csv(\"data/evol_eva_G.csv\", delimiter=\";\")\n",
    "#print(get_VAS_I)\n",
    "\n",
    "evol_masking = get_masking.values.tolist()[:-4]\n",
    "evol_VAS_L = get_VAS_L.values.tolist()\n",
    "evol_VAS_I = get_VAS_I.values.tolist()\n"
   ]
  },
  {
   "cell_type": "markdown",
   "metadata": {},
   "source": [
    "## Comparing nb_ep/hour between patients with tinnitus increase (augm) and without (stable) for values of THR_classif"
   ]
  },
  {
   "cell_type": "code",
   "execution_count": 18,
   "metadata": {},
   "outputs": [
    {
     "name": "stdout",
     "output_type": "stream",
     "text": [
      "Nb_patients in each group : \n",
      "Tinnitus increase : 5\n",
      "Tinnitus stable : 4\n"
     ]
    },
    {
     "data": {
      "application/vnd.jupyter.widget-view+json": {
       "model_id": "abff43328ee64a20b8ab390812540da9",
       "version_major": 2,
       "version_minor": 0
      },
      "text/plain": [
       "Canvas(toolbar=Toolbar(toolitems=[('Home', 'Reset original view', 'home', 'home'), ('Back', 'Back to previous …"
      ]
     },
     "metadata": {},
     "output_type": "display_data"
    },
    {
     "data": {
      "text/plain": [
       "Text(0, 0.5, 'Nb of episodes per hour')"
      ]
     },
     "execution_count": 18,
     "metadata": {},
     "output_type": "execute_result"
    }
   ],
   "source": [
    "# Files not to consider for analysis\n",
    "to_suppress=[\"1MA16_nuit_hab.edf\",\"SCHM_nuit_1.edf\",\"HZB_nuit_3.edf\"]\n",
    "#Jutification : \"Schmidtlin_nuit_2_dec_3to0to4.edf\", \"SCHMIDTLIN_nuit_1_dec_OD__0to0.edf\", \n",
    "# \"SCHMIDTLIN_nuit_3_dec_OD__4to0to2.edf\" : compromised data\n",
    "# 1MA16_nuit_hab : patient awake all night\n",
    "# HZB_nuit_3.edf partial night \n",
    "\n",
    "#Preparing values for correlation scatter plots\n",
    "scat=[[] for i in range(len(THR_classif))]  #scatter plots with absolute values\n",
    "pourc_scat=[[] for i in range(len(THR_classif))]  #scatter plots with percentages values\n",
    "\n",
    "\n",
    "augm=[[] for i in range(len(THR_classif))]  #patients with tinnitus increase\n",
    "stable=[[] for i in range(len(THR_classif))] #patients with stable or decreasing tinnitus\n",
    "for elm in evol_masking:\n",
    "    for i in range(len(get_scores)):\n",
    "     if not to_suppress.__contains__(elm[0]):\n",
    "        if elm[0]==get_scores[i][0]:\n",
    "            \n",
    "            #For correlation scatter plots\n",
    "            for j in range(len(THR_classif)):\n",
    "                #getting points [abs evolution masking volume ; coreesponding nb_episode/hour]\n",
    "                scat[j].append([elm[-2], get_scores[i][1][j]])\n",
    "                if elm[-1] < 1 :  # removing a strong outlier\n",
    "                    #getting points [% evolution masking volume ; coreesponding nb_episode/hour]\n",
    "                    pourc_scat[j].append([elm[-1], get_scores[i][1][j]])\n",
    "            \n",
    "            #Sorting patients according to tinnitus evolution overnight\n",
    "            if (elm[2]>0):\n",
    "                for j in range(len(THR_classif)):\n",
    "                    augm[j].append(get_scores[i][1][j])\n",
    "            else:\n",
    "                for j in range(len(THR_classif)):\n",
    "                    stable[j].append(get_scores[i][1][j])\n",
    "                    \n",
    "#Calculating mean and standard deviation for all THR_classif values\n",
    "augm_m=[]\n",
    "augm_std=[]\n",
    "stable_m=[]\n",
    "stable_std=[]\n",
    "for elm in augm:\n",
    "    augm_m.append(np.mean(elm))\n",
    "    augm_std.append(np.std(elm))\n",
    "for elm in stable:\n",
    "    stable_m.append(np.mean(elm))\n",
    "    stable_std.append(np.std(elm))\n",
    "    \n",
    "print(\"Nb_patients in each group : \")\n",
    "print(\"Tinnitus increase : \" + str(len(augm[0])))\n",
    "print(\"Tinnitus stable : \" + str(len(stable[0])))\n",
    "    \n",
    "#Displaying\n",
    "plt.figure()\n",
    "plt.errorbar([i+2 for i in range(len(THR_classif))],stable_m, stable_std)\n",
    "plt.errorbar([i+2 for i in range(len(THR_classif))], augm_m, augm_std)\n",
    "plt.title(\"Comparing nb_episodes/hour (y) between patients with (or) \\n and without (bl) tinnitus increase for masking\" )\n",
    "plt.xlabel('THR_classif value')\n",
    "plt.ylabel('Nb of episodes per hour')"
   ]
  },
  {
   "cell_type": "markdown",
   "metadata": {},
   "source": [
    "## Displaying correlation plots for absolute overnight evolutions of tinnitus"
   ]
  },
  {
   "cell_type": "code",
   "execution_count": 19,
   "metadata": {
    "scrolled": true
   },
   "outputs": [
    {
     "data": {
      "application/vnd.jupyter.widget-view+json": {
       "model_id": "e34e43cecc044028938798767b847d9c",
       "version_major": 2,
       "version_minor": 0
      },
      "text/plain": [
       "Canvas(toolbar=Toolbar(toolitems=[('Home', 'Reset original view', 'home', 'home'), ('Back', 'Back to previous …"
      ]
     },
     "metadata": {},
     "output_type": "display_data"
    },
    {
     "data": {
      "application/vnd.jupyter.widget-view+json": {
       "model_id": "b5d053c00e15432b8d20ff55ce29b545",
       "version_major": 2,
       "version_minor": 0
      },
      "text/plain": [
       "Canvas(toolbar=Toolbar(toolitems=[('Home', 'Reset original view', 'home', 'home'), ('Back', 'Back to previous …"
      ]
     },
     "metadata": {},
     "output_type": "display_data"
    },
    {
     "data": {
      "application/vnd.jupyter.widget-view+json": {
       "model_id": "fd210981caca44eba2a94966b65e2594",
       "version_major": 2,
       "version_minor": 0
      },
      "text/plain": [
       "Canvas(toolbar=Toolbar(toolitems=[('Home', 'Reset original view', 'home', 'home'), ('Back', 'Back to previous …"
      ]
     },
     "metadata": {},
     "output_type": "display_data"
    },
    {
     "data": {
      "application/vnd.jupyter.widget-view+json": {
       "model_id": "e54f80c0b624404b917d11843c02b28a",
       "version_major": 2,
       "version_minor": 0
      },
      "text/plain": [
       "Canvas(toolbar=Toolbar(toolitems=[('Home', 'Reset original view', 'home', 'home'), ('Back', 'Back to previous …"
      ]
     },
     "metadata": {},
     "output_type": "display_data"
    },
    {
     "data": {
      "application/vnd.jupyter.widget-view+json": {
       "model_id": "38688a0961634f919dae96bafb334216",
       "version_major": 2,
       "version_minor": 0
      },
      "text/plain": [
       "Canvas(toolbar=Toolbar(toolitems=[('Home', 'Reset original view', 'home', 'home'), ('Back', 'Back to previous …"
      ]
     },
     "metadata": {},
     "output_type": "display_data"
    },
    {
     "data": {
      "application/vnd.jupyter.widget-view+json": {
       "model_id": "029f8b733ece48a88cb8b9b0e354f8ac",
       "version_major": 2,
       "version_minor": 0
      },
      "text/plain": [
       "Canvas(toolbar=Toolbar(toolitems=[('Home', 'Reset original view', 'home', 'home'), ('Back', 'Back to previous …"
      ]
     },
     "metadata": {},
     "output_type": "display_data"
    },
    {
     "data": {
      "application/vnd.jupyter.widget-view+json": {
       "model_id": "1d59d50b025d4031956b6a44c14f1ab9",
       "version_major": 2,
       "version_minor": 0
      },
      "text/plain": [
       "Canvas(toolbar=Toolbar(toolitems=[('Home', 'Reset original view', 'home', 'home'), ('Back', 'Back to previous …"
      ]
     },
     "metadata": {},
     "output_type": "display_data"
    }
   ],
   "source": [
    "for j in range(len(THR_classif)):  \n",
    "    tab = np.asanyarray(scat[j])\n",
    "    tab = tab.transpose()\n",
    "    #print(j+2)\n",
    "    \n",
    "    regre = scipy.stats.linregress(tab[0],tab[1])\n",
    "    #print(regre)\n",
    "    slope=regre[0]\n",
    "    intercept = regre[1]\n",
    "    plt.figure()\n",
    "    plt.scatter(tab[0], tab[1])\n",
    "    plt.plot([i-25 for i in range(40)],[intercept + slope *(i-25) for i in range(40)])\n",
    "    #plt.plot([i-1 for i in range(3)],[intercept + slope *(i-1) for i in range(3)])\n",
    "    plt.title(\"Correlation attempt for THR_classif of \" + str(j+2) + \" with p_val \"+ str(\"%.3f\" % regre[3]))\n",
    "    plt.xlabel('(Morning masking volume) - (night masking volume) ')\n",
    "    plt.ylabel('Nb of episodes per hour')"
   ]
  },
  {
   "cell_type": "markdown",
   "metadata": {},
   "source": [
    "## Displaying correlation plots for percentage overnight evolutions of tinnitus"
   ]
  },
  {
   "cell_type": "code",
   "execution_count": 20,
   "metadata": {},
   "outputs": [
    {
     "data": {
      "application/vnd.jupyter.widget-view+json": {
       "model_id": "c34a8bc20f694545a7db48e2699d9b60",
       "version_major": 2,
       "version_minor": 0
      },
      "text/plain": [
       "Canvas(toolbar=Toolbar(toolitems=[('Home', 'Reset original view', 'home', 'home'), ('Back', 'Back to previous …"
      ]
     },
     "metadata": {},
     "output_type": "display_data"
    },
    {
     "data": {
      "application/vnd.jupyter.widget-view+json": {
       "model_id": "32b3920a8aef48deb3008169bbd1697d",
       "version_major": 2,
       "version_minor": 0
      },
      "text/plain": [
       "Canvas(toolbar=Toolbar(toolitems=[('Home', 'Reset original view', 'home', 'home'), ('Back', 'Back to previous …"
      ]
     },
     "metadata": {},
     "output_type": "display_data"
    },
    {
     "data": {
      "application/vnd.jupyter.widget-view+json": {
       "model_id": "d7430cad0ec24e8a935a39ae60ac5807",
       "version_major": 2,
       "version_minor": 0
      },
      "text/plain": [
       "Canvas(toolbar=Toolbar(toolitems=[('Home', 'Reset original view', 'home', 'home'), ('Back', 'Back to previous …"
      ]
     },
     "metadata": {},
     "output_type": "display_data"
    },
    {
     "data": {
      "application/vnd.jupyter.widget-view+json": {
       "model_id": "912c01b70c514d7f9640e671697baf0e",
       "version_major": 2,
       "version_minor": 0
      },
      "text/plain": [
       "Canvas(toolbar=Toolbar(toolitems=[('Home', 'Reset original view', 'home', 'home'), ('Back', 'Back to previous …"
      ]
     },
     "metadata": {},
     "output_type": "display_data"
    },
    {
     "data": {
      "application/vnd.jupyter.widget-view+json": {
       "model_id": "a034792debba481188c4a62d68d971e8",
       "version_major": 2,
       "version_minor": 0
      },
      "text/plain": [
       "Canvas(toolbar=Toolbar(toolitems=[('Home', 'Reset original view', 'home', 'home'), ('Back', 'Back to previous …"
      ]
     },
     "metadata": {},
     "output_type": "display_data"
    },
    {
     "data": {
      "application/vnd.jupyter.widget-view+json": {
       "model_id": "65c19f0c72e74d4b9b28e940dfbd1ee9",
       "version_major": 2,
       "version_minor": 0
      },
      "text/plain": [
       "Canvas(toolbar=Toolbar(toolitems=[('Home', 'Reset original view', 'home', 'home'), ('Back', 'Back to previous …"
      ]
     },
     "metadata": {},
     "output_type": "display_data"
    },
    {
     "data": {
      "application/vnd.jupyter.widget-view+json": {
       "model_id": "990c2a5e357047128975c8c8d61f9676",
       "version_major": 2,
       "version_minor": 0
      },
      "text/plain": [
       "Canvas(toolbar=Toolbar(toolitems=[('Home', 'Reset original view', 'home', 'home'), ('Back', 'Back to previous …"
      ]
     },
     "metadata": {},
     "output_type": "display_data"
    }
   ],
   "source": [
    "for j in range(len(THR_classif)):\n",
    "    tab = np.asanyarray(pourc_scat[j])\n",
    "    tab = tab.transpose()\n",
    "    regre = scipy.stats.linregress(tab[0],tab[1])\n",
    "    slope=regre[0]\n",
    "    intercept = regre[1]\n",
    "    plt.figure()\n",
    "    plt.scatter(tab[0], tab[1])\n",
    "    plt.plot([i-1 for i in range(3)],[intercept + slope *(i-1) for i in range(3)])\n",
    "    plt.title(\"Correlation attempt for THR_classif of \" + str(j+2) + \" with p_val \"+ str(\"%.3f\" % regre[3]))\n",
    "    plt.xlabel('(Morning masking volume) - (night masking volume) / (night masking volume) ')\n",
    "    plt.ylabel('Nb of episodes per hour')"
   ]
  },
  {
   "cell_type": "markdown",
   "metadata": {},
   "source": [
    "## VAS-L"
   ]
  },
  {
   "cell_type": "code",
   "execution_count": 21,
   "metadata": {},
   "outputs": [
    {
     "name": "stdout",
     "output_type": "stream",
     "text": [
      "Nb_patients in each group : \n",
      "Tinnitus increase : 3\n",
      "Tinnitus stable : 7\n"
     ]
    },
    {
     "data": {
      "application/vnd.jupyter.widget-view+json": {
       "model_id": "315282b8e6b742db9df77feb8532687a",
       "version_major": 2,
       "version_minor": 0
      },
      "text/plain": [
       "Canvas(toolbar=Toolbar(toolitems=[('Home', 'Reset original view', 'home', 'home'), ('Back', 'Back to previous …"
      ]
     },
     "metadata": {},
     "output_type": "display_data"
    },
    {
     "data": {
      "text/plain": [
       "Text(0, 0.5, 'Nb of episodes per hour')"
      ]
     },
     "execution_count": 21,
     "metadata": {},
     "output_type": "execute_result"
    }
   ],
   "source": [
    "#Preparing values for correlation scatter plots\n",
    "scat=[[] for i in range(len(THR_classif))]  #scatter plots with absolute values\n",
    "pourc_scat=[[] for i in range(len(THR_classif))]  #scatter plots with percentages values\n",
    "\n",
    "\n",
    "augm=[[] for i in range(len(THR_classif))]  #patients with tinnitus increase\n",
    "stable=[[] for i in range(len(THR_classif))] #patients with stable or decreasing tinnitus\n",
    "for elm in evol_VAS_L:\n",
    "    for i in range(len(get_scores)):\n",
    "     if not to_suppress.__contains__(elm[0]):\n",
    "        if elm[0]==get_scores[i][0]:\n",
    "            \n",
    "            #For correlation scatter plots\n",
    "            for j in range(len(THR_classif)):\n",
    "                #getting points [abs evolution masking volume ; coreesponding nb_episode/hour]\n",
    "                scat[j].append([elm[-2], get_scores[i][1][j]])\n",
    "                if elm[-1] < 1 :  # removing a strong outlier\n",
    "                    #getting points [% evolution masking volume ; coreesponding nb_episode/hour]\n",
    "                    pourc_scat[j].append([elm[-1], get_scores[i][1][j]])\n",
    "            \n",
    "            #Sorting patients according to tinnitus evolution overnight\n",
    "            if (elm[2]>0):\n",
    "                for j in range(len(THR_classif)):\n",
    "                    augm[j].append(get_scores[i][1][j])\n",
    "            else:\n",
    "                for j in range(len(THR_classif)):\n",
    "                    stable[j].append(get_scores[i][1][j])\n",
    "                    \n",
    "#Calculating mean and standard deviation for all THR_classif values\n",
    "augm_m=[]\n",
    "augm_std=[]\n",
    "stable_m=[]\n",
    "stable_std=[]\n",
    "for elm in augm:\n",
    "    augm_m.append(np.mean(elm))\n",
    "    augm_std.append(np.std(elm))\n",
    "for elm in stable:\n",
    "    stable_m.append(np.mean(elm))\n",
    "    stable_std.append(np.std(elm))\n",
    "    \n",
    "print(\"Nb_patients in each group : \")\n",
    "print(\"Tinnitus increase : \" + str(len(augm[0])))\n",
    "print(\"Tinnitus stable : \" + str(len(stable[0])))\n",
    "    \n",
    "#Displaying\n",
    "plt.figure()\n",
    "plt.errorbar([i+2 for i in range(len(THR_classif))],stable_m, stable_std)\n",
    "plt.errorbar([i+2 for i in range(len(THR_classif))], augm_m, augm_std)\n",
    "plt.title(\"Comparing nb_episodes/hour (y) between patients with (or) \\n and without (bl) tinnitus increase for VAS_L\" )\n",
    "plt.xlabel('THR_classif value')\n",
    "plt.ylabel('Nb of episodes per hour')"
   ]
  },
  {
   "cell_type": "code",
   "execution_count": 22,
   "metadata": {},
   "outputs": [
    {
     "data": {
      "application/vnd.jupyter.widget-view+json": {
       "model_id": "d350f72e79c745ad9132d920e330e966",
       "version_major": 2,
       "version_minor": 0
      },
      "text/plain": [
       "Canvas(toolbar=Toolbar(toolitems=[('Home', 'Reset original view', 'home', 'home'), ('Back', 'Back to previous …"
      ]
     },
     "metadata": {},
     "output_type": "display_data"
    },
    {
     "data": {
      "application/vnd.jupyter.widget-view+json": {
       "model_id": "893e8831ff2a415288a4622873c0a351",
       "version_major": 2,
       "version_minor": 0
      },
      "text/plain": [
       "Canvas(toolbar=Toolbar(toolitems=[('Home', 'Reset original view', 'home', 'home'), ('Back', 'Back to previous …"
      ]
     },
     "metadata": {},
     "output_type": "display_data"
    },
    {
     "name": "stderr",
     "output_type": "stream",
     "text": [
      "<ipython-input-22-ca70191d94a0>:10: RuntimeWarning: More than 20 figures have been opened. Figures created through the pyplot interface (`matplotlib.pyplot.figure`) are retained until explicitly closed and may consume too much memory. (To control this warning, see the rcParam `figure.max_open_warning`).\n",
      "  plt.figure()\n"
     ]
    },
    {
     "data": {
      "application/vnd.jupyter.widget-view+json": {
       "model_id": "41f993bd946740efabb6d94d35ef02d2",
       "version_major": 2,
       "version_minor": 0
      },
      "text/plain": [
       "Canvas(toolbar=Toolbar(toolitems=[('Home', 'Reset original view', 'home', 'home'), ('Back', 'Back to previous …"
      ]
     },
     "metadata": {},
     "output_type": "display_data"
    },
    {
     "name": "stderr",
     "output_type": "stream",
     "text": [
      "<ipython-input-22-ca70191d94a0>:10: RuntimeWarning: More than 20 figures have been opened. Figures created through the pyplot interface (`matplotlib.pyplot.figure`) are retained until explicitly closed and may consume too much memory. (To control this warning, see the rcParam `figure.max_open_warning`).\n",
      "  plt.figure()\n"
     ]
    },
    {
     "data": {
      "application/vnd.jupyter.widget-view+json": {
       "model_id": "04500a228fce41589393eda32692c5a4",
       "version_major": 2,
       "version_minor": 0
      },
      "text/plain": [
       "Canvas(toolbar=Toolbar(toolitems=[('Home', 'Reset original view', 'home', 'home'), ('Back', 'Back to previous …"
      ]
     },
     "metadata": {},
     "output_type": "display_data"
    },
    {
     "name": "stderr",
     "output_type": "stream",
     "text": [
      "<ipython-input-22-ca70191d94a0>:10: RuntimeWarning: More than 20 figures have been opened. Figures created through the pyplot interface (`matplotlib.pyplot.figure`) are retained until explicitly closed and may consume too much memory. (To control this warning, see the rcParam `figure.max_open_warning`).\n",
      "  plt.figure()\n"
     ]
    },
    {
     "data": {
      "application/vnd.jupyter.widget-view+json": {
       "model_id": "b0bf48f8ab3c4aaca7ec2a71a3714850",
       "version_major": 2,
       "version_minor": 0
      },
      "text/plain": [
       "Canvas(toolbar=Toolbar(toolitems=[('Home', 'Reset original view', 'home', 'home'), ('Back', 'Back to previous …"
      ]
     },
     "metadata": {},
     "output_type": "display_data"
    },
    {
     "name": "stderr",
     "output_type": "stream",
     "text": [
      "<ipython-input-22-ca70191d94a0>:10: RuntimeWarning: More than 20 figures have been opened. Figures created through the pyplot interface (`matplotlib.pyplot.figure`) are retained until explicitly closed and may consume too much memory. (To control this warning, see the rcParam `figure.max_open_warning`).\n",
      "  plt.figure()\n"
     ]
    },
    {
     "data": {
      "application/vnd.jupyter.widget-view+json": {
       "model_id": "c0715b2052dd45f19d9de97b1ea39da5",
       "version_major": 2,
       "version_minor": 0
      },
      "text/plain": [
       "Canvas(toolbar=Toolbar(toolitems=[('Home', 'Reset original view', 'home', 'home'), ('Back', 'Back to previous …"
      ]
     },
     "metadata": {},
     "output_type": "display_data"
    },
    {
     "name": "stderr",
     "output_type": "stream",
     "text": [
      "<ipython-input-22-ca70191d94a0>:10: RuntimeWarning: More than 20 figures have been opened. Figures created through the pyplot interface (`matplotlib.pyplot.figure`) are retained until explicitly closed and may consume too much memory. (To control this warning, see the rcParam `figure.max_open_warning`).\n",
      "  plt.figure()\n"
     ]
    },
    {
     "data": {
      "application/vnd.jupyter.widget-view+json": {
       "model_id": "ec1dcbabe3fa4775aada01344913138d",
       "version_major": 2,
       "version_minor": 0
      },
      "text/plain": [
       "Canvas(toolbar=Toolbar(toolitems=[('Home', 'Reset original view', 'home', 'home'), ('Back', 'Back to previous …"
      ]
     },
     "metadata": {},
     "output_type": "display_data"
    }
   ],
   "source": [
    "for j in range(len(THR_classif)):  \n",
    "    tab = np.asanyarray(scat[j])\n",
    "    tab = tab.transpose()\n",
    "    #print(j+2)\n",
    "    \n",
    "    regre = scipy.stats.linregress(tab[0],tab[1])\n",
    "    #print(regre)\n",
    "    slope=regre[0]\n",
    "    intercept = regre[1]\n",
    "    plt.figure()\n",
    "    plt.scatter(tab[0], tab[1])\n",
    "    plt.plot([i-7 for i in range(14)],[intercept + slope *(i-7) for i in range(14)])\n",
    "    #plt.plot([i-1 for i in range(3)],[intercept + slope *(i-1) for i in range(3)])\n",
    "    plt.title(\"Correlation attempt for THR_classif of \" + str(j+2) + \" with p_val \"+ str(\"%.3f\" % regre[3]))\n",
    "    plt.xlabel('(Morning VAS_L after) - (morning VAS_L before) ')\n",
    "    plt.ylabel('Nb of episodes per hour')"
   ]
  },
  {
   "cell_type": "code",
   "execution_count": 23,
   "metadata": {},
   "outputs": [
    {
     "name": "stderr",
     "output_type": "stream",
     "text": [
      "<ipython-input-23-349daa8e8878>:7: RuntimeWarning: More than 20 figures have been opened. Figures created through the pyplot interface (`matplotlib.pyplot.figure`) are retained until explicitly closed and may consume too much memory. (To control this warning, see the rcParam `figure.max_open_warning`).\n",
      "  plt.figure()\n"
     ]
    },
    {
     "data": {
      "application/vnd.jupyter.widget-view+json": {
       "model_id": "ddddad7053e34141b2dc1e0416abf781",
       "version_major": 2,
       "version_minor": 0
      },
      "text/plain": [
       "Canvas(toolbar=Toolbar(toolitems=[('Home', 'Reset original view', 'home', 'home'), ('Back', 'Back to previous …"
      ]
     },
     "metadata": {},
     "output_type": "display_data"
    },
    {
     "name": "stderr",
     "output_type": "stream",
     "text": [
      "<ipython-input-23-349daa8e8878>:7: RuntimeWarning: More than 20 figures have been opened. Figures created through the pyplot interface (`matplotlib.pyplot.figure`) are retained until explicitly closed and may consume too much memory. (To control this warning, see the rcParam `figure.max_open_warning`).\n",
      "  plt.figure()\n"
     ]
    },
    {
     "data": {
      "application/vnd.jupyter.widget-view+json": {
       "model_id": "7b88976ea0d043aabd0f5dd8549053df",
       "version_major": 2,
       "version_minor": 0
      },
      "text/plain": [
       "Canvas(toolbar=Toolbar(toolitems=[('Home', 'Reset original view', 'home', 'home'), ('Back', 'Back to previous …"
      ]
     },
     "metadata": {},
     "output_type": "display_data"
    },
    {
     "name": "stderr",
     "output_type": "stream",
     "text": [
      "<ipython-input-23-349daa8e8878>:7: RuntimeWarning: More than 20 figures have been opened. Figures created through the pyplot interface (`matplotlib.pyplot.figure`) are retained until explicitly closed and may consume too much memory. (To control this warning, see the rcParam `figure.max_open_warning`).\n",
      "  plt.figure()\n"
     ]
    },
    {
     "data": {
      "application/vnd.jupyter.widget-view+json": {
       "model_id": "ad89e23bdc0944e0ae9e73aa71cf7baa",
       "version_major": 2,
       "version_minor": 0
      },
      "text/plain": [
       "Canvas(toolbar=Toolbar(toolitems=[('Home', 'Reset original view', 'home', 'home'), ('Back', 'Back to previous …"
      ]
     },
     "metadata": {},
     "output_type": "display_data"
    },
    {
     "name": "stderr",
     "output_type": "stream",
     "text": [
      "<ipython-input-23-349daa8e8878>:7: RuntimeWarning: More than 20 figures have been opened. Figures created through the pyplot interface (`matplotlib.pyplot.figure`) are retained until explicitly closed and may consume too much memory. (To control this warning, see the rcParam `figure.max_open_warning`).\n",
      "  plt.figure()\n"
     ]
    },
    {
     "data": {
      "application/vnd.jupyter.widget-view+json": {
       "model_id": "00e7f22b25a344588e323c95e5c0bde0",
       "version_major": 2,
       "version_minor": 0
      },
      "text/plain": [
       "Canvas(toolbar=Toolbar(toolitems=[('Home', 'Reset original view', 'home', 'home'), ('Back', 'Back to previous …"
      ]
     },
     "metadata": {},
     "output_type": "display_data"
    },
    {
     "name": "stderr",
     "output_type": "stream",
     "text": [
      "<ipython-input-23-349daa8e8878>:7: RuntimeWarning: More than 20 figures have been opened. Figures created through the pyplot interface (`matplotlib.pyplot.figure`) are retained until explicitly closed and may consume too much memory. (To control this warning, see the rcParam `figure.max_open_warning`).\n",
      "  plt.figure()\n"
     ]
    },
    {
     "data": {
      "application/vnd.jupyter.widget-view+json": {
       "model_id": "7735f1e9d9f0411ea836851c52773c8b",
       "version_major": 2,
       "version_minor": 0
      },
      "text/plain": [
       "Canvas(toolbar=Toolbar(toolitems=[('Home', 'Reset original view', 'home', 'home'), ('Back', 'Back to previous …"
      ]
     },
     "metadata": {},
     "output_type": "display_data"
    },
    {
     "name": "stderr",
     "output_type": "stream",
     "text": [
      "<ipython-input-23-349daa8e8878>:7: RuntimeWarning: More than 20 figures have been opened. Figures created through the pyplot interface (`matplotlib.pyplot.figure`) are retained until explicitly closed and may consume too much memory. (To control this warning, see the rcParam `figure.max_open_warning`).\n",
      "  plt.figure()\n"
     ]
    },
    {
     "data": {
      "application/vnd.jupyter.widget-view+json": {
       "model_id": "00526889e27f4cf6a7fc80bbf428d0e6",
       "version_major": 2,
       "version_minor": 0
      },
      "text/plain": [
       "Canvas(toolbar=Toolbar(toolitems=[('Home', 'Reset original view', 'home', 'home'), ('Back', 'Back to previous …"
      ]
     },
     "metadata": {},
     "output_type": "display_data"
    },
    {
     "name": "stderr",
     "output_type": "stream",
     "text": [
      "<ipython-input-23-349daa8e8878>:7: RuntimeWarning: More than 20 figures have been opened. Figures created through the pyplot interface (`matplotlib.pyplot.figure`) are retained until explicitly closed and may consume too much memory. (To control this warning, see the rcParam `figure.max_open_warning`).\n",
      "  plt.figure()\n"
     ]
    },
    {
     "data": {
      "application/vnd.jupyter.widget-view+json": {
       "model_id": "b9e46d952c914d568cc9aaf7332a535f",
       "version_major": 2,
       "version_minor": 0
      },
      "text/plain": [
       "Canvas(toolbar=Toolbar(toolitems=[('Home', 'Reset original view', 'home', 'home'), ('Back', 'Back to previous …"
      ]
     },
     "metadata": {},
     "output_type": "display_data"
    }
   ],
   "source": [
    "for j in range(len(THR_classif)):\n",
    "    tab = np.asanyarray(pourc_scat[j])\n",
    "    tab = tab.transpose()\n",
    "    regre = scipy.stats.linregress(tab[0],tab[1])\n",
    "    slope=regre[0]\n",
    "    intercept = regre[1]\n",
    "    plt.figure()\n",
    "    plt.scatter(tab[0], tab[1])\n",
    "    plt.plot([i-1 for i in range(3)],[intercept + slope *(i-1) for i in range(3)])\n",
    "    plt.title(\"Correlation attempt for THR_classif of \" + str(j+2) + \" with p_val \"+ str(\"%.3f\" % regre[3]))\n",
    "    plt.xlabel('(Morning VAS_L after) - (morning VAS_L before) / (morning VAS_L before) ')\n",
    "    plt.ylabel('Nb of episodes per hour')"
   ]
  },
  {
   "cell_type": "markdown",
   "metadata": {},
   "source": [
    "## VAS_I"
   ]
  },
  {
   "cell_type": "code",
   "execution_count": 24,
   "metadata": {},
   "outputs": [
    {
     "name": "stderr",
     "output_type": "stream",
     "text": [
      "<ipython-input-24-e32f3cab54f1>:55: RuntimeWarning: More than 20 figures have been opened. Figures created through the pyplot interface (`matplotlib.pyplot.figure`) are retained until explicitly closed and may consume too much memory. (To control this warning, see the rcParam `figure.max_open_warning`).\n",
      "  plt.figure()\n"
     ]
    },
    {
     "name": "stdout",
     "output_type": "stream",
     "text": [
      "Nb_patients in each group : \n",
      "Tinnitus increase : 4\n",
      "Tinnitus stable : 6\n"
     ]
    },
    {
     "data": {
      "application/vnd.jupyter.widget-view+json": {
       "model_id": "14d1afc6639d4c338ce7737a7b7e7c5b",
       "version_major": 2,
       "version_minor": 0
      },
      "text/plain": [
       "Canvas(toolbar=Toolbar(toolitems=[('Home', 'Reset original view', 'home', 'home'), ('Back', 'Back to previous …"
      ]
     },
     "metadata": {},
     "output_type": "display_data"
    },
    {
     "data": {
      "text/plain": [
       "Text(0, 0.5, 'Nb of episodes per hour')"
      ]
     },
     "execution_count": 24,
     "metadata": {},
     "output_type": "execute_result"
    }
   ],
   "source": [
    "#Preparing values for correlation scatter plots\n",
    "scat=[[] for i in range(len(THR_classif))]  #scatter plots with absolute values\n",
    "pourc_scat=[[] for i in range(len(THR_classif))]  #scatter plots with percentages values\n",
    "\n",
    "\n",
    "augm=[[] for i in range(len(THR_classif))]  #patients with tinnitus increase\n",
    "stable=[[] for i in range(len(THR_classif))] #patients with stable or decreasing tinnitus\n",
    "for elm in evol_VAS_I:\n",
    "    for i in range(len(get_scores)):\n",
    "     if not to_suppress.__contains__(elm[0]):\n",
    "        if elm[0]==get_scores[i][0]:\n",
    "            \n",
    "            #For correlation scatter plots\n",
    "            for j in range(len(THR_classif)):\n",
    "                #getting points [abs evolution masking volume ; coreesponding nb_episode/hour]\n",
    "                scat[j].append([elm[-2], get_scores[i][1][j]])\n",
    "                if elm[-1] < 1 :  # removing a strong outlier\n",
    "                    #getting points [% evolution masking volume ; coreesponding nb_episode/hour]\n",
    "                    pourc_scat[j].append([elm[-1], get_scores[i][1][j]])\n",
    "            \n",
    "            #Sorting patients according to tinnitus evolution overnight\n",
    "            if (elm[2]>0):\n",
    "                for j in range(len(THR_classif)):\n",
    "                    augm[j].append(get_scores[i][1][j])\n",
    "            else:\n",
    "                for j in range(len(THR_classif)):\n",
    "                    stable[j].append(get_scores[i][1][j])\n",
    "                    \n",
    "#Calculating mean and standard deviation for all THR_classif values\n",
    "augm_m=[]\n",
    "augm_std=[]\n",
    "stable_m=[]\n",
    "stable_std=[]\n",
    "for elm in augm:\n",
    "    augm_m.append(np.mean(elm))\n",
    "    augm_std.append(np.std(elm))\n",
    "for elm in stable:\n",
    "    stable_m.append(np.mean(elm))\n",
    "    stable_std.append(np.std(elm))\n",
    "    \n",
    "print(\"Nb_patients in each group : \")\n",
    "print(\"Tinnitus increase : \" + str(len(augm[0])))\n",
    "print(\"Tinnitus stable : \" + str(len(stable[0])))\n",
    "    \n",
    "#Displaying\n",
    "plt.figure()\n",
    "plt.errorbar([i+2 for i in range(len(THR_classif))],stable_m, stable_std)\n",
    "plt.errorbar([i+2 for i in range(len(THR_classif))], augm_m, augm_std)\n",
    "plt.title(\"Comparing nb_episodes/hour (y) between patients with (or) \\n and without (bl) tinnitus increase for VAS_L\" )\n",
    "plt.xlabel('THR_classif value')\n",
    "plt.ylabel('Nb of episodes per hour')"
   ]
  },
  {
   "cell_type": "code",
   "execution_count": 25,
   "metadata": {},
   "outputs": [
    {
     "name": "stderr",
     "output_type": "stream",
     "text": [
      "<ipython-input-25-b727711f4bd5>:10: RuntimeWarning: More than 20 figures have been opened. Figures created through the pyplot interface (`matplotlib.pyplot.figure`) are retained until explicitly closed and may consume too much memory. (To control this warning, see the rcParam `figure.max_open_warning`).\n",
      "  plt.figure()\n"
     ]
    },
    {
     "data": {
      "application/vnd.jupyter.widget-view+json": {
       "model_id": "c811fb1105324500b1c6d60f0a656f04",
       "version_major": 2,
       "version_minor": 0
      },
      "text/plain": [
       "Canvas(toolbar=Toolbar(toolitems=[('Home', 'Reset original view', 'home', 'home'), ('Back', 'Back to previous …"
      ]
     },
     "metadata": {},
     "output_type": "display_data"
    },
    {
     "name": "stderr",
     "output_type": "stream",
     "text": [
      "<ipython-input-25-b727711f4bd5>:10: RuntimeWarning: More than 20 figures have been opened. Figures created through the pyplot interface (`matplotlib.pyplot.figure`) are retained until explicitly closed and may consume too much memory. (To control this warning, see the rcParam `figure.max_open_warning`).\n",
      "  plt.figure()\n"
     ]
    },
    {
     "data": {
      "application/vnd.jupyter.widget-view+json": {
       "model_id": "1ae35d5d118a451d8d5cf301ef10792d",
       "version_major": 2,
       "version_minor": 0
      },
      "text/plain": [
       "Canvas(toolbar=Toolbar(toolitems=[('Home', 'Reset original view', 'home', 'home'), ('Back', 'Back to previous …"
      ]
     },
     "metadata": {},
     "output_type": "display_data"
    },
    {
     "name": "stderr",
     "output_type": "stream",
     "text": [
      "<ipython-input-25-b727711f4bd5>:10: RuntimeWarning: More than 20 figures have been opened. Figures created through the pyplot interface (`matplotlib.pyplot.figure`) are retained until explicitly closed and may consume too much memory. (To control this warning, see the rcParam `figure.max_open_warning`).\n",
      "  plt.figure()\n"
     ]
    },
    {
     "data": {
      "application/vnd.jupyter.widget-view+json": {
       "model_id": "abc808c7fb26434588f752899c46b250",
       "version_major": 2,
       "version_minor": 0
      },
      "text/plain": [
       "Canvas(toolbar=Toolbar(toolitems=[('Home', 'Reset original view', 'home', 'home'), ('Back', 'Back to previous …"
      ]
     },
     "metadata": {},
     "output_type": "display_data"
    },
    {
     "name": "stderr",
     "output_type": "stream",
     "text": [
      "<ipython-input-25-b727711f4bd5>:10: RuntimeWarning: More than 20 figures have been opened. Figures created through the pyplot interface (`matplotlib.pyplot.figure`) are retained until explicitly closed and may consume too much memory. (To control this warning, see the rcParam `figure.max_open_warning`).\n",
      "  plt.figure()\n"
     ]
    },
    {
     "data": {
      "application/vnd.jupyter.widget-view+json": {
       "model_id": "6fe924031e1c42459faa6020d67e2a49",
       "version_major": 2,
       "version_minor": 0
      },
      "text/plain": [
       "Canvas(toolbar=Toolbar(toolitems=[('Home', 'Reset original view', 'home', 'home'), ('Back', 'Back to previous …"
      ]
     },
     "metadata": {},
     "output_type": "display_data"
    },
    {
     "name": "stderr",
     "output_type": "stream",
     "text": [
      "<ipython-input-25-b727711f4bd5>:10: RuntimeWarning: More than 20 figures have been opened. Figures created through the pyplot interface (`matplotlib.pyplot.figure`) are retained until explicitly closed and may consume too much memory. (To control this warning, see the rcParam `figure.max_open_warning`).\n",
      "  plt.figure()\n"
     ]
    },
    {
     "data": {
      "application/vnd.jupyter.widget-view+json": {
       "model_id": "7649e15ae50b4dbe9326b7311713af63",
       "version_major": 2,
       "version_minor": 0
      },
      "text/plain": [
       "Canvas(toolbar=Toolbar(toolitems=[('Home', 'Reset original view', 'home', 'home'), ('Back', 'Back to previous …"
      ]
     },
     "metadata": {},
     "output_type": "display_data"
    },
    {
     "name": "stderr",
     "output_type": "stream",
     "text": [
      "<ipython-input-25-b727711f4bd5>:10: RuntimeWarning: More than 20 figures have been opened. Figures created through the pyplot interface (`matplotlib.pyplot.figure`) are retained until explicitly closed and may consume too much memory. (To control this warning, see the rcParam `figure.max_open_warning`).\n",
      "  plt.figure()\n"
     ]
    },
    {
     "data": {
      "application/vnd.jupyter.widget-view+json": {
       "model_id": "fe735d0d098d4b12b4bf7fd8bd2d9e82",
       "version_major": 2,
       "version_minor": 0
      },
      "text/plain": [
       "Canvas(toolbar=Toolbar(toolitems=[('Home', 'Reset original view', 'home', 'home'), ('Back', 'Back to previous …"
      ]
     },
     "metadata": {},
     "output_type": "display_data"
    },
    {
     "name": "stderr",
     "output_type": "stream",
     "text": [
      "<ipython-input-25-b727711f4bd5>:10: RuntimeWarning: More than 20 figures have been opened. Figures created through the pyplot interface (`matplotlib.pyplot.figure`) are retained until explicitly closed and may consume too much memory. (To control this warning, see the rcParam `figure.max_open_warning`).\n",
      "  plt.figure()\n"
     ]
    },
    {
     "data": {
      "application/vnd.jupyter.widget-view+json": {
       "model_id": "b3a4f0af620645fb983721376f79b3cd",
       "version_major": 2,
       "version_minor": 0
      },
      "text/plain": [
       "Canvas(toolbar=Toolbar(toolitems=[('Home', 'Reset original view', 'home', 'home'), ('Back', 'Back to previous …"
      ]
     },
     "metadata": {},
     "output_type": "display_data"
    }
   ],
   "source": [
    "for j in range(len(THR_classif)):  \n",
    "    tab = np.asanyarray(scat[j])\n",
    "    tab = tab.transpose()\n",
    "    #print(j+2)\n",
    "    \n",
    "    regre = scipy.stats.linregress(tab[0],tab[1])\n",
    "    #print(regre)\n",
    "    slope=regre[0]\n",
    "    intercept = regre[1]\n",
    "    plt.figure()\n",
    "    plt.scatter(tab[0], tab[1])\n",
    "    plt.plot([i-7 for i in range(14)],[intercept + slope *(i-7) for i in range(14)])\n",
    "    #plt.plot([i-1 for i in range(3)],[intercept + slope *(i-1) for i in range(3)])\n",
    "    plt.title(\"Correlation attempt for THR_classif of \" + str(j+2) + \" with p_val \"+ str(\"%.3f\" % regre[3]))\n",
    "    plt.xlabel('(Morning VAS_I after) - (morning VAS_I before) ')\n",
    "    plt.ylabel('Nb of episodes per hour')"
   ]
  },
  {
   "cell_type": "code",
   "execution_count": 26,
   "metadata": {},
   "outputs": [
    {
     "name": "stderr",
     "output_type": "stream",
     "text": [
      "<ipython-input-26-0705c6fb490a>:7: RuntimeWarning: More than 20 figures have been opened. Figures created through the pyplot interface (`matplotlib.pyplot.figure`) are retained until explicitly closed and may consume too much memory. (To control this warning, see the rcParam `figure.max_open_warning`).\n",
      "  plt.figure()\n"
     ]
    },
    {
     "data": {
      "application/vnd.jupyter.widget-view+json": {
       "model_id": "46b67299c0f348bf835b6a686272d276",
       "version_major": 2,
       "version_minor": 0
      },
      "text/plain": [
       "Canvas(toolbar=Toolbar(toolitems=[('Home', 'Reset original view', 'home', 'home'), ('Back', 'Back to previous …"
      ]
     },
     "metadata": {},
     "output_type": "display_data"
    },
    {
     "name": "stderr",
     "output_type": "stream",
     "text": [
      "<ipython-input-26-0705c6fb490a>:7: RuntimeWarning: More than 20 figures have been opened. Figures created through the pyplot interface (`matplotlib.pyplot.figure`) are retained until explicitly closed and may consume too much memory. (To control this warning, see the rcParam `figure.max_open_warning`).\n",
      "  plt.figure()\n"
     ]
    },
    {
     "data": {
      "application/vnd.jupyter.widget-view+json": {
       "model_id": "e75673688c784cecb663b6e9219a927b",
       "version_major": 2,
       "version_minor": 0
      },
      "text/plain": [
       "Canvas(toolbar=Toolbar(toolitems=[('Home', 'Reset original view', 'home', 'home'), ('Back', 'Back to previous …"
      ]
     },
     "metadata": {},
     "output_type": "display_data"
    },
    {
     "name": "stderr",
     "output_type": "stream",
     "text": [
      "<ipython-input-26-0705c6fb490a>:7: RuntimeWarning: More than 20 figures have been opened. Figures created through the pyplot interface (`matplotlib.pyplot.figure`) are retained until explicitly closed and may consume too much memory. (To control this warning, see the rcParam `figure.max_open_warning`).\n",
      "  plt.figure()\n"
     ]
    },
    {
     "data": {
      "application/vnd.jupyter.widget-view+json": {
       "model_id": "6b7ebacade2045e28a79127dd5bf96ea",
       "version_major": 2,
       "version_minor": 0
      },
      "text/plain": [
       "Canvas(toolbar=Toolbar(toolitems=[('Home', 'Reset original view', 'home', 'home'), ('Back', 'Back to previous …"
      ]
     },
     "metadata": {},
     "output_type": "display_data"
    },
    {
     "name": "stderr",
     "output_type": "stream",
     "text": [
      "<ipython-input-26-0705c6fb490a>:7: RuntimeWarning: More than 20 figures have been opened. Figures created through the pyplot interface (`matplotlib.pyplot.figure`) are retained until explicitly closed and may consume too much memory. (To control this warning, see the rcParam `figure.max_open_warning`).\n",
      "  plt.figure()\n"
     ]
    },
    {
     "data": {
      "application/vnd.jupyter.widget-view+json": {
       "model_id": "d214544486454a51be98339864e37852",
       "version_major": 2,
       "version_minor": 0
      },
      "text/plain": [
       "Canvas(toolbar=Toolbar(toolitems=[('Home', 'Reset original view', 'home', 'home'), ('Back', 'Back to previous …"
      ]
     },
     "metadata": {},
     "output_type": "display_data"
    },
    {
     "name": "stderr",
     "output_type": "stream",
     "text": [
      "<ipython-input-26-0705c6fb490a>:7: RuntimeWarning: More than 20 figures have been opened. Figures created through the pyplot interface (`matplotlib.pyplot.figure`) are retained until explicitly closed and may consume too much memory. (To control this warning, see the rcParam `figure.max_open_warning`).\n",
      "  plt.figure()\n"
     ]
    },
    {
     "data": {
      "application/vnd.jupyter.widget-view+json": {
       "model_id": "1b01ec6aeca346bf853f370d191744f0",
       "version_major": 2,
       "version_minor": 0
      },
      "text/plain": [
       "Canvas(toolbar=Toolbar(toolitems=[('Home', 'Reset original view', 'home', 'home'), ('Back', 'Back to previous …"
      ]
     },
     "metadata": {},
     "output_type": "display_data"
    },
    {
     "name": "stderr",
     "output_type": "stream",
     "text": [
      "<ipython-input-26-0705c6fb490a>:7: RuntimeWarning: More than 20 figures have been opened. Figures created through the pyplot interface (`matplotlib.pyplot.figure`) are retained until explicitly closed and may consume too much memory. (To control this warning, see the rcParam `figure.max_open_warning`).\n",
      "  plt.figure()\n"
     ]
    },
    {
     "data": {
      "application/vnd.jupyter.widget-view+json": {
       "model_id": "3e346767e32841f4b31628e4bf48a9ca",
       "version_major": 2,
       "version_minor": 0
      },
      "text/plain": [
       "Canvas(toolbar=Toolbar(toolitems=[('Home', 'Reset original view', 'home', 'home'), ('Back', 'Back to previous …"
      ]
     },
     "metadata": {},
     "output_type": "display_data"
    },
    {
     "name": "stderr",
     "output_type": "stream",
     "text": [
      "<ipython-input-26-0705c6fb490a>:7: RuntimeWarning: More than 20 figures have been opened. Figures created through the pyplot interface (`matplotlib.pyplot.figure`) are retained until explicitly closed and may consume too much memory. (To control this warning, see the rcParam `figure.max_open_warning`).\n",
      "  plt.figure()\n"
     ]
    },
    {
     "data": {
      "application/vnd.jupyter.widget-view+json": {
       "model_id": "36dbb2b10f6d4ad3b9c14fc5db0cbf82",
       "version_major": 2,
       "version_minor": 0
      },
      "text/plain": [
       "Canvas(toolbar=Toolbar(toolitems=[('Home', 'Reset original view', 'home', 'home'), ('Back', 'Back to previous …"
      ]
     },
     "metadata": {},
     "output_type": "display_data"
    }
   ],
   "source": [
    "for j in range(len(THR_classif)):\n",
    "    tab = np.asanyarray(pourc_scat[j])\n",
    "    tab = tab.transpose()\n",
    "    regre = scipy.stats.linregress(tab[0],tab[1])\n",
    "    slope=regre[0]\n",
    "    intercept = regre[1]\n",
    "    plt.figure()\n",
    "    plt.scatter(tab[0], tab[1])\n",
    "    plt.plot([i-1 for i in range(3)],[intercept + slope *(i-1) for i in range(3)])\n",
    "    plt.title(\"Correlation attempt for THR_classif of \" + str(j+2) + \" with p_val \"+ str(\"%.3f\" % regre[3]))\n",
    "    plt.xlabel('(Morning VAS_I after) - (morning VAS_I before) / (morning VAS_I before) ')\n",
    "    plt.ylabel('Nb of episodes per hour')"
   ]
  }
 ],
 "metadata": {
  "kernelspec": {
   "display_name": "tinnsleep-env",
   "language": "python",
   "name": "tinnsleep-env"
  },
  "language_info": {
   "codemirror_mode": {
    "name": "ipython",
    "version": 3
   },
   "file_extension": ".py",
   "mimetype": "text/x-python",
   "name": "python",
   "nbconvert_exporter": "python",
   "pygments_lexer": "ipython3",
   "version": "3.8.2"
  },
  "pycharm": {
   "stem_cell": {
    "cell_type": "raw",
    "metadata": {
     "collapsed": false
    },
    "source": []
   }
  }
 },
 "nbformat": 4,
 "nbformat_minor": 4
}
