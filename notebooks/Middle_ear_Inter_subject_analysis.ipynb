{
 "cells": [
  {
   "cell_type": "markdown",
   "metadata": {},
   "source": [
    "## Inter-subject analysis\n",
    "\n",
    "This notebook will \n",
    "- Process and generate reports for all the dataset following procedure detailed in Bruxism detection\n",
    "- Display several metrics for all patients of the datasets\n",
    "- Display group analysis differences between tinnitus overnight increase patients and stable overnight patients (for tinnitus masking volume and VAS scales)\n",
    "- Display correlation plots between tinnitus evolution overnight and number of bruxisme episodes per hour (for tinnitus masking volume and VAS scales)"
   ]
  },
  {
   "cell_type": "code",
   "execution_count": 6,
   "metadata": {
    "pycharm": {
     "is_executing": false
    }
   },
   "outputs": [
    {
     "name": "stdout",
     "output_type": "stream",
     "text": [
      "config loaded\n"
     ]
    }
   ],
   "source": [
    "import os\n",
    "PATH = os.getcwd() \n",
    "import sys\n",
    "sys.path.append(PATH + '/../')\n",
    "import mne\n",
    "import matplotlib.pyplot as plt\n",
    "%matplotlib widget\n",
    "import numpy as np\n",
    "import pandas as pd\n",
    "import scipy\n",
    "from tinnsleep.config import Config\n",
    "from tinnsleep.create_reports import reporting\n",
    "from tinnsleep.data import RawToEpochs_sliding, CreateRaw\n",
    "from tinnsleep.scoring import generate_MEMA_report\n",
    "\n",
    "print(\"config loaded\")\n"
   ]
  },
  {
   "cell_type": "code",
   "execution_count": 7,
   "metadata": {},
   "outputs": [
    {
     "name": "stdout",
     "output_type": "stream",
     "text": [
      "parameters set\n",
      "['1DA15_nuit_son.edf' '1GB19_nuit_hab.edf' '1MF19_nuit_hab.edf']\n"
     ]
    }
   ],
   "source": [
    "#Setting parameters\n",
    "EDF_list = Config.bruxisme_files\n",
    "THR_classif=[[0,2.5], [0,3], [0,3.5], [0,4], [0,5], [0,6], [0,7]]\n",
    "sfreq = 200\n",
    "window_length = 1.00                    # in seconds\n",
    "duration = int(window_length * sfreq)   # in samples\n",
    "interval = duration                     # no overlapping\n",
    "n_adaptive = -60/window_length          # number of epochs for adaptive baseline\n",
    "delim = 3                               # maximal time interval between bursts to merge episode in seconds\n",
    "\n",
    "# Dictionnary of known names of the Airflow\n",
    "mapping = {\"Airflow\": \"MEMA\"}\n",
    "print(\"parameters set\")\n",
    "\n",
    "mema_files = pd.read_csv(\"data/mema_files.csv\",engine='python', sep=\"; \")[\"files_with_mema\"].values\n",
    "print(mema_files[:3])"
   ]
  },
  {
   "cell_type": "markdown",
   "metadata": {},
   "source": [
    "## Processing of the dataset and report generation"
   ]
  },
  {
   "cell_type": "code",
   "execution_count": 8,
   "metadata": {
    "scrolled": true
   },
   "outputs": [
    {
     "name": "stdout",
     "output_type": "stream",
     "text": [
      "Files processed: \n",
      "1BA07_nuit_hab.edf not included\n",
      "1BA07_nuit_son.edf not included\n",
      "1CC05_nuit_hab.edf not included\n",
      "1CC05_nuit_son.edf not included\n",
      "1DA15_nuit_hab.edf not included\n",
      "1DA15_nuit_son.edf preprocess...DONE (0.34s) report...DONE (50.94s)\n",
      "1DL12_nuit_hab.edf not included\n",
      "1DL12_nuit_son.edf not included\n",
      "1GB18_nuit_son.edf not included\n",
      "1GB19_nuit_hab.edf preprocess...DONE (0.42s) report...DONE (53.10s)\n",
      "1GF14_nuit_hab.edf not included\n",
      "1GF14_nuit_son.edf not included\n",
      "1MF19_nuit_hab.edf preprocess...DONE (0.33s) report...DONE (52.01s)\n",
      "1MF19_nuit_son.edf not included\n",
      "1MN09_nuit_hab.edf not included\n",
      "1MN09_nuit_son.edf not included\n",
      "1PI07_nuit_hab.edf not included\n",
      "1PI07_nuit_son.edf not included\n",
      "1PT06_nuit_hab.edf not included\n",
      "1PT06_nuit_son.edf not included\n",
      "1RA17_nuit_hab.edf preprocess...DONE (0.71s) report...DONE (53.87s)\n",
      "1RA17_nuit_son.edf not included\n",
      "1SA14_nuit_hab.edf not included\n",
      "1SA14_nuit_son.edf not included\n",
      "1ZN04_nuit_hab.edf not included\n",
      "1ZN04_nuit_son.edf not included\n",
      "HZB_nuit_1.edf preprocess...DONE (0.25s) report...DONE (40.33s)\n",
      "HZB_nuit_2.edf preprocess...DONE (0.37s) report...DONE (42.33s)\n",
      "SCHM_nuit_2.edf preprocess...DONE (0.75s) report...DONE (52.97s)\n",
      "SCHM_nuit_3.edf preprocess...DONE (1.17s) report...DONE (73.41s)\n",
      "Unger_2.edf preprocess...DONE (0.83s) report...DONE (63.25s)\n",
      "jon_mema.edf preprocess...DONE (0.66s) report...DONE (70.51s)\n",
      "jose_mema.edf preprocess...DONE (0.44s) report...DONE (44.99s)\n",
      "robin_mema_nuit_1.edf preprocess...DONE (0.52s) report...DONE (51.61s)\n",
      "robin_mema_nuit_2.edf preprocess...DONE (0.50s) report...DONE (48.17s)\n",
      "sophie_mema.edf preprocess...DONE (0.50s) report...DONE (50.39s)\n",
      "tom_mema.edf preprocess...DONE (0.51s) report...DONE (51.43s)\n",
      "unger_nuit_1.edf preprocess...DONE (1.41s) report...DONE (100.26s)\n",
      "Reports created, process finished in 15.2 min\n"
     ]
    }
   ],
   "source": [
    "import warnings\n",
    "from time import time\n",
    "\n",
    "with warnings.catch_warnings():\n",
    "    warnings.simplefilter(\"ignore\", category=RuntimeWarning)\n",
    "    \n",
    "    results={}\n",
    "    print(\"Files processed: \")\n",
    "    start = time()\n",
    "    for filename in EDF_list:\n",
    "        #opens the raw file\n",
    "        file = filename.split(os.path.sep)[-1]\n",
    "        print(file, end=\" \")\n",
    "        if file in mema_files:\n",
    "            #Get channels MEMA\n",
    "            raw = mne.io.read_raw_edf(filename, preload=False, verbose=False)  # prepare loading\n",
    "            raw.rename_channels(mapping=mapping)\n",
    "            picks_chan_user= ['MEMA']  # could be remplaced by an user-specific list loaded from .pk\n",
    "            ch_types = \"misc\"\n",
    "            #check if channels exists\n",
    "            picks_chan = [];[picks_chan.append(ch) for ch in picks_chan_user if ch in raw.info[\"ch_names\"]]\n",
    "\n",
    "            #Get channel names from indexes\n",
    "            if len(picks_chan)>0: #ignore file if no channel is good\n",
    "\n",
    "                #-----------------MEMA processing preparation ---------------------------------------\n",
    "                print(\"preprocess...\", end=\"\");tmp = time()\n",
    "                raw = CreateRaw(raw[picks_chan][0], picks_chan, ch_types=ch_types)  # pick channels and load\n",
    "                epochs = RawToEpochs_sliding(raw, duration=duration, interval=interval, picks=picks_chan)\n",
    "                print(f\"DONE ({time()-tmp:.2f}s)\", end=\" \")\n",
    "                valid_labels = [True] * epochs.shape[0] # consider all valid epochs\n",
    "                print(\"report...\", end=\"\");tmp = time()\n",
    "                results[filename] = reporting(epochs, valid_labels, THR_classif, time_interval=window_length, delim=delim, n_adaptive=n_adaptive, generate_report=generate_MEMA_report)\n",
    "                print(f\"DONE ({time()-tmp:.2f}s)\")\n",
    "            else:\n",
    "                print(f\"NO VALID CHANNEL\")\n",
    "        else:\n",
    "            print(f\"not included\")\n",
    "\n",
    "\n",
    "print(f\"Reports created, process finished in {(time()-start)/60:.1f} min\")"
   ]
  },
  {
   "cell_type": "markdown",
   "metadata": {},
   "source": [
    "## Saving results"
   ]
  },
  {
   "cell_type": "code",
   "execution_count": 9,
   "metadata": {},
   "outputs": [],
   "source": [
    "df = pd.DataFrame.from_dict(results)\n",
    "df.to_pickle(\"data/reports_and_datas_MEMA.pk\")"
   ]
  },
  {
   "cell_type": "markdown",
   "metadata": {},
   "source": [
    "## Data visualization for the entire cohort for nb MEMA episodes per hour as a function of THR_classif value : "
   ]
  },
  {
   "cell_type": "code",
   "execution_count": 10,
   "metadata": {},
   "outputs": [
    {
     "data": {
      "application/vnd.jupyter.widget-view+json": {
       "model_id": "6a354ca0df1245568f9dd6eea8832f4c",
       "version_major": 2,
       "version_minor": 0
      },
      "text/plain": [
       "Canvas(toolbar=Toolbar(toolitems=[('Home', 'Reset original view', 'home', 'home'), ('Back', 'Back to previous …"
      ]
     },
     "metadata": {},
     "output_type": "display_data"
    },
    {
     "data": {
      "text/plain": [
       "Text(0, 0.5, 'Nb of episodes per hour')"
      ]
     },
     "execution_count": 10,
     "metadata": {},
     "output_type": "execute_result"
    }
   ],
   "source": [
    "plt.figure()\n",
    "for elm in results.keys():\n",
    "    nb_ep=[]\n",
    "    get_r_THRs=[]\n",
    "    for th in results[elm][\"THR_classif\"]:\n",
    "        get_r_THRs.append(th[1])\n",
    "    for ep in results[elm][\"reports\"]:\n",
    "        nb_ep.append(ep[\"Number of MEMA episodes per hour\"])\n",
    "    st = elm.split(os.path.sep)[-1] + \" len \" + str(ep[\"Clean MEMA duration\"])\n",
    "    plt.plot(get_r_THRs, nb_ep)\n",
    "plt.title('Comparison for all subjects for nb of MEMA episodes per hour')\n",
    "plt.xlabel('THR_classif value')\n",
    "plt.ylabel('Nb of episodes per hour')\n"
   ]
  },
  {
   "cell_type": "markdown",
   "metadata": {},
   "source": [
    "## Data visualization for the entire cohort for nb MEMA bursts as a function of THR_classif value : "
   ]
  },
  {
   "cell_type": "code",
   "execution_count": 11,
   "metadata": {},
   "outputs": [
    {
     "data": {
      "application/vnd.jupyter.widget-view+json": {
       "model_id": "a04348313f544d2d950b4e4036c51d22",
       "version_major": 2,
       "version_minor": 0
      },
      "text/plain": [
       "Canvas(toolbar=Toolbar(toolitems=[('Home', 'Reset original view', 'home', 'home'), ('Back', 'Back to previous …"
      ]
     },
     "metadata": {},
     "output_type": "display_data"
    },
    {
     "data": {
      "text/plain": [
       "Text(0, 0.5, 'Nb of MEMA burst on the recording')"
      ]
     },
     "execution_count": 11,
     "metadata": {},
     "output_type": "execute_result"
    }
   ],
   "source": [
    "plt.figure()\n",
    "for elm in results.keys():\n",
    "    nb_ep=[]\n",
    "    get_r_THRs=[]\n",
    "    for th in results[elm][\"THR_classif\"]:\n",
    "        get_r_THRs.append(th[1])\n",
    "    for ep in results[elm][\"reports\"]:\n",
    "        nb_ep.append(ep[\"Total number of MEMA burst\"])\n",
    "    #print(f\"Number of bursts for each THR_classif for {elm[-19:]} : {nb_ep}\")\n",
    "    st = elm.split(os.path.sep)[-1] + \" len \" + str(ep[\"Clean MEMA duration\"])\n",
    "    plt.plot(get_r_THRs, nb_ep)\n",
    "plt.title('Comparison for all subjects on total number of MEMA bursts')\n",
    "plt.xlabel('THR_classif value')\n",
    "plt.ylabel('Nb of MEMA burst on the recording')\n"
   ]
  },
  {
   "cell_type": "markdown",
   "metadata": {},
   "source": [
    "## Extracting list of nb of episodes per hour for all THR_classif per patient"
   ]
  },
  {
   "cell_type": "code",
   "execution_count": 12,
   "metadata": {},
   "outputs": [
    {
     "name": "stdout",
     "output_type": "stream",
     "text": [
      "16\n",
      "[['sophie_mema.edf', [32.6703557312253, 28.11699604743083, 26.06798418972332, 25.38498023715415, 23.677470355731224, 22.311462450592884, 20.490118577075098]], ['tom_mema.edf', [25.43565046574995, 21.10132437741588, 18.70603890754705, 18.249794056143465, 16.196692224827324, 14.713896457765667, 13.459223116405804]], ['unger_nuit_1.edf', [75.36281784220222, 62.03797751648389, 51.93588926954396, 41.337993010484276, 26.401776645376763, 18.03501644085596, 12.64310430905366]]]\n"
     ]
    }
   ],
   "source": [
    "get_scores=[]\n",
    "for elm in results.keys():\n",
    "        #print (elm)\n",
    "        l_ep_h=[]\n",
    "        for ep in results[elm][\"reports\"]:\n",
    "            l_ep_h.append(ep[\"Number of MEMA episodes per hour\"])\n",
    "\n",
    "        get_scores.append([elm.split(os.path.sep)[-1], l_ep_h])\n",
    "print(len(get_scores))\n",
    "print(get_scores[-3:])"
   ]
  },
  {
   "cell_type": "markdown",
   "metadata": {},
   "source": [
    "## Getting masking, VAS-Loudness and  VAS-Intrusiveness data"
   ]
  },
  {
   "cell_type": "code",
   "execution_count": 13,
   "metadata": {},
   "outputs": [],
   "source": [
    "get_masking = pd.read_csv(\"data/evol_masquage.csv\", delimiter=\";\")\n",
    "#print(get_masking)\n",
    "get_VAS_L = pd.read_csv(\"data/evol_eva_I.csv\", delimiter=\";\")\n",
    "#print(get_VAS_L)\n",
    "get_VAS_I = pd.read_csv(\"data/evol_eva_G.csv\", delimiter=\";\")\n",
    "#print(get_VAS_I)\n",
    "\n",
    "evol_masking = get_masking.values.tolist()[:-4]\n",
    "evol_VAS_L = get_VAS_L.values.tolist()\n",
    "evol_VAS_I = get_VAS_I.values.tolist()\n",
    "\n"
   ]
  },
  {
   "cell_type": "markdown",
   "metadata": {},
   "source": [
    "## Comparing nb_ep/hour between patients with tinnitus increase (augm) and without (stable) for values of THR_classif"
   ]
  },
  {
   "cell_type": "code",
   "execution_count": 14,
   "metadata": {},
   "outputs": [
    {
     "name": "stdout",
     "output_type": "stream",
     "text": [
      "Nb_patients in each group : \n",
      "Tinnitus increase : 5\n",
      "Tinnitus stable : 4\n"
     ]
    },
    {
     "data": {
      "application/vnd.jupyter.widget-view+json": {
       "model_id": "95a4c7c75a324c00befc65f0a4450b25",
       "version_major": 2,
       "version_minor": 0
      },
      "text/plain": [
       "Canvas(toolbar=Toolbar(toolitems=[('Home', 'Reset original view', 'home', 'home'), ('Back', 'Back to previous …"
      ]
     },
     "metadata": {},
     "output_type": "display_data"
    },
    {
     "data": {
      "text/plain": [
       "Text(0, 0.5, 'Nb of episodes per hour')"
      ]
     },
     "execution_count": 14,
     "metadata": {},
     "output_type": "execute_result"
    }
   ],
   "source": [
    "# Files not to consider for analysis\n",
    "to_suppress=[\"1MA16_nuit_hab.edf\",\"SCHM_nuit_1.edf\",\"HZB_nuit_3.edf\"]\n",
    "#Jutification : \"Schmidtlin_nuit_2_dec_3to0to4.edf\", \"SCHMIDTLIN_nuit_1_dec_OD__0to0.edf\", \n",
    "# \"SCHMIDTLIN_nuit_3_dec_OD__4to0to2.edf\" : compromised data\n",
    "# 1MA16_nuit_hab : patient awake all night\n",
    "# HZB_nuit_3.edf partial night \n",
    "\n",
    "#Preparing values for correlation scatter plots\n",
    "scat=[[] for i in range(len(THR_classif))]  #scatter plots with absolute values\n",
    "pourc_scat=[[] for i in range(len(THR_classif))]  #scatter plots with percentages values\n",
    "\n",
    "\n",
    "augm=[[] for i in range(len(THR_classif))]  #patients with tinnitus increase\n",
    "stable=[[] for i in range(len(THR_classif))] #patients with stable or decreasing tinnitus\n",
    "for elm in evol_masking:\n",
    "    for i in range(len(get_scores)):\n",
    "     if not to_suppress.__contains__(elm[0]):\n",
    "        if elm[0]==get_scores[i][0]:\n",
    "            \n",
    "            #For correlation scatter plots\n",
    "            for j in range(len(THR_classif)):\n",
    "                #getting points [abs evolution masking volume ; coreesponding nb_episode/hour]\n",
    "                scat[j].append([elm[-2], get_scores[i][1][j]])\n",
    "                if elm[-1] < 1 :  # removing a strong outlier\n",
    "                    #getting points [% evolution masking volume ; coreesponding nb_episode/hour]\n",
    "                    pourc_scat[j].append([elm[-1], get_scores[i][1][j]])\n",
    "            \n",
    "            #Sorting patients according to tinnitus evolution overnight\n",
    "            if (elm[2]>0):\n",
    "                for j in range(len(THR_classif)):\n",
    "                    augm[j].append(get_scores[i][1][j])\n",
    "            else:\n",
    "                for j in range(len(THR_classif)):\n",
    "                    stable[j].append(get_scores[i][1][j])\n",
    "                    \n",
    "#Calculating mean and standard deviation for all THR_classif values\n",
    "augm_m=[]\n",
    "augm_std=[]\n",
    "stable_m=[]\n",
    "stable_std=[]\n",
    "for elm in augm:\n",
    "    augm_m.append(np.mean(elm))\n",
    "    augm_std.append(np.std(elm))\n",
    "for elm in stable:\n",
    "    stable_m.append(np.mean(elm))\n",
    "    stable_std.append(np.std(elm))\n",
    "    \n",
    "print(\"Nb_patients in each group : \")\n",
    "print(\"Tinnitus increase : \" + str(len(augm[0])))\n",
    "print(\"Tinnitus stable : \" + str(len(stable[0])))\n",
    "    \n",
    "#Displaying\n",
    "plt.figure()\n",
    "plt.errorbar([i+2 for i in range(len(THR_classif))],stable_m, stable_std)\n",
    "plt.errorbar([i+2 for i in range(len(THR_classif))], augm_m, augm_std)\n",
    "plt.title(\"Comparing nb_episodes/hour (y) between patients with (or) \\n and without (bl) tinnitus increase for masking\" )\n",
    "plt.xlabel('THR_classif value')\n",
    "plt.ylabel('Nb of episodes per hour')"
   ]
  },
  {
   "cell_type": "markdown",
   "metadata": {},
   "source": [
    "## Displaying correlation plots for absolute overnight evolutions of tinnitus"
   ]
  },
  {
   "cell_type": "code",
   "execution_count": 15,
   "metadata": {
    "scrolled": true
   },
   "outputs": [
    {
     "data": {
      "application/vnd.jupyter.widget-view+json": {
       "model_id": "038d3e24ffdd4395be5a71d0f780d521",
       "version_major": 2,
       "version_minor": 0
      },
      "text/plain": [
       "Canvas(toolbar=Toolbar(toolitems=[('Home', 'Reset original view', 'home', 'home'), ('Back', 'Back to previous …"
      ]
     },
     "metadata": {},
     "output_type": "display_data"
    },
    {
     "data": {
      "application/vnd.jupyter.widget-view+json": {
       "model_id": "a59dded5eff94137a8acaeeefcf60e15",
       "version_major": 2,
       "version_minor": 0
      },
      "text/plain": [
       "Canvas(toolbar=Toolbar(toolitems=[('Home', 'Reset original view', 'home', 'home'), ('Back', 'Back to previous …"
      ]
     },
     "metadata": {},
     "output_type": "display_data"
    },
    {
     "data": {
      "application/vnd.jupyter.widget-view+json": {
       "model_id": "a950580da31947aa893c1cdd58239c3b",
       "version_major": 2,
       "version_minor": 0
      },
      "text/plain": [
       "Canvas(toolbar=Toolbar(toolitems=[('Home', 'Reset original view', 'home', 'home'), ('Back', 'Back to previous …"
      ]
     },
     "metadata": {},
     "output_type": "display_data"
    },
    {
     "data": {
      "application/vnd.jupyter.widget-view+json": {
       "model_id": "ef2a2cb678094b6a9dbf55ecd48b5307",
       "version_major": 2,
       "version_minor": 0
      },
      "text/plain": [
       "Canvas(toolbar=Toolbar(toolitems=[('Home', 'Reset original view', 'home', 'home'), ('Back', 'Back to previous …"
      ]
     },
     "metadata": {},
     "output_type": "display_data"
    },
    {
     "data": {
      "application/vnd.jupyter.widget-view+json": {
       "model_id": "b1c5e2074d184f0b846d1d19e17b4574",
       "version_major": 2,
       "version_minor": 0
      },
      "text/plain": [
       "Canvas(toolbar=Toolbar(toolitems=[('Home', 'Reset original view', 'home', 'home'), ('Back', 'Back to previous …"
      ]
     },
     "metadata": {},
     "output_type": "display_data"
    },
    {
     "data": {
      "application/vnd.jupyter.widget-view+json": {
       "model_id": "98ccdc716c194e16b62492b6f61c4f37",
       "version_major": 2,
       "version_minor": 0
      },
      "text/plain": [
       "Canvas(toolbar=Toolbar(toolitems=[('Home', 'Reset original view', 'home', 'home'), ('Back', 'Back to previous …"
      ]
     },
     "metadata": {},
     "output_type": "display_data"
    },
    {
     "data": {
      "application/vnd.jupyter.widget-view+json": {
       "model_id": "7dfe2931f3904c5e87b105cb1bb2b732",
       "version_major": 2,
       "version_minor": 0
      },
      "text/plain": [
       "Canvas(toolbar=Toolbar(toolitems=[('Home', 'Reset original view', 'home', 'home'), ('Back', 'Back to previous …"
      ]
     },
     "metadata": {},
     "output_type": "display_data"
    }
   ],
   "source": [
    "for j in range(len(THR_classif)):  \n",
    "    tab = np.asanyarray(scat[j])\n",
    "    tab = tab.transpose()\n",
    "    #print(j+2)\n",
    "    \n",
    "    regre = scipy.stats.linregress(tab[0],tab[1])\n",
    "    #print(regre)\n",
    "    slope=regre[0]\n",
    "    intercept = regre[1]\n",
    "    plt.figure()\n",
    "    plt.scatter(tab[0], tab[1])\n",
    "    plt.plot([i-25 for i in range(40)],[intercept + slope *(i-25) for i in range(40)])\n",
    "    #plt.plot([i-1 for i in range(3)],[intercept + slope *(i-1) for i in range(3)])\n",
    "    plt.title(\"Correlation attempt for THR_classif of \" + str(j+2) + \" with p_val \"+ str(\"%.3f\" % regre[3]))\n",
    "    plt.xlabel('(Morning masking volume) - (night masking volume) ')\n",
    "    plt.ylabel('Nb of episodes per hour')"
   ]
  },
  {
   "cell_type": "markdown",
   "metadata": {},
   "source": [
    "## Displaying correlation plots for percentage overnight evolutions of tinnitus"
   ]
  },
  {
   "cell_type": "code",
   "execution_count": 16,
   "metadata": {},
   "outputs": [
    {
     "data": {
      "application/vnd.jupyter.widget-view+json": {
       "model_id": "ae2bfb4eef054926ba045e0dbb32ab46",
       "version_major": 2,
       "version_minor": 0
      },
      "text/plain": [
       "Canvas(toolbar=Toolbar(toolitems=[('Home', 'Reset original view', 'home', 'home'), ('Back', 'Back to previous …"
      ]
     },
     "metadata": {},
     "output_type": "display_data"
    },
    {
     "data": {
      "application/vnd.jupyter.widget-view+json": {
       "model_id": "970f054be77f49279a3a2ce2c3dde43b",
       "version_major": 2,
       "version_minor": 0
      },
      "text/plain": [
       "Canvas(toolbar=Toolbar(toolitems=[('Home', 'Reset original view', 'home', 'home'), ('Back', 'Back to previous …"
      ]
     },
     "metadata": {},
     "output_type": "display_data"
    },
    {
     "data": {
      "application/vnd.jupyter.widget-view+json": {
       "model_id": "8966f9fbb53d4bdab7a2fad926e3f288",
       "version_major": 2,
       "version_minor": 0
      },
      "text/plain": [
       "Canvas(toolbar=Toolbar(toolitems=[('Home', 'Reset original view', 'home', 'home'), ('Back', 'Back to previous …"
      ]
     },
     "metadata": {},
     "output_type": "display_data"
    },
    {
     "data": {
      "application/vnd.jupyter.widget-view+json": {
       "model_id": "896044cada154de28f9214c05f10946e",
       "version_major": 2,
       "version_minor": 0
      },
      "text/plain": [
       "Canvas(toolbar=Toolbar(toolitems=[('Home', 'Reset original view', 'home', 'home'), ('Back', 'Back to previous …"
      ]
     },
     "metadata": {},
     "output_type": "display_data"
    },
    {
     "data": {
      "application/vnd.jupyter.widget-view+json": {
       "model_id": "6f41e550cac54d24a1f25d40a6b52084",
       "version_major": 2,
       "version_minor": 0
      },
      "text/plain": [
       "Canvas(toolbar=Toolbar(toolitems=[('Home', 'Reset original view', 'home', 'home'), ('Back', 'Back to previous …"
      ]
     },
     "metadata": {},
     "output_type": "display_data"
    },
    {
     "data": {
      "application/vnd.jupyter.widget-view+json": {
       "model_id": "247e4aaa2bfd421d9d1775a23b087ecc",
       "version_major": 2,
       "version_minor": 0
      },
      "text/plain": [
       "Canvas(toolbar=Toolbar(toolitems=[('Home', 'Reset original view', 'home', 'home'), ('Back', 'Back to previous …"
      ]
     },
     "metadata": {},
     "output_type": "display_data"
    },
    {
     "data": {
      "application/vnd.jupyter.widget-view+json": {
       "model_id": "783731810e174be1ac081dbb168c39f7",
       "version_major": 2,
       "version_minor": 0
      },
      "text/plain": [
       "Canvas(toolbar=Toolbar(toolitems=[('Home', 'Reset original view', 'home', 'home'), ('Back', 'Back to previous …"
      ]
     },
     "metadata": {},
     "output_type": "display_data"
    }
   ],
   "source": [
    "for j in range(len(THR_classif)):\n",
    "    tab = np.asanyarray(pourc_scat[j])\n",
    "    tab = tab.transpose()\n",
    "    regre = scipy.stats.linregress(tab[0],tab[1])\n",
    "    slope=regre[0]\n",
    "    intercept = regre[1]\n",
    "    plt.figure()\n",
    "    plt.scatter(tab[0], tab[1])\n",
    "    plt.plot([i-1 for i in range(3)],[intercept + slope *(i-1) for i in range(3)])\n",
    "    plt.title(\"Correlation attempt for THR_classif of \" + str(j+2) + \" with p_val \"+ str(\"%.3f\" % regre[3]))\n",
    "    plt.xlabel('(Morning masking volume) - (night masking volume) / (night masking volume) ')\n",
    "    plt.ylabel('Nb of episodes per hour')"
   ]
  },
  {
   "cell_type": "markdown",
   "metadata": {},
   "source": [
    "## VAS-L"
   ]
  },
  {
   "cell_type": "code",
   "execution_count": 17,
   "metadata": {},
   "outputs": [
    {
     "name": "stdout",
     "output_type": "stream",
     "text": [
      "Nb_patients in each group : \n",
      "Tinnitus increase : 3\n",
      "Tinnitus stable : 7\n"
     ]
    },
    {
     "data": {
      "application/vnd.jupyter.widget-view+json": {
       "model_id": "c7360c9a5137471e95bf5216af7666f5",
       "version_major": 2,
       "version_minor": 0
      },
      "text/plain": [
       "Canvas(toolbar=Toolbar(toolitems=[('Home', 'Reset original view', 'home', 'home'), ('Back', 'Back to previous …"
      ]
     },
     "metadata": {},
     "output_type": "display_data"
    },
    {
     "data": {
      "text/plain": [
       "Text(0, 0.5, 'Nb of episodes per hour')"
      ]
     },
     "execution_count": 17,
     "metadata": {},
     "output_type": "execute_result"
    }
   ],
   "source": [
    "# Files not to consider for analysis\n",
    "to_suppress=[\"Schmidtlin_nuit_2_dec_3to0to4.edf\", \"SCHMIDTLIN_nuit_1_dec_OD__0to0.edf\",\n",
    "             \"SCHMIDTLIN_nuit_3_dec_OD__4to0to2.edf\",\"1MA16_nuit_hab.edf\",\"SCHM_nuit_1.edf\",\n",
    "             \"HZB_nuit_3.edf\"]\n",
    "#Jutification : \"Schmidtlin_nuit_2_dec_3to0to4.edf\", \"SCHMIDTLIN_nuit_1_dec_OD__0to0.edf\", \n",
    "# \"SCHMIDTLIN_nuit_3_dec_OD__4to0to2.edf\" : compromised data\n",
    "# 1MA16_nuit_hab : patient awake all night\n",
    "# HZB_nuit_3.edf partial night \n",
    "\n",
    "#Preparing values for correlation scatter plots\n",
    "scat=[[] for i in range(len(THR_classif))]  #scatter plots with absolute values\n",
    "pourc_scat=[[] for i in range(len(THR_classif))]  #scatter plots with percentages values\n",
    "\n",
    "\n",
    "augm=[[] for i in range(len(THR_classif))]  #patients with tinnitus increase\n",
    "stable=[[] for i in range(len(THR_classif))] #patients with stable or decreasing tinnitus\n",
    "for elm in evol_VAS_L:\n",
    "    for i in range(len(get_scores)):\n",
    "     if not to_suppress.__contains__(elm[0]):\n",
    "        if elm[0]==get_scores[i][0]:\n",
    "            \n",
    "            #For correlation scatter plots\n",
    "            for j in range(len(THR_classif)):\n",
    "                #getting points [abs evolution masking volume ; coreesponding nb_episode/hour]\n",
    "                scat[j].append([elm[-2], get_scores[i][1][j]])\n",
    "                if elm[-1] < 1 :  # removing a strong outlier\n",
    "                    #getting points [% evolution masking volume ; coreesponding nb_episode/hour]\n",
    "                    pourc_scat[j].append([elm[-1], get_scores[i][1][j]])\n",
    "            \n",
    "            #Sorting patients according to tinnitus evolution overnight\n",
    "            if (elm[2]>0):\n",
    "                for j in range(len(THR_classif)):\n",
    "                    augm[j].append(get_scores[i][1][j])\n",
    "            else:\n",
    "                for j in range(len(THR_classif)):\n",
    "                    stable[j].append(get_scores[i][1][j])\n",
    "                    \n",
    "#Calculating mean and standard deviation for all THR_classif values\n",
    "augm_m=[]\n",
    "augm_std=[]\n",
    "stable_m=[]\n",
    "stable_std=[]\n",
    "for elm in augm:\n",
    "    augm_m.append(np.mean(elm))\n",
    "    augm_std.append(np.std(elm))\n",
    "for elm in stable:\n",
    "    stable_m.append(np.mean(elm))\n",
    "    stable_std.append(np.std(elm))\n",
    "    \n",
    "print(\"Nb_patients in each group : \")\n",
    "print(\"Tinnitus increase : \" + str(len(augm[0])))\n",
    "print(\"Tinnitus stable : \" + str(len(stable[0])))\n",
    "    \n",
    "#Displaying\n",
    "plt.figure()\n",
    "plt.errorbar([i+2 for i in range(len(THR_classif))],stable_m, stable_std)\n",
    "plt.errorbar([i+2 for i in range(len(THR_classif))], augm_m, augm_std)\n",
    "plt.title(\"Comparing nb_episodes/hour (y) between patients with (or) \\n and without (bl) tinnitus increase for VAS_L\" )\n",
    "plt.xlabel('THR_classif value')\n",
    "plt.ylabel('Nb of episodes per hour')"
   ]
  },
  {
   "cell_type": "code",
   "execution_count": 18,
   "metadata": {},
   "outputs": [
    {
     "data": {
      "application/vnd.jupyter.widget-view+json": {
       "model_id": "d01b6733ec5a41e68cc17214869d9b03",
       "version_major": 2,
       "version_minor": 0
      },
      "text/plain": [
       "Canvas(toolbar=Toolbar(toolitems=[('Home', 'Reset original view', 'home', 'home'), ('Back', 'Back to previous …"
      ]
     },
     "metadata": {},
     "output_type": "display_data"
    },
    {
     "data": {
      "application/vnd.jupyter.widget-view+json": {
       "model_id": "4d1cf82e562d408f9783fb17f2abdc4a",
       "version_major": 2,
       "version_minor": 0
      },
      "text/plain": [
       "Canvas(toolbar=Toolbar(toolitems=[('Home', 'Reset original view', 'home', 'home'), ('Back', 'Back to previous …"
      ]
     },
     "metadata": {},
     "output_type": "display_data"
    },
    {
     "name": "stderr",
     "output_type": "stream",
     "text": [
      "<ipython-input-18-ca70191d94a0>:10: RuntimeWarning: More than 20 figures have been opened. Figures created through the pyplot interface (`matplotlib.pyplot.figure`) are retained until explicitly closed and may consume too much memory. (To control this warning, see the rcParam `figure.max_open_warning`).\n",
      "  plt.figure()\n"
     ]
    },
    {
     "data": {
      "application/vnd.jupyter.widget-view+json": {
       "model_id": "a4d060b100b040c383d0ae8346665b8b",
       "version_major": 2,
       "version_minor": 0
      },
      "text/plain": [
       "Canvas(toolbar=Toolbar(toolitems=[('Home', 'Reset original view', 'home', 'home'), ('Back', 'Back to previous …"
      ]
     },
     "metadata": {},
     "output_type": "display_data"
    },
    {
     "name": "stderr",
     "output_type": "stream",
     "text": [
      "<ipython-input-18-ca70191d94a0>:10: RuntimeWarning: More than 20 figures have been opened. Figures created through the pyplot interface (`matplotlib.pyplot.figure`) are retained until explicitly closed and may consume too much memory. (To control this warning, see the rcParam `figure.max_open_warning`).\n",
      "  plt.figure()\n"
     ]
    },
    {
     "data": {
      "application/vnd.jupyter.widget-view+json": {
       "model_id": "b08b393655a54e6da17c93bd0dfedcec",
       "version_major": 2,
       "version_minor": 0
      },
      "text/plain": [
       "Canvas(toolbar=Toolbar(toolitems=[('Home', 'Reset original view', 'home', 'home'), ('Back', 'Back to previous …"
      ]
     },
     "metadata": {},
     "output_type": "display_data"
    },
    {
     "name": "stderr",
     "output_type": "stream",
     "text": [
      "<ipython-input-18-ca70191d94a0>:10: RuntimeWarning: More than 20 figures have been opened. Figures created through the pyplot interface (`matplotlib.pyplot.figure`) are retained until explicitly closed and may consume too much memory. (To control this warning, see the rcParam `figure.max_open_warning`).\n",
      "  plt.figure()\n"
     ]
    },
    {
     "data": {
      "application/vnd.jupyter.widget-view+json": {
       "model_id": "cb68fb8e4f4a48b29bee95ed6311d53c",
       "version_major": 2,
       "version_minor": 0
      },
      "text/plain": [
       "Canvas(toolbar=Toolbar(toolitems=[('Home', 'Reset original view', 'home', 'home'), ('Back', 'Back to previous …"
      ]
     },
     "metadata": {},
     "output_type": "display_data"
    },
    {
     "name": "stderr",
     "output_type": "stream",
     "text": [
      "<ipython-input-18-ca70191d94a0>:10: RuntimeWarning: More than 20 figures have been opened. Figures created through the pyplot interface (`matplotlib.pyplot.figure`) are retained until explicitly closed and may consume too much memory. (To control this warning, see the rcParam `figure.max_open_warning`).\n",
      "  plt.figure()\n"
     ]
    },
    {
     "data": {
      "application/vnd.jupyter.widget-view+json": {
       "model_id": "181dcc0606d44ce1884741b74ed156dc",
       "version_major": 2,
       "version_minor": 0
      },
      "text/plain": [
       "Canvas(toolbar=Toolbar(toolitems=[('Home', 'Reset original view', 'home', 'home'), ('Back', 'Back to previous …"
      ]
     },
     "metadata": {},
     "output_type": "display_data"
    },
    {
     "name": "stderr",
     "output_type": "stream",
     "text": [
      "<ipython-input-18-ca70191d94a0>:10: RuntimeWarning: More than 20 figures have been opened. Figures created through the pyplot interface (`matplotlib.pyplot.figure`) are retained until explicitly closed and may consume too much memory. (To control this warning, see the rcParam `figure.max_open_warning`).\n",
      "  plt.figure()\n"
     ]
    },
    {
     "data": {
      "application/vnd.jupyter.widget-view+json": {
       "model_id": "ce9b8b06fe7b4ec581d46ea79f976111",
       "version_major": 2,
       "version_minor": 0
      },
      "text/plain": [
       "Canvas(toolbar=Toolbar(toolitems=[('Home', 'Reset original view', 'home', 'home'), ('Back', 'Back to previous …"
      ]
     },
     "metadata": {},
     "output_type": "display_data"
    }
   ],
   "source": [
    "for j in range(len(THR_classif)):  \n",
    "    tab = np.asanyarray(scat[j])\n",
    "    tab = tab.transpose()\n",
    "    #print(j+2)\n",
    "    \n",
    "    regre = scipy.stats.linregress(tab[0],tab[1])\n",
    "    #print(regre)\n",
    "    slope=regre[0]\n",
    "    intercept = regre[1]\n",
    "    plt.figure()\n",
    "    plt.scatter(tab[0], tab[1])\n",
    "    plt.plot([i-7 for i in range(14)],[intercept + slope *(i-7) for i in range(14)])\n",
    "    #plt.plot([i-1 for i in range(3)],[intercept + slope *(i-1) for i in range(3)])\n",
    "    plt.title(\"Correlation attempt for THR_classif of \" + str(j+2) + \" with p_val \"+ str(\"%.3f\" % regre[3]))\n",
    "    plt.xlabel('(Morning VAS_L after) - (morning VAS_L before) ')\n",
    "    plt.ylabel('Nb of episodes per hour')"
   ]
  },
  {
   "cell_type": "code",
   "execution_count": 19,
   "metadata": {},
   "outputs": [
    {
     "name": "stderr",
     "output_type": "stream",
     "text": [
      "<ipython-input-19-349daa8e8878>:7: RuntimeWarning: More than 20 figures have been opened. Figures created through the pyplot interface (`matplotlib.pyplot.figure`) are retained until explicitly closed and may consume too much memory. (To control this warning, see the rcParam `figure.max_open_warning`).\n",
      "  plt.figure()\n"
     ]
    },
    {
     "data": {
      "application/vnd.jupyter.widget-view+json": {
       "model_id": "aa0865a135ee41b4b8730e57339bc665",
       "version_major": 2,
       "version_minor": 0
      },
      "text/plain": [
       "Canvas(toolbar=Toolbar(toolitems=[('Home', 'Reset original view', 'home', 'home'), ('Back', 'Back to previous …"
      ]
     },
     "metadata": {},
     "output_type": "display_data"
    },
    {
     "name": "stderr",
     "output_type": "stream",
     "text": [
      "<ipython-input-19-349daa8e8878>:7: RuntimeWarning: More than 20 figures have been opened. Figures created through the pyplot interface (`matplotlib.pyplot.figure`) are retained until explicitly closed and may consume too much memory. (To control this warning, see the rcParam `figure.max_open_warning`).\n",
      "  plt.figure()\n"
     ]
    },
    {
     "data": {
      "application/vnd.jupyter.widget-view+json": {
       "model_id": "47d57e8eecac49019d81e79850b75fa8",
       "version_major": 2,
       "version_minor": 0
      },
      "text/plain": [
       "Canvas(toolbar=Toolbar(toolitems=[('Home', 'Reset original view', 'home', 'home'), ('Back', 'Back to previous …"
      ]
     },
     "metadata": {},
     "output_type": "display_data"
    },
    {
     "name": "stderr",
     "output_type": "stream",
     "text": [
      "<ipython-input-19-349daa8e8878>:7: RuntimeWarning: More than 20 figures have been opened. Figures created through the pyplot interface (`matplotlib.pyplot.figure`) are retained until explicitly closed and may consume too much memory. (To control this warning, see the rcParam `figure.max_open_warning`).\n",
      "  plt.figure()\n"
     ]
    },
    {
     "data": {
      "application/vnd.jupyter.widget-view+json": {
       "model_id": "56eed811e3ee4f7f8074778bdd312e20",
       "version_major": 2,
       "version_minor": 0
      },
      "text/plain": [
       "Canvas(toolbar=Toolbar(toolitems=[('Home', 'Reset original view', 'home', 'home'), ('Back', 'Back to previous …"
      ]
     },
     "metadata": {},
     "output_type": "display_data"
    },
    {
     "name": "stderr",
     "output_type": "stream",
     "text": [
      "<ipython-input-19-349daa8e8878>:7: RuntimeWarning: More than 20 figures have been opened. Figures created through the pyplot interface (`matplotlib.pyplot.figure`) are retained until explicitly closed and may consume too much memory. (To control this warning, see the rcParam `figure.max_open_warning`).\n",
      "  plt.figure()\n"
     ]
    },
    {
     "data": {
      "application/vnd.jupyter.widget-view+json": {
       "model_id": "d3a10773a319437ca0848349293c2087",
       "version_major": 2,
       "version_minor": 0
      },
      "text/plain": [
       "Canvas(toolbar=Toolbar(toolitems=[('Home', 'Reset original view', 'home', 'home'), ('Back', 'Back to previous …"
      ]
     },
     "metadata": {},
     "output_type": "display_data"
    },
    {
     "name": "stderr",
     "output_type": "stream",
     "text": [
      "<ipython-input-19-349daa8e8878>:7: RuntimeWarning: More than 20 figures have been opened. Figures created through the pyplot interface (`matplotlib.pyplot.figure`) are retained until explicitly closed and may consume too much memory. (To control this warning, see the rcParam `figure.max_open_warning`).\n",
      "  plt.figure()\n"
     ]
    },
    {
     "data": {
      "application/vnd.jupyter.widget-view+json": {
       "model_id": "b865f7cc1a454a30827c235a8740349f",
       "version_major": 2,
       "version_minor": 0
      },
      "text/plain": [
       "Canvas(toolbar=Toolbar(toolitems=[('Home', 'Reset original view', 'home', 'home'), ('Back', 'Back to previous …"
      ]
     },
     "metadata": {},
     "output_type": "display_data"
    },
    {
     "name": "stderr",
     "output_type": "stream",
     "text": [
      "<ipython-input-19-349daa8e8878>:7: RuntimeWarning: More than 20 figures have been opened. Figures created through the pyplot interface (`matplotlib.pyplot.figure`) are retained until explicitly closed and may consume too much memory. (To control this warning, see the rcParam `figure.max_open_warning`).\n",
      "  plt.figure()\n"
     ]
    },
    {
     "data": {
      "application/vnd.jupyter.widget-view+json": {
       "model_id": "ee6d0c3639004394ba79334d6f7ab7a0",
       "version_major": 2,
       "version_minor": 0
      },
      "text/plain": [
       "Canvas(toolbar=Toolbar(toolitems=[('Home', 'Reset original view', 'home', 'home'), ('Back', 'Back to previous …"
      ]
     },
     "metadata": {},
     "output_type": "display_data"
    },
    {
     "name": "stderr",
     "output_type": "stream",
     "text": [
      "<ipython-input-19-349daa8e8878>:7: RuntimeWarning: More than 20 figures have been opened. Figures created through the pyplot interface (`matplotlib.pyplot.figure`) are retained until explicitly closed and may consume too much memory. (To control this warning, see the rcParam `figure.max_open_warning`).\n",
      "  plt.figure()\n"
     ]
    },
    {
     "data": {
      "application/vnd.jupyter.widget-view+json": {
       "model_id": "54e370e2e90c42a9af6306cb793f945d",
       "version_major": 2,
       "version_minor": 0
      },
      "text/plain": [
       "Canvas(toolbar=Toolbar(toolitems=[('Home', 'Reset original view', 'home', 'home'), ('Back', 'Back to previous …"
      ]
     },
     "metadata": {},
     "output_type": "display_data"
    }
   ],
   "source": [
    "for j in range(len(THR_classif)):\n",
    "    tab = np.asanyarray(pourc_scat[j])\n",
    "    tab = tab.transpose()\n",
    "    regre = scipy.stats.linregress(tab[0],tab[1])\n",
    "    slope=regre[0]\n",
    "    intercept = regre[1]\n",
    "    plt.figure()\n",
    "    plt.scatter(tab[0], tab[1])\n",
    "    plt.plot([i-1 for i in range(3)],[intercept + slope *(i-1) for i in range(3)])\n",
    "    plt.title(\"Correlation attempt for THR_classif of \" + str(j+2) + \" with p_val \"+ str(\"%.3f\" % regre[3]))\n",
    "    plt.xlabel('(Morning VAS_L after) - (morning VAS_L before) / (morning VAS_L before) ')\n",
    "    plt.ylabel('Nb of episodes per hour')"
   ]
  },
  {
   "cell_type": "markdown",
   "metadata": {},
   "source": [
    "## VAS_I"
   ]
  },
  {
   "cell_type": "code",
   "execution_count": 20,
   "metadata": {},
   "outputs": [
    {
     "name": "stdout",
     "output_type": "stream",
     "text": [
      "Nb_patients in each group : \n",
      "Tinnitus increase : 4\n",
      "Tinnitus stable : 6\n"
     ]
    },
    {
     "name": "stderr",
     "output_type": "stream",
     "text": [
      "<ipython-input-20-e32f3cab54f1>:55: RuntimeWarning: More than 20 figures have been opened. Figures created through the pyplot interface (`matplotlib.pyplot.figure`) are retained until explicitly closed and may consume too much memory. (To control this warning, see the rcParam `figure.max_open_warning`).\n",
      "  plt.figure()\n"
     ]
    },
    {
     "data": {
      "application/vnd.jupyter.widget-view+json": {
       "model_id": "c35330fabb654e58bd6c2f70a5687ae7",
       "version_major": 2,
       "version_minor": 0
      },
      "text/plain": [
       "Canvas(toolbar=Toolbar(toolitems=[('Home', 'Reset original view', 'home', 'home'), ('Back', 'Back to previous …"
      ]
     },
     "metadata": {},
     "output_type": "display_data"
    },
    {
     "data": {
      "text/plain": [
       "Text(0, 0.5, 'Nb of episodes per hour')"
      ]
     },
     "execution_count": 20,
     "metadata": {},
     "output_type": "execute_result"
    }
   ],
   "source": [
    "# Files not to consider for analysis\n",
    "to_suppress=[\"Schmidtlin_nuit_2_dec_3to0to4.edf\", \"SCHMIDTLIN_nuit_1_dec_OD__0to0.edf\",\n",
    "             \"SCHMIDTLIN_nuit_3_dec_OD__4to0to2.edf\",\"1MA16_nuit_hab.edf\",\"SCHM_nuit_1.edf\",\n",
    "             \"HZB_nuit_3.edf\"]\n",
    "#Jutification : \"Schmidtlin_nuit_2_dec_3to0to4.edf\", \"SCHMIDTLIN_nuit_1_dec_OD__0to0.edf\", \n",
    "# \"SCHMIDTLIN_nuit_3_dec_OD__4to0to2.edf\" : compromised data\n",
    "# 1MA16_nuit_hab : patient awake all night\n",
    "# HZB_nuit_3.edf partial night \n",
    "\n",
    "#Preparing values for correlation scatter plots\n",
    "scat=[[] for i in range(len(THR_classif))]  #scatter plots with absolute values\n",
    "pourc_scat=[[] for i in range(len(THR_classif))]  #scatter plots with percentages values\n",
    "\n",
    "\n",
    "augm=[[] for i in range(len(THR_classif))]  #patients with tinnitus increase\n",
    "stable=[[] for i in range(len(THR_classif))] #patients with stable or decreasing tinnitus\n",
    "for elm in evol_VAS_I:\n",
    "    for i in range(len(get_scores)):\n",
    "     if not to_suppress.__contains__(elm[0]):\n",
    "        if elm[0]==get_scores[i][0]:\n",
    "            \n",
    "            #For correlation scatter plots\n",
    "            for j in range(len(THR_classif)):\n",
    "                #getting points [abs evolution masking volume ; coreesponding nb_episode/hour]\n",
    "                scat[j].append([elm[-2], get_scores[i][1][j]])\n",
    "                if elm[-1] < 1 :  # removing a strong outlier\n",
    "                    #getting points [% evolution masking volume ; coreesponding nb_episode/hour]\n",
    "                    pourc_scat[j].append([elm[-1], get_scores[i][1][j]])\n",
    "            \n",
    "            #Sorting patients according to tinnitus evolution overnight\n",
    "            if (elm[2]>0):\n",
    "                for j in range(len(THR_classif)):\n",
    "                    augm[j].append(get_scores[i][1][j])\n",
    "            else:\n",
    "                for j in range(len(THR_classif)):\n",
    "                    stable[j].append(get_scores[i][1][j])\n",
    "                    \n",
    "#Calculating mean and standard deviation for all THR_classif values\n",
    "augm_m=[]\n",
    "augm_std=[]\n",
    "stable_m=[]\n",
    "stable_std=[]\n",
    "for elm in augm:\n",
    "    augm_m.append(np.mean(elm))\n",
    "    augm_std.append(np.std(elm))\n",
    "for elm in stable:\n",
    "    stable_m.append(np.mean(elm))\n",
    "    stable_std.append(np.std(elm))\n",
    "    \n",
    "print(\"Nb_patients in each group : \")\n",
    "print(\"Tinnitus increase : \" + str(len(augm[0])))\n",
    "print(\"Tinnitus stable : \" + str(len(stable[0])))\n",
    "    \n",
    "#Displaying\n",
    "plt.figure()\n",
    "plt.errorbar([i+2 for i in range(len(THR_classif))],stable_m, stable_std)\n",
    "plt.errorbar([i+2 for i in range(len(THR_classif))], augm_m, augm_std)\n",
    "plt.title(\"Comparing nb_episodes/hour (y) between patients with (or) \\n and without (bl) tinnitus increase for VAS_L\" )\n",
    "plt.xlabel('THR_classif value')\n",
    "plt.ylabel('Nb of episodes per hour')"
   ]
  },
  {
   "cell_type": "code",
   "execution_count": 21,
   "metadata": {},
   "outputs": [
    {
     "name": "stderr",
     "output_type": "stream",
     "text": [
      "<ipython-input-21-b727711f4bd5>:10: RuntimeWarning: More than 20 figures have been opened. Figures created through the pyplot interface (`matplotlib.pyplot.figure`) are retained until explicitly closed and may consume too much memory. (To control this warning, see the rcParam `figure.max_open_warning`).\n",
      "  plt.figure()\n"
     ]
    },
    {
     "data": {
      "application/vnd.jupyter.widget-view+json": {
       "model_id": "39e2cad156d84a6db4c888410853f8b9",
       "version_major": 2,
       "version_minor": 0
      },
      "text/plain": [
       "Canvas(toolbar=Toolbar(toolitems=[('Home', 'Reset original view', 'home', 'home'), ('Back', 'Back to previous …"
      ]
     },
     "metadata": {},
     "output_type": "display_data"
    },
    {
     "name": "stderr",
     "output_type": "stream",
     "text": [
      "<ipython-input-21-b727711f4bd5>:10: RuntimeWarning: More than 20 figures have been opened. Figures created through the pyplot interface (`matplotlib.pyplot.figure`) are retained until explicitly closed and may consume too much memory. (To control this warning, see the rcParam `figure.max_open_warning`).\n",
      "  plt.figure()\n"
     ]
    },
    {
     "data": {
      "application/vnd.jupyter.widget-view+json": {
       "model_id": "801f2760f05a4ff09d1999f8bb50f364",
       "version_major": 2,
       "version_minor": 0
      },
      "text/plain": [
       "Canvas(toolbar=Toolbar(toolitems=[('Home', 'Reset original view', 'home', 'home'), ('Back', 'Back to previous …"
      ]
     },
     "metadata": {},
     "output_type": "display_data"
    },
    {
     "name": "stderr",
     "output_type": "stream",
     "text": [
      "<ipython-input-21-b727711f4bd5>:10: RuntimeWarning: More than 20 figures have been opened. Figures created through the pyplot interface (`matplotlib.pyplot.figure`) are retained until explicitly closed and may consume too much memory. (To control this warning, see the rcParam `figure.max_open_warning`).\n",
      "  plt.figure()\n"
     ]
    },
    {
     "data": {
      "application/vnd.jupyter.widget-view+json": {
       "model_id": "8c649ebee3fc4d10b7479cafe66e5e88",
       "version_major": 2,
       "version_minor": 0
      },
      "text/plain": [
       "Canvas(toolbar=Toolbar(toolitems=[('Home', 'Reset original view', 'home', 'home'), ('Back', 'Back to previous …"
      ]
     },
     "metadata": {},
     "output_type": "display_data"
    },
    {
     "name": "stderr",
     "output_type": "stream",
     "text": [
      "<ipython-input-21-b727711f4bd5>:10: RuntimeWarning: More than 20 figures have been opened. Figures created through the pyplot interface (`matplotlib.pyplot.figure`) are retained until explicitly closed and may consume too much memory. (To control this warning, see the rcParam `figure.max_open_warning`).\n",
      "  plt.figure()\n"
     ]
    },
    {
     "data": {
      "application/vnd.jupyter.widget-view+json": {
       "model_id": "270b888cc8d647ef8732de6783f7652b",
       "version_major": 2,
       "version_minor": 0
      },
      "text/plain": [
       "Canvas(toolbar=Toolbar(toolitems=[('Home', 'Reset original view', 'home', 'home'), ('Back', 'Back to previous …"
      ]
     },
     "metadata": {},
     "output_type": "display_data"
    },
    {
     "name": "stderr",
     "output_type": "stream",
     "text": [
      "<ipython-input-21-b727711f4bd5>:10: RuntimeWarning: More than 20 figures have been opened. Figures created through the pyplot interface (`matplotlib.pyplot.figure`) are retained until explicitly closed and may consume too much memory. (To control this warning, see the rcParam `figure.max_open_warning`).\n",
      "  plt.figure()\n"
     ]
    },
    {
     "data": {
      "application/vnd.jupyter.widget-view+json": {
       "model_id": "45db8b01c0bf4caeaae5382747cec8b1",
       "version_major": 2,
       "version_minor": 0
      },
      "text/plain": [
       "Canvas(toolbar=Toolbar(toolitems=[('Home', 'Reset original view', 'home', 'home'), ('Back', 'Back to previous …"
      ]
     },
     "metadata": {},
     "output_type": "display_data"
    },
    {
     "name": "stderr",
     "output_type": "stream",
     "text": [
      "<ipython-input-21-b727711f4bd5>:10: RuntimeWarning: More than 20 figures have been opened. Figures created through the pyplot interface (`matplotlib.pyplot.figure`) are retained until explicitly closed and may consume too much memory. (To control this warning, see the rcParam `figure.max_open_warning`).\n",
      "  plt.figure()\n"
     ]
    },
    {
     "data": {
      "application/vnd.jupyter.widget-view+json": {
       "model_id": "428406fbcc0846c08ac8254d2a99123c",
       "version_major": 2,
       "version_minor": 0
      },
      "text/plain": [
       "Canvas(toolbar=Toolbar(toolitems=[('Home', 'Reset original view', 'home', 'home'), ('Back', 'Back to previous …"
      ]
     },
     "metadata": {},
     "output_type": "display_data"
    },
    {
     "name": "stderr",
     "output_type": "stream",
     "text": [
      "<ipython-input-21-b727711f4bd5>:10: RuntimeWarning: More than 20 figures have been opened. Figures created through the pyplot interface (`matplotlib.pyplot.figure`) are retained until explicitly closed and may consume too much memory. (To control this warning, see the rcParam `figure.max_open_warning`).\n",
      "  plt.figure()\n"
     ]
    },
    {
     "data": {
      "application/vnd.jupyter.widget-view+json": {
       "model_id": "a3b864ce5c744a52b65c0fd512ae8a0a",
       "version_major": 2,
       "version_minor": 0
      },
      "text/plain": [
       "Canvas(toolbar=Toolbar(toolitems=[('Home', 'Reset original view', 'home', 'home'), ('Back', 'Back to previous …"
      ]
     },
     "metadata": {},
     "output_type": "display_data"
    }
   ],
   "source": [
    "for j in range(len(THR_classif)):  \n",
    "    tab = np.asanyarray(scat[j])\n",
    "    tab = tab.transpose()\n",
    "    #print(j+2)\n",
    "    \n",
    "    regre = scipy.stats.linregress(tab[0],tab[1])\n",
    "    #print(regre)\n",
    "    slope=regre[0]\n",
    "    intercept = regre[1]\n",
    "    plt.figure()\n",
    "    plt.scatter(tab[0], tab[1])\n",
    "    plt.plot([i-7 for i in range(14)],[intercept + slope *(i-7) for i in range(14)])\n",
    "    #plt.plot([i-1 for i in range(3)],[intercept + slope *(i-1) for i in range(3)])\n",
    "    plt.title(\"Correlation attempt for THR_classif of \" + str(j+2) + \" with p_val \"+ str(\"%.3f\" % regre[3]))\n",
    "    plt.xlabel('(Morning VAS_I after) - (morning VAS_I before) ')\n",
    "    plt.ylabel('Nb of episodes per hour')"
   ]
  },
  {
   "cell_type": "code",
   "execution_count": 22,
   "metadata": {},
   "outputs": [
    {
     "name": "stderr",
     "output_type": "stream",
     "text": [
      "<ipython-input-22-0705c6fb490a>:7: RuntimeWarning: More than 20 figures have been opened. Figures created through the pyplot interface (`matplotlib.pyplot.figure`) are retained until explicitly closed and may consume too much memory. (To control this warning, see the rcParam `figure.max_open_warning`).\n",
      "  plt.figure()\n"
     ]
    },
    {
     "data": {
      "application/vnd.jupyter.widget-view+json": {
       "model_id": "4dd1d62081994c5da928aee3fc58d39d",
       "version_major": 2,
       "version_minor": 0
      },
      "text/plain": [
       "Canvas(toolbar=Toolbar(toolitems=[('Home', 'Reset original view', 'home', 'home'), ('Back', 'Back to previous …"
      ]
     },
     "metadata": {},
     "output_type": "display_data"
    },
    {
     "name": "stderr",
     "output_type": "stream",
     "text": [
      "<ipython-input-22-0705c6fb490a>:7: RuntimeWarning: More than 20 figures have been opened. Figures created through the pyplot interface (`matplotlib.pyplot.figure`) are retained until explicitly closed and may consume too much memory. (To control this warning, see the rcParam `figure.max_open_warning`).\n",
      "  plt.figure()\n"
     ]
    },
    {
     "data": {
      "application/vnd.jupyter.widget-view+json": {
       "model_id": "ab4ca7f71e98487da13739b5adf54c1a",
       "version_major": 2,
       "version_minor": 0
      },
      "text/plain": [
       "Canvas(toolbar=Toolbar(toolitems=[('Home', 'Reset original view', 'home', 'home'), ('Back', 'Back to previous …"
      ]
     },
     "metadata": {},
     "output_type": "display_data"
    },
    {
     "name": "stderr",
     "output_type": "stream",
     "text": [
      "<ipython-input-22-0705c6fb490a>:7: RuntimeWarning: More than 20 figures have been opened. Figures created through the pyplot interface (`matplotlib.pyplot.figure`) are retained until explicitly closed and may consume too much memory. (To control this warning, see the rcParam `figure.max_open_warning`).\n",
      "  plt.figure()\n"
     ]
    },
    {
     "data": {
      "application/vnd.jupyter.widget-view+json": {
       "model_id": "4ed8fd06ac694a9a822ab423e464c908",
       "version_major": 2,
       "version_minor": 0
      },
      "text/plain": [
       "Canvas(toolbar=Toolbar(toolitems=[('Home', 'Reset original view', 'home', 'home'), ('Back', 'Back to previous …"
      ]
     },
     "metadata": {},
     "output_type": "display_data"
    },
    {
     "name": "stderr",
     "output_type": "stream",
     "text": [
      "<ipython-input-22-0705c6fb490a>:7: RuntimeWarning: More than 20 figures have been opened. Figures created through the pyplot interface (`matplotlib.pyplot.figure`) are retained until explicitly closed and may consume too much memory. (To control this warning, see the rcParam `figure.max_open_warning`).\n",
      "  plt.figure()\n"
     ]
    },
    {
     "data": {
      "application/vnd.jupyter.widget-view+json": {
       "model_id": "e4ea6ba5f4d441999e6338ac4b133bd4",
       "version_major": 2,
       "version_minor": 0
      },
      "text/plain": [
       "Canvas(toolbar=Toolbar(toolitems=[('Home', 'Reset original view', 'home', 'home'), ('Back', 'Back to previous …"
      ]
     },
     "metadata": {},
     "output_type": "display_data"
    },
    {
     "name": "stderr",
     "output_type": "stream",
     "text": [
      "<ipython-input-22-0705c6fb490a>:7: RuntimeWarning: More than 20 figures have been opened. Figures created through the pyplot interface (`matplotlib.pyplot.figure`) are retained until explicitly closed and may consume too much memory. (To control this warning, see the rcParam `figure.max_open_warning`).\n",
      "  plt.figure()\n"
     ]
    },
    {
     "data": {
      "application/vnd.jupyter.widget-view+json": {
       "model_id": "6c070d712f1d45adaa4a3c9caa2400d1",
       "version_major": 2,
       "version_minor": 0
      },
      "text/plain": [
       "Canvas(toolbar=Toolbar(toolitems=[('Home', 'Reset original view', 'home', 'home'), ('Back', 'Back to previous …"
      ]
     },
     "metadata": {},
     "output_type": "display_data"
    },
    {
     "name": "stderr",
     "output_type": "stream",
     "text": [
      "<ipython-input-22-0705c6fb490a>:7: RuntimeWarning: More than 20 figures have been opened. Figures created through the pyplot interface (`matplotlib.pyplot.figure`) are retained until explicitly closed and may consume too much memory. (To control this warning, see the rcParam `figure.max_open_warning`).\n",
      "  plt.figure()\n"
     ]
    },
    {
     "data": {
      "application/vnd.jupyter.widget-view+json": {
       "model_id": "3adb7210bd7642ebad3385456a21002b",
       "version_major": 2,
       "version_minor": 0
      },
      "text/plain": [
       "Canvas(toolbar=Toolbar(toolitems=[('Home', 'Reset original view', 'home', 'home'), ('Back', 'Back to previous …"
      ]
     },
     "metadata": {},
     "output_type": "display_data"
    },
    {
     "name": "stderr",
     "output_type": "stream",
     "text": [
      "<ipython-input-22-0705c6fb490a>:7: RuntimeWarning: More than 20 figures have been opened. Figures created through the pyplot interface (`matplotlib.pyplot.figure`) are retained until explicitly closed and may consume too much memory. (To control this warning, see the rcParam `figure.max_open_warning`).\n",
      "  plt.figure()\n"
     ]
    },
    {
     "data": {
      "application/vnd.jupyter.widget-view+json": {
       "model_id": "cdf1ece0c6f440888a9a97a48dab05f0",
       "version_major": 2,
       "version_minor": 0
      },
      "text/plain": [
       "Canvas(toolbar=Toolbar(toolitems=[('Home', 'Reset original view', 'home', 'home'), ('Back', 'Back to previous …"
      ]
     },
     "metadata": {},
     "output_type": "display_data"
    }
   ],
   "source": [
    "for j in range(len(THR_classif)):\n",
    "    tab = np.asanyarray(pourc_scat[j])\n",
    "    tab = tab.transpose()\n",
    "    regre = scipy.stats.linregress(tab[0],tab[1])\n",
    "    slope=regre[0]\n",
    "    intercept = regre[1]\n",
    "    plt.figure()\n",
    "    plt.scatter(tab[0], tab[1])\n",
    "    plt.plot([i-1 for i in range(3)],[intercept + slope *(i-1) for i in range(3)])\n",
    "    plt.title(\"Correlation attempt for THR_classif of \" + str(j+2) + \" with p_val \"+ str(\"%.3f\" % regre[3]))\n",
    "    plt.xlabel('(Morning VAS_I after) - (morning VAS_I before) / (morning VAS_I before) ')\n",
    "    plt.ylabel('Nb of episodes per hour')"
   ]
  }
 ],
 "metadata": {
  "kernelspec": {
   "display_name": "tinnsleep-env",
   "language": "python",
   "name": "tinnsleep-env"
  },
  "language_info": {
   "codemirror_mode": {
    "name": "ipython",
    "version": 3
   },
   "file_extension": ".py",
   "mimetype": "text/x-python",
   "name": "python",
   "nbconvert_exporter": "python",
   "pygments_lexer": "ipython3",
   "version": "3.8.2"
  },
  "pycharm": {
   "stem_cell": {
    "cell_type": "raw",
    "metadata": {
     "collapsed": false
    },
    "source": []
   }
  }
 },
 "nbformat": 4,
 "nbformat_minor": 4
}
