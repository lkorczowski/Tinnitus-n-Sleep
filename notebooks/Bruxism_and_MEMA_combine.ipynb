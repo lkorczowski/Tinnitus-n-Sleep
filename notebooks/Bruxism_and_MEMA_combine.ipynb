{
 "cells": [
  {
   "cell_type": "markdown",
   "metadata": {},
   "source": [
    "\n",
    "## Trial to combine middle ear and bruxism tagging to identify pure moments of middle ear activation"
   ]
  },
  {
   "cell_type": "code",
   "execution_count": 2,
   "metadata": {},
   "outputs": [
    {
     "name": "stdout",
     "output_type": "stream",
     "text": [
      "Config loaded\n"
     ]
    }
   ],
   "source": [
    "import os\n",
    "PATH = os.getcwd() \n",
    "import sys\n",
    "sys.path.append(PATH + '/../')\n",
    "import mne\n",
    "from tinnsleep.reports import combine_brux_MEMA\n",
    "from tinnsleep.data import CreateRaw, CleanAnnotations, AnnotateRaw_sliding\n",
    "from tinnsleep.events.scoring import classif_to_burst, burst_to_episode, create_list_events\n",
    "import warnings\n",
    "import matplotlib.pyplot as plt\n",
    "%matplotlib inline\n",
    "import pandas as pd\n",
    "from tinnsleep.config import Config\n",
    "\n",
    "print(\"Config loaded\")\n"
   ]
  },
  {
   "cell_type": "markdown",
   "metadata": {},
   "source": [
    "## Loading parameters and results"
   ]
  },
  {
   "cell_type": "code",
   "execution_count": 3,
   "metadata": {},
   "outputs": [
    {
     "name": "stdout",
     "output_type": "stream",
     "text": [
      "config loaded\n",
      "Performs Bruxism: <True>\n",
      "Performs MEMA: <True>\n",
      "Will overwrite existing results: <False>\n",
      "parameters set\n",
      "result files exist: Reports creation skipped.\n"
     ]
    }
   ],
   "source": [
    "EDF_list = Config.bruxisme_files\n",
    "\n",
    "# change to --overwrite True if you want to force to recompute the results\n",
    "%run ../compute_results.py --bruxism True --mema True --overwrite False \n",
    "\n",
    "mema_files= pd.read_csv(\"data/mema_files.csv\",engine='python', sep=\"; \")[\"files_with_mema\"].values\n",
    "\n",
    "results_MEMA = pd.read_pickle(\"data/reports_and_datas_MEMA.pk\").to_dict()\n",
    "results_brux = pd.read_pickle(\"data/reports_and_datas_bruxism.pk\").to_dict()\n",
    "min_burst_joining_brux = 3 \n",
    "min_burst_joining_MEMA = 0"
   ]
  },
  {
   "cell_type": "markdown",
   "metadata": {},
   "source": [
    "## Bruxism + MEMA processing for pure MEMA visualisation"
   ]
  },
  {
   "cell_type": "code",
   "execution_count": 5,
   "metadata": {},
   "outputs": [
    {
     "name": "stdout",
     "output_type": "stream",
     "text": [
      "Files processed : \n",
      "1BA07_nuit_hab.edf (does not have both bruxism and mema)... skipping\n",
      "1BA07_nuit_son.edf (does not have both bruxism and mema)... skipping\n",
      "1CC05_nuit_hab.edf (does not have both bruxism and mema)... skipping\n",
      "1CC05_nuit_son.edf (does not have both bruxism and mema)... skipping\n",
      "1DA15_nuit_hab.edf (does not have both bruxism and mema)... skipping\n",
      "1DA15_nuit_son.edf (does not have both bruxism and mema)... skipping\n",
      "1DL12_nuit_hab.edf (does not have both bruxism and mema)... skipping\n",
      "1DL12_nuit_son.edf (does not have both bruxism and mema)... skipping\n",
      "1GB18_nuit_son.edf (does not have both bruxism and mema)... skipping\n",
      "1GB19_nuit_hab.edf (does not have both bruxism and mema)... skipping\n",
      "1GF14_nuit_hab.edf (does not have both bruxism and mema)... skipping\n",
      "1GF14_nuit_son.edf (does not have both bruxism and mema)... skipping\n",
      "1MF19_nuit_hab.edf (does not have both bruxism and mema)... skipping\n",
      "1MF19_nuit_son.edf (does not have both bruxism and mema)... skipping\n",
      "1MN09_nuit_hab.edf (does not have both bruxism and mema)... skipping\n",
      "1MN09_nuit_son.edf (does not have both bruxism and mema)... skipping\n",
      "1PI07_nuit_hab.edf (does not have both bruxism and mema)... skipping\n",
      "1PI07_nuit_son.edf (does not have both bruxism and mema)... skipping\n",
      "1PT06_nuit_hab.edf (does not have both bruxism and mema)... skipping\n",
      "1PT06_nuit_son.edf (does not have both bruxism and mema)... skipping\n",
      "1RA17_nuit_hab.edf (does not have both bruxism and mema)... skipping\n",
      "1RA17_nuit_son.edf (does not have both bruxism and mema)... skipping\n",
      "1SA14_nuit_hab.edf (does not have both bruxism and mema)... skipping\n",
      "1SA14_nuit_son.edf (does not have both bruxism and mema)... skipping\n",
      "1ZN04_nuit_hab.edf (does not have both bruxism and mema)... skipping\n",
      "1ZN04_nuit_son.edf (does not have both bruxism and mema)... skipping\n",
      "HZB_nuit_1.edf (does not have both bruxism and mema)... skipping\n",
      "HZB_nuit_2.edf (does not have both bruxism and mema)... skipping\n",
      "SCHM_nuit_2.edf (does not have both bruxism and mema)... skipping\n",
      "SCHM_nuit_3.edf (does not have both bruxism and mema)... skipping\n",
      "Unger_2.edf (does not have both bruxism and mema)... skipping\n",
      "jon_mema.edf (does not have both bruxism and mema)... skipping\n",
      "jose_mema.edf (does not have both bruxism and mema)... skipping\n",
      "robin_mema_nuit_1.edf (does not have both bruxism and mema)... skipping\n",
      "robin_mema_nuit_2.edf (does not have both bruxism and mema)... skipping\n",
      "sophie_mema.edf (does not have both bruxism and mema)... skipping\n",
      "tom_mema.edf (does not have both bruxism and mema)... skipping\n",
      "unger_nuit_1.edf (does not have both bruxism and mema)... skipping\n"
     ]
    }
   ],
   "source": [
    "from time import time\n",
    "# load file from config\n",
    "\n",
    "start = time()\n",
    "\n",
    "with warnings.catch_warnings():\n",
    "    warnings.simplefilter(\"ignore\", category=RuntimeWarning)\n",
    "    \n",
    "    print(\"Files processed : \")\n",
    "    \n",
    "    #Loop on all the patient files\n",
    "    for filename in EDF_list:\n",
    "        #opens the raw file\n",
    "        file = filename.split(os.path.sep)[-1]\n",
    "        print(file, end=\" \")\n",
    "        if not (file in results_brux.keys() and file in results_MEMA.keys()):\n",
    "            print(f\"(does not have both bruxism and mema)... skipping\")\n",
    "        else:\n",
    "            window_length_brux = results_brux[file][\"parameters\"][\"time_interval\"]\n",
    "            delim_brux = results_brux[file][\"parameters\"][\"delim\"]\n",
    "            window_length_MEMA = results_MEMA[file][\"parameters\"][\"time_interval\"]\n",
    "            delim_MEMA = results_MEMA[file][\"parameters\"][\"delim\"]\n",
    "            params_combine = dict(\n",
    "                                labels_brux = results_brux[file][\"labels\"][0], \n",
    "                                labels_artifacts_brux = results_brux[file][\"parameters\"][\"valid_labels\"], \n",
    "                                time_interval_brux = results_brux[file][\"parameters\"][\"time_interval\"], \n",
    "                                delim_ep_brux = results_brux[file][\"parameters\"][\"delim\"], \n",
    "                                labels_MEMA = results_MEMA[file][\"labels\"][0],\n",
    "                                labels_artifacts_MEMA = results_MEMA[file][\"parameters\"][\"valid_labels\"],\n",
    "                                time_interval_MEMA = results_MEMA[file][\"parameters\"][\"time_interval\"],\n",
    "                                delim_ep_MEMA = results_brux[file][\"parameters\"][\"delim\"],\n",
    "                                min_burst_joining_brux=min_burst_joining_brux, \n",
    "                                min_burst_joining_MEMA=min_burst_joining_MEMA\n",
    "                                )\n",
    "    \n",
    "            brux_comb_ep, brux_pure_ep, compt_arti_brux, MEMA_comb_ep, MEMA_pure_ep, compt_arti_MEMA = combine_brux_MEMA(**params_combine)\n",
    "    \n",
    "            pure_brux_bursts = classif_to_burst(brux_pure_ep, time_interval=window_length_brux)\n",
    "            li_ep_brux_p = burst_to_episode(pure_brux_bursts, delim=delim_brux, min_burst_joining= min_burst_joining_brux)\n",
    "            pure_brux_events = create_list_events(li_ep_brux_p, window_length_brux, len(brux_pure_ep) * window_length_brux)\n",
    "    \n",
    "            comb_brux_bursts = classif_to_burst(brux_comb_ep, time_interval=window_length_brux)\n",
    "            li_ep_brux_c = burst_to_episode(comb_brux_bursts, delim=delim_brux, min_burst_joining= min_burst_joining_brux)\n",
    "            comb_brux_events = create_list_events(li_ep_brux_c, window_length_brux, len(brux_comb_ep) * window_length_brux)\n",
    "            \n",
    "            comb_MEMA_bursts = classif_to_burst(MEMA_comb_ep, time_interval=window_length_brux) # window_length_brux is valid ?\n",
    "            \n",
    "            pure_MEMA_bursts = classif_to_burst(MEMA_pure_ep, time_interval=window_length_brux) # window_length_brux is valid ?\n",
    "            \n",
    "            print(\"rapport d'activité : \")\n",
    "            print(\"nb episodes bruxisme combinés : \")\n",
    "            print(len(li_ep_brux_c))\n",
    "            print(\"Nb épisodes bruxisme purs : \")\n",
    "            print(len(li_ep_brux_p))\n",
    "            print(\"nb episodes MEMA combinés : \")\n",
    "            print(len(comb_MEMA_bursts))\n",
    "            print(\"Nb épisodes MEMA purs : \")\n",
    "            print(len(pure_MEMA_bursts))\n",
    "            \n",
    "            print(\"rapport d'activité taux horaire : \")\n",
    "            print(\"nb episodes bruxisme combinés : \")\n",
    "            print(len(li_ep_brux_c)/ ((len(MEMA_pure_ep)*window_length_brux)/3600))\n",
    "            print(\"Nb épisodes bruxisme purs : \")\n",
    "            print(len(li_ep_brux_p)/ ((len(MEMA_pure_ep)*window_length_brux)/3600))\n",
    "            print(\"nb episodes MEMA combinés : \")\n",
    "            print(len(comb_MEMA_bursts)/ ((len(MEMA_pure_ep)*window_length_brux)/3600))\n",
    "            print(\"Nb épisodes MEMA purs : \")\n",
    "            print(len(pure_MEMA_bursts)/ ((len(MEMA_pure_ep)*window_length_brux)/3600))\n",
    "            \n",
    "            for i in range(len(MEMA_comb_ep)):\n",
    "                if MEMA_comb_ep[i]>0:\n",
    "                    MEMA_comb_ep[i]+=3\n",
    "            \n",
    "            for i in range(len(MEMA_pure_ep)):\n",
    "                if MEMA_pure_ep[i]>0:\n",
    "                    MEMA_pure_ep[i]+=2\n",
    "                    \n",
    "            for i in range(len(comb_brux_events)):\n",
    "                if comb_brux_events[i]>0:\n",
    "                    comb_brux_events[i]+=1\n",
    "                    \n",
    "            plt.figure()\n",
    "            plt.plot(pure_brux_events, label=\"pure_brux\")\n",
    "            plt.plot(comb_brux_events, label=\"comb_brux\")\n",
    "            plt.plot(MEMA_comb_ep, label=\"comb_MEMA\")\n",
    "            plt.plot(MEMA_pure_ep, label=\"pure_MEMA\")\n",
    "            plt.legend()\n",
    "            plt.title(\"Where the events happen for \" + file)\n",
    "                        \n",
    "                       "
   ]
  },
  {
   "cell_type": "code",
   "execution_count": 6,
   "metadata": {
    "pycharm": {
     "name": "#%%\n"
    }
   },
   "outputs": [
    {
     "name": "stderr",
     "output_type": "stream",
     "text": [
      "<ipython-input-6-ef8c19c94daf>:4: RuntimeWarning: 7 channel names are too long, have been truncated to 15 characters:\n",
      "['Inductance Abdom', 'Inductance Thora', 'Intensit? lumine', 'Jambe droite Imp', 'Jambe gauche Imp', 'Tension (aliment', 'Tension (Bluetoo']\n",
      "  raw  = mne.io.read_raw_edf(filename, preload=False, verbose=False)  # prepare loading\n"
     ]
    },
    {
     "ename": "NameError",
     "evalue": "name 'MEMA_comb_ep' is not defined",
     "output_type": "error",
     "traceback": [
      "\u001b[0;31m---------------------------------------------------------------------------\u001b[0m",
      "\u001b[0;31mNameError\u001b[0m                                 Traceback (most recent call last)",
      "\u001b[0;32m<ipython-input-6-ef8c19c94daf>\u001b[0m in \u001b[0;36m<module>\u001b[0;34m\u001b[0m\n\u001b[1;32m     12\u001b[0m \u001b[0mraw\u001b[0m \u001b[0;34m=\u001b[0m \u001b[0mCleanAnnotations\u001b[0m\u001b[0;34m(\u001b[0m\u001b[0mraw\u001b[0m\u001b[0;34m)\u001b[0m\u001b[0;34m\u001b[0m\u001b[0;34m\u001b[0m\u001b[0m\n\u001b[1;32m     13\u001b[0m \u001b[0mdict_annotations\u001b[0m \u001b[0;34m=\u001b[0m \u001b[0;34m{\u001b[0m\u001b[0;36m1\u001b[0m\u001b[0;34m:\u001b[0m \u001b[0;34m\"b_pure\"\u001b[0m\u001b[0;34m,\u001b[0m \u001b[0;36m2\u001b[0m\u001b[0;34m:\u001b[0m\u001b[0;34m\"b_comb\"\u001b[0m\u001b[0;34m,\u001b[0m \u001b[0;36m3\u001b[0m\u001b[0;34m:\u001b[0m\u001b[0;34m\"M_pure\"\u001b[0m\u001b[0;34m,\u001b[0m \u001b[0;36m4\u001b[0m\u001b[0;34m:\u001b[0m\u001b[0;34m\"M_comb\"\u001b[0m\u001b[0;34m}\u001b[0m\u001b[0;34m\u001b[0m\u001b[0;34m\u001b[0m\u001b[0m\n\u001b[0;32m---> 14\u001b[0;31m raw = AnnotateRaw_sliding(raw, MEMA_comb_ep , \n\u001b[0m\u001b[1;32m     15\u001b[0m                 dict_annotations=dict_annotations, duration=duration_brux, interval=interval_brux)\n\u001b[1;32m     16\u001b[0m \u001b[0;34m\u001b[0m\u001b[0m\n",
      "\u001b[0;31mNameError\u001b[0m: name 'MEMA_comb_ep' is not defined"
     ]
    }
   ],
   "source": [
    "         \n",
    "#-----------------Pure MEMA episodes visualisation and comparison with ATM activity -----------------------------------\n",
    "#Preparing raw for visualisation\n",
    "picks_chan = ['Airflow', '1', '2']           # subset of EMG electrodes\n",
    "raw  = mne.io.read_raw_edf(filename, preload=False, verbose=False)  # prepare loading\n",
    "raw  = CreateRaw(raw[picks_chan][0], raw.info[\"sfreq\"], picks_chan, ch_types=['misc','emg','emg'])        # pick channels and load\n",
    "scalings = dict(misc=5, emg=5e-6)\n",
    "\n",
    "raw  = raw.filter(20., 99., n_jobs=4, \n",
    "                  fir_design='firwin', filter_length='auto', phase='zero-double',\n",
    "                  picks=['1', '2'])\n",
    "#Annotating the raw\n",
    "raw = CleanAnnotations(raw)\n",
    "dict_annotations = {1: \"b_pure\", 2:\"b_comb\", 3:\"M_pure\", 4:\"M_comb\"}\n",
    "raw = AnnotateRaw_sliding(raw, MEMA_comb_ep , \n",
    "                dict_annotations=dict_annotations, duration=duration_brux, interval=interval_brux)\n",
    "\n",
    "raw = AnnotateRaw_sliding(raw, comb_brux_events , \n",
    "                dict_annotations=dict_annotations, duration=duration_brux, interval=interval_brux)\n",
    "raw = AnnotateRaw_sliding(raw, pure_brux_events , \n",
    "                dict_annotations=dict_annotations, duration=duration_brux, interval=interval_brux)\n",
    "raw = AnnotateRaw_sliding(raw, MEMA_pure_ep , \n",
    "                dict_annotations=dict_annotations, duration=duration_brux, interval=interval_brux)\n",
    "\n",
    "print(\"Raw annotated\")\n",
    "raw.plot(scalings = scalings)\n",
    "plt.title(filename)\n",
    "                    "
   ]
  }
 ],
 "metadata": {
  "kernelspec": {
   "display_name": "tinnsleep-env",
   "language": "python",
   "name": "tinnsleep-env"
  },
  "language_info": {
   "codemirror_mode": {
    "name": "ipython",
    "version": 3
   },
   "file_extension": ".py",
   "mimetype": "text/x-python",
   "name": "python",
   "nbconvert_exporter": "python",
   "pygments_lexer": "ipython3",
   "version": "3.8.2"
  },
  "pycharm": {
   "stem_cell": {
    "cell_type": "raw",
    "metadata": {
     "collapsed": false
    },
    "source": []
   }
  }
 },
 "nbformat": 4,
 "nbformat_minor": 4
}
