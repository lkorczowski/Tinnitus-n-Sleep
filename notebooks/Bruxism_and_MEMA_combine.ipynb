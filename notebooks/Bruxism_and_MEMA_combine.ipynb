{
 "cells": [
  {
   "cell_type": "markdown",
   "metadata": {},
   "source": [
    "\n",
    "## Trial to combine middle ear and bruxism tagging to identify pure moments of middle ear activation"
   ]
  },
  {
   "cell_type": "code",
   "execution_count": 1,
   "metadata": {},
   "outputs": [],
   "source": [
    "import os\n",
    "PATH = os.getcwd() \n",
    "import sys\n",
    "sys.path.append(PATH + '/../')"
   ]
  },
  {
   "cell_type": "code",
   "execution_count": 8,
   "metadata": {},
   "outputs": [
    {
     "name": "stdout",
     "output_type": "stream",
     "text": [
      "Config loaded\n"
     ]
    }
   ],
   "source": [
    "import numpy as np\n",
    "import mne\n",
    "from tinnsleep.reports import combine_brux_MEMA\n",
    "from tinnsleep.data import CreateRaw, CleanAnnotations, AnnotateRaw_sliding\n",
    "from tinnsleep.events.scoring import classif_to_burst, burst_to_episode, create_list_events, episodes_to_list\n",
    "import warnings\n",
    "import matplotlib.pyplot as plt\n",
    "%matplotlib qt\n",
    "import pandas as pd\n",
    "from tinnsleep.config import Config\n",
    "\n",
    "print(\"Config loaded\")\n"
   ]
  },
  {
   "cell_type": "markdown",
   "metadata": {},
   "source": [
    "## Loading parameters and results"
   ]
  },
  {
   "cell_type": "code",
   "execution_count": 3,
   "metadata": {},
   "outputs": [
    {
     "name": "stdout",
     "output_type": "stream",
     "text": [
      "['E:/Acou_sommeil/EDF_V2_PAUL\\\\1BA07_nuit_hab.edf', 'E:/Acou_sommeil/EDF_V2_PAUL\\\\1BA07_nuit_son.edf', 'E:/Acou_sommeil/EDF_V2_PAUL\\\\1CC05_nuit_hab.edf', 'E:/Acou_sommeil/EDF_V2_PAUL\\\\1CC05_nuit_son.edf', 'E:/Acou_sommeil/EDF_V2_PAUL\\\\1DA15_nuit_hab.edf', 'E:/Acou_sommeil/EDF_V2_PAUL\\\\1DA15_nuit_son.edf', 'E:/Acou_sommeil/EDF_V2_PAUL\\\\1DL12_nuit_hab.edf', 'E:/Acou_sommeil/EDF_V2_PAUL\\\\1DL12_nuit_son.edf', 'E:/Acou_sommeil/EDF_V2_PAUL\\\\1GB18_nuit_son.edf', 'E:/Acou_sommeil/EDF_V2_PAUL\\\\1GB19_nuit_hab.edf']\n"
     ]
    }
   ],
   "source": [
    "\n",
    "\n",
    "# change to --overwrite True if you want to force to recompute the results\n",
    "#%run ../compute_results.py --bruxism True --mema True --overwrite False \n",
    "\n",
    "mema_files= pd.read_csv(\"data/mema_files.csv\",engine='python', sep=\"; \")[\"files_with_mema\"].values\n",
    "\n",
    "results_MEMA = pd.read_pickle(\"data/reports_and_datas_MEMA.pk\").to_dict()\n",
    "results_brux = pd.read_pickle(\"data/reports_and_datas_bruxism.pk\").to_dict()\n",
    "min_burst_joining_brux = 3 \n",
    "min_burst_joining_MEMA = 0\n",
    "EDF_list = Config.bruxisme_files[:10]\n",
    "print(EDF_list)"
   ]
  },
  {
   "cell_type": "markdown",
   "metadata": {},
   "source": [
    "## Bruxism + MEMA processing for pure MEMA visualisation"
   ]
  },
  {
   "cell_type": "code",
   "execution_count": 10,
   "metadata": {},
   "outputs": [
    {
     "name": "stdout",
     "output_type": "stream",
     "text": [
      "Files processed : \n",
      "1BA07_nuit_hab.edf 0.248\n",
      "(does not have both bruxism and mema)... skipping\n",
      "1BA07_nuit_son.edf 0.25\n",
      "(does not have both bruxism and mema)... skipping\n",
      "1CC05_nuit_hab.edf 0.248\n",
      "(does not have both bruxism and mema)... skipping\n",
      "1CC05_nuit_son.edf 0.25\n",
      "(does not have both bruxism and mema)... skipping\n",
      "1DA15_nuit_hab.edf 1.0\n",
      "117720\n",
      "13134\n",
      "{'Clean data duration': 28459.0, 'Total burst duration': 3283.5, 'Total number of burst': 2486, 'Number of bursts per hour': 314.47345303770334, 'Total number of episodes': 212, 'Number of bursts per episode': 11.726415094339623, 'Number of episodes per hour': 26.817526968621525, 'Number of tonic episodes per hour': 5.565901823676166, 'Number of phasic episodes per hour': 2.11883762605854, 'Number of mixed episodes per hour': 3.1940686601777997, 'Mean duration of tonic episode': 5.034090909090909, 'Mean duration of phasic episode': 7.1716417910447765, 'Mean duration of mixed episode': 35.66089108910891, 'Power Ratio': array([33.84128605])}\n",
      "117720\n",
      "0.25\n",
      "heu\n",
      "117720\n",
      "12388\n",
      "4933\n",
      "0.25\n",
      "3\n",
      "3\n",
      "rapport d'activité : \n",
      "nb episodes bruxisme combinés : \n",
      "143\n",
      "Nb épisodes bruxisme purs : \n",
      "104\n",
      "nb episodes MEMA combinés : \n",
      "213\n",
      "Nb épisodes MEMA purs : \n",
      "109\n",
      "rapport d'activité taux horaire : \n",
      "nb episodes bruxisme combinés : \n",
      "17.49235474006116\n",
      "Nb épisodes bruxisme purs : \n",
      "12.7217125382263\n",
      "nb episodes MEMA combinés : \n",
      "26.05504587155963\n",
      "Nb épisodes MEMA purs : \n",
      "13.333333333333332\n",
      "1DA15_nuit_son.edf 0.25\n",
      "(does not have both bruxism and mema)... skipping\n",
      "1DL12_nuit_hab.edf 0.248\n",
      "(does not have both bruxism and mema)... skipping\n",
      "1DL12_nuit_son.edf 0.248\n",
      "(does not have both bruxism and mema)... skipping\n",
      "1GB18_nuit_son.edf 0.248\n",
      "(does not have both bruxism and mema)... skipping\n",
      "1GB19_nuit_hab.edf 1.0\n",
      "127240\n",
      "11292\n",
      "{'Clean data duration': 30594.25, 'Total burst duration': 2823.0, 'Total number of burst': 1432, 'Number of bursts per hour': 168.5022512400206, 'Total number of episodes': 186, 'Number of bursts per episode': 7.698924731182796, 'Number of episodes per hour': 21.886465594025022, 'Number of tonic episodes per hour': 6.942481021760625, 'Number of phasic episodes per hour': 1.2061089910685832, 'Number of mixed episodes per hour': 2.529887151997516, 'Mean duration of tonic episode': 5.52542372881356, 'Mean duration of phasic episode': 5.682926829268292, 'Mean duration of mixed episode': 31.70639534883721, 'Power Ratio': array([43.06652061, 49.19939244])}\n",
      "127240\n",
      "0.25\n",
      "heu\n",
      "127240\n",
      "8822\n",
      "4447\n",
      "0.25\n",
      "3\n",
      "3\n",
      "rapport d'activité : \n",
      "nb episodes bruxisme combinés : \n",
      "155\n",
      "Nb épisodes bruxisme purs : \n",
      "63\n",
      "nb episodes MEMA combinés : \n",
      "188\n",
      "Nb épisodes MEMA purs : \n",
      "166\n",
      "rapport d'activité taux horaire : \n",
      "nb episodes bruxisme combinés : \n",
      "17.54165356806036\n",
      "Nb épisodes bruxisme purs : \n",
      "7.12983338572776\n",
      "nb episodes MEMA combinés : \n",
      "21.27632819867966\n",
      "Nb épisodes MEMA purs : \n",
      "18.786545111600127\n"
     ]
    },
    {
     "name": "stderr",
     "output_type": "stream",
     "text": [
      "C:\\Users\\Zeta\\Anaconda3\\lib\\site-packages\\ipykernel\\eventloops.py:106: UserWarning: Creating legend with loc=\"best\" can be slow with large amounts of data.\n",
      "  app.exec_()\n"
     ]
    }
   ],
   "source": [
    "from time import time\n",
    "# load file from config\n",
    "\n",
    "start = time()\n",
    "\n",
    "with warnings.catch_warnings():\n",
    "    warnings.simplefilter(\"ignore\", category=RuntimeWarning)\n",
    "    \n",
    "    print(\"Files processed : \")\n",
    "    \n",
    "    #Loop on all the patient files\n",
    "    for filename in EDF_list:\n",
    "        #opens the raw file\n",
    "        file = filename.split(os.path.sep)[-1]\n",
    "        print(file, end=\" \")\n",
    "        if not (file in results_brux.keys() and file in results_MEMA.keys()):\n",
    "            print(results_brux[file][\"parameters\"][\"time_interval\"])\n",
    "            print(f\"(does not have both bruxism and mema)... skipping\")\n",
    "        else:\n",
    "            window_length_brux = results_brux[file][\"parameters\"][\"time_interval\"]\n",
    "            delim_brux = results_brux[file][\"parameters\"][\"delim\"]\n",
    "            window_length_MEMA = results_MEMA[file][\"parameters\"][\"time_interval\"]\n",
    "            delim_MEMA = results_MEMA[file][\"parameters\"][\"delim\"]\n",
    "            params_combine = dict(\n",
    "                                labels_brux = results_brux[file][\"labels\"][0], \n",
    "                                time_interval_brux = results_brux[file][\"parameters\"][\"time_interval\"], \n",
    "                                delim_ep_brux = results_brux[file][\"parameters\"][\"delim\"], \n",
    "                                labels_MEMA = results_MEMA[file][\"labels\"][0],\n",
    "                                time_interval_MEMA = results_MEMA[file][\"parameters\"][\"time_interval\"],\n",
    "                                delim_ep_MEMA = results_brux[file][\"parameters\"][\"delim\"],\n",
    "                                min_burst_joining_brux=min_burst_joining_brux, \n",
    "                                min_burst_joining_MEMA=min_burst_joining_MEMA\n",
    "                                )\n",
    "            print(results_MEMA[file][\"parameters\"][\"time_interval\"])\n",
    "            print(len(results_brux[file][\"labels\"][0]))\n",
    "            print(np.sum(results_brux[file][\"labels\"][0]))\n",
    "            print(results_brux[file][\"reports\"][0])\n",
    "            print(len(results_MEMA[file][\"labels\"][0])*4)\n",
    "            print(results_brux[file][\"parameters\"][\"time_interval\"])\n",
    "            \n",
    "            brux_comb_ep, brux_pure_ep, MEMA_comb_ep, MEMA_pure_ep = combine_brux_MEMA(**params_combine)\n",
    "            \n",
    "            print(\"heu\")\n",
    "            print(len(MEMA_comb_ep))\n",
    "            print(np.sum(brux_comb_ep))\n",
    "            print(np.sum(brux_pure_ep))\n",
    "            print(window_length_brux)\n",
    "            print(delim_brux)\n",
    "            print(min_burst_joining_brux)\n",
    "            \n",
    "            pure_brux_bursts = classif_to_burst(brux_pure_ep, time_interval=window_length_brux)\n",
    "            li_ep_brux_p = burst_to_episode(pure_brux_bursts, delim=delim_brux, min_burst_joining= min_burst_joining_brux)\n",
    "            pure_brux_events = episodes_to_list(li_ep_brux_p, window_length_brux, len(brux_pure_ep))\n",
    "            \n",
    "            comb_brux_bursts = classif_to_burst(brux_comb_ep, time_interval=window_length_brux)\n",
    "            li_ep_brux_c = burst_to_episode(comb_brux_bursts, delim=delim_brux, min_burst_joining= min_burst_joining_brux)\n",
    "            comb_brux_events = episodes_to_list(li_ep_brux_c, window_length_brux, len(brux_comb_ep))\n",
    "            \n",
    "            comb_MEMA_bursts = classif_to_burst(MEMA_comb_ep, time_interval=window_length_brux) # window_length_brux is valid ?\n",
    "            \n",
    "            pure_MEMA_bursts = classif_to_burst(MEMA_pure_ep, time_interval=window_length_brux) # window_length_brux is valid ?\n",
    "            \n",
    "            print(\"rapport d'activité : \")\n",
    "            print(\"nb episodes bruxisme combinés : \")\n",
    "            print(len(li_ep_brux_c))\n",
    "            print(\"Nb épisodes bruxisme purs : \")\n",
    "            print(len(li_ep_brux_p))\n",
    "            print(\"nb episodes MEMA combinés : \")\n",
    "            print(len(comb_MEMA_bursts))\n",
    "            print(\"Nb épisodes MEMA purs : \")\n",
    "            print(len(pure_MEMA_bursts))\n",
    "\n",
    "            \n",
    "            print(\"rapport d'activité taux horaire : \")\n",
    "            print(\"nb episodes bruxisme combinés : \")\n",
    "            print(len(li_ep_brux_c)/ ((len(MEMA_pure_ep)*window_length_brux)/3600))\n",
    "            print(\"Nb épisodes bruxisme purs : \")\n",
    "            print(len(li_ep_brux_p)/ ((len(MEMA_pure_ep)*window_length_brux)/3600))\n",
    "            print(\"nb episodes MEMA combinés : \")\n",
    "            print(len(comb_MEMA_bursts)/ ((len(MEMA_pure_ep)*window_length_brux)/3600))\n",
    "            print(\"Nb épisodes MEMA purs : \")\n",
    "            print(len(pure_MEMA_bursts)/ ((len(MEMA_pure_ep)*window_length_brux)/3600))\n",
    "            \n",
    "            for i in range(len(MEMA_comb_ep)):\n",
    "                if MEMA_comb_ep[i]>0:\n",
    "                    MEMA_comb_ep[i]+=3\n",
    "            \n",
    "            for i in range(len(MEMA_pure_ep)):\n",
    "                if MEMA_pure_ep[i]>0:\n",
    "                    MEMA_pure_ep[i]+=2\n",
    "                    \n",
    "            for i in range(len(comb_brux_events)):\n",
    "                if comb_brux_events[i]>0:\n",
    "                    comb_brux_events[i]+=1\n",
    "                    \n",
    "            plt.figure()\n",
    "            plt.plot(pure_brux_events, label=\"pure_brux\")\n",
    "            plt.plot(comb_brux_events, label=\"comb_brux\")\n",
    "            plt.plot(MEMA_comb_ep, label=\"comb_MEMA\")\n",
    "            plt.plot(MEMA_pure_ep, label=\"pure_MEMA\")\n",
    "            plt.legend()\n",
    "            plt.title(\"Where the events happen for \" + file)\n",
    "                        \n",
    "                       "
   ]
  },
  {
   "cell_type": "code",
   "execution_count": 11,
   "metadata": {},
   "outputs": [
    {
     "name": "stdout",
     "output_type": "stream",
     "text": [
      "6627000\n",
      "6627000\n",
      "6627000\n",
      "6627000\n",
      "6627000\n"
     ]
    }
   ],
   "source": [
    "print(len(results_brux[file][\"labels\"][0])*50)\n",
    "print(len(results_MEMA[file][\"labels\"][0])*50*4)\n",
    "print (len(MEMA_comb_ep)*50)\n",
    "print (len(MEMA_pure_ep)*50)\n",
    "print (len(brux_comb_ep)*50)"
   ]
  },
  {
   "cell_type": "code",
   "execution_count": 12,
   "metadata": {
    "pycharm": {
     "name": "#%%\n"
    }
   },
   "outputs": [
    {
     "name": "stdout",
     "output_type": "stream",
     "text": [
      "nb episodes\n",
      "193\n",
      "1GB19_nuit_hab.edf\n",
      "E:/Acou_sommeil/EDF_V2_PAUL\\1GB19_nuit_hab.edf\n",
      "5592\n",
      "6107520\n",
      "127240\n"
     ]
    },
    {
     "name": "stderr",
     "output_type": "stream",
     "text": [
      "<ipython-input-12-5864cb402877>:19: RuntimeWarning: 6 channel names are too long, have been truncated to 15 characters:\n",
      "['Inductance Abdom', 'Inductance Thora', 'Jambe droite Imp', 'Jambe gauche Imp', 'Tension (aliment', 'Tension (Bluetoo']\n",
      "  raw  = mne.io.read_raw_edf(filename, preload=False, verbose=False)  # prepare loading\n"
     ]
    },
    {
     "name": "stdout",
     "output_type": "stream",
     "text": [
      "200.0\n",
      "6362000\n",
      "Raw annotated\n"
     ]
    },
    {
     "data": {
      "text/plain": [
       "Text(0.5, 1, 'E:/Acou_sommeil/EDF_V2_PAUL\\\\1GB19_nuit_hab.edf')"
      ]
     },
     "execution_count": 12,
     "metadata": {},
     "output_type": "execute_result"
    }
   ],
   "source": [
    "labels_int= results_brux[file][\"labels\"][1]\n",
    "int_bursts = classif_to_burst(labels_int, time_interval=window_length_brux)\n",
    "li_ep_int = burst_to_episode(int_bursts, delim=delim_brux, min_burst_joining= min_burst_joining_brux)\n",
    "print(\"nb episodes\")\n",
    "print(len(li_ep_int))\n",
    "pure_int_events = episodes_to_list(li_ep_int, window_length_brux, len(brux_pure_ep))\n",
    "print(file)\n",
    "print(filename)\n",
    "duration_brux = 200*0.25\n",
    "print(np.sum(labels_int))\n",
    "print(len(labels_int)*48)\n",
    "\n",
    "interval_brux = duration_brux\n",
    "print (len(MEMA_comb_ep))\n",
    "#print(len(raw))\n",
    "#-----------------Pure MEMA episodes visualisation and comparison with ATM activity -----------------------------------\n",
    "#Preparing raw for visualisation\n",
    "picks_chan = ['Airflow', '1', '2', \"Activity\"]           # subset of EMG electrodes\n",
    "raw  = mne.io.read_raw_edf(filename, preload=False, verbose=False)  # prepare loading\n",
    "print(raw.info[\"sfreq\"])\n",
    "\n",
    "raw  = CreateRaw(raw[picks_chan][0], raw.info[\"sfreq\"], picks_chan, ch_types=['misc','emg','emg', \"misc\"])        # pick channels and load\n",
    "print(len(raw))\n",
    "scalings = dict(misc=1, emg=1e-5)\n",
    "\n",
    "raw  = raw.filter(20., 99., n_jobs=4, \n",
    "                  fir_design='firwin', filter_length='auto', phase='zero-double',\n",
    "                  picks=['1', '2'])\n",
    "#Annotating the raw\n",
    "raw = CleanAnnotations(raw)\n",
    "dict_annotations = {1: \"b_pure\", 2:\"b_comb\", 3:\"M_pure\", 4:\"M_comb\"}\n",
    "raw = AnnotateRaw_sliding(raw, MEMA_comb_ep , \n",
    "                dict_annotations=dict_annotations, duration=duration_brux, interval=interval_brux, merge=True)\n",
    "raw = AnnotateRaw_sliding(raw,  comb_brux_events, \n",
    "                dict_annotations=dict_annotations, duration=duration_brux, interval=interval_brux, merge=True)\n",
    "\n",
    "\n",
    "print(\"Raw annotated\")\n",
    "scalings = {'emg': 5e-5, 'misc': 0.2, 'bio':1e3}\n",
    "raw.plot(scalings = scalings)\n",
    "plt.title(filename)\n",
    "                    "
   ]
  },
  {
   "cell_type": "code",
   "execution_count": null,
   "metadata": {},
   "outputs": [],
   "source": []
  },
  {
   "cell_type": "code",
   "execution_count": null,
   "metadata": {},
   "outputs": [],
   "source": []
  },
  {
   "cell_type": "code",
   "execution_count": null,
   "metadata": {},
   "outputs": [],
   "source": []
  }
 ],
 "metadata": {
  "kernelspec": {
   "display_name": "Python 3",
   "language": "python",
   "name": "python3"
  },
  "language_info": {
   "codemirror_mode": {
    "name": "ipython",
    "version": 3
   },
   "file_extension": ".py",
   "mimetype": "text/x-python",
   "name": "python",
   "nbconvert_exporter": "python",
   "pygments_lexer": "ipython3",
   "version": "3.7.3"
  },
  "pycharm": {
   "stem_cell": {
    "cell_type": "raw",
    "metadata": {
     "collapsed": false
    },
    "source": []
   }
  }
 },
 "nbformat": 4,
 "nbformat_minor": 4
}
