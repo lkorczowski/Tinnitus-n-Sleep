{
 "cells": [
  {
   "cell_type": "markdown",
   "metadata": {},
   "source": [
    "\n",
    "## Trial to combine middle ear and bruxism tagging to identify pure moments of middle ear activation"
   ]
  },
  {
   "cell_type": "code",
   "execution_count": 1,
   "metadata": {},
   "outputs": [],
   "source": [
    "import os\n",
    "PATH = os.getcwd() \n",
    "import sys\n",
    "sys.path.append(PATH + '/../')"
   ]
  },
  {
   "cell_type": "code",
   "execution_count": 4,
   "metadata": {},
   "outputs": [
    {
     "name": "stdout",
     "output_type": "stream",
     "text": [
      "Config loaded\n"
     ]
    }
   ],
   "source": [
    "import numpy as np\n",
    "import mne\n",
    "from tinnsleep.reports import combine_brux_MEMA, generate_bruxism_report, generate_MEMA_report\n",
    "from tinnsleep.data import CreateRaw, CleanAnnotations, AnnotateRaw_sliding\n",
    "from tinnsleep.events.scoring import classif_to_burst, burst_to_episode, episodes_to_list\n",
    "import warnings\n",
    "import matplotlib.pyplot as plt\n",
    "%matplotlib inline\n",
    "import pandas as pd\n",
    "from tinnsleep.config import Config\n",
    "import scipy\n",
    "print(\"Config loaded\")\n"
   ]
  },
  {
   "cell_type": "markdown",
   "metadata": {},
   "source": [
    "## Loading parameters and results"
   ]
  },
  {
   "cell_type": "code",
   "execution_count": 7,
   "metadata": {},
   "outputs": [
    {
     "name": "stdout",
     "output_type": "stream",
     "text": [
      "['F:/Acou_sommeil/EDF_renom\\\\1AC26_cohort2.edf', 'F:/Acou_sommeil/EDF_renom\\\\1BA07_nuit_hab.edf', 'F:/Acou_sommeil/EDF_renom\\\\1BA07_nuit_son.edf', 'F:/Acou_sommeil/EDF_renom\\\\1CB23_cohort2.edf', 'F:/Acou_sommeil/EDF_renom\\\\1CC05_nuit_hab.edf', 'F:/Acou_sommeil/EDF_renom\\\\1CC05_nuit_son.edf', 'F:/Acou_sommeil/EDF_renom\\\\1DA15_nuit_hab.edf', 'F:/Acou_sommeil/EDF_renom\\\\1DA15_nuit_son.edf', 'F:/Acou_sommeil/EDF_renom\\\\1DL12_nuit_hab.edf', 'F:/Acou_sommeil/EDF_renom\\\\1DL12_nuit_son.edf', 'F:/Acou_sommeil/EDF_renom\\\\1DM32_cohort2.edf', 'F:/Acou_sommeil/EDF_renom\\\\1GB18_nuit_hab.edf', 'F:/Acou_sommeil/EDF_renom\\\\1GB18_nuit_son.edf', 'F:/Acou_sommeil/EDF_renom\\\\1GF14_cohort2.edf', 'F:/Acou_sommeil/EDF_renom\\\\1GF14_nuit_hab.edf', 'F:/Acou_sommeil/EDF_renom\\\\1GF14_nuit_son.edf', 'F:/Acou_sommeil/EDF_renom\\\\1HB20_nuit_1.edf', 'F:/Acou_sommeil/EDF_renom\\\\1HB20_nuit_1_resmed.edf', 'F:/Acou_sommeil/EDF_renom\\\\1HB20_nuit_2.edf', 'F:/Acou_sommeil/EDF_renom\\\\1HB20_nuit_2_resmed.edf', 'F:/Acou_sommeil/EDF_renom\\\\1HB20_nuit_3.edf', 'F:/Acou_sommeil/EDF_renom\\\\1HS25_cohort2.edf', 'F:/Acou_sommeil/EDF_renom\\\\1MA16_nuit_hab.edf', 'F:/Acou_sommeil/EDF_renom\\\\1MA16_nuit_son.edf', 'F:/Acou_sommeil/EDF_renom\\\\1MF19_nuit_hab.edf', 'F:/Acou_sommeil/EDF_renom\\\\1MF19_nuit_son.edf', 'F:/Acou_sommeil/EDF_renom\\\\1MN09_nuit_hab.edf', 'F:/Acou_sommeil/EDF_renom\\\\1MN09_nuit_son.edf', 'F:/Acou_sommeil/EDF_renom\\\\1NS30_cohort2.edf', 'F:/Acou_sommeil/EDF_renom\\\\1PA31_cohort2.edf', 'F:/Acou_sommeil/EDF_renom\\\\1PI07_nuit_hab.edf', 'F:/Acou_sommeil/EDF_renom\\\\1PI07_nuit_son.edf', 'F:/Acou_sommeil/EDF_renom\\\\1PT06_nuit_hab.edf', 'F:/Acou_sommeil/EDF_renom\\\\1PT06_nuit_son.edf', 'F:/Acou_sommeil/EDF_renom\\\\1RA17_nuit_hab.edf', 'F:/Acou_sommeil/EDF_renom\\\\1RA17_nuit_son.edf', 'F:/Acou_sommeil/EDF_renom\\\\1RF29_cohort2.edf', 'F:/Acou_sommeil/EDF_renom\\\\1SA14_nuit_hab.edf', 'F:/Acou_sommeil/EDF_renom\\\\1SA14_nuit_son.edf', 'F:/Acou_sommeil/EDF_renom\\\\1SL21_nuit_1.edf', 'F:/Acou_sommeil/EDF_renom\\\\1SL21_nuit_2.edf', 'F:/Acou_sommeil/EDF_renom\\\\1SL21_nuit_2_resmed.edf', 'F:/Acou_sommeil/EDF_renom\\\\1SL21_nuit_3.edf', 'F:/Acou_sommeil/EDF_renom\\\\1SL21_nuit_3_resmed.edf', 'F:/Acou_sommeil/EDF_renom\\\\1SL21_nuit_4.edf', 'F:/Acou_sommeil/EDF_renom\\\\1SL21_nuit_5.edf', 'F:/Acou_sommeil/EDF_renom\\\\1SL21_nuit_6.edf', 'F:/Acou_sommeil/EDF_renom\\\\1SL21_nuit_7.edf', 'F:/Acou_sommeil/EDF_renom\\\\1SL21_nuit_8.edf', 'F:/Acou_sommeil/EDF_renom\\\\1UC22_nuit_1.edf', 'F:/Acou_sommeil/EDF_renom\\\\1UC22_nuit_1_resmed.edf', 'F:/Acou_sommeil/EDF_renom\\\\1UC22_nuit_2.edf', 'F:/Acou_sommeil/EDF_renom\\\\1UC22_nuit_2_resmed.edf', 'F:/Acou_sommeil/EDF_renom\\\\1UC22_nuit_3.edf', 'F:/Acou_sommeil/EDF_renom\\\\1ZN04_cohort2.edf', 'F:/Acou_sommeil/EDF_renom\\\\1ZN04_nuit_hab.edf', 'F:/Acou_sommeil/EDF_renom\\\\1ZN04_nuit_son.edf', 'F:/Acou_sommeil/EDF_renom\\\\2CT04_nuit_1.edf', 'F:/Acou_sommeil/EDF_renom\\\\2GA06_nuit_1.edf', 'F:/Acou_sommeil/EDF_renom\\\\2GR01_nuit_1.edf', 'F:/Acou_sommeil/EDF_renom\\\\2GR01_nuit_2.edf', 'F:/Acou_sommeil/EDF_renom\\\\2GR01_nuit_3.edf', 'F:/Acou_sommeil/EDF_renom\\\\2GR01_nuit_4.edf', 'F:/Acou_sommeil/EDF_renom\\\\2LS05_nuit_1.edf', 'F:/Acou_sommeil/EDF_renom\\\\2MJ02_nuit_1.edf', 'F:/Acou_sommeil/EDF_renom\\\\2SJ03_nuit_1.edf', 'F:/Acou_sommeil/EDF_renom\\\\2TL07_nuit_1.edf', 'F:/Acou_sommeil/EDF_renom\\\\3BS04_cohort2.edf', 'F:/Acou_sommeil/EDF_renom\\\\3CL02_cohort2.edf', 'F:/Acou_sommeil/EDF_renom\\\\3HS08_cohort2.edf', 'F:/Acou_sommeil/EDF_renom\\\\3KB06_cohort2.edf', 'F:/Acou_sommeil/EDF_renom\\\\3NS01_cohort2.edf', 'F:/Acou_sommeil/EDF_renom\\\\3TR07_cohort2.edf', 'F:/Acou_sommeil/EDF_renom\\\\3TS03_cohort2.edf']\n"
     ]
    }
   ],
   "source": [
    "\n",
    "\n",
    "# change to --overwrite True if you want to force to recompute the results\n",
    "#%run ../compute_results.py --bruxism True --mema True --overwrite False \n",
    "\n",
    "#mema_files= pd.read_csv(\"data/mema_files.csv\",engine='python', sep=\", \")[\"files_with_mema\"].values\n",
    "\n",
    "results_MEMA = pd.read_pickle(\"data/reports_and_datas_MEMA.pk\").to_dict()\n",
    "results_brux = pd.read_pickle(\"data/reports_and_datas_bruxism.pk\").to_dict()\n",
    "min_burst_joining_brux = 3 \n",
    "min_burst_joining_MEMA = 0\n",
    "EDF_list = Config.bruxisme_files\n",
    "print(EDF_list)"
   ]
  },
  {
   "cell_type": "markdown",
   "metadata": {},
   "source": [
    "## Bruxism + MEMA processing for pure MEMA visualisation"
   ]
  },
  {
   "cell_type": "code",
   "execution_count": 8,
   "metadata": {},
   "outputs": [
    {
     "name": "stdout",
     "output_type": "stream",
     "text": [
      "Files processed : \n",
      "1AC26_cohort2.edf (does not have both bruxism and mema)... skipping\n",
      "1BA07_nuit_hab.edf (does not have both bruxism and mema)... skipping\n",
      "1BA07_nuit_son.edf (does not have both bruxism and mema)... skipping\n",
      "1CB23_cohort2.edf (does not have both bruxism and mema)... skipping\n",
      "1CC05_nuit_hab.edf (does not have both bruxism and mema)... skipping\n",
      "1CC05_nuit_son.edf (does not have both bruxism and mema)... skipping\n",
      "1DA15_nuit_hab.edf (does not have both bruxism and mema)... skipping\n",
      "1DA15_nuit_son.edf (does not have both bruxism and mema)... skipping\n",
      "1DL12_nuit_hab.edf (does not have both bruxism and mema)... skipping\n",
      "1DL12_nuit_son.edf (does not have both bruxism and mema)... skipping\n",
      "1DM32_cohort2.edf (does not have both bruxism and mema)... skipping\n",
      "1GB18_nuit_hab.edf (does not have both bruxism and mema)... skipping\n",
      "1GB18_nuit_son.edf (does not have both bruxism and mema)... skipping\n",
      "1GF14_cohort2.edf (does not have both bruxism and mema)... skipping\n",
      "1GF14_nuit_hab.edf (does not have both bruxism and mema)... skipping\n",
      "1GF14_nuit_son.edf (does not have both bruxism and mema)... skipping\n",
      "1HB20_nuit_1.edf (does not have both bruxism and mema)... skipping\n",
      "1HB20_nuit_1_resmed.edf (does not have both bruxism and mema)... skipping\n",
      "1HB20_nuit_2.edf (does not have both bruxism and mema)... skipping\n",
      "1HB20_nuit_2_resmed.edf (does not have both bruxism and mema)... skipping\n",
      "1HB20_nuit_3.edf (does not have both bruxism and mema)... skipping\n",
      "1HS25_cohort2.edf (does not have both bruxism and mema)... skipping\n",
      "1MA16_nuit_hab.edf (does not have both bruxism and mema)... skipping\n",
      "1MA16_nuit_son.edf (does not have both bruxism and mema)... skipping\n",
      "1MF19_nuit_hab.edf (does not have both bruxism and mema)... skipping\n",
      "1MF19_nuit_son.edf (does not have both bruxism and mema)... skipping\n",
      "1MN09_nuit_hab.edf (does not have both bruxism and mema)... skipping\n",
      "1MN09_nuit_son.edf (does not have both bruxism and mema)... skipping\n",
      "1NS30_cohort2.edf (does not have both bruxism and mema)... skipping\n",
      "1PA31_cohort2.edf (does not have both bruxism and mema)... skipping\n",
      "1PI07_nuit_hab.edf (does not have both bruxism and mema)... skipping\n",
      "1PI07_nuit_son.edf (does not have both bruxism and mema)... skipping\n",
      "1PT06_nuit_hab.edf (does not have both bruxism and mema)... skipping\n",
      "1PT06_nuit_son.edf (does not have both bruxism and mema)... skipping\n",
      "1RA17_nuit_hab.edf (does not have both bruxism and mema)... skipping\n",
      "1RA17_nuit_son.edf (does not have both bruxism and mema)... skipping\n",
      "1RF29_cohort2.edf (does not have both bruxism and mema)... skipping\n",
      "1SA14_nuit_hab.edf (does not have both bruxism and mema)... skipping\n",
      "1SA14_nuit_son.edf (does not have both bruxism and mema)... skipping\n",
      "1SL21_nuit_1.edf (does not have both bruxism and mema)... skipping\n",
      "1SL21_nuit_2.edf (does not have both bruxism and mema)... skipping\n",
      "1SL21_nuit_2_resmed.edf (does not have both bruxism and mema)... skipping\n",
      "1SL21_nuit_3.edf (does not have both bruxism and mema)... skipping\n",
      "1SL21_nuit_3_resmed.edf (does not have both bruxism and mema)... skipping\n",
      "1SL21_nuit_4.edf (does not have both bruxism and mema)... skipping\n",
      "1SL21_nuit_5.edf (does not have both bruxism and mema)... skipping\n",
      "1SL21_nuit_6.edf (does not have both bruxism and mema)... skipping\n",
      "1SL21_nuit_7.edf (does not have both bruxism and mema)... skipping\n",
      "1SL21_nuit_8.edf (does not have both bruxism and mema)... skipping\n",
      "1UC22_nuit_1.edf (does not have both bruxism and mema)... skipping\n",
      "1UC22_nuit_1_resmed.edf (does not have both bruxism and mema)... skipping\n",
      "1UC22_nuit_2.edf (does not have both bruxism and mema)... skipping\n",
      "1UC22_nuit_2_resmed.edf (does not have both bruxism and mema)... skipping\n",
      "1UC22_nuit_3.edf (does not have both bruxism and mema)... skipping\n",
      "1ZN04_cohort2.edf (does not have both bruxism and mema)... skipping\n",
      "1ZN04_nuit_hab.edf (does not have both bruxism and mema)... skipping\n",
      "1ZN04_nuit_son.edf (does not have both bruxism and mema)... skipping\n",
      "2CT04_nuit_1.edf (does not have both bruxism and mema)... skipping\n",
      "2GA06_nuit_1.edf (does not have both bruxism and mema)... skipping\n",
      "2GR01_nuit_1.edf (does not have both bruxism and mema)... skipping\n",
      "2GR01_nuit_2.edf (does not have both bruxism and mema)... skipping\n",
      "2GR01_nuit_3.edf (does not have both bruxism and mema)... skipping\n",
      "2GR01_nuit_4.edf (does not have both bruxism and mema)... skipping\n",
      "2LS05_nuit_1.edf (does not have both bruxism and mema)... skipping\n",
      "2MJ02_nuit_1.edf (does not have both bruxism and mema)... skipping\n",
      "2SJ03_nuit_1.edf (does not have both bruxism and mema)... skipping\n",
      "2TL07_nuit_1.edf (does not have both bruxism and mema)... skipping\n",
      "3BS04_cohort2.edf (does not have both bruxism and mema)... skipping\n",
      "3CL02_cohort2.edf (does not have both bruxism and mema)... skipping\n",
      "3HS08_cohort2.edf (does not have both bruxism and mema)... skipping\n",
      "3KB06_cohort2.edf 0.992\n",
      "140480\n",
      "4134\n",
      "{'Clean data duration': 14252.064, 'Total burst duration': 1025.232, 'Total number of burst': 934, 'Number of bursts per hour': 235.92372304811428, 'bruxism episode NREM count': 120, 'bruxism episode NREM ratio': 1.0, 'Total number of episodes': 120, 'Number of bursts per episode': 7.783333333333333, 'Number of episodes per hour': 30.311399106824105, 'Number of tonic episodes per hour': 8.083039761819762, 'Number of phasic episodes per hour': 2.1925245353936105, 'Number of mixed episodes per hour': 3.320108582167467, 'Mean duration of tonic episode': 5.192500000000209, 'Mean duration of phasic episode': 5.973257142857165, 'Mean duration of mixed episode': 15.778415094339671, 'End count': 24, 'End ratio': 0.00017084282460136675, 'NREM count': 67136, 'NREM ratio': 0.47790432801822325, 'Wake count': 73223, 'Wake ratio': 0.5212343394077449, 'start count': 97, 'start ratio': 0.0006904897494305239, 'Power Ratio': array([41.73522675])}\n",
      "140480\n",
      "0.248\n"
     ]
    },
    {
     "ename": "TypeError",
     "evalue": "generate_bruxism_report() missing 1 required positional argument: 'valid_labels'",
     "output_type": "error",
     "traceback": [
      "\u001b[1;31m---------------------------------------------------------------------------\u001b[0m",
      "\u001b[1;31mTypeError\u001b[0m                                 Traceback (most recent call last)",
      "\u001b[1;32m<ipython-input-8-3d0408284f04>\u001b[0m in \u001b[0;36m<module>\u001b[1;34m\u001b[0m\n\u001b[0;32m     52\u001b[0m             results_brux_combine[file]= { \"THR_classif\": [results_brux[file][\"THR_classif\"][ind_THR_brux]],\n\u001b[0;32m     53\u001b[0m                  \u001b[1;34m\"labels\"\u001b[0m\u001b[1;33m:\u001b[0m  \u001b[1;33m[\u001b[0m\u001b[0mbrux_comb_ep\u001b[0m\u001b[1;33m]\u001b[0m     \u001b[1;33m,\u001b[0m\u001b[1;33m\u001b[0m\u001b[1;33m\u001b[0m\u001b[0m\n\u001b[1;32m---> 54\u001b[1;33m                 \u001b[1;34m\"reports\"\u001b[0m\u001b[1;33m:\u001b[0m \u001b[1;33m[\u001b[0m\u001b[0mgenerate_bruxism_report\u001b[0m\u001b[1;33m(\u001b[0m\u001b[0mbrux_comb_ep\u001b[0m\u001b[1;33m,\u001b[0m \u001b[0mwindow_length_brux\u001b[0m\u001b[1;33m,\u001b[0m \u001b[0mdelim_brux\u001b[0m\u001b[1;33m,\u001b[0m \u001b[0mmin_burst_joining\u001b[0m\u001b[1;33m=\u001b[0m\u001b[1;36m0\u001b[0m\u001b[1;33m)\u001b[0m\u001b[1;33m]\u001b[0m\u001b[1;33m\u001b[0m\u001b[1;33m\u001b[0m\u001b[0m\n\u001b[0m\u001b[0;32m     55\u001b[0m                 }\n\u001b[0;32m     56\u001b[0m \u001b[1;33m\u001b[0m\u001b[0m\n",
      "\u001b[1;31mTypeError\u001b[0m: generate_bruxism_report() missing 1 required positional argument: 'valid_labels'"
     ]
    }
   ],
   "source": [
    "from time import time\n",
    "# load file from config\n",
    "\n",
    "ind_THR_brux=-1\n",
    "ind_THR_MEMA = 0\n",
    "\n",
    "start = time()\n",
    "results_brux_combine={}\n",
    "results_brux_pure={}\n",
    "results_MEMA_combine={}\n",
    "results_MEMA_pure={}\n",
    "\n",
    "with warnings.catch_warnings():\n",
    "    warnings.simplefilter(\"ignore\", category=RuntimeWarning)\n",
    "    \n",
    "    print(\"Files processed : \")\n",
    "    \n",
    "    #Loop on all the patient files\n",
    "    for filename in EDF_list:\n",
    "        #opens the raw file\n",
    "        file = filename.split(os.path.sep)[-1]\n",
    "        print(file, end=\" \")\n",
    "        if not (file in results_brux.keys() and file in results_MEMA.keys()):\n",
    "            #print(results_brux[file][\"parameters\"][\"time_interval\"])\n",
    "            print(f\"(does not have both bruxism and mema)... skipping\")\n",
    "        else:\n",
    "            window_length_brux = results_brux[file][\"parameters\"][\"time_interval\"]\n",
    "            delim_brux = results_brux[file][\"parameters\"][\"delim\"]\n",
    "            window_length_MEMA = results_MEMA[file][\"parameters\"][\"time_interval\"]\n",
    "            delim_MEMA = results_MEMA[file][\"parameters\"][\"delim\"]\n",
    "            params_combine = dict(\n",
    "                                labels_brux = results_brux[file][\"labels\"][ind_THR_brux], \n",
    "                                time_interval_brux = results_brux[file][\"parameters\"][\"time_interval\"], \n",
    "                                delim_ep_brux = results_brux[file][\"parameters\"][\"delim\"], \n",
    "                                labels_MEMA = results_MEMA[file][\"labels\"][ind_THR_MEMA],\n",
    "                                time_interval_MEMA = results_MEMA[file][\"parameters\"][\"time_interval\"],\n",
    "                                delim_ep_MEMA = results_brux[file][\"parameters\"][\"delim\"],\n",
    "                                min_burst_joining_brux=min_burst_joining_brux, \n",
    "                                min_burst_joining_MEMA=min_burst_joining_MEMA\n",
    "                                )\n",
    "            print(results_MEMA[file][\"parameters\"][\"time_interval\"])\n",
    "            print(len(results_brux[file][\"labels\"][0]))\n",
    "            print(np.sum(results_brux[file][\"labels\"][0]))\n",
    "            print(results_brux[file][\"reports\"][0])\n",
    "            print(len(results_MEMA[file][\"labels\"][0])*4)\n",
    "            print(results_brux[file][\"parameters\"][\"time_interval\"])\n",
    "            \n",
    "            brux_comb_ep, brux_pure_ep, MEMA_comb_ep, MEMA_pure_ep = combine_brux_MEMA(**params_combine)\n",
    "            \n",
    "\n",
    "            \n",
    "            results_brux_combine[file]= { \"THR_classif\": [results_brux[file][\"THR_classif\"][ind_THR_brux]],\n",
    "                 \"labels\":  [brux_comb_ep]     ,              \n",
    "                \"reports\": [generate_bruxism_report(brux_comb_ep, window_length_brux, delim_brux, min_burst_joining=0)]\n",
    "                }\n",
    "            \n",
    "            results_brux_pure[file]= { \"THR_classif\": [results_brux[file][\"THR_classif\"][ind_THR_brux]],\n",
    "                 \"labels\":  [brux_pure_ep]     ,              \n",
    "                \"reports\": [generate_bruxism_report(brux_pure_ep, window_length_brux, delim_brux, min_burst_joining=0)]\n",
    "                }\n",
    "            \n",
    "\n",
    "            results_MEMA_combine[file]= { \"THR_classif\": [results_MEMA[file][\"THR_classif\"][ind_THR_brux]],\n",
    "                 \"labels\":  [MEMA_comb_ep]     ,              \n",
    "                \"reports\": [generate_MEMA_report(MEMA_comb_ep, window_length_brux, delim_MEMA)]}\n",
    "            \n",
    "            results_MEMA_pure[file]= { \"THR_classif\": [results_MEMA[file][\"THR_classif\"][ind_THR_brux]],\n",
    "                 \"labels\": [ MEMA_pure_ep  ]   ,              \n",
    "                \"reports\": [generate_MEMA_report(MEMA_pure_ep, window_length_brux, delim_MEMA)]}\n",
    "            \n",
    "            print(\"heu\")\n",
    "            print(len(MEMA_comb_ep))\n",
    "            print(np.sum(brux_comb_ep))\n",
    "            print(np.sum(brux_pure_ep))\n",
    "            print(window_length_brux)\n",
    "            print(delim_brux)\n",
    "            print(min_burst_joining_brux)\n",
    "            \n",
    "            pure_brux_bursts = classif_to_burst(brux_pure_ep, time_interval=window_length_brux)\n",
    "            li_ep_brux_p = burst_to_episode(pure_brux_bursts, delim=delim_brux, min_burst_joining= 0)#important!!\n",
    "            pure_brux_events = episodes_to_list(li_ep_brux_p, window_length_brux, len(brux_pure_ep))\n",
    "            \n",
    "            comb_brux_bursts = classif_to_burst(brux_comb_ep, time_interval=window_length_brux)\n",
    "            li_ep_brux_c = burst_to_episode(comb_brux_bursts, delim=delim_brux, min_burst_joining= 0) #Important!!\n",
    "            comb_brux_events = episodes_to_list(li_ep_brux_c, window_length_brux, len(brux_comb_ep))\n",
    "            \n",
    "            comb_MEMA_bursts = classif_to_burst(MEMA_comb_ep, time_interval=window_length_brux) # window_length_brux is valid ?\n",
    "            \n",
    "            pure_MEMA_bursts = classif_to_burst(MEMA_pure_ep, time_interval=window_length_brux) # window_length_brux is valid ?\n",
    "            \n",
    "            print(\"rapport d'activité : \")\n",
    "            print(\"nb episodes bruxisme combinés : \")\n",
    "            print(len(li_ep_brux_c))\n",
    "            print(\"Nb épisodes bruxisme purs : \")\n",
    "            print(len(li_ep_brux_p))\n",
    "            print(\"nb episodes MEMA combinés : \")\n",
    "            print(len(comb_MEMA_bursts))\n",
    "            print(\"Nb épisodes MEMA purs : \")\n",
    "            print(len(pure_MEMA_bursts))\n",
    "\n",
    "            \n",
    "            print(\"rapport d'activité taux horaire : \")\n",
    "            print(\"nb episodes bruxisme combinés : \")\n",
    "            print(len(li_ep_brux_c)/ ((len(MEMA_pure_ep)*window_length_brux)/3600))\n",
    "            print(\"Nb épisodes bruxisme purs : \")\n",
    "            print(len(li_ep_brux_p)/ ((len(MEMA_pure_ep)*window_length_brux)/3600))\n",
    "            print(\"nb episodes MEMA combinés : \")\n",
    "            print(len(comb_MEMA_bursts)/ ((len(MEMA_pure_ep)*window_length_brux)/3600))\n",
    "            print(\"Nb épisodes MEMA purs : \")\n",
    "            print(len(pure_MEMA_bursts)/ ((len(MEMA_pure_ep)*window_length_brux)/3600))\n",
    "            \n",
    "            new_l_comb=[]\n",
    "            for i in range(len(MEMA_comb_ep)):\n",
    "                if MEMA_comb_ep[i]:\n",
    "                    new_l_comb.append(3)\n",
    "                else:\n",
    "                    new_l_comb.append(0)\n",
    "                    \n",
    "            new_l_pure=[]\n",
    "            for i in range(len(MEMA_pure_ep)):\n",
    "                if MEMA_pure_ep[i]:\n",
    "                    new_l_pure.append(2)\n",
    "                else:\n",
    "                    new_l_pure.append(0)\n",
    "                    \n",
    "            for i in range(len(comb_brux_events)):\n",
    "                if comb_brux_events[i]>0:\n",
    "                    comb_brux_events[i]=4\n",
    "                    \n",
    "            for i in range(len(pure_brux_events)):\n",
    "                if pure_brux_events[i]>0:\n",
    "                    pure_brux_events[i]=5\n",
    "                    \n",
    "            plt.figure()\n",
    "            plt.plot(pure_brux_events, label=\"pure_brux\")\n",
    "            plt.plot(comb_brux_events, label=\"comb_brux\")\n",
    "            plt.plot(new_l_comb, label=\"comb_MEMA\")\n",
    "            plt.plot(new_l_pure, label=\"pure_MEMA\")\n",
    "            plt.legend()\n",
    "            plt.title(\"Where the events happen for \" + file)\n",
    "\n",
    "\n",
    "pd.DataFrame.from_dict(results_brux_combine).to_pickle(\"data/reports_and_datas_bruxism_combine.pk\", protocol=3)\n",
    "pd.DataFrame.from_dict(results_brux_pure).to_pickle(\"data/reports_and_datas_bruxism_pure.pk\", protocol=3)\n",
    "pd.DataFrame.from_dict(results_MEMA_combine).to_pickle(\"data/reports_and_datas_MEMA_combine.pk\", protocol=3)\n",
    "pd.DataFrame.from_dict(results_MEMA_pure).to_pickle(\"data/reports_and_datas_MEMA_pure.pk\", protocol=3)\n",
    "print(\"results saved!!\")"
   ]
  },
  {
   "cell_type": "markdown",
   "metadata": {},
   "source": [
    "## Display of the last computed recording"
   ]
  },
  {
   "cell_type": "code",
   "execution_count": 39,
   "metadata": {
    "pycharm": {
     "name": "#%%\n"
    }
   },
   "outputs": [
    {
     "name": "stdout",
     "output_type": "stream",
     "text": [
      "nb episodes\n",
      "222\n",
      "1GB19_nuit_hab.edf\n",
      "E:/Acou_sommeil/EDF_V2_PAUL\\1GB19_nuit_hab.edf\n",
      "11292\n",
      "6107520\n",
      "127240\n"
     ]
    },
    {
     "name": "stderr",
     "output_type": "stream",
     "text": [
      "<ipython-input-39-f8b7121371f3>:19: RuntimeWarning: 6 channel names are too long, have been truncated to 15 characters:\n",
      "['Inductance Abdom', 'Inductance Thora', 'Jambe droite Imp', 'Jambe gauche Imp', 'Tension (aliment', 'Tension (Bluetoo']\n",
      "  raw  = mne.io.read_raw_edf(filename, preload=False, verbose=False)  # prepare loading\n"
     ]
    },
    {
     "name": "stdout",
     "output_type": "stream",
     "text": [
      "200.0\n",
      "6362000\n",
      "Raw annotated\n"
     ]
    },
    {
     "data": {
      "text/plain": [
       "Text(0.5, 1, 'E:/Acou_sommeil/EDF_V2_PAUL\\\\1GB19_nuit_hab.edf')"
      ]
     },
     "execution_count": 39,
     "metadata": {},
     "output_type": "execute_result"
    }
   ],
   "source": [
    "labels_int= results_brux[file][\"labels\"][0]\n",
    "int_bursts = classif_to_burst(labels_int, time_interval=window_length_brux)\n",
    "li_ep_int = burst_to_episode(int_bursts, delim=delim_brux, min_burst_joining= min_burst_joining_brux)\n",
    "print(\"nb episodes\")\n",
    "print(len(li_ep_int))\n",
    "pure_int_events = episodes_to_list(li_ep_int, window_length_brux, len(brux_pure_ep))\n",
    "print(file)\n",
    "print(filename)\n",
    "duration_brux = 200*0.25\n",
    "print(np.sum(labels_int))\n",
    "print(len(labels_int)*48)\n",
    "\n",
    "interval_brux = duration_brux\n",
    "print (len(MEMA_comb_ep))\n",
    "#print(len(raw))\n",
    "#-----------------Pure MEMA episodes visualisation and comparison with ATM activity -----------------------------------\n",
    "#Preparing raw for visualisation\n",
    "picks_chan = ['Airflow', '1', '2', \"Activity\"]           # subset of EMG electrodes\n",
    "raw  = mne.io.read_raw_edf(filename, preload=False, verbose=False)  # prepare loading\n",
    "print(raw.info[\"sfreq\"])\n",
    "\n",
    "raw  = CreateRaw(raw[picks_chan][0], raw.info[\"sfreq\"], picks_chan, ch_types=['misc','emg','emg', \"misc\"])        # pick channels and load\n",
    "print(len(raw))\n",
    "scalings = dict(misc=1, emg=1e-5)\n",
    "\n",
    "raw  = raw.filter(20., 99., n_jobs=4, \n",
    "                  fir_design='firwin', filter_length='auto', phase='zero-double',\n",
    "                  picks=['1', '2'])\n",
    "#Annotating the raw\n",
    "raw = CleanAnnotations(raw)\n",
    "dict_annotations = {1: \"b_pure\", 2:\"b_comb\", 3:\"M_pure\", 4:\"M_comb\"}\n",
    "#raw = AnnotateRaw_sliding(raw, MEMA_comb_ep , \n",
    "#                dict_annotations=dict_annotations, duration=duration_brux, interval=interval_brux, merge=True)\n",
    "raw = AnnotateRaw_sliding(raw,  comb_brux_events, \n",
    "                dict_annotations=dict_annotations, duration=duration_brux, interval=interval_brux, merge=True)\n",
    "\n",
    "\n",
    "print(\"Raw annotated\")\n",
    "scalings = {'emg': 5e-5, 'misc': 0.2, 'bio':1e3}\n",
    "raw.plot(scalings = scalings)\n",
    "plt.title(filename)\n",
    "                    "
   ]
  },
  {
   "cell_type": "markdown",
   "metadata": {},
   "source": [
    "## Analysis "
   ]
  },
  {
   "cell_type": "code",
   "execution_count": 8,
   "metadata": {},
   "outputs": [],
   "source": [
    "#Here replace with the metric to analyse\n",
    "results = results_MEMA_pure\n",
    "THR_classif = results[list(results.keys())[0]][\"THR_classif\"]"
   ]
  },
  {
   "cell_type": "code",
   "execution_count": 9,
   "metadata": {},
   "outputs": [
    {
     "name": "stdout",
     "output_type": "stream",
     "text": [
      "1DA15_nuit_hab.edf\n",
      "29.357798165137616\n",
      "dict_keys(['Clean MEMA duration', 'Total MEMA burst duration', 'Total number of MEMA burst', 'Number of MEMA bursts per hour', 'Total number of MEMA episodes', 'Number of MEMA bursts per episode', 'Number of MEMA episodes per hour', 'Mean duration of MEMA episode'])\n",
      "1GB19_nuit_hab.edf\n",
      "30.443256837472493\n",
      "dict_keys(['Clean MEMA duration', 'Total MEMA burst duration', 'Total number of MEMA burst', 'Number of MEMA bursts per hour', 'Total number of MEMA episodes', 'Number of MEMA bursts per episode', 'Number of MEMA episodes per hour', 'Mean duration of MEMA episode'])\n",
      "1MF19_nuit_hab.edf\n",
      "11.609336609336609\n",
      "dict_keys(['Clean MEMA duration', 'Total MEMA burst duration', 'Total number of MEMA burst', 'Number of MEMA bursts per hour', 'Total number of MEMA episodes', 'Number of MEMA bursts per episode', 'Number of MEMA episodes per hour', 'Mean duration of MEMA episode'])\n",
      "HZB_nuit_1.edf\n",
      "18.35236541598695\n",
      "dict_keys(['Clean MEMA duration', 'Total MEMA burst duration', 'Total number of MEMA burst', 'Number of MEMA bursts per hour', 'Total number of MEMA episodes', 'Number of MEMA bursts per episode', 'Number of MEMA episodes per hour', 'Mean duration of MEMA episode'])\n",
      "HZB_nuit_2.edf\n",
      "15.502392344497608\n",
      "dict_keys(['Clean MEMA duration', 'Total MEMA burst duration', 'Total number of MEMA burst', 'Number of MEMA bursts per hour', 'Total number of MEMA episodes', 'Number of MEMA bursts per episode', 'Number of MEMA episodes per hour', 'Mean duration of MEMA episode'])\n",
      "HZB_nuit_3.edf\n",
      "10.66880256307569\n",
      "dict_keys(['Clean MEMA duration', 'Total MEMA burst duration', 'Total number of MEMA burst', 'Number of MEMA bursts per hour', 'Total number of MEMA episodes', 'Number of MEMA bursts per episode', 'Number of MEMA episodes per hour', 'Mean duration of MEMA episode'])\n",
      "SCHMIDTLIN_nuit_3_dec_OD__4to0to2.edf\n",
      "29.202939513849632\n",
      "dict_keys(['Clean MEMA duration', 'Total MEMA burst duration', 'Total number of MEMA burst', 'Number of MEMA bursts per hour', 'Total number of MEMA episodes', 'Number of MEMA bursts per episode', 'Number of MEMA episodes per hour', 'Mean duration of MEMA episode'])\n",
      "SCHMIDTLIN_nuit_4_dec_OD__3to3.edf\n",
      "22.106305711455928\n",
      "dict_keys(['Clean MEMA duration', 'Total MEMA burst duration', 'Total number of MEMA burst', 'Number of MEMA bursts per hour', 'Total number of MEMA episodes', 'Number of MEMA bursts per episode', 'Number of MEMA episodes per hour', 'Mean duration of MEMA episode'])\n",
      "SCHMIDTLIN_nuit_5_dec_OD__0to1.edf\n",
      "27.861827721906426\n",
      "dict_keys(['Clean MEMA duration', 'Total MEMA burst duration', 'Total number of MEMA burst', 'Number of MEMA bursts per hour', 'Total number of MEMA episodes', 'Number of MEMA bursts per episode', 'Number of MEMA episodes per hour', 'Mean duration of MEMA episode'])\n",
      "SCHM_nuit_1.edf\n",
      "7.790432801822323\n",
      "dict_keys(['Clean MEMA duration', 'Total MEMA burst duration', 'Total number of MEMA burst', 'Number of MEMA bursts per hour', 'Total number of MEMA episodes', 'Number of MEMA bursts per episode', 'Number of MEMA episodes per hour', 'Mean duration of MEMA episode'])\n",
      "SCHM_nuit_2.edf\n",
      "16.13217693193039\n",
      "dict_keys(['Clean MEMA duration', 'Total MEMA burst duration', 'Total number of MEMA burst', 'Number of MEMA bursts per hour', 'Total number of MEMA episodes', 'Number of MEMA bursts per episode', 'Number of MEMA episodes per hour', 'Mean duration of MEMA episode'])\n",
      "SCHM_nuit_3.edf\n",
      "20.959757266049184\n",
      "dict_keys(['Clean MEMA duration', 'Total MEMA burst duration', 'Total number of MEMA burst', 'Number of MEMA bursts per hour', 'Total number of MEMA episodes', 'Number of MEMA bursts per episode', 'Number of MEMA episodes per hour', 'Mean duration of MEMA episode'])\n",
      "Schmidtlin_nuit_2_dec_3to0to4.edf\n",
      "39.56043956043956\n",
      "dict_keys(['Clean MEMA duration', 'Total MEMA burst duration', 'Total number of MEMA burst', 'Number of MEMA bursts per hour', 'Total number of MEMA episodes', 'Number of MEMA bursts per episode', 'Number of MEMA episodes per hour', 'Mean duration of MEMA episode'])\n",
      "Unger_2.edf\n",
      "73.45591532112319\n",
      "dict_keys(['Clean MEMA duration', 'Total MEMA burst duration', 'Total number of MEMA burst', 'Number of MEMA bursts per hour', 'Total number of MEMA episodes', 'Number of MEMA bursts per episode', 'Number of MEMA episodes per hour', 'Mean duration of MEMA episode'])\n",
      "jon_mema.edf\n",
      "22.233180456464297\n",
      "dict_keys(['Clean MEMA duration', 'Total MEMA burst duration', 'Total number of MEMA burst', 'Number of MEMA bursts per hour', 'Total number of MEMA episodes', 'Number of MEMA bursts per episode', 'Number of MEMA episodes per hour', 'Mean duration of MEMA episode'])\n",
      "jose_mema.edf\n",
      "5.395829024164321\n",
      "dict_keys(['Clean MEMA duration', 'Total MEMA burst duration', 'Total number of MEMA burst', 'Number of MEMA bursts per hour', 'Total number of MEMA episodes', 'Number of MEMA bursts per episode', 'Number of MEMA episodes per hour', 'Mean duration of MEMA episode'])\n",
      "robin_mema_nuit_1.edf\n",
      "20.90812596442412\n",
      "dict_keys(['Clean MEMA duration', 'Total MEMA burst duration', 'Total number of MEMA burst', 'Number of MEMA bursts per hour', 'Total number of MEMA episodes', 'Number of MEMA bursts per episode', 'Number of MEMA episodes per hour', 'Mean duration of MEMA episode'])\n",
      "robin_mema_nuit_2.edf\n",
      "35.17915713287975\n",
      "dict_keys(['Clean MEMA duration', 'Total MEMA burst duration', 'Total number of MEMA burst', 'Number of MEMA bursts per hour', 'Total number of MEMA episodes', 'Number of MEMA bursts per episode', 'Number of MEMA episodes per hour', 'Mean duration of MEMA episode'])\n",
      "sophie_mema.edf\n",
      "22.48224187477233\n",
      "dict_keys(['Clean MEMA duration', 'Total MEMA burst duration', 'Total number of MEMA burst', 'Number of MEMA bursts per hour', 'Total number of MEMA episodes', 'Number of MEMA bursts per episode', 'Number of MEMA episodes per hour', 'Mean duration of MEMA episode'])\n",
      "tom_mema.edf\n",
      "17.537067054647213\n",
      "dict_keys(['Clean MEMA duration', 'Total MEMA burst duration', 'Total number of MEMA burst', 'Number of MEMA bursts per hour', 'Total number of MEMA episodes', 'Number of MEMA bursts per episode', 'Number of MEMA episodes per hour', 'Mean duration of MEMA episode'])\n",
      "unger_nuit_1.edf\n",
      "52.06023562077011\n",
      "dict_keys(['Clean MEMA duration', 'Total MEMA burst duration', 'Total number of MEMA burst', 'Number of MEMA bursts per hour', 'Total number of MEMA episodes', 'Number of MEMA bursts per episode', 'Number of MEMA episodes per hour', 'Mean duration of MEMA episode'])\n",
      "21\n",
      "[['1DA15_nuit_hab.edf', [29.357798165137616]], ['1GB19_nuit_hab.edf', [30.443256837472493]], ['1MF19_nuit_hab.edf', [11.609336609336609]], ['HZB_nuit_1.edf', [18.35236541598695]], ['HZB_nuit_2.edf', [15.502392344497608]], ['HZB_nuit_3.edf', [10.66880256307569]], ['SCHMIDTLIN_nuit_3_dec_OD__4to0to2.edf', [29.202939513849632]], ['SCHMIDTLIN_nuit_4_dec_OD__3to3.edf', [22.106305711455928]], ['SCHMIDTLIN_nuit_5_dec_OD__0to1.edf', [27.861827721906426]], ['SCHM_nuit_1.edf', [7.790432801822323]], ['SCHM_nuit_2.edf', [16.13217693193039]], ['SCHM_nuit_3.edf', [20.959757266049184]], ['Schmidtlin_nuit_2_dec_3to0to4.edf', [39.56043956043956]], ['Unger_2.edf', [73.45591532112319]], ['jon_mema.edf', [22.233180456464297]], ['jose_mema.edf', [5.395829024164321]], ['robin_mema_nuit_1.edf', [20.90812596442412]], ['robin_mema_nuit_2.edf', [35.17915713287975]], ['sophie_mema.edf', [22.48224187477233]], ['tom_mema.edf', [17.537067054647213]], ['unger_nuit_1.edf', [52.06023562077011]]]\n"
     ]
    }
   ],
   "source": [
    "get_scores=[]\n",
    "for elm in results.keys():\n",
    "        print (elm)\n",
    "        l_ep_h=[]\n",
    "        for ep in results[elm][\"reports\"]:\n",
    "            print(ep[\"Number of MEMA episodes per hour\"])\n",
    "            \n",
    "            l_ep_h.append(ep[\"Number of MEMA episodes per hour\"])\n",
    "        print(ep.keys())\n",
    "\n",
    "        get_scores.append([elm.split(os.path.sep)[-1], l_ep_h])\n",
    "print(len(get_scores))\n",
    "print(get_scores)"
   ]
  },
  {
   "cell_type": "code",
   "execution_count": 10,
   "metadata": {},
   "outputs": [],
   "source": [
    "get_masking = pd.read_csv(\"data/evol_masquage.csv\", delimiter=\";\")\n",
    "#print(get_masking)\n",
    "get_VAS_L = pd.read_csv(\"data/evol_eva_I.csv\", delimiter=\";\")\n",
    "#print(get_VAS_L)\n",
    "get_VAS_I = pd.read_csv(\"data/evol_eva_G.csv\", delimiter=\";\")\n",
    "#print(get_VAS_I)\n",
    "\n",
    "evol_masking = get_masking.values.tolist()[:-4]\n",
    "evol_VAS_L = get_VAS_L.values.tolist()\n",
    "evol_VAS_I = get_VAS_I.values.tolist()"
   ]
  },
  {
   "cell_type": "code",
   "execution_count": 11,
   "metadata": {},
   "outputs": [
    {
     "name": "stdout",
     "output_type": "stream",
     "text": [
      "1DA15_nuit_hab.edf\n",
      "1GB19_nuit_hab.edf\n",
      "HZB_nuit_1.edf\n",
      "HZB_nuit_2.edf\n",
      "SCHM_nuit_2.edf\n",
      "Unger_2.edf\n",
      "unger_nuit_1.edf\n",
      "Nb_patients in each group : \n",
      "Tinnitus increase : 2\n",
      "Tinnitus stable : 3\n",
      "tinnitus decrease : 2\n",
      "Healthy subjects : 4\n"
     ]
    },
    {
     "data": {
      "text/plain": [
       "<matplotlib.legend.Legend at 0x230e75e1208>"
      ]
     },
     "execution_count": 11,
     "metadata": {},
     "output_type": "execute_result"
    },
    {
     "data": {
      "image/png": "[encoded data removed]",
      "text/plain": [
       "<Figure size 432x288 with 1 Axes>"
      ]
     },
     "metadata": {
      "needs_background": "light"
     },
     "output_type": "display_data"
    }
   ],
   "source": [
    "# Files not to consider for analysis\n",
    "to_suppress=[\"1MA16_nuit_hab.edf\",\"SCHM_nuit_1.edf\",\"HZB_nuit_3.edf\", \"1MF19_nuit_hab.edf\",\n",
    "            \"Schmidtlin_nuit_2_dec_3to0to4.edf\", \"SCHMIDTLIN_nuit_5_dec_OD__0to1.edf\",\n",
    "             \"SCHMIDTLIN_nuit_3_dec_OD__4to0to2.edf\",\"1MA16_nuit_hab.edf\",\n",
    "             \"SCHMIDTLIN_nuit_4_dec_OD__3to3.edf\",]\n",
    "#Jutification : \"Schmidtlin_nuit_2_dec_3to0to4.edf\", \"SCHMIDTLIN_nuit_1_dec_OD__0to0.edf\", \n",
    "# \"SCHMIDTLIN_nuit_3_dec_OD__4to0to2.edf\" : compromised data\n",
    "# 1MA16_nuit_hab : patient awake all night\n",
    "# HZB_nuit_3.edf partial night \n",
    "patients_sains=['jon_mema.edf','robin_mema_nuit_2.edf','sophie_mema.edf','tom_mema.edf']\n",
    "#Preparing values for correlation scatter plots\n",
    "scat=[[] for i in range(len(THR_classif))]  #scatter plots with absolute values\n",
    "pourc_scat=[[] for i in range(len(THR_classif))]  #scatter plots with percentages values\n",
    "\n",
    "\n",
    "augm=[[] for i in range(len(THR_classif))]  #patients with tinnitus increase\n",
    "stable=[[] for i in range(len(THR_classif))] #patients with stable\n",
    "decrease = [[] for i in range(len(THR_classif))] #patients with decreasing tinnitus\n",
    "for elm in evol_masking:\n",
    "    for i in range(len(get_scores)):\n",
    "     if not to_suppress.__contains__(elm[0]):\n",
    "        \n",
    "        if elm[0]==get_scores[i][0]:\n",
    "            print(elm[0])\n",
    "            #For correlation scatter plots\n",
    "            for j in range(len(THR_classif)):\n",
    "                #getting points [abs evolution masking volume ; coreesponding nb_episode/hour]\n",
    "                scat[j].append([elm[-2], get_scores[i][1][j]])\n",
    "                \n",
    "                    #getting points [% evolution masking volume ; coreesponding nb_episode/hour]\n",
    "                pourc_scat[j].append([elm[-1], get_scores[i][1][j]])\n",
    "            \n",
    "            #Sorting patients according to tinnitus evolution overnight\n",
    "            if (elm[2]>0.1):\n",
    "                for j in range(len(THR_classif)):\n",
    "                    augm[j].append(get_scores[i][1][j])\n",
    "            else:\n",
    "                if (elm[2]<-0.1):\n",
    "                    for j in range(len(THR_classif)):\n",
    "                        decrease[j].append(get_scores[i][1][j])\n",
    "                else:\n",
    "                    for j in range(len(THR_classif)):\n",
    "                        stable[j].append(get_scores[i][1][j])\n",
    "                    \n",
    "scores_sains=[[] for i in range(len(THR_classif))]\n",
    "for elm in get_scores:\n",
    "    if patients_sains.__contains__(elm[0]):\n",
    "        for j in range(len(THR_classif)):\n",
    "            scores_sains[j].append(elm[1][j])\n",
    "scores_sains_m=[]\n",
    "scores_sains_std=[]\n",
    "for elm in scores_sains:\n",
    "    scores_sains_m.append(np.mean(elm))\n",
    "    scores_sains_std.append(np.std(elm))\n",
    "                    \n",
    "#Calculating mean and standard deviation for all THR_classif values\n",
    "augm_m=[]\n",
    "augm_std=[]\n",
    "stable_m=[]\n",
    "stable_std=[]\n",
    "decrease_m=[]\n",
    "decrease_std=[]\n",
    "for elm in augm:\n",
    "    augm_m.append(np.mean(elm))\n",
    "    augm_std.append(np.std(elm))\n",
    "for elm in stable:\n",
    "    stable_m.append(np.mean(elm))\n",
    "    stable_std.append(np.std(elm))\n",
    "for elm in decrease:\n",
    "    decrease_m.append(np.mean(elm))\n",
    "    decrease_std.append(np.std(elm))\n",
    "    \n",
    "print(\"Nb_patients in each group : \")\n",
    "print(\"Tinnitus increase : \" + str(len(augm[0])))\n",
    "print(\"Tinnitus stable : \" + str(len(stable[0])))\n",
    "print(\"tinnitus decrease : \" + str(len(decrease[0])))\n",
    "print(\"Healthy subjects : \" + str(len(scores_sains[0])))\n",
    "\n",
    "    \n",
    "#Displaying\n",
    "plt.figure()\n",
    "plt.errorbar([i+3 for i in range(len(THR_classif))],decrease_m, decrease_std, label = \"decrease\")\n",
    "plt.errorbar([i+3 for i in range(len(THR_classif))],stable_m, stable_std, label = \"stable\")\n",
    "plt.errorbar([i+3 for i in range(len(THR_classif))], augm_m, augm_std, label = \"increase\")\n",
    "plt.errorbar([i+3 for i in range(len(THR_classif))], scores_sains_m, scores_sains_std, label = \"healthy young\")\n",
    "plt.title(\"Comparing nb_episodes/hour (y) between patients with (or) \\n and without (bl) tinnitus increase for masking\" )\n",
    "plt.xlabel('THR_classif value')\n",
    "plt.ylabel('Nb of episodes per hour')\n",
    "plt.legend()"
   ]
  },
  {
   "cell_type": "code",
   "execution_count": 12,
   "metadata": {},
   "outputs": [
    {
     "data": {
      "image/png": "[encoded data removed]",
      "text/plain": [
       "<Figure size 432x288 with 1 Axes>"
      ]
     },
     "metadata": {
      "needs_background": "light"
     },
     "output_type": "display_data"
    }
   ],
   "source": [
    "for j in range(len(THR_classif)):  \n",
    "    tab = np.asanyarray(scat[j])\n",
    "    tab = tab.transpose()\n",
    "    #print(j+2)\n",
    "    \n",
    "    regre = scipy.stats.linregress(tab[0],tab[1])\n",
    "    #print(regre)\n",
    "    slope=regre[0]\n",
    "    intercept = regre[1]\n",
    "    plt.figure()\n",
    "    plt.scatter(tab[0], tab[1])\n",
    "    plt.plot([i-25 for i in range(40)],[intercept + slope *(i-25) for i in range(40)])\n",
    "    #plt.plot([i-1 for i in range(3)],[intercept + slope *(i-1) for i in range(3)])\n",
    "    plt.title(\"Correlation attempt for THR_classif of \" + str(j+2) + \" with p_val \"+ str(\"%.3f\" % regre[3]))\n",
    "    plt.xlabel('(Morning masking volume) - (night masking volume) ')\n",
    "    plt.ylabel('Nb of episodes per hour')"
   ]
  },
  {
   "cell_type": "code",
   "execution_count": 13,
   "metadata": {},
   "outputs": [
    {
     "data": {
      "image/png": "[encoded data removed]",
      "text/plain": [
       "<Figure size 432x288 with 1 Axes>"
      ]
     },
     "metadata": {
      "needs_background": "light"
     },
     "output_type": "display_data"
    }
   ],
   "source": [
    "for j in range(len(THR_classif)):\n",
    "    tab = np.asanyarray(pourc_scat[j])\n",
    "    tab = tab.transpose()\n",
    "    regre = scipy.stats.linregress(tab[0],tab[1])\n",
    "    spear = scipy.stats.spearmanr(tab[0],tab[1])\n",
    "    slope=regre[0]\n",
    "    intercept = regre[1]\n",
    "    plt.figure()\n",
    "    plt.scatter(tab[0], tab[1])\n",
    "    plt.plot([i-1 for i in range(3)],[intercept + slope *(i-1) for i in range(3)])\n",
    "    plt.title(\"Correlation attempt for THR_classif of \" + str(j+2) + \" with spearman p_val \"+ str(\"%.3f\" % spear[1]))\n",
    "    plt.xlabel('(Morning masking volume) - (night masking volume) / (night masking volume) ')\n",
    "    plt.ylabel('Nb of episodes per hour')"
   ]
  },
  {
   "cell_type": "code",
   "execution_count": null,
   "metadata": {},
   "outputs": [],
   "source": [
    "#VAS L"
   ]
  },
  {
   "cell_type": "code",
   "execution_count": 14,
   "metadata": {},
   "outputs": [
    {
     "name": "stdout",
     "output_type": "stream",
     "text": [
      "Nb_patients in each group : \n",
      "Tinnitus increase : 3\n",
      "Tinnitus stable : 3\n",
      "tinnitus decrease : 4\n",
      "Healthy subjects : 4\n"
     ]
    },
    {
     "data": {
      "text/plain": [
       "<matplotlib.legend.Legend at 0x230ebf95e10>"
      ]
     },
     "execution_count": 14,
     "metadata": {},
     "output_type": "execute_result"
    },
    {
     "data": {
      "image/png": "[encoded data removed]",
      "text/plain": [
       "<Figure size 432x288 with 1 Axes>"
      ]
     },
     "metadata": {
      "needs_background": "light"
     },
     "output_type": "display_data"
    }
   ],
   "source": [
    "#Preparing values for correlation scatter plots\n",
    "scat=[[] for i in range(len(THR_classif))]  #scatter plots with absolute values\n",
    "pourc_scat=[[] for i in range(len(THR_classif))]  #scatter plots with percentages values\n",
    "\n",
    "\n",
    "augm=[[] for i in range(len(THR_classif))]  #patients with tinnitus increase\n",
    "stable=[[] for i in range(len(THR_classif))] #patients with stable or decreasing tinnitus\n",
    "for elm in evol_VAS_L:\n",
    "    for i in range(len(get_scores)):\n",
    "     if not to_suppress.__contains__(elm[0]):\n",
    "        if elm[0]==get_scores[i][0]:\n",
    "            \n",
    "            #For correlation scatter plots\n",
    "            for j in range(len(THR_classif)):\n",
    "                #getting points [abs evolution masking volume ; coreesponding nb_episode/hour]\n",
    "                scat[j].append([elm[-2], get_scores[i][1][j]])\n",
    "                \n",
    "                    #getting points [% evolution masking volume ; coreesponding nb_episode/hour]\n",
    "                pourc_scat[j].append([elm[-1], get_scores[i][1][j]])\n",
    "                \n",
    "            if (elm[2]>0.1):\n",
    "                for j in range(len(THR_classif)):\n",
    "                    augm[j].append(get_scores[i][1][j])\n",
    "            else:\n",
    "                if (elm[2]<-0.1):\n",
    "                    for j in range(len(THR_classif)):\n",
    "                        decrease[j].append(get_scores[i][1][j])\n",
    "                else:\n",
    "                    for j in range(len(THR_classif)):\n",
    "                        stable[j].append(get_scores[i][1][j])\n",
    "                    \n",
    "scores_sains=[[] for i in range(len(THR_classif))]\n",
    "for elm in get_scores:\n",
    "    if patients_sains.__contains__(elm[0]):\n",
    "        for j in range(len(THR_classif)):\n",
    "            scores_sains[j].append(elm[1][j])\n",
    "scores_sains_m=[]\n",
    "scores_sains_std=[]\n",
    "for elm in scores_sains:\n",
    "    scores_sains_m.append(np.mean(elm))\n",
    "    scores_sains_std.append(np.std(elm))\n",
    "                    \n",
    "#Calculating mean and standard deviation for all THR_classif values\n",
    "augm_m=[]\n",
    "augm_std=[]\n",
    "stable_m=[]\n",
    "stable_std=[]\n",
    "decrease_m=[]\n",
    "decrease_std=[]\n",
    "for elm in augm:\n",
    "    augm_m.append(np.mean(elm))\n",
    "    augm_std.append(np.std(elm))\n",
    "for elm in stable:\n",
    "    stable_m.append(np.mean(elm))\n",
    "    stable_std.append(np.std(elm))\n",
    "for elm in decrease:\n",
    "    decrease_m.append(np.mean(elm))\n",
    "    decrease_std.append(np.std(elm))\n",
    "    \n",
    "print(\"Nb_patients in each group : \")\n",
    "print(\"Tinnitus increase : \" + str(len(augm[0])))\n",
    "print(\"Tinnitus stable : \" + str(len(stable[0])))\n",
    "print(\"tinnitus decrease : \" + str(len(decrease[0])))\n",
    "print(\"Healthy subjects : \" + str(len(scores_sains[0])))\n",
    "\n",
    "    \n",
    "#Displaying\n",
    "plt.figure()\n",
    "plt.errorbar([i+3 for i in range(len(THR_classif))],decrease_m, decrease_std, label = \"decrease\")\n",
    "plt.errorbar([i+3 for i in range(len(THR_classif))],stable_m, stable_std, label = \"stable\")\n",
    "plt.errorbar([i+3 for i in range(len(THR_classif))], augm_m, augm_std, label = \"increase\")\n",
    "plt.errorbar([i+3 for i in range(len(THR_classif))], scores_sains_m, scores_sains_std, label = \"healthy young\")\n",
    "plt.title(\"Comparing nb_episodes/hour (y) between patients with (or) \\n and without (bl) tinnitus increase for VAS_L\" )\n",
    "plt.xlabel('THR_classif value')\n",
    "plt.ylabel('Nb of episodes per hour')\n",
    "plt.legend()            \n",
    "\n"
   ]
  },
  {
   "cell_type": "code",
   "execution_count": 15,
   "metadata": {},
   "outputs": [
    {
     "data": {
      "image/png": "[encoded data removed]",
      "text/plain": [
       "<Figure size 432x288 with 1 Axes>"
      ]
     },
     "metadata": {
      "needs_background": "light"
     },
     "output_type": "display_data"
    }
   ],
   "source": [
    "for j in range(len(THR_classif)):  \n",
    "    tab = np.asanyarray(scat[j])\n",
    "    tab = tab.transpose()\n",
    "    #print(j+2)\n",
    "    \n",
    "    regre = scipy.stats.linregress(tab[0],tab[1])\n",
    "    spear = scipy.stats.spearmanr(tab[0],tab[1])\n",
    "    #print(regre)\n",
    "    slope=regre[0]\n",
    "    intercept = regre[1]\n",
    "    plt.figure()\n",
    "    plt.scatter(tab[0], tab[1])\n",
    "    plt.plot([i-7 for i in range(14)],[intercept + slope *(i-7) for i in range(14)])\n",
    "    #plt.plot([i-1 for i in range(3)],[intercept + slope *(i-1) for i in range(3)])\n",
    "    plt.title(\"Correlation attempt for THR_classif of \" + str(j+2) + \" with spearman p_val \"+ str(\"%.3f\" % spear[1]))\n",
    "    plt.xlabel('(Morning VAS_L after) - (morning VAS_L before) ')\n",
    "    plt.ylabel('Nb of episodes per hour')"
   ]
  },
  {
   "cell_type": "code",
   "execution_count": 16,
   "metadata": {},
   "outputs": [
    {
     "data": {
      "image/png": "[encoded data removed]",
      "text/plain": [
       "<Figure size 432x288 with 1 Axes>"
      ]
     },
     "metadata": {
      "needs_background": "light"
     },
     "output_type": "display_data"
    }
   ],
   "source": [
    "for j in range(len(THR_classif)):\n",
    "    tab = np.asanyarray(pourc_scat[j])\n",
    "    tab = tab.transpose()\n",
    "    regre = scipy.stats.linregress(tab[0],tab[1])\n",
    "    spear = scipy.stats.spearmanr(tab[0],tab[1])\n",
    "    slope=regre[0]\n",
    "    intercept = regre[1]\n",
    "    plt.figure()\n",
    "    plt.scatter(tab[0], tab[1])\n",
    "    plt.plot([i-1 for i in range(3)],[intercept + slope *(i-1) for i in range(3)])\n",
    "    plt.title(\"Correlation attempt for THR_classif of \" + str(j+2) + \" with spearman p_val \"+ str(\"%.3f\" % spear[1]))\n",
    "    plt.xlabel('(Morning VAS_L after) - (morning VAS_L before) / (morning VAS_L before) ')\n",
    "    plt.ylabel('Nb of episodes per hour')"
   ]
  },
  {
   "cell_type": "code",
   "execution_count": null,
   "metadata": {},
   "outputs": [],
   "source": [
    "#VAS I"
   ]
  },
  {
   "cell_type": "code",
   "execution_count": 17,
   "metadata": {},
   "outputs": [
    {
     "name": "stdout",
     "output_type": "stream",
     "text": [
      "1DA15_nuit_hab.edf\n",
      "1GB19_nuit_hab.edf\n",
      "HZB_nuit_1.edf\n",
      "HZB_nuit_2.edf\n",
      "SCHM_nuit_2.edf\n",
      "SCHM_nuit_3.edf\n",
      "Unger_2.edf\n",
      "unger_nuit_1.edf\n",
      "Nb_patients in each group : \n",
      "Tinnitus increase : 4\n",
      "Tinnitus stable : 2\n",
      "tinnitus decrease : 6\n",
      "Healthy subjects : 4\n"
     ]
    },
    {
     "data": {
      "text/plain": [
       "<matplotlib.legend.Legend at 0x230edd32390>"
      ]
     },
     "execution_count": 17,
     "metadata": {},
     "output_type": "execute_result"
    },
    {
     "data": {
      "image/png": "[encoded data removed]",
      "text/plain": [
       "<Figure size 432x288 with 1 Axes>"
      ]
     },
     "metadata": {
      "needs_background": "light"
     },
     "output_type": "display_data"
    }
   ],
   "source": [
    "#Preparing values for correlation scatter plots\n",
    "scat=[[] for i in range(len(THR_classif))]  #scatter plots with absolute values\n",
    "pourc_scat=[[] for i in range(len(THR_classif))]  #scatter plots with percentages values\n",
    "\n",
    "\n",
    "augm=[[] for i in range(len(THR_classif))]  #patients with tinnitus increase\n",
    "stable=[[] for i in range(len(THR_classif))] #patients with stable or decreasing tinnitus\n",
    "for elm in evol_VAS_I:\n",
    "    for i in range(len(get_scores)):\n",
    "     if not to_suppress.__contains__(elm[0]):\n",
    "        if elm[0]==get_scores[i][0]:\n",
    "            print(elm[0])\n",
    "            #For correlation scatter plots\n",
    "            for j in range(len(THR_classif)):\n",
    "                #getting points [abs evolution masking volume ; coreesponding nb_episode/hour]\n",
    "                scat[j].append([elm[-2], get_scores[i][1][j]])\n",
    "                    #getting points [% evolution masking volume ; coreesponding nb_episode/hour]\n",
    "                pourc_scat[j].append([elm[-1], get_scores[i][1][j]])\n",
    "            \n",
    "            #Sorting patients according to tinnitus evolution overnight\n",
    "            if (elm[2]>0.1):\n",
    "                for j in range(len(THR_classif)):\n",
    "                    augm[j].append(get_scores[i][1][j])\n",
    "            else:\n",
    "                if (elm[2]<-0.1):\n",
    "                    for j in range(len(THR_classif)):\n",
    "                        decrease[j].append(get_scores[i][1][j])\n",
    "                else:\n",
    "                    for j in range(len(THR_classif)):\n",
    "                        stable[j].append(get_scores[i][1][j])\n",
    "                    \n",
    "scores_sains=[[] for i in range(len(THR_classif))]\n",
    "for elm in get_scores:\n",
    "    if patients_sains.__contains__(elm[0]):\n",
    "        for j in range(len(THR_classif)):\n",
    "            scores_sains[j].append(elm[1][j])\n",
    "scores_sains_m=[]\n",
    "scores_sains_std=[]\n",
    "for elm in scores_sains:\n",
    "    scores_sains_m.append(np.mean(elm))\n",
    "    scores_sains_std.append(np.std(elm))\n",
    "                    \n",
    "#Calculating mean and standard deviation for all THR_classif values\n",
    "augm_m=[]\n",
    "augm_std=[]\n",
    "stable_m=[]\n",
    "stable_std=[]\n",
    "decrease_m=[]\n",
    "decrease_std=[]\n",
    "for elm in augm:\n",
    "    augm_m.append(np.mean(elm))\n",
    "    augm_std.append(np.std(elm))\n",
    "for elm in stable:\n",
    "    stable_m.append(np.mean(elm))\n",
    "    stable_std.append(np.std(elm))\n",
    "for elm in decrease:\n",
    "    decrease_m.append(np.mean(elm))\n",
    "    decrease_std.append(np.std(elm))\n",
    "    \n",
    "print(\"Nb_patients in each group : \")\n",
    "print(\"Tinnitus increase : \" + str(len(augm[0])))\n",
    "print(\"Tinnitus stable : \" + str(len(stable[0])))\n",
    "print(\"tinnitus decrease : \" + str(len(decrease[0])))\n",
    "print(\"Healthy subjects : \" + str(len(scores_sains[0])))\n",
    "\n",
    "    \n",
    "#Displaying\n",
    "plt.figure()\n",
    "plt.errorbar([i+3 for i in range(len(THR_classif))],decrease_m, decrease_std, label = \"decrease\")\n",
    "plt.errorbar([i+3 for i in range(len(THR_classif))],stable_m, stable_std, label = \"stable\")\n",
    "plt.errorbar([i+3 for i in range(len(THR_classif))], augm_m, augm_std, label = \"increase\")\n",
    "plt.errorbar([i+3 for i in range(len(THR_classif))], scores_sains_m, scores_sains_std, label = \"healthy young\")\n",
    "plt.title(\"Comparing nb_episodes/hour (y) between patients with (or) \\n and without (bl) tinnitus increase for VAS_I\" )\n",
    "plt.xlabel('THR_classif value')\n",
    "plt.ylabel('Nb of episodes per hour')\n",
    "plt.legend()            \n",
    "\n"
   ]
  },
  {
   "cell_type": "code",
   "execution_count": 18,
   "metadata": {},
   "outputs": [
    {
     "data": {
      "image/png": "[encoded data removed]",
      "text/plain": [
       "<Figure size 432x288 with 1 Axes>"
      ]
     },
     "metadata": {
      "needs_background": "light"
     },
     "output_type": "display_data"
    }
   ],
   "source": [
    "for j in range(len(THR_classif)):  \n",
    "    tab = np.asanyarray(scat[j])\n",
    "    tab = tab.transpose()\n",
    "    #print(j+2)\n",
    "    \n",
    "    regre = scipy.stats.linregress(tab[0],tab[1])\n",
    "    spear = scipy.stats.spearmanr(tab[0],tab[1])\n",
    "    #print(regre)\n",
    "    slope=regre[0]\n",
    "    intercept = regre[1]\n",
    "    plt.figure()\n",
    "    plt.scatter(tab[0], tab[1])\n",
    "    plt.plot([i-7 for i in range(14)],[intercept + slope *(i-7) for i in range(14)])\n",
    "    #plt.plot([i-1 for i in range(3)],[intercept + slope *(i-1) for i in range(3)])\n",
    "    plt.title(\"Correlation attempt for THR_classif of \" + str(j+2) + \" with p_val \"+ str(\"%.3f\" % spear[1]))\n",
    "    plt.xlabel('(Morning VAS_I after) - (morning VAS_I before) ')\n",
    "    plt.ylabel('Nb of episodes per hour')"
   ]
  },
  {
   "cell_type": "code",
   "execution_count": 19,
   "metadata": {},
   "outputs": [
    {
     "data": {
      "image/png": "[encoded data removed]",
      "text/plain": [
       "<Figure size 432x288 with 1 Axes>"
      ]
     },
     "metadata": {
      "needs_background": "light"
     },
     "output_type": "display_data"
    }
   ],
   "source": [
    "for j in range(len(THR_classif)):\n",
    "    tab = np.asanyarray(pourc_scat[j])\n",
    "    tab = tab.transpose()\n",
    "    regre = scipy.stats.linregress(tab[0],tab[1])\n",
    "    spear = scipy.stats.spearmanr(tab[0],tab[1])\n",
    "    slope=regre[0]\n",
    "    intercept = regre[1]\n",
    "    plt.figure()\n",
    "    plt.scatter(tab[0], tab[1])\n",
    "    plt.plot([i-1 for i in range(3)],[intercept + slope *(i-1) for i in range(3)])\n",
    "    plt.title(\"Correlation attempt for THR_classif of \" + str(j+2) + \" with p_val \"+ str(\"%.3f\" % spear[1]))\n",
    "    plt.xlabel('(Morning VAS_I after) - (morning VAS_I before) / (morning VAS_I before) ')\n",
    "    plt.ylabel('Nb of episodes per hour')"
   ]
  },
  {
   "cell_type": "code",
   "execution_count": null,
   "metadata": {},
   "outputs": [],
   "source": []
  }
 ],
 "metadata": {
  "kernelspec": {
   "display_name": "Python 3",
   "language": "python",
   "name": "python3"
  },
  "language_info": {
   "codemirror_mode": {
    "name": "ipython",
    "version": 3
   },
   "file_extension": ".py",
   "mimetype": "text/x-python",
   "name": "python",
   "nbconvert_exporter": "python",
   "pygments_lexer": "ipython3",
   "version": "3.7.3"
  },
  "pycharm": {
   "stem_cell": {
    "cell_type": "raw",
    "metadata": {
     "collapsed": false
    },
    "source": []
   }
  }
 },
 "nbformat": 4,
 "nbformat_minor": 4
}
