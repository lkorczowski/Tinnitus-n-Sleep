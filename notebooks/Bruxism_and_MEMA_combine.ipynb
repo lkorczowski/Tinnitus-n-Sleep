{
 "cells": [
  {
   "cell_type": "markdown",
   "metadata": {},
   "source": [
    "\n",
    "## Trial to combine middle ear and bruxism tagging to identify pure moments of middle ear activation"
   ]
  },
  {
   "cell_type": "code",
   "execution_count": 13,
   "metadata": {},
   "outputs": [],
   "source": [
    "import os\n",
    "PATH = os.getcwd() \n",
    "import sys\n",
    "sys.path.append(PATH + '/../')"
   ]
  },
  {
   "cell_type": "code",
   "execution_count": 24,
   "metadata": {},
   "outputs": [
    {
     "name": "stdout",
     "output_type": "stream",
     "text": [
      "Config loaded\n"
     ]
    }
   ],
   "source": [
    "\n",
    "import mne\n",
    "from tinnsleep.reports import combine_brux_MEMA\n",
    "from tinnsleep.data import CreateRaw, CleanAnnotations, AnnotateRaw_sliding\n",
    "from tinnsleep.events.scoring import classif_to_burst, burst_to_episode, create_list_events, episodes_to_list\n",
    "import warnings\n",
    "import matplotlib.pyplot as plt\n",
    "%matplotlib qt\n",
    "import pandas as pd\n",
    "from tinnsleep.config import Config\n",
    "\n",
    "print(\"Config loaded\")\n"
   ]
  },
  {
   "cell_type": "markdown",
   "metadata": {},
   "source": [
    "## Loading parameters and results"
   ]
  },
  {
   "cell_type": "code",
   "execution_count": 18,
   "metadata": {},
   "outputs": [
    {
     "name": "stdout",
     "output_type": "stream",
     "text": [
      "config loaded.\n",
      "Performs Bruxism: <True>\n",
      "Performs MEMA: <True>\n",
      "Will overwrite existing results: <False>\n",
      "parameters set\n",
      "result files exist: Reports creation skipped.\n",
      "['E:/Acou_sommeil/EDF_V2_PAUL\\\\1BA07_nuit_hab.edf', 'E:/Acou_sommeil/EDF_V2_PAUL\\\\1BA07_nuit_son.edf', 'E:/Acou_sommeil/EDF_V2_PAUL\\\\1CC05_nuit_hab.edf', 'E:/Acou_sommeil/EDF_V2_PAUL\\\\1CC05_nuit_son.edf', 'E:/Acou_sommeil/EDF_V2_PAUL\\\\1DA15_nuit_hab.edf']\n"
     ]
    }
   ],
   "source": [
    "\n",
    "\n",
    "# change to --overwrite True if you want to force to recompute the results\n",
    "%run ../compute_results.py --bruxism True --mema True --overwrite False \n",
    "\n",
    "mema_files= pd.read_csv(\"data/mema_files.csv\",engine='python', sep=\"; \")[\"files_with_mema\"].values\n",
    "\n",
    "results_MEMA = pd.read_pickle(\"data/reports_and_datas_MEMA.pk\").to_dict()\n",
    "results_brux = pd.read_pickle(\"data/reports_and_datas_bruxism.pk\").to_dict()\n",
    "min_burst_joining_brux = 3 \n",
    "min_burst_joining_MEMA = 0\n",
    "EDF_list = Config.bruxisme_files[:5]\n",
    "print(EDF_list)"
   ]
  },
  {
   "cell_type": "markdown",
   "metadata": {},
   "source": [
    "## Bruxism + MEMA processing for pure MEMA visualisation"
   ]
  },
  {
   "cell_type": "code",
   "execution_count": 38,
   "metadata": {},
   "outputs": [
    {
     "name": "stderr",
     "output_type": "stream",
     "text": [
      "Interpolating non proportional list, expecting to have non-uniform shift across recording\n",
      "Interpolating non proportional list, expecting to have non-uniform shift across recording\n"
     ]
    },
    {
     "name": "stdout",
     "output_type": "stream",
     "text": [
      "Files processed : \n",
      "1BA07_nuit_hab.edf 0.248\n",
      "(does not have both bruxism and mema)... skipping\n",
      "1BA07_nuit_son.edf 0.25\n",
      "(does not have both bruxism and mema)... skipping\n",
      "1CC05_nuit_hab.edf 0.248\n",
      "(does not have both bruxism and mema)... skipping\n",
      "1CC05_nuit_son.edf 0.25\n",
      "(does not have both bruxism and mema)... skipping\n",
      "1DA15_nuit_hab.edf 0.96\n",
      "117720\n",
      "15468\n",
      "{'Clean data duration': 26922.0, 'Total burst duration': 3867.0, 'Total number of burst': 2796, 'Number of bursts per hour': 373.8800980610653, 'Total number of episodes': 190, 'Number of bursts per episode': 14.715789473684211, 'Number of episodes per hour': 25.406730554936484, 'Number of tonic episodes per hour': 1.4709159794963227, 'Number of phasic episodes per hour': 2.8081123244929795, 'Number of mixed episodes per hour': 3.1758413193670605, 'Mean duration of tonic episode': 4.295454545454546, 'Mean duration of phasic episode': 7.193452380952381, 'Mean duration of mixed episode': 46.410526315789475, 'Power Ratio': array([9.05705303])}\n",
      "122624\n",
      "0.25\n",
      "heu\n",
      "117720\n",
      "0\n",
      "520\n",
      "0.25\n",
      "3\n",
      "3\n",
      "rapport d'activité : \n",
      "nb episodes bruxisme combinés : \n",
      "0\n",
      "Nb épisodes bruxisme purs : \n",
      "25\n",
      "nb episodes MEMA combinés : \n",
      "3\n",
      "Nb épisodes MEMA purs : \n",
      "77\n",
      "nb episodes supprimés car artefact brux: \n",
      "160\n",
      "nb episodes supprimés car artefact MEMA: \n",
      "252\n",
      "rapport d'activité taux horaire : \n",
      "nb episodes bruxisme combinés : \n",
      "0.0\n",
      "Nb épisodes bruxisme purs : \n",
      "3.0581039755351678\n",
      "nb episodes MEMA combinés : \n",
      "0.36697247706422015\n",
      "Nb épisodes MEMA purs : \n",
      "9.418960244648318\n"
     ]
    },
    {
     "name": "stderr",
     "output_type": "stream",
     "text": [
      "C:\\Users\\Zeta\\Anaconda3\\lib\\site-packages\\ipykernel\\eventloops.py:106: UserWarning: Creating legend with loc=\"best\" can be slow with large amounts of data.\n",
      "  app.exec_()\n"
     ]
    }
   ],
   "source": [
    "from time import time\n",
    "# load file from config\n",
    "\n",
    "start = time()\n",
    "\n",
    "with warnings.catch_warnings():\n",
    "    warnings.simplefilter(\"ignore\", category=RuntimeWarning)\n",
    "    \n",
    "    print(\"Files processed : \")\n",
    "    \n",
    "    #Loop on all the patient files\n",
    "    for filename in EDF_list:\n",
    "        #opens the raw file\n",
    "        file = filename.split(os.path.sep)[-1]\n",
    "        print(file, end=\" \")\n",
    "        if not (file in results_brux.keys() and file in results_MEMA.keys()):\n",
    "            print(results_brux[file][\"parameters\"][\"time_interval\"])\n",
    "            print(f\"(does not have both bruxism and mema)... skipping\")\n",
    "        else:\n",
    "            window_length_brux = results_brux[file][\"parameters\"][\"time_interval\"]\n",
    "            delim_brux = results_brux[file][\"parameters\"][\"delim\"]\n",
    "            window_length_MEMA = results_MEMA[file][\"parameters\"][\"time_interval\"]\n",
    "            delim_MEMA = results_MEMA[file][\"parameters\"][\"delim\"]\n",
    "            params_combine = dict(\n",
    "                                labels_brux = results_brux[file][\"labels\"][1], \n",
    "                                labels_artifacts_brux = results_brux[file][\"parameters\"][\"valid_labels\"], \n",
    "                                time_interval_brux = results_brux[file][\"parameters\"][\"time_interval\"], \n",
    "                                delim_ep_brux = results_brux[file][\"parameters\"][\"delim\"], \n",
    "                                labels_MEMA = results_MEMA[file][\"labels\"][0],\n",
    "                                labels_artifacts_MEMA = results_MEMA[file][\"parameters\"][\"valid_labels\"],\n",
    "                                time_interval_MEMA = results_MEMA[file][\"parameters\"][\"time_interval\"],\n",
    "                                delim_ep_MEMA = results_brux[file][\"parameters\"][\"delim\"],\n",
    "                                min_burst_joining_brux=min_burst_joining_brux, \n",
    "                                min_burst_joining_MEMA=min_burst_joining_MEMA\n",
    "                                )\n",
    "            print(results_MEMA[file][\"parameters\"][\"time_interval\"])\n",
    "            print(len(results_brux[file][\"labels\"][0]))\n",
    "            print(np.sum(results_brux[file][\"labels\"][0]))\n",
    "            print(results_brux[file][\"reports\"][0])\n",
    "            print(len(results_MEMA[file][\"labels\"][0])*4)\n",
    "            print(results_brux[file][\"parameters\"][\"time_interval\"])\n",
    "            brux_comb_ep, brux_pure_ep, compt_arti_brux, MEMA_comb_ep, MEMA_pure_ep, compt_arti_MEMA = combine_brux_MEMA(**params_combine)\n",
    "            print(\"heu\")\n",
    "            print(len(MEMA_comb_ep))\n",
    "            print(np.sum(brux_comb_ep))\n",
    "            print(np.sum(brux_pure_ep))\n",
    "            print(window_length_brux)\n",
    "            print(delim_brux)\n",
    "            print(min_burst_joining_brux)\n",
    "            \n",
    "            pure_brux_bursts = classif_to_burst(brux_pure_ep, time_interval=window_length_brux)\n",
    "            li_ep_brux_p = burst_to_episode(pure_brux_bursts, delim=delim_brux, min_burst_joining= min_burst_joining_brux)\n",
    "            pure_brux_events = episodes_to_list(li_ep_brux_p, window_length_brux, len(brux_pure_ep))\n",
    "            \n",
    "            comb_brux_bursts = classif_to_burst(brux_comb_ep, time_interval=window_length_brux)\n",
    "            li_ep_brux_c = burst_to_episode(comb_brux_bursts, delim=delim_brux, min_burst_joining= min_burst_joining_brux)\n",
    "            comb_brux_events = episodes_to_list(li_ep_brux_c, window_length_brux, len(brux_comb_ep))\n",
    "            \n",
    "            comb_MEMA_bursts = classif_to_burst(MEMA_comb_ep, time_interval=window_length_brux) # window_length_brux is valid ?\n",
    "            \n",
    "            pure_MEMA_bursts = classif_to_burst(MEMA_pure_ep, time_interval=window_length_brux) # window_length_brux is valid ?\n",
    "            \n",
    "            print(\"rapport d'activité : \")\n",
    "            print(\"nb episodes bruxisme combinés : \")\n",
    "            print(len(li_ep_brux_c))\n",
    "            print(\"Nb épisodes bruxisme purs : \")\n",
    "            print(len(li_ep_brux_p))\n",
    "            print(\"nb episodes MEMA combinés : \")\n",
    "            print(len(comb_MEMA_bursts))\n",
    "            print(\"Nb épisodes MEMA purs : \")\n",
    "            print(len(pure_MEMA_bursts))\n",
    "            print(\"nb episodes supprimés car artefact brux: \")\n",
    "            print(compt_arti_brux)\n",
    "            print(\"nb episodes supprimés car artefact MEMA: \")\n",
    "            print(compt_arti_MEMA)\n",
    "            \n",
    "            print(\"rapport d'activité taux horaire : \")\n",
    "            print(\"nb episodes bruxisme combinés : \")\n",
    "            print(len(li_ep_brux_c)/ ((len(MEMA_pure_ep)*window_length_brux)/3600))\n",
    "            print(\"Nb épisodes bruxisme purs : \")\n",
    "            print(len(li_ep_brux_p)/ ((len(MEMA_pure_ep)*window_length_brux)/3600))\n",
    "            print(\"nb episodes MEMA combinés : \")\n",
    "            print(len(comb_MEMA_bursts)/ ((len(MEMA_pure_ep)*window_length_brux)/3600))\n",
    "            print(\"Nb épisodes MEMA purs : \")\n",
    "            print(len(pure_MEMA_bursts)/ ((len(MEMA_pure_ep)*window_length_brux)/3600))\n",
    "            \n",
    "            for i in range(len(MEMA_comb_ep)):\n",
    "                if MEMA_comb_ep[i]>0:\n",
    "                    MEMA_comb_ep[i]+=3\n",
    "            \n",
    "            for i in range(len(MEMA_pure_ep)):\n",
    "                if MEMA_pure_ep[i]>0:\n",
    "                    MEMA_pure_ep[i]+=2\n",
    "                    \n",
    "            for i in range(len(comb_brux_events)):\n",
    "                if comb_brux_events[i]>0:\n",
    "                    comb_brux_events[i]+=1\n",
    "                    \n",
    "            plt.figure()\n",
    "            plt.plot(pure_brux_events, label=\"pure_brux\")\n",
    "            plt.plot(comb_brux_events, label=\"comb_brux\")\n",
    "            plt.plot(MEMA_comb_ep, label=\"comb_MEMA\")\n",
    "            plt.plot(MEMA_pure_ep, label=\"pure_MEMA\")\n",
    "            plt.legend()\n",
    "            plt.title(\"Where the events happen for \" + file)\n",
    "                        \n",
    "                       "
   ]
  },
  {
   "cell_type": "code",
   "execution_count": 11,
   "metadata": {},
   "outputs": [
    {
     "name": "stdout",
     "output_type": "stream",
     "text": [
      "6627000\n",
      "6627000\n",
      "6627000\n",
      "6627000\n",
      "6627000\n"
     ]
    }
   ],
   "source": [
    "print(len(results_brux[file][\"labels\"][0])*50)\n",
    "print(len(results_MEMA[file][\"labels\"][0])*50*4)\n",
    "print (len(MEMA_comb_ep)*50)\n",
    "print (len(MEMA_pure_ep)*50)\n",
    "print (len(brux_comb_ep)*50)"
   ]
  },
  {
   "cell_type": "code",
   "execution_count": 41,
   "metadata": {
    "pycharm": {
     "name": "#%%\n"
    }
   },
   "outputs": [
    {
     "name": "stdout",
     "output_type": "stream",
     "text": [
      "nb episodes\n",
      "187\n",
      "1DA15_nuit_hab.edf\n",
      "E:/Acou_sommeil/EDF_V2_PAUL\\1DA15_nuit_hab.edf\n",
      "3530\n",
      "5650560\n",
      "117720\n",
      "200.0\n"
     ]
    },
    {
     "name": "stderr",
     "output_type": "stream",
     "text": [
      "<ipython-input-41-554394c04211>:19: RuntimeWarning: 6 channel names are too long, have been truncated to 15 characters:\n",
      "['Inductance Abdom', 'Inductance Thora', 'Jambe droite Imp', 'Jambe gauche Imp', 'Tension (aliment', 'Tension (Bluetoo']\n",
      "  raw  = mne.io.read_raw_edf(filename, preload=False, verbose=False)  # prepare loading\n"
     ]
    },
    {
     "name": "stdout",
     "output_type": "stream",
     "text": [
      "5886000\n",
      "Raw annotated\n"
     ]
    },
    {
     "data": {
      "text/plain": [
       "Text(0.5, 1, 'E:/Acou_sommeil/EDF_V2_PAUL\\\\1DA15_nuit_hab.edf')"
      ]
     },
     "execution_count": 41,
     "metadata": {},
     "output_type": "execute_result"
    }
   ],
   "source": [
    "labels_int= results_brux[file][\"labels\"][1]\n",
    "int_bursts = classif_to_burst(labels_int, time_interval=window_length_brux)\n",
    "li_ep_int = burst_to_episode(int_bursts, delim=delim_brux, min_burst_joining= min_burst_joining_brux)\n",
    "print(\"nb episodes\")\n",
    "print(len(li_ep_int))\n",
    "pure_int_events = episodes_to_list(li_ep_int, window_length_brux, len(brux_pure_ep))\n",
    "print(file)\n",
    "print(filename)\n",
    "duration_brux = 200*0.25\n",
    "print(np.sum(labels_int))\n",
    "print(len(labels_int)*48)\n",
    "\n",
    "interval_brux = duration_brux\n",
    "print (len(MEMA_comb_ep))\n",
    "#print(len(raw))\n",
    "#-----------------Pure MEMA episodes visualisation and comparison with ATM activity -----------------------------------\n",
    "#Preparing raw for visualisation\n",
    "picks_chan = ['Airflow', '1', '2', \"Activity\"]           # subset of EMG electrodes\n",
    "raw  = mne.io.read_raw_edf(filename, preload=False, verbose=False)  # prepare loading\n",
    "print(raw.info[\"sfreq\"])\n",
    "\n",
    "raw  = CreateRaw(raw[picks_chan][0], raw.info[\"sfreq\"], picks_chan, ch_types=['misc','emg','emg', \"misc\"])        # pick channels and load\n",
    "print(len(raw))\n",
    "scalings = dict(misc=1, emg=1e-5)\n",
    "\n",
    "raw  = raw.filter(20., 99., n_jobs=4, \n",
    "                  fir_design='firwin', filter_length='auto', phase='zero-double',\n",
    "                  picks=['1', '2'])\n",
    "#Annotating the raw\n",
    "raw = CleanAnnotations(raw)\n",
    "dict_annotations = {1: \"b_pure\", 2:\"b_comb\", 3:\"M_pure\", 4:\"M_comb\"}\n",
    "raw = AnnotateRaw_sliding(raw, pure_int_events , \n",
    "                dict_annotations=dict_annotations, duration=duration_brux, interval=interval_brux, merge=True)\n",
    "raw = AnnotateRaw_sliding(raw,  pure_brux_events, \n",
    "                dict_annotations=dict_annotations, duration=duration_brux, interval=interval_brux, merge=True)\n",
    "\n",
    "\n",
    "print(\"Raw annotated\")\n",
    "scalings = {'emg': 5e-5, 'misc': 0.2, 'bio':1e3}\n",
    "raw.plot(scalings = scalings)\n",
    "plt.title(filename)\n",
    "                    "
   ]
  },
  {
   "cell_type": "code",
   "execution_count": null,
   "metadata": {},
   "outputs": [],
   "source": []
  },
  {
   "cell_type": "code",
   "execution_count": null,
   "metadata": {},
   "outputs": [],
   "source": []
  },
  {
   "cell_type": "code",
   "execution_count": null,
   "metadata": {},
   "outputs": [],
   "source": []
  }
 ],
 "metadata": {
  "kernelspec": {
   "display_name": "Python 3",
   "language": "python",
   "name": "python3"
  },
  "language_info": {
   "codemirror_mode": {
    "name": "ipython",
    "version": 3
   },
   "file_extension": ".py",
   "mimetype": "text/x-python",
   "name": "python",
   "nbconvert_exporter": "python",
   "pygments_lexer": "ipython3",
   "version": "3.7.3"
  },
  "pycharm": {
   "stem_cell": {
    "cell_type": "raw",
    "metadata": {
     "collapsed": false
    },
    "source": []
   }
  }
 },
 "nbformat": 4,
 "nbformat_minor": 4
}
