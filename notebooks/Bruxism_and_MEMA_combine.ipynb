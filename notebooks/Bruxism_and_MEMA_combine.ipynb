{
 "cells": [
  {
   "cell_type": "markdown",
   "metadata": {},
   "source": [
    "\n",
    "## Trial to combine middle ear and bruxism tagging to identify pure moments of middle ear activation"
   ]
  },
  {
   "cell_type": "code",
   "execution_count": 1,
   "metadata": {},
   "outputs": [],
   "source": [
    "import os\n",
    "PATH = os.getcwd() \n",
    "import sys\n",
    "sys.path.append(PATH + '/../')"
   ]
  },
  {
   "cell_type": "code",
   "execution_count": 15,
   "metadata": {},
   "outputs": [
    {
     "name": "stdout",
     "output_type": "stream",
     "text": [
      "Config loaded\n"
     ]
    }
   ],
   "source": [
    "\n",
    "import mne\n",
    "from tinnsleep.reports import combine_brux_MEMA\n",
    "from tinnsleep.data import CreateRaw, CleanAnnotations, AnnotateRaw_sliding\n",
    "from tinnsleep.events.scoring import classif_to_burst, burst_to_episode, create_list_events\n",
    "import warnings\n",
    "import matplotlib.pyplot as plt\n",
    "%matplotlib qt\n",
    "import pandas as pd\n",
    "from tinnsleep.config import Config\n",
    "\n",
    "print(\"Config loaded\")\n"
   ]
  },
  {
   "cell_type": "markdown",
   "metadata": {},
   "source": [
    "## Loading parameters and results"
   ]
  },
  {
   "cell_type": "code",
   "execution_count": 40,
   "metadata": {},
   "outputs": [
    {
     "name": "stdout",
     "output_type": "stream",
     "text": [
      "config loaded.\n",
      "Performs Bruxism: <True>\n",
      "Performs MEMA: <True>\n",
      "Will overwrite existing results: <False>\n",
      "parameters set\n",
      "result files exist: Reports creation skipped.\n",
      "['E:/Acou_sommeil/EDF_V2_PAUL\\\\1BA07_nuit_hab.edf', 'E:/Acou_sommeil/EDF_V2_PAUL\\\\1BA07_nuit_son.edf', 'E:/Acou_sommeil/EDF_V2_PAUL\\\\1CC05_nuit_hab.edf', 'E:/Acou_sommeil/EDF_V2_PAUL\\\\1CC05_nuit_son.edf', 'E:/Acou_sommeil/EDF_V2_PAUL\\\\1DA15_nuit_hab.edf', 'E:/Acou_sommeil/EDF_V2_PAUL\\\\1DA15_nuit_son.edf', 'E:/Acou_sommeil/EDF_V2_PAUL\\\\1DL12_nuit_hab.edf', 'E:/Acou_sommeil/EDF_V2_PAUL\\\\1DL12_nuit_son.edf', 'E:/Acou_sommeil/EDF_V2_PAUL\\\\1GB18_nuit_son.edf', 'E:/Acou_sommeil/EDF_V2_PAUL\\\\1GB19_nuit_hab.edf', 'E:/Acou_sommeil/EDF_V2_PAUL\\\\1GF14_nuit_hab.edf', 'E:/Acou_sommeil/EDF_V2_PAUL\\\\1GF14_nuit_son.edf', 'E:/Acou_sommeil/EDF_V2_PAUL\\\\1MA16_nuit_hab.edf', 'E:/Acou_sommeil/EDF_V2_PAUL\\\\1MA16_nuit_son.edf', 'E:/Acou_sommeil/EDF_V2_PAUL\\\\1MF19_nuit_hab.edf', 'E:/Acou_sommeil/EDF_V2_PAUL\\\\1MF19_nuit_son.edf', 'E:/Acou_sommeil/EDF_V2_PAUL\\\\1MN09_nuit_hab.edf', 'E:/Acou_sommeil/EDF_V2_PAUL\\\\1MN09_nuit_son.edf', 'E:/Acou_sommeil/EDF_V2_PAUL\\\\1PI07_nuit_hab.edf', 'E:/Acou_sommeil/EDF_V2_PAUL\\\\1PI07_nuit_son.edf', 'E:/Acou_sommeil/EDF_V2_PAUL\\\\1PT06_nuit_hab.edf', 'E:/Acou_sommeil/EDF_V2_PAUL\\\\1PT06_nuit_son.edf', 'E:/Acou_sommeil/EDF_V2_PAUL\\\\1RA17_nuit_hab.edf', 'E:/Acou_sommeil/EDF_V2_PAUL\\\\1RA17_nuit_son.edf', 'E:/Acou_sommeil/EDF_V2_PAUL\\\\1SA14_nuit_hab.edf', 'E:/Acou_sommeil/EDF_V2_PAUL\\\\1SA14_nuit_son.edf', 'E:/Acou_sommeil/EDF_V2_PAUL\\\\1ZN04_nuit_hab.edf', 'E:/Acou_sommeil/EDF_V2_PAUL\\\\1ZN04_nuit_son.edf', 'E:/Acou_sommeil/EDF_V2_PAUL\\\\HZB_nuit_1.edf', 'E:/Acou_sommeil/EDF_V2_PAUL\\\\HZB_nuit_2.edf']\n"
     ]
    }
   ],
   "source": [
    "\n",
    "\n",
    "# change to --overwrite True if you want to force to recompute the results\n",
    "%run ../compute_results.py --bruxism True --mema True --overwrite False \n",
    "\n",
    "mema_files= pd.read_csv(\"data/mema_files.csv\",engine='python', sep=\"; \")[\"files_with_mema\"].values\n",
    "\n",
    "results_MEMA = pd.read_pickle(\"data/reports_and_datas_MEMA.pk\").to_dict()\n",
    "results_brux = pd.read_pickle(\"data/reports_and_datas_bruxism.pk\").to_dict()\n",
    "min_burst_joining_brux = 3 \n",
    "min_burst_joining_MEMA = 0\n",
    "EDF_list = Config.bruxisme_files[:30]\n",
    "print(EDF_list)"
   ]
  },
  {
   "cell_type": "markdown",
   "metadata": {},
   "source": [
    "## Bruxism + MEMA processing for pure MEMA visualisation"
   ]
  },
  {
   "cell_type": "code",
   "execution_count": 37,
   "metadata": {},
   "outputs": [
    {
     "name": "stdout",
     "output_type": "stream",
     "text": [
      "Files processed : \n",
      "1BA07_nuit_hab.edf 0.248\n",
      "(does not have both bruxism and mema)... skipping\n",
      "1BA07_nuit_son.edf 0.245\n",
      "(does not have both bruxism and mema)... skipping\n",
      "1CC05_nuit_hab.edf 0.244\n",
      "(does not have both bruxism and mema)... skipping\n",
      "1CC05_nuit_son.edf 0.24\n",
      "(does not have both bruxism and mema)... skipping\n",
      "1DA15_nuit_hab.edf 0.96\n",
      "122624\n",
      "15528\n",
      "{'Clean data duration': 23940.48, 'Total burst duration': 3726.72, 'Total number of burst': 2072, 'Number of bursts per hour': 311.5727002967359, 'Total number of episodes': 288, 'Number of bursts per episode': 7.194444444444445, 'Number of episodes per hour': 43.307402357847465, 'Number of tonic episodes per hour': 15.63878418477825, 'Number of phasic episodes per hour': 2.0931911139626274, 'Number of mixed episodes per hour': 4.547277247573984, 'Mean duration of tonic episode': 6.173076923076987, 'Mean duration of phasic episode': 6.475862068965398, 'Mean duration of mixed episode': 26.902857142857226, 'Power Ratio': array([24.40177746])}\n",
      "122624\n",
      "0.24\n",
      "hera\n",
      "122624\n",
      "hera2\n",
      "122624\n",
      "122624\n",
      "heu\n",
      "122624\n",
      "1265.0\n",
      "32588.0\n",
      "0.24\n",
      "3\n",
      "3\n",
      "rapport d'activité : \n",
      "nb episodes bruxisme combinés : \n",
      "4\n",
      "Nb épisodes bruxisme purs : \n",
      "56\n",
      "nb episodes MEMA combinés : \n",
      "4\n",
      "Nb épisodes MEMA purs : \n",
      "49\n",
      "rapport d'activité taux horaire : \n",
      "nb episodes bruxisme combinés : \n",
      "0.48930062630480164\n",
      "Nb épisodes bruxisme purs : \n",
      "6.8502087682672235\n",
      "nb episodes MEMA combinés : \n",
      "0.48930062630480164\n",
      "Nb épisodes MEMA purs : \n",
      "5.993932672233821\n",
      "1DA15_nuit_son.edf 0.24\n",
      "(does not have both bruxism and mema)... skipping\n",
      "1DL12_nuit_hab.edf 0.24\n",
      "(does not have both bruxism and mema)... skipping\n",
      "1DL12_nuit_son.edf 0.24\n",
      "(does not have both bruxism and mema)... skipping\n",
      "1GB18_nuit_son.edf 0.24\n",
      "(does not have both bruxism and mema)... skipping\n",
      "1GB19_nuit_hab.edf 0.96\n",
      "132540\n",
      "4702\n",
      "{'Clean data duration': 28268.399999999998, 'Total burst duration': 1128.48, 'Total number of burst': 385, 'Number of bursts per hour': 49.030012310565866, 'Total number of episodes': 107, 'Number of bursts per episode': 3.5981308411214954, 'Number of episodes per hour': 13.626522901897527, 'Number of tonic episodes per hour': 10.570106550070044, 'Number of phasic episodes per hour': 0.21394914462792378, 'Number of mixed episodes per hour': 0.519590779810672, 'Mean duration of tonic episode': 7.775421686746925, 'Mean duration of phasic episode': 5.040000000000093, 'Mean duration of mixed episode': 23.71764705882352, 'Power Ratio': array([27.76332373, 33.03092499])}\n",
      "132540\n",
      "0.24\n",
      "hera\n",
      "132540\n",
      "hera2\n",
      "132540\n",
      "132540\n",
      "heu\n",
      "132540\n",
      "14723.0\n",
      "98867.0\n",
      "0.24\n",
      "3\n",
      "3\n",
      "rapport d'activité : \n",
      "nb episodes bruxisme combinés : \n",
      "17\n",
      "Nb épisodes bruxisme purs : \n",
      "38\n",
      "nb episodes MEMA combinés : \n",
      "4\n",
      "Nb épisodes MEMA purs : \n",
      "38\n",
      "rapport d'activité taux horaire : \n",
      "nb episodes bruxisme combinés : \n",
      "1.923947487550928\n",
      "Nb épisodes bruxisme purs : \n",
      "4.300588501584428\n",
      "nb episodes MEMA combinés : \n",
      "0.4526935264825713\n",
      "Nb épisodes MEMA purs : \n",
      "4.300588501584428\n",
      "1GF14_nuit_hab.edf "
     ]
    },
    {
     "ename": "KeyError",
     "evalue": "'1GF14_nuit_hab.edf'",
     "output_type": "error",
     "traceback": [
      "\u001b[1;31m---------------------------------------------------------------------------\u001b[0m",
      "\u001b[1;31mKeyError\u001b[0m                                  Traceback (most recent call last)",
      "\u001b[1;32m<ipython-input-37-aa6591cd2577>\u001b[0m in \u001b[0;36m<module>\u001b[1;34m\u001b[0m\n\u001b[0;32m     15\u001b[0m         \u001b[0mprint\u001b[0m\u001b[1;33m(\u001b[0m\u001b[0mfile\u001b[0m\u001b[1;33m,\u001b[0m \u001b[0mend\u001b[0m\u001b[1;33m=\u001b[0m\u001b[1;34m\" \"\u001b[0m\u001b[1;33m)\u001b[0m\u001b[1;33m\u001b[0m\u001b[1;33m\u001b[0m\u001b[0m\n\u001b[0;32m     16\u001b[0m         \u001b[1;32mif\u001b[0m \u001b[1;32mnot\u001b[0m \u001b[1;33m(\u001b[0m\u001b[0mfile\u001b[0m \u001b[1;32min\u001b[0m \u001b[0mresults_brux\u001b[0m\u001b[1;33m.\u001b[0m\u001b[0mkeys\u001b[0m\u001b[1;33m(\u001b[0m\u001b[1;33m)\u001b[0m \u001b[1;32mand\u001b[0m \u001b[0mfile\u001b[0m \u001b[1;32min\u001b[0m \u001b[0mresults_MEMA\u001b[0m\u001b[1;33m.\u001b[0m\u001b[0mkeys\u001b[0m\u001b[1;33m(\u001b[0m\u001b[1;33m)\u001b[0m\u001b[1;33m)\u001b[0m\u001b[1;33m:\u001b[0m\u001b[1;33m\u001b[0m\u001b[1;33m\u001b[0m\u001b[0m\n\u001b[1;32m---> 17\u001b[1;33m             \u001b[0mprint\u001b[0m\u001b[1;33m(\u001b[0m\u001b[0mresults_brux\u001b[0m\u001b[1;33m[\u001b[0m\u001b[0mfile\u001b[0m\u001b[1;33m]\u001b[0m\u001b[1;33m[\u001b[0m\u001b[1;34m\"parameters\"\u001b[0m\u001b[1;33m]\u001b[0m\u001b[1;33m[\u001b[0m\u001b[1;34m\"time_interval\"\u001b[0m\u001b[1;33m]\u001b[0m\u001b[1;33m)\u001b[0m\u001b[1;33m\u001b[0m\u001b[1;33m\u001b[0m\u001b[0m\n\u001b[0m\u001b[0;32m     18\u001b[0m             \u001b[0mprint\u001b[0m\u001b[1;33m(\u001b[0m\u001b[1;34mf\"(does not have both bruxism and mema)... skipping\"\u001b[0m\u001b[1;33m)\u001b[0m\u001b[1;33m\u001b[0m\u001b[1;33m\u001b[0m\u001b[0m\n\u001b[0;32m     19\u001b[0m         \u001b[1;32melse\u001b[0m\u001b[1;33m:\u001b[0m\u001b[1;33m\u001b[0m\u001b[1;33m\u001b[0m\u001b[0m\n",
      "\u001b[1;31mKeyError\u001b[0m: '1GF14_nuit_hab.edf'"
     ]
    },
    {
     "name": "stderr",
     "output_type": "stream",
     "text": [
      "C:\\Users\\Zeta\\Anaconda3\\lib\\site-packages\\ipykernel\\eventloops.py:106: UserWarning: Creating legend with loc=\"best\" can be slow with large amounts of data.\n",
      "  app.exec_()\n"
     ]
    }
   ],
   "source": [
    "from time import time\n",
    "# load file from config\n",
    "\n",
    "start = time()\n",
    "\n",
    "with warnings.catch_warnings():\n",
    "    warnings.simplefilter(\"ignore\", category=RuntimeWarning)\n",
    "    \n",
    "    print(\"Files processed : \")\n",
    "    \n",
    "    #Loop on all the patient files\n",
    "    for filename in EDF_list:\n",
    "        #opens the raw file\n",
    "        file = filename.split(os.path.sep)[-1]\n",
    "        print(file, end=\" \")\n",
    "        if not (file in results_brux.keys() and file in results_MEMA.keys()):\n",
    "            print(results_brux[file][\"parameters\"][\"time_interval\"])\n",
    "            print(f\"(does not have both bruxism and mema)... skipping\")\n",
    "        else:\n",
    "            window_length_brux = results_brux[file][\"parameters\"][\"time_interval\"]\n",
    "            delim_brux = results_brux[file][\"parameters\"][\"delim\"]\n",
    "            window_length_MEMA = results_MEMA[file][\"parameters\"][\"time_interval\"]\n",
    "            delim_MEMA = results_MEMA[file][\"parameters\"][\"delim\"]\n",
    "            params_combine = dict(\n",
    "                                labels_brux = results_brux[file][\"labels\"][0], \n",
    "                                labels_artifacts_brux = results_brux[file][\"parameters\"][\"valid_labels\"], \n",
    "                                time_interval_brux = results_brux[file][\"parameters\"][\"time_interval\"], \n",
    "                                delim_ep_brux = results_brux[file][\"parameters\"][\"delim\"], \n",
    "                                labels_MEMA = results_MEMA[file][\"labels\"][0],\n",
    "                                labels_artifacts_MEMA = results_MEMA[file][\"parameters\"][\"valid_labels\"],\n",
    "                                time_interval_MEMA = results_MEMA[file][\"parameters\"][\"time_interval\"],\n",
    "                                delim_ep_MEMA = results_brux[file][\"parameters\"][\"delim\"],\n",
    "                                min_burst_joining_brux=min_burst_joining_brux, \n",
    "                                min_burst_joining_MEMA=min_burst_joining_MEMA\n",
    "                                )\n",
    "            print(results_MEMA[file][\"parameters\"][\"time_interval\"])\n",
    "            print(len(results_brux[file][\"labels\"][0]))\n",
    "            print(np.sum(results_brux[file][\"labels\"][0]))\n",
    "            print(results_brux[file][\"reports\"][0])\n",
    "            print(len(results_MEMA[file][\"labels\"][0])*4)\n",
    "            print(results_brux[file][\"parameters\"][\"time_interval\"])\n",
    "            brux_comb_ep, brux_pure_ep, compt_arti_brux, MEMA_comb_ep, MEMA_pure_ep, compt_arti_MEMA = combine_brux_MEMA(**params_combine)\n",
    "            print(\"heu\")\n",
    "            print(len(MEMA_comb_ep))\n",
    "            print(np.sum(brux_comb_ep))\n",
    "            print(np.sum(brux_pure_ep))\n",
    "            print(window_length_brux)\n",
    "            print(delim_brux)\n",
    "            print(min_burst_joining_brux)\n",
    "            \n",
    "            pure_brux_bursts = classif_to_burst(brux_pure_ep, time_interval=window_length_brux)\n",
    "            li_ep_brux_p = burst_to_episode(pure_brux_bursts, delim=delim_brux, min_burst_joining= min_burst_joining_brux)\n",
    "            pure_brux_events = create_list_events(li_ep_brux_p, window_length_brux, len(brux_pure_ep) * window_length_brux)\n",
    "            \n",
    "            comb_brux_bursts = classif_to_burst(brux_comb_ep, time_interval=window_length_brux)\n",
    "            li_ep_brux_c = burst_to_episode(comb_brux_bursts, delim=delim_brux, min_burst_joining= min_burst_joining_brux)\n",
    "            comb_brux_events = create_list_events(li_ep_brux_c, window_length_brux, len(brux_comb_ep) * window_length_brux)\n",
    "            \n",
    "            comb_MEMA_bursts = classif_to_burst(MEMA_comb_ep, time_interval=window_length_brux) # window_length_brux is valid ?\n",
    "            \n",
    "            pure_MEMA_bursts = classif_to_burst(MEMA_pure_ep, time_interval=window_length_brux) # window_length_brux is valid ?\n",
    "            \n",
    "            print(\"rapport d'activité : \")\n",
    "            print(\"nb episodes bruxisme combinés : \")\n",
    "            print(len(li_ep_brux_c))\n",
    "            print(\"Nb épisodes bruxisme purs : \")\n",
    "            print(len(li_ep_brux_p))\n",
    "            print(\"nb episodes MEMA combinés : \")\n",
    "            print(len(comb_MEMA_bursts))\n",
    "            print(\"Nb épisodes MEMA purs : \")\n",
    "            print(len(pure_MEMA_bursts))\n",
    "            \n",
    "            print(\"rapport d'activité taux horaire : \")\n",
    "            print(\"nb episodes bruxisme combinés : \")\n",
    "            print(len(li_ep_brux_c)/ ((len(MEMA_pure_ep)*window_length_brux)/3600))\n",
    "            print(\"Nb épisodes bruxisme purs : \")\n",
    "            print(len(li_ep_brux_p)/ ((len(MEMA_pure_ep)*window_length_brux)/3600))\n",
    "            print(\"nb episodes MEMA combinés : \")\n",
    "            print(len(comb_MEMA_bursts)/ ((len(MEMA_pure_ep)*window_length_brux)/3600))\n",
    "            print(\"Nb épisodes MEMA purs : \")\n",
    "            print(len(pure_MEMA_bursts)/ ((len(MEMA_pure_ep)*window_length_brux)/3600))\n",
    "            \n",
    "            for i in range(len(MEMA_comb_ep)):\n",
    "                if MEMA_comb_ep[i]>0:\n",
    "                    MEMA_comb_ep[i]+=3\n",
    "            \n",
    "            for i in range(len(MEMA_pure_ep)):\n",
    "                if MEMA_pure_ep[i]>0:\n",
    "                    MEMA_pure_ep[i]+=2\n",
    "                    \n",
    "            for i in range(len(comb_brux_events)):\n",
    "                if comb_brux_events[i]>0:\n",
    "                    comb_brux_events[i]+=1\n",
    "                    \n",
    "            plt.figure()\n",
    "            plt.plot(pure_brux_events, label=\"pure_brux\")\n",
    "            plt.plot(comb_brux_events, label=\"comb_brux\")\n",
    "            plt.plot(MEMA_comb_ep, label=\"comb_MEMA\")\n",
    "            plt.plot(MEMA_pure_ep, label=\"pure_MEMA\")\n",
    "            plt.legend()\n",
    "            plt.title(\"Where the events happen for \" + file)\n",
    "                        \n",
    "                       "
   ]
  },
  {
   "cell_type": "code",
   "execution_count": 11,
   "metadata": {},
   "outputs": [
    {
     "name": "stdout",
     "output_type": "stream",
     "text": [
      "6627000\n",
      "6627000\n",
      "6627000\n",
      "6627000\n",
      "6627000\n"
     ]
    }
   ],
   "source": [
    "print(len(results_brux[file][\"labels\"][0])*50)\n",
    "print(len(results_MEMA[file][\"labels\"][0])*50*4)\n",
    "print (len(MEMA_comb_ep)*50)\n",
    "print (len(MEMA_pure_ep)*50)\n",
    "print (len(brux_comb_ep)*50)"
   ]
  },
  {
   "cell_type": "code",
   "execution_count": 33,
   "metadata": {
    "pycharm": {
     "name": "#%%\n"
    }
   },
   "outputs": [
    {
     "name": "stdout",
     "output_type": "stream",
     "text": [
      "1GB19_nuit_hab.edf\n",
      "E:/Acou_sommeil/EDF_V2_PAUL\\1GB19_nuit_hab.edf\n",
      "4702\n",
      "6361920\n",
      "132540\n",
      "200.0\n"
     ]
    },
    {
     "name": "stderr",
     "output_type": "stream",
     "text": [
      "<ipython-input-33-31ece4cce161>:14: RuntimeWarning: 6 channel names are too long, have been truncated to 15 characters:\n",
      "['Inductance Abdom', 'Inductance Thora', 'Jambe droite Imp', 'Jambe gauche Imp', 'Tension (aliment', 'Tension (Bluetoo']\n",
      "  raw  = mne.io.read_raw_edf(filename, preload=False, verbose=False)  # prepare loading\n"
     ]
    },
    {
     "name": "stdout",
     "output_type": "stream",
     "text": [
      "6362000\n",
      "Raw annotated\n"
     ]
    },
    {
     "data": {
      "text/plain": [
       "Text(0.5, 1, 'E:/Acou_sommeil/EDF_V2_PAUL\\\\1GB19_nuit_hab.edf')"
      ]
     },
     "execution_count": 33,
     "metadata": {},
     "output_type": "execute_result"
    }
   ],
   "source": [
    "labels_int= results_brux[file][\"labels\"][0]\n",
    "print(file)\n",
    "print(filename)\n",
    "duration_brux = 200*0.24\n",
    "print(np.sum(labels_int))\n",
    "print(len(labels_int)*48)\n",
    "\n",
    "interval_brux = duration_brux\n",
    "print (len(MEMA_comb_ep))\n",
    "#print(len(raw))\n",
    "#-----------------Pure MEMA episodes visualisation and comparison with ATM activity -----------------------------------\n",
    "#Preparing raw for visualisation\n",
    "picks_chan = ['Airflow', '1', '2', \"Activity\"]           # subset of EMG electrodes\n",
    "raw  = mne.io.read_raw_edf(filename, preload=False, verbose=False)  # prepare loading\n",
    "print(raw.info[\"sfreq\"])\n",
    "\n",
    "raw  = CreateRaw(raw[picks_chan][0], raw.info[\"sfreq\"], picks_chan, ch_types=['misc','emg','emg', \"misc\"])        # pick channels and load\n",
    "print(len(raw))\n",
    "scalings = dict(misc=1, emg=1e-5)\n",
    "\n",
    "raw  = raw.filter(20., 99., n_jobs=4, \n",
    "                  fir_design='firwin', filter_length='auto', phase='zero-double',\n",
    "                  picks=['1', '2'])\n",
    "#Annotating the raw\n",
    "raw = CleanAnnotations(raw)\n",
    "dict_annotations = {1: \"b_pure\", 2:\"b_comb\", 3:\"M_pure\", 4:\"M_comb\"}\n",
    "raw = AnnotateRaw_sliding(raw, labels_int , \n",
    "                dict_annotations=dict_annotations, duration=duration_brux, interval=interval_brux)\n",
    "\n",
    "\n",
    "print(\"Raw annotated\")\n",
    "raw.plot(scalings = scalings)\n",
    "plt.title(filename)\n",
    "                    "
   ]
  },
  {
   "cell_type": "code",
   "execution_count": null,
   "metadata": {},
   "outputs": [],
   "source": []
  },
  {
   "cell_type": "code",
   "execution_count": null,
   "metadata": {},
   "outputs": [],
   "source": []
  },
  {
   "cell_type": "code",
   "execution_count": null,
   "metadata": {},
   "outputs": [],
   "source": []
  }
 ],
 "metadata": {
  "kernelspec": {
   "display_name": "Python 3",
   "language": "python",
   "name": "python3"
  },
  "language_info": {
   "codemirror_mode": {
    "name": "ipython",
    "version": 3
   },
   "file_extension": ".py",
   "mimetype": "text/x-python",
   "name": "python",
   "nbconvert_exporter": "python",
   "pygments_lexer": "ipython3",
   "version": "3.7.3"
  },
  "pycharm": {
   "stem_cell": {
    "cell_type": "raw",
    "metadata": {
     "collapsed": false
    },
    "source": []
   }
  }
 },
 "nbformat": 4,
 "nbformat_minor": 4
}
