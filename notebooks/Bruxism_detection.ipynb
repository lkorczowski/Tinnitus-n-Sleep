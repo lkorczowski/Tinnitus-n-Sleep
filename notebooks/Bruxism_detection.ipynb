{
 "cells": [
  {
   "cell_type": "markdown",
   "metadata": {
    "pycharm": {
     "name": "#%% md\n"
    }
   },
   "source": [
    "# Detection of Bruxism events in Tinnitus patients polysomnographic data\n",
    "This notebook will \n",
    "- load EMG channels of polusomnographic data\n",
    "- detect the EMG bursts in a unsupervised way\n",
    "- classify EMG bursts as different bruxism events\n",
    "- give insights on the bruxism events"
   ]
  },
  {
   "cell_type": "code",
   "execution_count": 1,
   "metadata": {
    "pycharm": {
     "is_executing": false
    }
   },
   "outputs": [
    {
     "name": "stdout",
     "output_type": "stream",
     "text": [
      "Config loaded\n",
      "['/Users/louis/Data/SIOPI/bruxisme/1BA07_nuit_hab.edf', '/Users/louis/Data/SIOPI/bruxisme/1DA15_nuit_hab.edf', '/Users/louis/Data/SIOPI/bruxisme/1GB19_nuit_hab.edf', '/Users/louis/Data/SIOPI/bruxisme/1RA17_nuit_hab.edf']\n"
     ]
    }
   ],
   "source": [
    "import os\n",
    "PATH = os.getcwd() \n",
    "import sys\n",
    "sys.path.append(PATH + '/../')\n",
    "import matplotlib.pyplot as plt\n",
    "%matplotlib widget\n",
    "import numpy as np\n",
    "import mne\n",
    "import scipy\n",
    "import seaborn as sns\n",
    "from tinnsleep.config import Config\n",
    "from tinnsleep.data import CreateRaw, RawToEpochs_sliding, CleanAnnotations, AnnotateRaw_sliding\n",
    "from tinnsleep.classification import AmplitudeThresholding\n",
    "from tinnsleep.check_impedance import create_annotation_mne, Impedance_thresholding_sliding, check_RMS, fuse_with_classif_result\n",
    "from tinnsleep.signal import rms\n",
    "from tinnsleep.visualization import plotTimeSeries, plotAnnotations, zoom_effect\n",
    "from IPython.core.display import display\n",
    "from ipywidgets import widgets\n",
    "print(\"Config loaded\")\n",
    "\n",
    "print(Config.bruxisme_files)"
   ]
  },
  {
   "cell_type": "markdown",
   "metadata": {},
   "source": [
    "## Load, filter, and prepare data"
   ]
  },
  {
   "cell_type": "code",
   "execution_count": 13,
   "metadata": {
    "collapsed": false,
    "jupyter": {
     "outputs_hidden": false
    },
    "pycharm": {
     "is_executing": false,
     "name": "#%%\n"
    }
   },
   "outputs": [
    {
     "name": "stdout",
     "output_type": "stream",
     "text": [
      "Extracting EDF parameters from /Users/louis/Data/SIOPI/bruxisme/1GB19_nuit_hab.edf...\n",
      "EDF file detected\n",
      "Setting channel info structure...\n",
      "Creating raw.info structure...\n"
     ]
    },
    {
     "name": "stderr",
     "output_type": "stream",
     "text": [
      "<ipython-input-13-9539fc480757>:4: RuntimeWarning: 6 channel names are too long, have been truncated to 15 characters:\n",
      "['Inductance Abdom', 'Inductance Thora', 'Jambe droite Imp', 'Jambe gauche Imp', 'Tension (aliment', 'Tension (Bluetoo']\n",
      "  raw  = mne.io.read_raw_edf(filename, preload=False)  # prepare loading\n"
     ]
    },
    {
     "name": "stdout",
     "output_type": "stream",
     "text": [
      "Data filtered\n",
      "keeping 5.84 hours of recording out of 8.84 hours\n",
      "0.0\n"
     ]
    }
   ],
   "source": [
    "filename = Config.bruxisme_files[2]  # load file from config\n",
    "picks_chan = ['1', '2']           # subset of EMG electrodes\n",
    "\n",
    "raw  = mne.io.read_raw_edf(filename, preload=False)  # prepare loading\n",
    "tmin = raw.times[0]                     \n",
    "tmax = raw.times[-1]\n",
    "\n",
    "croptimes=dict(tmin=raw.times[0]+3600*2, tmax=raw.times[-1]-3600)\n",
    "raw.crop(**croptimes)\n",
    "\n",
    "raw  = CreateRaw(raw[picks_chan][0], picks_chan, ch_types=['emg'])        # pick channels and load\n",
    "\n",
    "raw  = raw.filter(20., 99., n_jobs=4, \n",
    "                  fir_design='firwin', filter_length='auto', phase='zero-double',\n",
    "                  picks=picks_chan)\n",
    "ch_names = raw.info[\"ch_names\"]\n",
    "print(\"Data filtered\")\n",
    "\n",
    "offset = raw.times[0]\n",
    "print(f\"keeping {(raw.times[-1]-raw.times[0])/3600:0.2f} hours of recording out of {(tmax-tmin)/3600:0.2f} hours\")\n",
    "print(offset)"
   ]
  },
  {
   "cell_type": "markdown",
   "metadata": {},
   "source": [
    "## Epoching data"
   ]
  },
  {
   "cell_type": "code",
   "execution_count": 3,
   "metadata": {
    "pycharm": {
     "is_executing": false,
     "name": "#%%\n"
    }
   },
   "outputs": [
    {
     "name": "stdout",
     "output_type": "stream",
     "text": [
      "Epochs done, shape (84040, 2, 50)\n"
     ]
    }
   ],
   "source": [
    "sfreq = raw.info[\"sfreq\"]\n",
    "window_length = 0.25                    # in seconds\n",
    "duration = int(window_length * sfreq)   # in samples\n",
    "interval = duration                     # no overlapping\n",
    "epochs = RawToEpochs_sliding(raw, duration=duration, interval=interval)\n",
    "print(f\"Epochs done, shape {epochs.shape}\")\n"
   ]
  },
  {
   "cell_type": "markdown",
   "metadata": {},
   "source": [
    "## Get the impedance & artefacts annotations"
   ]
  },
  {
   "cell_type": "code",
   "execution_count": 4,
   "metadata": {},
   "outputs": [
    {
     "name": "stdout",
     "output_type": "stream",
     "text": [
      "Extracting EDF parameters from /Users/louis/Data/SIOPI/bruxisme/1GB19_nuit_hab.edf...\n",
      "EDF file detected\n",
      "Setting channel info structure...\n",
      "Creating raw.info structure...\n",
      "['1 Imp?dance', '2 Imp?dance']\n"
     ]
    },
    {
     "name": "stderr",
     "output_type": "stream",
     "text": [
      "<ipython-input-4-9f8560d7ccd5>:4: RuntimeWarning: 6 channel names are too long, have been truncated to 15 characters:\n",
      "['Inductance Abdom', 'Inductance Thora', 'Jambe droite Imp', 'Jambe gauche Imp', 'Tension (aliment', 'Tension (Bluetoo']\n",
      "  raw_imp  = mne.io.read_raw_edf(filename, preload=False)  # prepare loading\n"
     ]
    },
    {
     "name": "stdout",
     "output_type": "stream",
     "text": [
      "[[False False]\n",
      " [False False]\n",
      " [False False]]\n",
      "rejected impedances for 0 epochs out of 84040 (0.00%)\n"
     ]
    }
   ],
   "source": [
    "# Value of the impedance threshold\n",
    "THR_imp = 6000\n",
    "\n",
    "raw_imp  = mne.io.read_raw_edf(filename, preload=False)  # prepare loading\n",
    "ch_names = raw_imp.info[\"ch_names\"]\n",
    "picks_chan = [ch_names[1],ch_names[5]]\n",
    "print(picks_chan)\n",
    "\n",
    "croptimes=dict(tmin=raw_imp.times[0]+3600*2, tmax=raw_imp.times[-1]-3600)\n",
    "raw_imp.crop(**croptimes)\n",
    "\n",
    "#Get the table of bad electrodes booleans from the impedance thresholding algo\n",
    "check_imp  = Impedance_thresholding_sliding(raw_imp[picks_chan][0], duration, interval,THR_imp) \n",
    "print(check_imp[:3])\n",
    "\n",
    "# convert to labels per epoch\n",
    "impedance_labels = np.any(check_imp, axis=-1)\n",
    "print(f\"rejected impedances for {np.sum(impedance_labels)} epochs out of {len(impedance_labels)} ({np.sum(impedance_labels)/len(impedance_labels)*100:.2f}%)\")"
   ]
  },
  {
   "cell_type": "code",
   "execution_count": 5,
   "metadata": {},
   "outputs": [
    {
     "name": "stdout",
     "output_type": "stream",
     "text": [
      "mean [3.73276710e-13 4.42176676e-14]\n",
      "median [9.77085708e-08 1.02069934e-07]\n",
      "quantile 0.05 [-7.20970493e-06 -7.27299725e-06]\n",
      "quantile 0.95 [7.01624517e-06 7.13939639e-06]\n"
     ]
    }
   ],
   "source": [
    "# baseline epochs amplitudes\n",
    "print(f\"mean {np.mean(np.mean(epochs, axis=0), axis=-1)}\")\n",
    "print(f\"median {np.median(np.median(epochs, axis=0), axis=-1)}\")\n",
    "print(f\"quantile 0.05 {np.quantile(np.quantile(epochs, 0.05, axis=0),0.05, axis=-1)}\")\n",
    "print(f\"quantile 0.95 {np.quantile(np.quantile(epochs, 0.95, axis=0),0.95, axis=-1)}\")"
   ]
  },
  {
   "cell_type": "code",
   "execution_count": 6,
   "metadata": {},
   "outputs": [
    {
     "name": "stdout",
     "output_type": "stream",
     "text": [
      "[True, True, True, True, True, True, True, True, True, True]\n",
      "[None, None, None, None, None, None, None, None, None, None]\n",
      "good amplitudes for 83992 epochs out of 84040 (99.94%)\n"
     ]
    }
   ],
   "source": [
    "# Epoch rejection based on |min-max| thresholding \n",
    "from tinnsleep.signal import is_good_epochs\n",
    "params = dict(ch_names=raw.info[\"ch_names\"],\n",
    "             rejection_thresholds=dict(emg=5e-04), # two order of magnitude higher q0.01\n",
    "             flat_thresholds=dict(emg=1e-09),    # one order of magnitude lower median\n",
    "             channel_type_idx=dict(emg=[0, 1]),\n",
    "             full_report=True\n",
    "            )\n",
    "amplitude_labels, bad_lists = is_good_epochs(epochs, **params)\n",
    "print(amplitude_labels[:10])\n",
    "print(bad_lists[:10])\n",
    "print(f\"good amplitudes for {np.sum(amplitude_labels)} epochs out of {len(amplitude_labels)} ({np.sum(amplitude_labels)/len(amplitude_labels)*100:.2f}%)\")"
   ]
  },
  {
   "cell_type": "code",
   "execution_count": 7,
   "metadata": {},
   "outputs": [
    {
     "name": "stdout",
     "output_type": "stream",
     "text": [
      "83992\n",
      "good epochs for 83992 epochs out of 84040 (99.94%)\n",
      "84040\n",
      "[ True  True  True]\n"
     ]
    }
   ],
   "source": [
    "# Merge is_good and amplitude\n",
    "# Logical OR\n",
    "valid_labels = np.all(np.c_[np.invert(impedance_labels), amplitude_labels], axis=-1)\n",
    "\n",
    "print(np.sum(valid_labels))\n",
    "print(f\"good epochs for {np.sum(valid_labels)} epochs out of {len(valid_labels)} ({np.sum(valid_labels)/len(valid_labels)*100:.2f}%)\")\n",
    "print(len(valid_labels))\n",
    "print(valid_labels[:3])\n",
    "\n",
    "dict_annotations_artefacts = {1: \"artefact\"}\n",
    "annotations_artefacts = []\n",
    "for k, label in enumerate(np.invert(valid_labels)):\n",
    "    if label > 0:\n",
    "        annotations_artefacts.append(dict(\n",
    "            onset=k*interval/sfreq,\n",
    "            duration=duration/sfreq,\n",
    "            description=dict_annotations_artefacts[label],\n",
    "            orig_time=offset\n",
    "        )\n",
    "            \n",
    "        )"
   ]
  },
  {
   "cell_type": "markdown",
   "metadata": {},
   "source": [
    "## Classifying epochs and annotate raw"
   ]
  },
  {
   "cell_type": "code",
   "execution_count": 8,
   "metadata": {
    "pycharm": {
     "is_executing": false
    }
   },
   "outputs": [
    {
     "name": "stdout",
     "output_type": "stream",
     "text": [
      "bursts count: 3197/84040 (3.80%)\n",
      "bursts time: 799.25 seconds\n"
     ]
    }
   ],
   "source": [
    "# compute the sum of power over electrodes and samples in each window\n",
    "epochs_adaptive = int(60 / window_length) # in epochs\n",
    "pipeline = AmplitudeThresholding(abs_threshold=0., rel_threshold=2, n_adaptive=epochs_adaptive)\n",
    "X        = rms(epochs[valid_labels]) # take only valid labels\n",
    "labels   = pipeline.fit_predict(X)\n",
    "labels   = fuse_with_classif_result(np.invert(valid_labels), labels) # add the missing labels removed with artefacts\n",
    "print(f\"bursts count: {np.sum(labels)}/{len(labels)} ({np.sum(labels) / len(labels) * 100:.2f}%)\")\n",
    "print(f\"bursts time: {np.sum(labels) * window_length} seconds\")\n",
    "\n",
    "dict_annotations = {1: \"burst\"}\n",
    "annotations = []\n",
    "for k, label in enumerate(labels):\n",
    "    if label > 0:\n",
    "        annotations.append(dict(\n",
    "            onset=k*interval/sfreq,\n",
    "            duration=duration/sfreq,\n",
    "            description=dict_annotations[label],\n",
    "            orig_time=offset\n",
    "        )\n",
    "            \n",
    "        )"
   ]
  },
  {
   "cell_type": "markdown",
   "metadata": {
    "pycharm": {
     "name": "#%% md\n"
    }
   },
   "source": [
    "## Display Bursts"
   ]
  },
  {
   "cell_type": "code",
   "execution_count": 9,
   "metadata": {
    "pycharm": {
     "name": "#%% md\n"
    }
   },
   "outputs": [],
   "source": [
    "def plotBursts(raw, annotations, annotations_artefacts, plotargs):\n",
    "    ax1 = plt.subplot(211)\n",
    "    plotTimeSeries(raw.get_data().T, ax=ax1,**plotargs)\n",
    "    plotAnnotations(annotations_artefacts, ax=ax1, color=\"red\")\n",
    "    plotAnnotations(annotations,ax=ax1, text_prop=dict(color=\"green\"), color=\"green\")\n",
    "\n",
    "    ax1.set_xlim(5145,5165)\n",
    "    ax2 = plt.subplot(212)\n",
    "    plotTimeSeries(raw.get_data().T, ax=ax2,**plotargs)\n",
    "    z = zoom_effect(ax1, ax2)\n",
    "\n",
    "    from ipywidgets import interact, FloatSlider\n",
    "    def update_axis(xmin, xmax):\n",
    "        if xmin<xmax:\n",
    "            ax1.set_xlim(xmin,xmax)\n",
    "\n",
    "    i=FloatSlider(min=raw.times[0], max=raw.times[-1], step=10, continuous_update=False)\n",
    "    ii=FloatSlider(min=raw.times[0], max=raw.times[-1], step=10, continuous_update=False)\n",
    "    from ipywidgets import FloatSlider\n",
    "    interact(update_axis,xmin=i, xmax=ii);\n",
    "    return ax1, ax2"
   ]
  },
  {
   "cell_type": "code",
   "execution_count": 10,
   "metadata": {
    "collapsed": false,
    "jupyter": {
     "outputs_hidden": false
    },
    "pycharm": {
     "is_executing": false,
     "name": "#%%\n"
    }
   },
   "outputs": [
    {
     "data": {
      "application/vnd.jupyter.widget-view+json": {
       "model_id": "411290fbfa0f448b99ab70ef2c2adf21",
       "version_major": 2,
       "version_minor": 0
      },
      "text/plain": [
       "Canvas(toolbar=Toolbar(toolitems=[('Home', 'Reset original view', 'home', 'home'), ('Back', 'Back to previous …"
      ]
     },
     "metadata": {},
     "output_type": "display_data"
    },
    {
     "data": {
      "application/vnd.jupyter.widget-view+json": {
       "model_id": "51390177c5104a09bc306e83a79b7877",
       "version_major": 2,
       "version_minor": 0
      },
      "text/plain": [
       "interactive(children=(FloatSlider(value=0.0, continuous_update=False, description='xmin', max=21009.99, step=1…"
      ]
     },
     "metadata": {},
     "output_type": "display_data"
    }
   ],
   "source": [
    "plt.close(\"all\")\n",
    "\n",
    "# decimate signal to make it more readible \n",
    "raw_ds = raw.copy().resample(100)\n",
    "\n",
    "%matplotlib widget\n",
    "scalings=1e-5\n",
    "plotargs = dict(sfreq=raw_ds.info[\"sfreq\"], scalings=scalings, offset=offset, linewidth=0.5)\n",
    "plt.figure()\n",
    "ax1, ax2 = plotBursts(raw_ds, annotations, annotations_artefacts, plotargs);\n",
    "plt.show()"
   ]
  },
  {
   "cell_type": "markdown",
   "metadata": {},
   "source": [
    "## Display Episodes"
   ]
  },
  {
   "cell_type": "markdown",
   "metadata": {
    "pycharm": {
     "is_executing": false
    }
   },
   "source": [
    "## Transform classif to episodes"
   ]
  },
  {
   "cell_type": "markdown",
   "metadata": {
    "pycharm": {
     "is_executing": false
    }
   },
   "source": [
    "1BA07_nuit_hab In this example, an episode of half an hour is detected between 1400 and 3500."
   ]
  },
  {
   "cell_type": "code",
   "execution_count": 11,
   "metadata": {
    "pycharm": {
     "is_executing": false
    }
   },
   "outputs": [
    {
     "name": "stdout",
     "output_type": "stream",
     "text": [
      "[{'onset': 791.75, 'duration': 7.25, 'description': 'Tonic', 'orig_time': 0.0}, {'onset': 1148.75, 'duration': 5.25, 'description': 'Phasic', 'orig_time': 0.0}, {'onset': 1246.0, 'duration': 2.75, 'description': 'Tonic', 'orig_time': 0.0}]\n"
     ]
    }
   ],
   "source": [
    "from tinnsleep.scoring import classif_to_burst, burst_to_episode\n",
    "bursts = classif_to_burst(labels, time_interval=window_length)\n",
    "annotations_episodes = [episode.generate_annotation(orig_time=offset) for episode in burst_to_episode(bursts)]\n",
    "print(annotations_episodes[:3])"
   ]
  },
  {
   "cell_type": "code",
   "execution_count": 12,
   "metadata": {},
   "outputs": [
    {
     "name": "stdout",
     "output_type": "stream",
     "text": [
      "0.0\n"
     ]
    },
    {
     "data": {
      "application/vnd.jupyter.widget-view+json": {
       "model_id": "af8db7c3d78a40abb801dc4c12654918",
       "version_major": 2,
       "version_minor": 0
      },
      "text/plain": [
       "Canvas(toolbar=Toolbar(toolitems=[('Home', 'Reset original view', 'home', 'home'), ('Back', 'Back to previous …"
      ]
     },
     "metadata": {},
     "output_type": "display_data"
    },
    {
     "data": {
      "application/vnd.jupyter.widget-view+json": {
       "model_id": "2611a547d3594301afe2c625f18334c6",
       "version_major": 2,
       "version_minor": 0
      },
      "text/plain": [
       "interactive(children=(FloatSlider(value=0.0, continuous_update=False, description='xmin', max=21009.99, step=1…"
      ]
     },
     "metadata": {},
     "output_type": "display_data"
    }
   ],
   "source": [
    "#plt.close(\"all\")\n",
    "scalings=5e-5\n",
    "print(offset)\n",
    "plotargs = dict(sfreq=raw_ds.info[\"sfreq\"], scalings=scalings, offset=offset, linewidth=0.5)\n",
    "plt.figure()\n",
    "plt.title(\"artefacts (red), episodes (green)\")\n",
    "ax3, ax4 = plotBursts(raw_ds, annotations_episodes, annotations_artefacts, plotargs)\n",
    "ax3.set_xlim(10000,10200);\n",
    "plt.show()"
   ]
  }
 ],
 "metadata": {
  "kernelspec": {
   "display_name": "tinnsleep-env",
   "language": "python",
   "name": "tinnsleep-env"
  },
  "language_info": {
   "codemirror_mode": {
    "name": "ipython",
    "version": 3
   },
   "file_extension": ".py",
   "mimetype": "text/x-python",
   "name": "python",
   "nbconvert_exporter": "python",
   "pygments_lexer": "ipython3",
   "version": "3.8.2"
  },
  "pycharm": {
   "stem_cell": {
    "cell_type": "raw",
    "metadata": {
     "collapsed": false
    },
    "source": []
   }
  }
 },
 "nbformat": 4,
 "nbformat_minor": 4
}
