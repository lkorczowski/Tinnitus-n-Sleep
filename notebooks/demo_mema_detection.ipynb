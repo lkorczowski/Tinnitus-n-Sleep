{
 "cells": [
  {
   "cell_type": "code",
   "execution_count": 33,
   "metadata": {},
   "outputs": [
    {
     "name": "stdout",
     "output_type": "stream",
     "text": [
      "Config loaded\n"
     ]
    }
   ],
   "source": [
    "#Only once when launching notebook\n",
    "import os\n",
    "PATH = os.getcwd() \n",
    "import sys\n",
    "sys.path.append(PATH + '/../')\n",
    "\n",
    "import matplotlib.pyplot as plt\n",
    "from time import time\n",
    "%matplotlib widget\n",
    "print(\"Config loaded\")"
   ]
  },
  {
   "cell_type": "markdown",
   "metadata": {},
   "source": [
    "# Load Data Info"
   ]
  },
  {
   "cell_type": "code",
   "execution_count": 34,
   "metadata": {},
   "outputs": [
    {
     "name": "stdout",
     "output_type": "stream",
     "text": [
      "4          1DA15_nuit_hab.edf\n",
      "9          1GB18_nuit_hab.edf\n",
      "22         1RA17_nuit_hab.edf\n",
      "28           1HB20_nuit_1.edf\n",
      "29           1HB20_nuit_2.edf\n",
      "31           1SL21_nuit_4.edf\n",
      "32           1SL21_nuit_6.edf\n",
      "33           1SL21_nuit_7.edf\n",
      "34           1SL21_nuit_8.edf\n",
      "36           1SL21_nuit_2.edf\n",
      "37           1SL21_nuit_3.edf\n",
      "38           1SL21_nuit_5.edf\n",
      "39           1UC22_nuit_2.edf\n",
      "40           1UC22_nuit_1.edf\n",
      "42           2GA06_nuit_1.edf\n",
      "43           2SJ03_nuit_1.edf\n",
      "45           2GR01_nuit_3.edf\n",
      "46           2GR01_nuit_4.edf\n",
      "49           2LS05_nuit_1.edf\n",
      "50           2CT04_nuit_1.edf\n",
      "51    1HB20_nuit_1_resmed.edf\n",
      "52    1HB20_nuit_2_resmed.edf\n",
      "53    1SL21_nuit_2_resmed.edf\n",
      "54    1SL21_nuit_3_resmed.edf\n",
      "55    1UC22_nuit_1_resmed.edf\n",
      "56    1UC22_nuit_2_resmed.edf\n",
      "Name: filename, dtype: object\n"
     ]
    }
   ],
   "source": [
    "import mne\n",
    "from tinnsleep.config import Config\n",
    "from tinnsleep.data import CreateRaw\n",
    "import pandas as pd\n",
    "data_info = pd.read_csv(\"data/data_info.csv\",engine='python', sep=\";\")\n",
    "print(data_info[data_info[\"mema\"]==1][\"filename\"])"
   ]
  },
  {
   "cell_type": "markdown",
   "metadata": {},
   "source": [
    "# Select data"
   ]
  },
  {
   "cell_type": "code",
   "execution_count": 35,
   "metadata": {},
   "outputs": [
    {
     "name": "stdout",
     "output_type": "stream",
     "text": [
      "Extracting EDF parameters from /Users/louis/Data/SIOPI/bruxisme/1SL21_nuit_3.edf...\n",
      "EDF file detected\n",
      "Setting channel info structure...\n",
      "Creating raw.info structure...\n"
     ]
    },
    {
     "name": "stderr",
     "output_type": "stream",
     "text": [
      "<ipython-input-35-be63a4b20191>:9: RuntimeWarning: 7 channel names are too long, have been truncated to 15 characters:\n",
      "['Inductance Abdom', 'Inductance Thora', 'Intensit? lumine', 'Jambe droite Imp', 'Jambe gauche Imp', 'Tension (aliment', 'Tension (Bluetoo']\n",
      "  raw  = mne.io.read_raw_edf(filename, preload=False)  # prepare loading\n"
     ]
    },
    {
     "name": "stdout",
     "output_type": "stream",
     "text": [
      "Data filtered (7.26s)\n",
      "keeping 10.02 hours of recording out of 10.02 hours\n"
     ]
    }
   ],
   "source": [
    "filename = Config.bruxisme_files[36]  # load file from config\n",
    "mema_files = data_info[data_info[\"mema\"]==1]['filename'].values\n",
    "assert filename.split(os.path.sep)[-1] in mema_files, f\"MEMA not available for {filename.split(os.path.sep)[-1]}\"\n",
    "picks_chan = ['Airflow', '1', \"2\"]           # subset of EMG electrodes\n",
    "ch_types = [\"misc\", \"emg\", \"emg\"]\n",
    "\n",
    "start = time()\n",
    "\n",
    "raw  = mne.io.read_raw_edf(filename, preload=False)  # prepare loading\n",
    "tmin = raw.times[0]                     \n",
    "tmax = raw.times[-1]\n",
    "raw  = CreateRaw(raw[picks_chan][0], raw.info[\"sfreq\"], picks_chan, ch_types=ch_types)        # pick channels and load\n",
    "\n",
    "raw  = raw.filter(0.1, 5., n_jobs=4, \n",
    "                  fir_design='firwin', filter_length='auto', phase='zero-double',\n",
    "                  picks=['Airflow'])\n",
    "raw  = raw.filter(1, 40., n_jobs=4, \n",
    "                  fir_design='firwin', filter_length='auto', phase='zero-double',\n",
    "                  picks=['1', '2'])\n",
    "ch_names = raw.info[\"ch_names\"]\n",
    "print(f\"Data filtered ({time()-start:.2f}s)\")\n",
    "offset = raw.times[0]\n",
    "print(f\"keeping {(raw.times[-1]-raw.times[0])/3600:0.2f} hours of recording out of {(tmax-tmin)/3600:0.2f} hours\")"
   ]
  },
  {
   "cell_type": "markdown",
   "metadata": {},
   "source": [
    "## Epoching data"
   ]
  },
  {
   "cell_type": "code",
   "execution_count": 36,
   "metadata": {
    "pycharm": {
     "is_executing": false,
     "name": "#%%\n"
    }
   },
   "outputs": [
    {
     "name": "stdout",
     "output_type": "stream",
     "text": [
      "['Airflow', '1', '2']\n",
      "Epochs done, shape (36070, 3, 250) in 0.72s\n"
     ]
    }
   ],
   "source": [
    "from tinnsleep.data import RawToEpochs_sliding\n",
    "print(ch_names)\n",
    "start = time()\n",
    "sfreq = raw.info[\"sfreq\"]\n",
    "window_length = 1                    # in seconds\n",
    "duration = int(window_length * sfreq)   # in samples\n",
    "interval = duration                     # no overlapping\n",
    "epochs = RawToEpochs_sliding(raw, duration=duration, interval=interval)\n",
    "print(f\"Epochs done, shape {epochs.shape} in {time()-start:.2f}s\")\n"
   ]
  },
  {
   "cell_type": "markdown",
   "metadata": {},
   "source": [
    "# Annotation MEMA"
   ]
  },
  {
   "cell_type": "code",
   "execution_count": 40,
   "metadata": {},
   "outputs": [
    {
     "name": "stdout",
     "output_type": "stream",
     "text": [
      "(36070, 1, 250)\n",
      "[0. 1.]\n",
      "bursts count: 1039.0/36070 (2.88%)\n",
      "bursts time: 1039.0 seconds\n",
      "Classification done in 7.86s\n",
      "Raw annotated in 0.04s\n"
     ]
    }
   ],
   "source": [
    "from tinnsleep.pipeline import forward_backward_AmplitudeTresholding\n",
    "import numpy as np\n",
    "from tinnsleep.data import CleanAnnotations, AnnotateRaw_sliding\n",
    "\n",
    "\n",
    "start = time()\n",
    "selected_channels = [ch_name in [\"Airflow\"] for ch_name in ch_names]\n",
    "print(epochs[:,selected_channels].shape)\n",
    "list_labels = forward_backward_AmplitudeTresholding(epochs[:,selected_channels],\n",
    "                                          window_length,\n",
    "                                          length_adaptive=60,\n",
    "                                          relative_threshold=3.5,\n",
    "                                          max_duration_between_bursts=3\n",
    "                                          )\n",
    "#All episodes as tonic\n",
    "list_labels[list_labels>0] = 1\n",
    "\n",
    "print(np.unique(list_labels))\n",
    "\n",
    "print(f\"bursts count: {np.sum(list_labels)}/{len(list_labels)} ({np.sum(list_labels) / len(list_labels) * 100:.2f}%)\")\n",
    "print(f\"bursts time: {np.sum(list_labels) * window_length} seconds\")\n",
    "print(f\"Classification done in {time()-start:.2f}s\")\n",
    "list_labels_mema = list_labels\n",
    "\n",
    "start = time()\n",
    "dict_annotations = {1: \"MEA\"}\n",
    "raw = CleanAnnotations(raw)\n",
    "raw = AnnotateRaw_sliding(raw, list_labels, \n",
    "                dict_annotations=dict_annotations, duration=duration, interval=interval, merge=True)\n",
    "print(f\"Raw annotated in {time()-start:.2f}s\")"
   ]
  },
  {
   "cell_type": "markdown",
   "metadata": {},
   "source": [
    "# Annotation EMG"
   ]
  },
  {
   "cell_type": "code",
   "execution_count": 41,
   "metadata": {},
   "outputs": [
    {
     "name": "stdout",
     "output_type": "stream",
     "text": [
      "(36070, 2, 250)\n",
      "[0. 2.]\n",
      "bursts count: 2504.0/36070 (6.94%)\n",
      "bursts time: 2504.0 seconds\n",
      "Classification done in 8.63s\n",
      "Raw annotated in 0.07s\n"
     ]
    }
   ],
   "source": [
    "from tinnsleep.pipeline import forward_backward_AmplitudeTresholding\n",
    "import numpy as np\n",
    "from tinnsleep.data import CleanAnnotations, AnnotateRaw_sliding\n",
    "\n",
    "\n",
    "start = time()\n",
    "selected_channels = [ch_name in [\"1\", \"2\"] for ch_name in ch_names]\n",
    "print(epochs[:,selected_channels].shape)\n",
    "list_labels = forward_backward_AmplitudeTresholding(epochs[:,selected_channels],\n",
    "                                          0.25,\n",
    "                                          length_adaptive=60,\n",
    "                                          relative_threshold=3.5,\n",
    "                                          max_duration_between_bursts=3\n",
    "                                          )\n",
    "#All episodes as tonic\n",
    "list_labels[list_labels>0] = 2\n",
    "\n",
    "print(np.unique(list_labels))\n",
    "\n",
    "print(f\"bursts count: {np.sum(list_labels)}/{len(list_labels)} ({np.sum(list_labels) / len(list_labels) * 100:.2f}%)\")\n",
    "print(f\"bursts time: {np.sum(list_labels) * window_length} seconds\")\n",
    "print(f\"Classification done in {time()-start:.2f}s\")\n",
    "list_labels_emg = list_labels\n",
    "\n",
    "start = time()\n",
    "dict_annotations = {2: \"EMG\"}\n",
    "raw = AnnotateRaw_sliding(raw, list_labels, \n",
    "                dict_annotations=dict_annotations, duration=duration, interval=interval, merge=True)\n",
    "print(f\"Raw annotated in {time()-start:.2f}s\")"
   ]
  },
  {
   "cell_type": "code",
   "execution_count": 42,
   "metadata": {},
   "outputs": [
    {
     "data": {
      "application/vnd.jupyter.widget-view+json": {
       "model_id": "6d25a4fb14ff4eafa758322af2f60f6d",
       "version_major": 2,
       "version_minor": 0
      },
      "text/plain": [
       "Canvas(toolbar=Toolbar(toolitems=[('Home', 'Reset original view', 'home', 'home'), ('Back', 'Back to previous …"
      ]
     },
     "metadata": {},
     "output_type": "display_data"
    },
    {
     "data": {
      "image/png": "[encoded data removed]",
      "text/plain": [
       "<Figure size 1680x984 with 4 Axes>"
      ]
     },
     "execution_count": 42,
     "metadata": {},
     "output_type": "execute_result"
    }
   ],
   "source": [
    "scalings = dict(misc=0.5)\n",
    "raw.plot(scalings = scalings)"
   ]
  },
  {
   "cell_type": "code",
   "execution_count": null,
   "metadata": {},
   "outputs": [],
   "source": []
  }
 ],
 "metadata": {
  "kernelspec": {
   "display_name": "tinnsleep-env",
   "language": "python",
   "name": "tinnsleep-env"
  },
  "language_info": {
   "codemirror_mode": {
    "name": "ipython",
    "version": 3
   },
   "file_extension": ".py",
   "mimetype": "text/x-python",
   "name": "python",
   "nbconvert_exporter": "python",
   "pygments_lexer": "ipython3",
   "version": "3.8.2"
  }
 },
 "nbformat": 4,
 "nbformat_minor": 4
}
