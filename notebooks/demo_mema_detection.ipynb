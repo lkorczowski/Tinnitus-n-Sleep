{
 "cells": [
  {
   "cell_type": "code",
   "execution_count": 1,
   "metadata": {},
   "outputs": [
    {
     "name": "stdout",
     "output_type": "stream",
     "text": [
      "Config loaded\n"
     ]
    }
   ],
   "source": [
    "#Only once when launching notebook\n",
    "import os\n",
    "PATH = os.getcwd() \n",
    "import sys\n",
    "sys.path.append(PATH + '/../')\n",
    "\n",
    "import matplotlib.pyplot as plt\n",
    "from time import time\n",
    "%matplotlib widget\n",
    "print(\"Config loaded\")"
   ]
  },
  {
   "cell_type": "markdown",
   "metadata": {},
   "source": [
    "# Load Data Info"
   ]
  },
  {
   "cell_type": "code",
   "execution_count": 10,
   "metadata": {},
   "outputs": [
    {
     "name": "stdout",
     "output_type": "stream",
     "text": [
      "4          1DA15_nuit_hab.edf\n",
      "9          1GB18_nuit_hab.edf\n",
      "22         1RA17_nuit_hab.edf\n",
      "28           1HB20_nuit_1.edf\n",
      "29           1HB20_nuit_2.edf\n",
      "31           1SL21_nuit_4.edf\n",
      "32           1SL21_nuit_6.edf\n",
      "33           1SL21_nuit_7.edf\n",
      "34           1SL21_nuit_8.edf\n",
      "36           1SL21_nuit_2.edf\n",
      "37           1SL21_nuit_3.edf\n",
      "38           1SL21_nuit_5.edf\n",
      "39           1UC22_nuit_2.edf\n",
      "40           1UC22_nuit_1.edf\n",
      "42           2GA06_nuit_1.edf\n",
      "43           2SJ03_nuit_1.edf\n",
      "45           2GR01_nuit_3.edf\n",
      "46           2GR01_nuit_4.edf\n",
      "49           2LS05_nuit_1.edf\n",
      "50           2CT04_nuit_1.edf\n",
      "51    1HB20_nuit_1_resmed.edf\n",
      "52    1HB20_nuit_2_resmed.edf\n",
      "53    1SL21_nuit_2_resmed.edf\n",
      "54    1SL21_nuit_3_resmed.edf\n",
      "55    1UC22_nuit_1_resmed.edf\n",
      "56    1UC22_nuit_2_resmed.edf\n",
      "Name: filename, dtype: object\n"
     ]
    }
   ],
   "source": [
    "import mne\n",
    "from tinnsleep.config import Config\n",
    "from tinnsleep.data import CreateRaw\n",
    "import pandas as pd\n",
    "data_info = pd.read_csv(\"data/data_info.csv\",engine='python', sep=\";\")\n",
    "print(data_info[data_info[\"mema\"]==1][\"filename\"])"
   ]
  },
  {
   "cell_type": "markdown",
   "metadata": {},
   "source": [
    "# Select data"
   ]
  },
  {
   "cell_type": "code",
   "execution_count": 16,
   "metadata": {},
   "outputs": [
    {
     "name": "stdout",
     "output_type": "stream",
     "text": [
      "Extracting EDF parameters from /Users/louis/Data/SIOPI/bruxisme/1DA15_nuit_hab.edf...\n",
      "EDF file detected\n",
      "Setting channel info structure...\n",
      "Creating raw.info structure...\n"
     ]
    },
    {
     "name": "stderr",
     "output_type": "stream",
     "text": [
      "<ipython-input-16-510d529b7a7d>:9: RuntimeWarning: 6 channel names are too long, have been truncated to 15 characters:\n",
      "['Inductance Abdom', 'Inductance Thora', 'Jambe droite Imp', 'Jambe gauche Imp', 'Tension (aliment', 'Tension (Bluetoo']\n",
      "  raw  = mne.io.read_raw_edf(filename, preload=False)  # prepare loading\n"
     ]
    },
    {
     "name": "stdout",
     "output_type": "stream",
     "text": [
      "Data filtered (2.18s)\n",
      "keeping 8.17 hours of recording out of 8.17 hours\n"
     ]
    }
   ],
   "source": [
    "filename = Config.bruxisme_files[4]  # load file from config\n",
    "mema_files = data_info[data_info[\"mema\"]==1]['filename'].values\n",
    "assert filename.split(os.path.sep)[-1] in mema_files, f\"MEMA not available for {filename.split(os.path.sep)[-1]}\"\n",
    "picks_chan = ['Airflow']           # subset of EMG electrodes\n",
    "ch_types = [\"misc\"]\n",
    "\n",
    "start = time()\n",
    "\n",
    "raw  = mne.io.read_raw_edf(filename, preload=False)  # prepare loading\n",
    "tmin = raw.times[0]                     \n",
    "tmax = raw.times[-1]\n",
    "raw  = CreateRaw(raw[picks_chan][0], raw.info[\"sfreq\"], picks_chan, ch_types=ch_types)        # pick channels and load\n",
    "\n",
    "raw  = raw.filter(0.1, 5., n_jobs=4, \n",
    "                  fir_design='firwin', filter_length='auto', phase='zero-double',\n",
    "                  picks=['Airflow'])\n",
    "ch_names = raw.info[\"ch_names\"]\n",
    "print(f\"Data filtered ({time()-start:.2f}s)\")\n",
    "offset = raw.times[0]\n",
    "print(f\"keeping {(raw.times[-1]-raw.times[0])/3600:0.2f} hours of recording out of {(tmax-tmin)/3600:0.2f} hours\")"
   ]
  },
  {
   "cell_type": "code",
   "execution_count": null,
   "metadata": {},
   "outputs": [],
   "source": []
  }
 ],
 "metadata": {
  "kernelspec": {
   "display_name": "tinnsleep-env",
   "language": "python",
   "name": "tinnsleep-env"
  },
  "language_info": {
   "codemirror_mode": {
    "name": "ipython",
    "version": 3
   },
   "file_extension": ".py",
   "mimetype": "text/x-python",
   "name": "python",
   "nbconvert_exporter": "python",
   "pygments_lexer": "ipython3",
   "version": "3.8.2"
  }
 },
 "nbformat": 4,
 "nbformat_minor": 4
}
