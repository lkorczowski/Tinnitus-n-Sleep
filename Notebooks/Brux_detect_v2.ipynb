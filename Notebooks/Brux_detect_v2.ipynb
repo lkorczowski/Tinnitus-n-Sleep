{
 "cells": [
  {
   "cell_type": "code",
   "execution_count": 2,
   "metadata": {},
   "outputs": [],
   "source": [
    "import matplotlib.pyplot as plt\n",
    "%matplotlib qt\n",
    "import numpy as np\n",
    "import os\n",
    "import mne\n",
    "import scipy\n",
    "from scipy import stats\n",
    "from mne.preprocessing import ICA\n",
    "from mne.preprocessing.ica import corrmap\n",
    "from mne.time_frequency import psd_welch\n",
    "import sys\n",
    "import pickle\n",
    "import seaborn as sns\n",
    "\n",
    "#Create Raw file\n",
    "def CreateRaw(data):\n",
    "    ch_names = ['F3','F4','cp5','cp6']\n",
    "    ch_types = ['eeg'] * len(ch_names)\n",
    "    sfreq=200\n",
    "    montage = 'standard_1020'\n",
    "    info = mne.create_info(ch_names=ch_names, sfreq=sfreq, ch_types=ch_types,montage=montage, verbose=False)\n",
    "    raw = mne.io.RawArray(data, info, verbose=False)\n",
    "    return(raw)\n",
    "\n",
    "def CreateRaw2(data):\n",
    "    ch_names = ['F3','F4','cp5']\n",
    "    ch_types = ['eeg'] * len(ch_names)\n",
    "    sfreq=200\n",
    "    montage = 'standard_1020'\n",
    "    info = mne.create_info(ch_names=ch_names, sfreq=sfreq, ch_types=ch_types,montage=montage, verbose=False)\n",
    "    raw = mne.io.RawArray(data, info, verbose=False)\n",
    "    return(raw)\n",
    "\n",
    "def ReadRawFileUgo(file):\n",
    "    D=[[] for i in range(32)]\n",
    "    cpt = 0\n",
    "    with open(file, 'rb') as f:\n",
    "        while (f.tell() != os.fstat(f.fileno()).st_size):\n",
    "            (b,) = struct.unpack('f', f.read(4))\n",
    "            #print(b)\n",
    "            D[int(cpt % 32)].append(b)\n",
    "            cpt +=1\n",
    "    return(np.array(D))\n",
    "\n",
    "def RawToEpochs(raw,dec):\n",
    "    events = mne.make_fixed_length_events(raw, id=1, duration=dec)\n",
    "    epochs = mne.Epochs(raw, events,tmin=0, tmax=5, reject_by_annotation=True, detrend=0, preload=True)\n",
    "    return(epochs)\n",
    "\n",
    "def RawToEpochs2(raw,m,dec):\n",
    "    events = mne.make_fixed_length_events(raw, id=1, duration=dec)\n",
    "    epochs = mne.Epochs(raw, events,tmin=0, tmax=m, reject_by_annotation=True, detrend=0, preload=True)\n",
    "    return(epochs)\n",
    "\n",
    "def RawToEpochs2_picks(raw,m,dec, picks):\n",
    "    events = mne.make_fixed_length_events(raw, id=1, duration=dec)\n",
    "    epochs = mne.Epochs(raw, events,tmin=0, tmax=m, picks = picks, reject_by_annotation=True, detrend=0, preload=True)\n",
    "    return(epochs)\n",
    "\n",
    "\n"
   ]
  },
  {
   "cell_type": "markdown",
   "metadata": {},
   "source": [
    "## Ouvre le fichier sur lequel on veut travailler"
   ]
  },
  {
   "cell_type": "code",
   "execution_count": 7,
   "metadata": {},
   "outputs": [
    {
     "name": "stdout",
     "output_type": "stream",
     "text": [
      "Extracting EDF parameters from C:\\Users\\zeta\\documents\\EEG_polysomno\\PSG_tamtin_nox\\1DA15_nuit_hab.edf...\n",
      "EDF file detected\n",
      "Setting channel info structure...\n",
      "Creating raw.info structure...\n",
      "Reading 0 ... 5885999  =      0.000 ... 29429.995 secs...\n"
     ]
    },
    {
     "name": "stderr",
     "output_type": "stream",
     "text": [
      "<ipython-input-7-24c9cc3a3aa7>:7: RuntimeWarning: 6 channel names are too long, have been truncated to 15 characters:\n",
      "['Inductance Abdom', 'Inductance Thora', 'Jambe droite Imp', 'Jambe gauche Imp', 'Tension (aliment', 'Tension (Bluetoo']\n",
      "  RAW= mne.io.read_raw_edf(filename, preload=True)\n"
     ]
    },
    {
     "name": "stdout",
     "output_type": "stream",
     "text": [
      "Filtering raw data in 1 contiguous segment\n",
      "Setting up band-pass filter from 20 - 99 Hz\n",
      "\n",
      "FIR filter parameters\n",
      "---------------------\n",
      "Designing a two-pass forward and reverse, zero-phase, non-causal bandpass filter:\n",
      "- Windowed time-domain design (firwin) method\n",
      "- Hamming window with 0.0194 passband ripple and 53 dB stopband attenuation\n",
      "- Lower passband edge: 20.00\n",
      "- Lower transition bandwidth: 5.00 Hz (-12 dB cutoff frequency: 17.50 Hz)\n",
      "- Upper passband edge: 99.00 Hz\n",
      "- Upper transition bandwidth: 1.00 Hz (-12 dB cutoff frequency: 99.50 Hz)\n",
      "- Filter length: 661 samples (3.305 sec)\n",
      "\n",
      "['1', '1 Imp?dance', '1-2', '1-F', '2', '2 Imp?dance', '2-F', 'Abdomen', 'Abdomen CaL', 'Activity', 'X Axis', 'Y Axis', 'Z Axis', 'C3', 'C3 Imp?dance', 'C3-M2', 'C4', 'C4 Imp?dance', 'C4-M1', 'E1', 'E1 Imp?dance', 'E1-M2', 'E2', 'E2 Imp?dance', 'E2-M1', 'ECG', 'ECG Imp?dance', 'F', 'F Imp?dance', 'F3', 'F3 Imp?dance', 'F3-M2', 'F4', 'F4 Imp?dance', 'F4-M1', 'Airflow', 'RIP Flow Cal', 'RIP Flow', 'Resp Rate', 'Heart Rate', 'Inductance Abdo', 'Inductance Thor', 'Light', 'Right Leg', 'Jambe droite Im', 'Left Leg', 'Jambe gauche Im', 'K', 'Flow Limitation', 'M1', 'M1 Imp?dance', 'M1M2', 'M2', 'M2 Imp?dance', 'Elevation', 'O1', 'O1 Imp?dance', 'O1-M2', 'O2', 'O2 Imp?dance', 'O2-M1', 'Pulse Waveform', 'RIP-Phase', 'PosAngle', 'Pulse', 'Nasal Pressure', 'PTT', 'PWA', 'Snoring', 'RIP Sum Cal', 'RIP Sum', 'Saturation', 'SpO2 B-B', 'Tension (alimen', 'Tension (Blueto', 'Tension (pile)', 'Thermistance', 'Thorax', 'Volume audio', 'Audio Volume dB']\n"
     ]
    }
   ],
   "source": [
    "os.listdir(\"C:\\\\Users\\\\zeta\\\\documents\\\\EEG_polysomno\\\\PSG_tamtin_nox\")\n",
    "%matplotlib qt\n",
    "os.chdir(\"C:\\\\Users\\\\zeta\\\\documents\\\\EEG_polysomno\\\\PSG_tamtin_nox\")\n",
    "\n",
    "filename=\"1DA15_nuit_hab.edf\"\n",
    "\n",
    "RAW= mne.io.read_raw_edf(filename, preload=True)\n",
    "RAW = RAW.filter(20., 99., n_jobs=1, fir_design='firwin', filter_length='auto', phase='zero-double')\n",
    "print(RAW.info[\"ch_names\"])\n",
    "chan=RAW.info[\"ch_names\"]"
   ]
  },
  {
   "cell_type": "markdown",
   "metadata": {},
   "source": [
    "## Convertit en Epochs et prend juste les channels d'intérêt de la machoire:"
   ]
  },
  {
   "cell_type": "code",
   "execution_count": 8,
   "metadata": {},
   "outputs": [
    {
     "name": "stdout",
     "output_type": "stream",
     "text": [
      "29430 matching events found\n",
      "Applying baseline correction (mode: mean)\n",
      "Not setting metadata\n",
      "0 projection items activated\n",
      "Loading data for 29430 events and 201 original time points ...\n",
      "1 bad epochs dropped\n"
     ]
    }
   ],
   "source": [
    "chan=RAW.info[\"ch_names\"]\n",
    "mach1= chan.index(\"1\")\n",
    "mach2= chan.index(\"2\")\n",
    "Epo= RawToEpochs2_picks(RAW,1,1, [mach1, mach2])\n"
   ]
  },
  {
   "cell_type": "code",
   "execution_count": 9,
   "metadata": {},
   "outputs": [],
   "source": [
    "%matplotlib inline"
   ]
  },
  {
   "cell_type": "markdown",
   "metadata": {},
   "source": [
    "## Affiche les distributions des epochs créés"
   ]
  },
  {
   "cell_type": "code",
   "execution_count": 10,
   "metadata": {},
   "outputs": [
    {
     "name": "stdout",
     "output_type": "stream",
     "text": [
      "[ 0.00000000e+00  2.02219773e-05  1.08906027e-05  4.85666369e-06\n",
      "  1.80233918e-06 -9.33509776e-07 -1.53559748e-06 -6.46678738e-07\n",
      " -2.99623412e-05  5.78713397e-06  3.95336330e-06  1.11700839e-05\n",
      " -1.42956832e-05  1.37156022e-05  1.66948054e-05  4.34310580e-06\n",
      "  1.98186408e-06 -2.41634124e-05 -2.21332131e-05 -6.27692918e-06\n",
      "  2.51736227e-05  1.74730041e-05 -4.18619854e-06 -8.83721887e-06\n",
      " -1.43523522e-05  2.65350106e-05 -1.10369128e-07 -8.41059565e-06\n",
      " -4.49132627e-06 -5.79779787e-06  3.62001969e-06 -5.98243787e-06\n",
      "  1.85155260e-07  4.24800264e-06  5.39412023e-06  1.46580382e-05\n",
      "  2.89916648e-06 -1.41220116e-05 -2.30607116e-05  2.12259076e-05\n",
      "  1.84744872e-06 -2.72604296e-05  1.84923016e-05  1.11976282e-05\n",
      "  1.09583242e-06 -8.66637560e-06  1.01654512e-05 -5.90780990e-06\n",
      "  7.64498578e-06 -3.00680156e-05  4.15879751e-06  1.54257229e-05\n",
      "  6.71385764e-06 -6.97372689e-06  8.64971929e-06 -7.40432861e-06\n",
      " -2.68623071e-06 -6.36398255e-06 -9.12013812e-06  2.52501331e-05\n",
      "  1.00573547e-05 -1.14914991e-05 -8.21502370e-06 -9.23450901e-06\n",
      " -1.73831517e-05  2.11627737e-05  1.73205333e-05  1.16125061e-05\n",
      " -6.66468402e-06 -1.32131907e-05 -1.53544012e-05 -9.67713044e-06\n",
      "  2.05121800e-05 -8.48842667e-06  1.92195696e-05  8.34362382e-06\n",
      " -1.64089393e-06 -1.01371892e-05 -3.24194429e-05  8.97460138e-06\n",
      "  2.55312232e-05  3.87637017e-07 -1.22847940e-07  9.89303112e-07\n",
      " -1.03348552e-05 -5.65403166e-06 -9.60360600e-06  1.21883156e-05\n",
      "  1.74832569e-05  2.19634440e-06 -1.66670746e-05 -8.56149927e-06\n",
      "  2.76294010e-06  1.88089390e-05 -1.23660150e-06 -2.73370697e-05\n",
      "  1.03580451e-05  1.20140113e-05  2.84071487e-06 -8.52276481e-06\n",
      " -2.42264616e-06 -3.47269033e-06  1.22974746e-05 -3.19177009e-06\n",
      "  2.58874734e-06 -7.46238114e-06 -3.03948183e-06  1.60411921e-06\n",
      "  2.99522655e-06  7.65946852e-06 -2.47635748e-05  1.41091821e-05\n",
      "  1.67183927e-05  2.81890071e-06 -2.88963427e-06 -5.97142118e-06\n",
      " -3.68253314e-05 -2.72814593e-06  3.01811295e-05  1.46034063e-05\n",
      "  1.00576527e-05 -4.68490113e-06 -9.39671151e-06 -2.51347140e-05\n",
      "  3.89597492e-06  7.83510678e-07  7.65174495e-06  6.85777531e-06\n",
      "  9.53065473e-06 -5.42425587e-07  2.28207089e-06 -2.43370696e-05\n",
      " -1.14960138e-05  1.88520355e-05  1.11076668e-05  6.65747341e-06\n",
      " -2.12816990e-05 -1.97707706e-07  4.75900608e-06  1.56400126e-05\n",
      " -4.66663424e-06 -1.21598616e-05 -1.15412532e-05  7.29147477e-06\n",
      "  1.06432519e-06  1.21790225e-05  7.60519795e-06  5.50003206e-06\n",
      " -2.07821052e-05 -1.01624012e-08 -1.36234442e-05 -3.75660632e-06\n",
      "  1.63265406e-05  1.93667754e-05  3.02208832e-07 -7.19045107e-06\n",
      " -2.27870221e-05  1.04607016e-06  1.54997950e-05 -2.44421103e-06\n",
      "  6.29859214e-06 -5.86011243e-06 -3.67854830e-07 -5.91009544e-06\n",
      "  6.79013427e-08  1.66175338e-06  5.92738311e-06 -2.24865889e-06\n",
      "  1.45690888e-05 -1.27018271e-05 -6.37404795e-06  7.28154741e-07\n",
      "  1.58137712e-06  1.63459890e-06 -6.62994969e-06 -9.09078014e-06\n",
      "  2.40958525e-05  1.08447515e-05  2.45473342e-07 -2.28835243e-05\n",
      " -6.17507272e-06 -1.86505901e-06 -7.77013927e-06  2.28483033e-05\n",
      "  1.44710947e-05 -1.15855425e-05 -8.06101660e-06  4.31033297e-06\n",
      " -5.54361081e-06  4.60367369e-06  1.30515866e-08  4.07365616e-07\n",
      " -1.12927381e-05 -4.83295304e-06  7.06974187e-06  2.39796090e-05\n",
      "  9.85014528e-07 -8.28021679e-06 -5.78643337e-06 -1.99596980e-05\n",
      " -3.96707811e-06]\n",
      "294\n"
     ]
    },
    {
     "data": {
      "image/png": "[encoded data removed]",
      "text/plain": [
       "<Figure size 432x288 with 1 Axes>"
      ]
     },
     "metadata": {
      "needs_background": "light"
     },
     "output_type": "display_data"
    },
    {
     "data": {
      "image/png": "[encoded data removed]",
      "text/plain": [
       "<Figure size 432x288 with 1 Axes>"
      ]
     },
     "metadata": {
      "needs_background": "light"
     },
     "output_type": "display_data"
    }
   ],
   "source": [
    "print(Epo[0].get_data()[0][0])\n",
    "plt.figure()\n",
    "sns.distplot(Epo[0].get_data()[0][0])\n",
    "\n",
    "plt.figure()\n",
    "print(int(len(Epo)/100))\n",
    "for i in range(int(len(Epo)/100)):\n",
    "    sns.distplot(Epo[100*i].get_data()[0][0])"
   ]
  },
  {
   "cell_type": "code",
   "execution_count": null,
   "metadata": {},
   "outputs": [],
   "source": []
  },
  {
   "cell_type": "markdown",
   "metadata": {},
   "source": [
    "## Créé les transformées de Fourier (Welch) des epochs et récupère les coefficients entre 20 et 100 Hz"
   ]
  },
  {
   "cell_type": "code",
   "execution_count": 19,
   "metadata": {},
   "outputs": [
    {
     "name": "stdout",
     "output_type": "stream",
     "text": [
      "29429\n",
      "2\n",
      "[19.90049751 20.89552239 21.89054726 22.88557214 23.88059701 24.87562189\n",
      " 25.87064677 26.86567164 27.86069652 28.85572139 29.85074627 30.84577114\n",
      " 31.84079602 32.8358209  33.83084577 34.82587065 35.82089552 36.8159204\n",
      " 37.81094527 38.80597015 39.80099502 40.7960199  41.79104478 42.78606965\n",
      " 43.78109453 44.7761194  45.77114428 46.76616915 47.76119403 48.75621891\n",
      " 49.75124378 50.74626866 51.74129353 52.73631841 53.73134328 54.72636816\n",
      " 55.72139303 56.71641791 57.71144279 58.70646766 59.70149254 60.69651741\n",
      " 61.69154229 62.68656716 63.68159204 64.67661692 65.67164179 66.66666667\n",
      " 67.66169154 68.65671642 69.65174129 70.64676617 71.64179104 72.63681592\n",
      " 73.6318408  74.62686567 75.62189055 76.61691542 77.6119403  78.60696517\n",
      " 79.60199005 80.59701493 81.5920398  82.58706468 83.58208955 84.57711443\n",
      " 85.5721393  86.56716418 87.56218905 88.55721393 89.55223881 90.54726368\n",
      " 91.54228856 92.53731343 93.53233831 94.52736318 95.52238806 96.51741294\n",
      " 97.51243781 98.50746269]\n",
      "101\n",
      "[array([1.78817639e-14, 9.39246437e-13, 1.90174546e-12, 2.91144261e-12,\n",
      "       1.94897252e-12, 3.49008856e-12, 1.18358711e-11, 8.73651164e-12,\n",
      "       4.31952975e-12, 5.92766131e-13, 1.39044439e-11, 1.19811526e-11,\n",
      "       9.51902121e-13, 1.14793592e-13, 9.85815193e-14, 1.81967100e-14,\n",
      "       6.40714092e-13, 3.85430369e-12, 7.45441804e-12, 8.03404713e-12,\n",
      "       3.06826418e-12, 3.00511385e-12, 6.50694467e-14, 1.83803733e-12,\n",
      "       5.70504712e-12, 2.69034914e-12, 6.18371901e-13, 1.21419587e-12,\n",
      "       5.99148251e-12, 5.95468989e-12, 9.18142444e-13, 4.41708319e-13,\n",
      "       1.06859149e-13, 1.89171154e-12, 2.09920606e-13, 1.82784130e-13,\n",
      "       2.23142363e-12, 1.99931993e-12, 1.88288758e-12, 7.45692139e-13,\n",
      "       1.30159625e-13, 8.25518046e-13, 7.24505350e-13, 7.79577921e-13,\n",
      "       2.55831226e-12, 3.33562140e-12, 2.70061734e-12, 6.02913026e-13,\n",
      "       4.50161527e-13, 3.53774809e-12, 2.97294355e-12, 9.11889249e-13,\n",
      "       1.22798753e-12, 3.01890656e-13, 2.12128307e-13, 2.16402441e-12,\n",
      "       2.11613356e-12, 9.05540141e-13, 3.08069090e-13, 4.64319480e-13,\n",
      "       1.40766020e-12, 8.08270440e-13, 7.19589863e-13, 8.22395377e-13,\n",
      "       4.66690446e-13, 9.65991760e-14, 6.60127979e-13, 4.47160703e-13,\n",
      "       6.79390319e-14, 4.26219423e-13, 3.47531853e-13, 6.01964518e-13,\n",
      "       3.66361197e-12, 4.88081443e-12, 1.48688327e-12, 1.09945376e-12,\n",
      "       6.51555723e-13, 6.41755650e-13, 2.80536793e-13, 3.14151328e-13]), array([1.13598080e-12, 1.07968823e-11, 8.87310393e-12, 3.41654651e-13,\n",
      "       7.75996212e-12, 4.11272946e-12, 6.86260069e-15, 6.27093264e-12,\n",
      "       7.25206892e-12, 7.09571737e-12, 5.44003735e-12, 1.09527385e-12,\n",
      "       2.86940137e-12, 5.45259720e-12, 8.05064512e-12, 8.52225611e-13,\n",
      "       1.25348906e-12, 1.90855356e-12, 2.87515906e-12, 3.25722896e-12,\n",
      "       4.28627723e-12, 6.39407081e-12, 8.25126292e-12, 4.67888712e-12,\n",
      "       2.97715516e-13, 6.21287793e-12, 3.45555739e-12, 5.07561079e-13,\n",
      "       7.19220464e-13, 4.18048144e-12, 8.00163046e-12, 6.64733903e-12,\n",
      "       2.06325327e-12, 2.32981462e-12, 4.01854036e-12, 2.50739877e-12,\n",
      "       2.33897198e-12, 2.01047562e-12, 4.74799910e-13, 2.96256051e-13,\n",
      "       3.21294596e-12, 8.37221414e-13, 1.64391279e-12, 9.93563239e-13,\n",
      "       2.98516861e-13, 4.03936170e-13, 3.82630785e-12, 1.40032603e-12,\n",
      "       8.74080968e-13, 6.41034185e-13, 4.51134586e-14, 1.91941515e-12,\n",
      "       1.73452408e-12, 1.06824171e-12, 2.24143337e-12, 1.77740142e-12,\n",
      "       4.10350053e-13, 6.36890616e-14, 8.24975162e-13, 2.06828213e-12,\n",
      "       1.94656649e-12, 1.32189942e-12, 1.07013249e-12, 2.20905488e-12,\n",
      "       4.21850744e-12, 2.01779727e-12, 1.62183036e-13, 1.69127584e-12,\n",
      "       2.42294263e-12, 8.83316552e-13, 1.18755722e-12, 1.38705457e-13,\n",
      "       3.99340076e-14, 4.46802959e-14, 1.69404229e-13, 6.16870724e-13,\n",
      "       7.24921309e-13, 1.56251762e-13, 4.75148876e-13, 8.98166438e-14]), array([5.03486764e-13, 2.55572925e-13, 7.27581714e-12, 7.79626907e-12,\n",
      "       5.53950205e-12, 5.89138729e-12, 1.22597079e-12, 5.08957521e-12,\n",
      "       4.68332655e-12, 2.19160464e-12, 9.38387161e-12, 3.48796883e-12,\n",
      "       4.29663124e-12, 5.90728803e-12, 1.14148910e-12, 1.08367960e-12,\n",
      "       1.49944771e-12, 3.52909996e-13, 1.04796940e-12, 1.93042413e-13,\n",
      "       1.79030555e-13, 1.45727333e-14, 2.33939256e-12, 1.24924273e-11,\n",
      "       6.20140728e-12, 7.30311855e-13, 3.56340547e-14, 1.05834016e-12,\n",
      "       2.38514947e-12, 3.27050609e-12, 6.14993110e-12, 4.01424821e-12,\n",
      "       1.45493840e-13, 4.45044260e-13, 9.76042227e-13, 2.26045404e-12,\n",
      "       2.00519460e-15, 4.90449481e-12, 4.10660875e-12, 6.56577698e-13,\n",
      "       8.35309233e-13, 1.68020799e-13, 1.27480860e-13, 1.13061087e-12,\n",
      "       1.68161834e-12, 1.87869759e-13, 2.18426773e-13, 9.72822702e-13,\n",
      "       8.72102828e-13, 1.21211685e-12, 1.60669150e-12, 1.17788059e-12,\n",
      "       4.18614182e-13, 1.02004222e-12, 1.38796039e-12, 1.07263553e-12,\n",
      "       7.58626498e-13, 1.66213781e-12, 2.02090332e-12, 3.59732283e-13,\n",
      "       6.82794562e-13, 5.42929767e-13, 4.38916658e-14, 3.90159100e-14,\n",
      "       1.82499785e-12, 3.57987756e-12, 1.77172343e-12, 1.28106976e-12,\n",
      "       1.49601575e-12, 4.53490506e-13, 1.71301042e-12, 8.49862749e-13,\n",
      "       9.60034071e-13, 3.18271742e-12, 1.41655152e-12, 4.93515313e-13,\n",
      "       2.50419472e-12, 2.46389394e-12, 6.19718292e-13, 2.51662789e-13]), array([1.39802079e-13, 2.01362781e-12, 1.95259412e-11, 3.25118503e-11,\n",
      "       1.07911252e-11, 7.10257622e-12, 3.72476416e-12, 3.52544675e-14,\n",
      "       7.76933974e-13, 6.33181035e-14, 1.07771967e-12, 3.12342993e-12,\n",
      "       1.03614495e-11, 1.32909678e-11, 9.98986014e-12, 1.82847129e-11,\n",
      "       4.29740247e-12, 3.48981333e-12, 3.51047845e-12, 1.05256976e-13,\n",
      "       2.22100605e-12, 3.10354927e-12, 4.58232952e-12, 9.31974814e-13,\n",
      "       1.42488365e-12, 1.91919260e-12, 4.08579711e-13, 8.07705514e-14,\n",
      "       8.78103063e-13, 2.30431352e-12, 7.67076111e-12, 7.21894871e-12,\n",
      "       9.17967113e-13, 2.76964890e-12, 1.03226736e-12, 1.59585523e-12,\n",
      "       8.98825611e-12, 1.02151743e-11, 1.42484751e-12, 6.68549435e-14,\n",
      "       3.17315568e-13, 5.07568198e-13, 3.07268632e-12, 6.25712493e-13,\n",
      "       1.34412940e-12, 4.27947835e-12, 1.33176369e-12, 1.80901125e-12,\n",
      "       3.73745528e-13, 1.32166667e-12, 4.21580202e-13, 1.59998537e-12,\n",
      "       6.87619510e-13, 1.18683261e-12, 2.50875383e-12, 9.03740364e-13,\n",
      "       1.10295883e-12, 1.53959406e-13, 1.30970958e-13, 1.67005476e-14,\n",
      "       5.96616861e-13, 3.01648583e-12, 2.18284801e-12, 7.21922800e-13,\n",
      "       1.68384264e-12, 1.30091715e-12, 1.08898342e-12, 3.00599314e-13,\n",
      "       1.18636434e-13, 3.63185679e-13, 1.55337710e-13, 2.07041983e-13,\n",
      "       3.56117861e-14, 1.27830276e-13, 5.61240674e-13, 1.78172814e-12,\n",
      "       9.37347027e-13, 5.23093744e-13, 6.34164637e-13, 8.01780909e-13]), array([1.98593446e-12, 9.66859722e-13, 4.87498100e-12, 7.22190933e-12,\n",
      "       2.97524247e-12, 5.53262618e-12, 1.03847746e-12, 5.30177068e-12,\n",
      "       7.43751485e-12, 3.77537157e-12, 9.62920009e-12, 4.40881864e-12,\n",
      "       2.51978166e-12, 2.07484179e-11, 3.82906060e-11, 2.77386121e-11,\n",
      "       7.19565812e-12, 5.66789566e-12, 1.31460863e-11, 1.72140208e-11,\n",
      "       1.05374056e-11, 1.65839087e-12, 3.06305173e-12, 2.00647351e-11,\n",
      "       1.10062428e-11, 5.37280705e-13, 1.04935791e-11, 1.14046055e-11,\n",
      "       4.24060594e-12, 2.25530469e-12, 2.93548635e-11, 1.36643679e-11,\n",
      "       3.18757066e-12, 6.51096216e-12, 1.34376494e-12, 3.30750486e-12,\n",
      "       1.42103204e-11, 4.63717403e-12, 5.95433774e-12, 2.45564231e-13,\n",
      "       4.73804848e-12, 5.33479184e-13, 7.77772958e-13, 1.21228436e-12,\n",
      "       3.32406105e-12, 1.48080938e-11, 1.48949517e-12, 2.92266421e-12,\n",
      "       1.04474501e-13, 7.32595008e-12, 2.76680494e-12, 7.78765124e-13,\n",
      "       7.08427040e-12, 7.80101923e-12, 4.28575899e-12, 2.20071037e-12,\n",
      "       1.15941726e-12, 7.77462581e-12, 8.55737428e-12, 7.75765710e-12,\n",
      "       1.03001808e-11, 9.00716057e-12, 5.12259151e-12, 3.74300424e-12,\n",
      "       6.73572290e-12, 2.48720099e-12, 6.86567040e-13, 5.09540434e-12,\n",
      "       2.78113623e-12, 3.50992605e-12, 6.45053394e-12, 5.13472052e-12,\n",
      "       1.00245281e-11, 1.07699210e-11, 4.84835433e-12, 9.63601406e-12,\n",
      "       9.40459006e-12, 1.42376620e-12, 3.27825396e-12, 7.11354599e-12]), array([1.35607323e-12, 1.46425030e-12, 4.71401014e-12, 5.14572068e-13,\n",
      "       4.48568501e-12, 3.28905477e-12, 2.06981672e-12, 3.97260618e-12,\n",
      "       6.08705988e-13, 2.38295740e-12, 4.21040986e-13, 6.34261636e-13,\n",
      "       2.01999781e-13, 4.24802706e-13, 2.11871047e-12, 1.37234803e-12,\n",
      "       1.52169568e-12, 7.44330292e-13, 1.58064474e-12, 4.88809304e-12,\n",
      "       1.55598124e-13, 4.81828514e-12, 3.81540359e-12, 2.31117604e-12,\n",
      "       3.74890341e-13, 4.63794303e-12, 7.98484616e-12, 3.09409185e-12,\n",
      "       8.34525811e-13, 2.94378345e-13, 4.29849451e-12, 7.96299581e-13,\n",
      "       3.58928665e-12, 1.53905367e-12, 1.01668336e-12, 8.32899997e-13,\n",
      "       6.21419172e-14, 6.69977989e-14, 1.78213758e-13, 1.31177451e-12,\n",
      "       8.71219836e-14, 1.58605279e-12, 2.44472858e-12, 1.69523933e-12,\n",
      "       8.49859660e-13, 4.02437259e-13, 1.86732813e-12, 6.46257575e-13,\n",
      "       4.26940007e-14, 1.71398683e-12, 1.60501530e-12, 2.11579693e-13,\n",
      "       9.82271307e-13, 4.91587466e-13, 4.57183356e-13, 4.11666949e-13,\n",
      "       2.81919913e-12, 2.02317164e-12, 1.79187481e-13, 1.46204656e-12,\n",
      "       1.85757850e-12, 2.50108153e-12, 2.00068516e-13, 5.09233505e-12,\n",
      "       2.43327194e-12, 1.80104201e-12, 7.16989970e-13, 1.93489051e-12,\n",
      "       5.35237941e-14, 9.44559857e-14, 2.47088440e-13, 1.09355816e-12,\n",
      "       8.45845606e-13, 2.27232027e-13, 2.59872238e-13, 6.69074246e-14,\n",
      "       7.99332269e-13, 1.83548079e-12, 2.89398261e-13, 1.21157462e-12]), array([2.13887421e-13, 1.58270293e-12, 4.40821541e-13, 7.16053156e-13,\n",
      "       7.10579165e-13, 8.68657064e-12, 1.14155019e-11, 2.54306798e-12,\n",
      "       3.04161685e-13, 8.49604307e-13, 3.18497497e-13, 7.41576541e-14,\n",
      "       2.48288083e-13, 4.63071950e-13, 9.67809977e-13, 2.46218669e-13,\n",
      "       9.57066222e-15, 1.81553227e-13, 1.52743879e-12, 5.89154844e-13,\n",
      "       2.29800554e-13, 1.48601178e-12, 1.32472760e-12, 2.37112726e-13,\n",
      "       2.71568606e-13, 1.92241330e-13, 1.46496363e-13, 6.62924131e-13,\n",
      "       2.68273479e-13, 2.80600347e-13, 2.50526573e-12, 1.24277517e-12,\n",
      "       1.70014181e-12, 2.72119175e-12, 1.86280553e-12, 9.19554364e-13,\n",
      "       2.68992815e-13, 7.85838334e-13, 5.50589512e-13, 1.79126479e-13,\n",
      "       8.49458223e-13, 2.31872779e-12, 1.27409098e-12, 2.80565810e-13,\n",
      "       6.75372795e-14, 5.23477489e-14, 1.04848005e-13, 1.87789601e-14,\n",
      "       2.59562262e-14, 3.60014486e-13, 9.72197437e-13, 5.89678495e-13,\n",
      "       6.44213364e-13, 3.60396661e-13, 1.32684419e-13, 1.44816371e-13,\n",
      "       5.96743874e-13, 8.29293608e-14, 1.15212003e-13, 1.47743221e-13,\n",
      "       3.61085273e-13, 1.81134683e-13, 2.01009111e-13, 7.38082726e-13,\n",
      "       6.34564414e-13, 5.50541798e-13, 8.62610433e-13, 3.86609881e-14,\n",
      "       2.37257894e-14, 2.07302727e-13, 9.67350258e-13, 9.03849132e-13,\n",
      "       4.26698238e-13, 3.82936200e-13, 1.95826508e-13, 9.78781795e-13,\n",
      "       1.19473448e-12, 2.55791412e-13, 1.53228322e-13, 4.89884008e-13]), array([7.38611924e-13, 1.24494767e-12, 9.64694043e-12, 4.94773935e-12,\n",
      "       7.07096561e-13, 5.43609409e-13, 1.20811519e-13, 1.36083392e-13,\n",
      "       9.46657688e-13, 1.22324163e-12, 7.63001425e-13, 7.89342592e-13,\n",
      "       6.59490779e-13, 2.01020954e-14, 2.59146000e-13, 5.52288394e-13,\n",
      "       2.98679029e-13, 1.15246377e-12, 6.28876301e-13, 1.92561297e-13,\n",
      "       2.85450586e-13, 5.44130209e-15, 6.00211199e-13, 4.76086087e-14,\n",
      "       4.02809071e-13, 1.06598370e-12, 2.04049178e-12, 2.98052390e-12,\n",
      "       1.79750951e-12, 2.00225557e-12, 6.90885688e-12, 2.66888710e-12,\n",
      "       2.91043680e-13, 3.98858809e-13, 7.56543560e-13, 1.19190490e-12,\n",
      "       1.88001422e-12, 1.60425645e-12, 4.83336060e-13, 3.51841319e-14,\n",
      "       5.20241011e-14, 1.66514654e-14, 5.61838963e-14, 4.20818067e-13,\n",
      "       3.23625123e-13, 1.14184673e-13, 9.89866065e-13, 1.71971937e-12,\n",
      "       1.16232054e-13, 1.79254936e-12, 5.61077447e-13, 4.30096850e-14,\n",
      "       4.11937492e-13, 2.10363151e-13, 2.41248904e-13, 1.12557825e-12,\n",
      "       1.45850209e-12, 9.93739836e-13, 5.44002315e-13, 1.71864624e-13,\n",
      "       7.44949531e-14, 1.92785475e-13, 4.32871503e-14, 5.22432362e-14,\n",
      "       4.10246390e-13, 6.71674040e-13, 8.28432298e-13, 3.77091781e-13,\n",
      "       2.37875381e-13, 4.82828469e-13, 4.50621518e-13, 1.53014446e-12,\n",
      "       7.05109331e-13, 9.78703587e-14, 5.23295611e-14, 2.47200058e-13,\n",
      "       1.39844311e-13, 4.91662127e-13, 2.40929854e-13, 2.52054526e-13]), array([5.73872812e-13, 2.23918941e-12, 1.45925113e-13, 4.11300620e-13,\n",
      "       1.01597376e-13, 1.23279230e-12, 2.96788004e-13, 2.08025103e-14,\n",
      "       6.66513456e-14, 1.37751231e-13, 7.21096337e-13, 7.84466341e-13,\n",
      "       1.84872628e-12, 2.56009757e-13, 2.05489678e-12, 2.45386212e-12,\n",
      "       5.71315256e-13, 4.09702355e-13, 9.40422207e-14, 1.23713903e-12,\n",
      "       1.01937134e-12, 7.95161847e-14, 8.00091408e-14, 1.76780278e-13,\n",
      "       2.36152588e-13, 4.26978574e-13, 1.41330451e-12, 1.15960950e-12,\n",
      "       6.57249758e-13, 1.06561014e-12, 4.10617174e-12, 6.48374198e-13,\n",
      "       3.88905639e-13, 6.57097902e-13, 3.38907312e-12, 2.15291070e-12,\n",
      "       9.78502534e-13, 8.59551325e-13, 8.10304251e-13, 1.88850032e-12,\n",
      "       7.28403706e-13, 1.81128694e-12, 2.00866258e-12, 7.70239805e-13,\n",
      "       7.54956070e-13, 2.52100805e-13, 1.98548705e-14, 4.82668627e-13,\n",
      "       1.42384633e-13, 3.58227732e-13, 7.97989088e-13, 1.27969601e-12,\n",
      "       3.33866452e-13, 4.26875075e-13, 1.00347999e-13, 1.63071686e-13,\n",
      "       8.11862404e-14, 3.55888811e-13, 1.74393468e-13, 1.48345795e-13,\n",
      "       8.30213334e-13, 1.02938719e-12, 1.69977922e-12, 1.14444841e-12,\n",
      "       2.64272028e-13, 1.26444353e-13, 3.51966728e-13, 1.28212981e-13,\n",
      "       5.31079449e-14, 3.23001459e-13, 2.43944562e-13, 3.17515458e-13,\n",
      "       1.05796592e-13, 7.03868997e-14, 5.23013183e-13, 5.43703112e-14,\n",
      "       1.13809806e-12, 1.33599374e-12, 1.12501902e-12, 1.44365531e-12]), array([4.37165772e-13, 4.52332134e-13, 4.76128503e-13, 1.53668108e-12,\n",
      "       7.48165755e-13, 2.29195508e-14, 2.45854732e-13, 4.30425793e-13,\n",
      "       7.75662309e-13, 7.94168960e-13, 1.02582157e-12, 3.87433754e-13,\n",
      "       3.63998572e-13, 4.28158910e-13, 1.19594699e-13, 3.84589947e-13,\n",
      "       6.64651803e-13, 6.39136812e-13, 2.55926525e-13, 3.63218576e-13,\n",
      "       2.47685487e-13, 1.60434158e-15, 3.89020543e-14, 4.96694143e-13,\n",
      "       8.74167166e-13, 1.72471984e-13, 8.30372139e-14, 2.37848035e-14,\n",
      "       7.98831222e-14, 4.97324689e-13, 1.15710932e-12, 5.15267761e-13,\n",
      "       2.21820292e-14, 4.79338940e-14, 3.29049565e-13, 1.03662405e-12,\n",
      "       2.35981878e-13, 6.27952298e-14, 8.67700130e-13, 3.21135616e-13,\n",
      "       1.97076441e-13, 7.15312576e-13, 7.82872000e-13, 3.08960586e-13,\n",
      "       8.87740446e-14, 5.06889758e-15, 2.01559515e-13, 9.36710512e-14,\n",
      "       2.58572134e-13, 3.86721129e-13, 5.68498915e-13, 4.28568234e-13,\n",
      "       6.84118278e-13, 5.48150146e-13, 1.03793508e-13, 4.21706997e-13,\n",
      "       4.23903129e-13, 2.03581034e-13, 4.21666478e-13, 6.22027538e-13,\n",
      "       1.26896593e-13, 1.30898411e-13, 8.27863360e-13, 4.04290626e-13,\n",
      "       5.29939671e-14, 9.17281477e-14, 3.39879278e-13, 8.84022786e-13,\n",
      "       1.35715158e-12, 6.86857063e-13, 3.24773392e-13, 6.58256605e-13,\n",
      "       8.92717219e-13, 6.82140769e-13, 3.44676060e-13, 3.61658062e-13,\n",
      "       6.80178462e-14, 8.52210279e-14, 5.34879312e-15, 3.76362196e-13])]\n"
     ]
    }
   ],
   "source": [
    "#Epo.plot(scalings = 'auto', n_channels = 3)\n",
    "def Extract_Alpha(E):\n",
    "        AP = []\n",
    "        print (len(E))\n",
    "        flag = 0\n",
    "        for epoch in E:\n",
    "\n",
    "            #print len(epoch[0])\n",
    "\n",
    "            #Il se passe des choses bizarres ici !! \n",
    "\n",
    "            FFTBIS = scipy.signal.welch(epoch, fs=200.0, window='hanning')\n",
    "            if flag == 0 :\n",
    "                print (len(epoch))\n",
    "                print (FFTBIS[0][20:100])\n",
    "                print (len(FFTBIS[0]))\n",
    "                flag = 1\n",
    "            ap = 0\n",
    "            \n",
    "            ap=FFTBIS[1][0][20:100]    #seulement la channel 1, de 20Hz à 50Hz\n",
    "            \n",
    "            AP.append(ap)\n",
    "\n",
    "\n",
    "        return(AP)\n",
    "\n",
    "get_al=Extract_Alpha(Epo)\n",
    "print(get_al[:10])"
   ]
  },
  {
   "cell_type": "markdown",
   "metadata": {},
   "source": [
    "## Affiche l'ensemble des FFTs précedemment calculées"
   ]
  },
  {
   "cell_type": "code",
   "execution_count": 20,
   "metadata": {},
   "outputs": [
    {
     "name": "stdout",
     "output_type": "stream",
     "text": [
      "294\n"
     ]
    }
   ],
   "source": [
    "plt.figure()\n",
    "print(int(len(get_al)/100))\n",
    "for i in range(int(len(get_al)/100)):\n",
    "    plt.plot(get_al[100*i])"
   ]
  },
  {
   "cell_type": "code",
   "execution_count": null,
   "metadata": {},
   "outputs": [],
   "source": []
  },
  {
   "cell_type": "code",
   "execution_count": null,
   "metadata": {},
   "outputs": [],
   "source": []
  },
  {
   "cell_type": "code",
   "execution_count": null,
   "metadata": {},
   "outputs": [],
   "source": []
  },
  {
   "cell_type": "code",
   "execution_count": null,
   "metadata": {},
   "outputs": [],
   "source": []
  },
  {
   "cell_type": "code",
   "execution_count": null,
   "metadata": {},
   "outputs": [],
   "source": []
  },
  {
   "cell_type": "code",
   "execution_count": null,
   "metadata": {},
   "outputs": [],
   "source": []
  },
  {
   "cell_type": "code",
   "execution_count": 108,
   "metadata": {},
   "outputs": [],
   "source": []
  },
  {
   "cell_type": "code",
   "execution_count": null,
   "metadata": {},
   "outputs": [],
   "source": []
  },
  {
   "cell_type": "code",
   "execution_count": null,
   "metadata": {},
   "outputs": [],
   "source": []
  },
  {
   "cell_type": "code",
   "execution_count": null,
   "metadata": {},
   "outputs": [],
   "source": []
  },
  {
   "cell_type": "code",
   "execution_count": null,
   "metadata": {},
   "outputs": [],
   "source": []
  },
  {
   "cell_type": "code",
   "execution_count": null,
   "metadata": {},
   "outputs": [],
   "source": []
  },
  {
   "cell_type": "code",
   "execution_count": null,
   "metadata": {},
   "outputs": [],
   "source": []
  },
  {
   "cell_type": "code",
   "execution_count": null,
   "metadata": {},
   "outputs": [],
   "source": []
  },
  {
   "cell_type": "code",
   "execution_count": null,
   "metadata": {},
   "outputs": [],
   "source": []
  },
  {
   "cell_type": "code",
   "execution_count": null,
   "metadata": {},
   "outputs": [],
   "source": []
  }
 ],
 "metadata": {
  "kernelspec": {
   "display_name": "Python 3",
   "language": "python",
   "name": "python3"
  },
  "language_info": {
   "codemirror_mode": {
    "name": "ipython",
    "version": 3
   },
   "file_extension": ".py",
   "mimetype": "text/x-python",
   "name": "python",
   "nbconvert_exporter": "python",
   "pygments_lexer": "ipython3",
   "version": "3.7.3"
  }
 },
 "nbformat": 4,
 "nbformat_minor": 2
}
