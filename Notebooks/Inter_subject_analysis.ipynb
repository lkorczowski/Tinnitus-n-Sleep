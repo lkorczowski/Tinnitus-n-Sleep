{
 "cells": [
  {
   "cell_type": "markdown",
   "metadata": {},
   "source": [
    "## Create reports for several recordings"
   ]
  },
  {
   "cell_type": "code",
   "execution_count": 5,
   "metadata": {},
   "outputs": [
    {
     "name": "stdout",
     "output_type": "stream",
     "text": [
      "config loaded\n"
     ]
    }
   ],
   "source": [
    "import os\n",
    "PATH = os.getcwd() \n",
    "import sys\n",
    "sys.path.append(PATH + '/../')\n",
    "import mne\n",
    "from tinnsleep.config import Config\n",
    "from tinnsleep.create_reports import preprocess, reporting\n",
    "import matplotlib.pyplot as plt\n",
    "%matplotlib widget\n",
    "import numpy as np\n",
    "from tinnsleep.config import Config\n",
    "print(\"config loaded\")\n"
   ]
  },
  {
   "cell_type": "code",
   "execution_count": 6,
   "metadata": {},
   "outputs": [
    {
     "name": "stdout",
     "output_type": "stream",
     "text": [
      "parameters set\n"
     ]
    }
   ],
   "source": [
    "#Setting parameters\n",
    "EDF_list = Config.bruxisme_files[0:1]\n",
    "ind_picks_chan = [0, 4]\n",
    "ind_picks_imp = [1, 5]\n",
    "THR_classif=[[0,2], [0,3], [0,4], [0,5] , [0,6], [0,7], [0,8], [0,9], [0,10]]\n",
    "sfreq = 200\n",
    "window_length = 0.25                    # in seconds\n",
    "duration = int(window_length * sfreq)   # in samples\n",
    "interval = duration                     # no overlapping\n",
    "THR_imp = 8000\n",
    "params = dict(ch_names=['1', '2'],\n",
    "                  rejection_thresholds=dict(emg=1e-04),  # two order of magnitude higher q0.01\n",
    "                  flat_thresholds=dict(emg=1e-09),  # one order of magnitude lower median\n",
    "                  channel_type_idx=dict(emg=[0, 1]),\n",
    "                  full_report=True\n",
    "                  )\n",
    "\n",
    "print(\"parameters set\")\n"
   ]
  },
  {
   "cell_type": "code",
   "execution_count": 10,
   "metadata": {},
   "outputs": [
    {
     "name": "stdout",
     "output_type": "stream",
     "text": [
      "Extracting EDF parameters from C:\\Users\\zeta\\documents\\EEG_polysomno\\PSG2\\1BA07_nuit_hab.edf...\n",
      "EDF file detected\n",
      "Setting channel info structure...\n",
      "Creating raw.info structure...\n",
      "burst list empty\n",
      "burst list empty\n",
      "burst list empty\n",
      "burst list empty\n"
     ]
    }
   ],
   "source": [
    "import warnings\n",
    "with warnings.catch_warnings():\n",
    "    warnings.simplefilter(\"ignore\", category=RuntimeWarning)\n",
    "\n",
    "    results={}\n",
    "    for filename in EDF_list:\n",
    "        raw = mne.io.read_raw_edf(filename, preload=False)  # prepare loading\n",
    "        picks_chan=[]\n",
    "        for elm in ind_picks_chan:\n",
    "            picks_chan.append(raw.info[\"ch_names\"][elm])\n",
    "        picks_imp=[]\n",
    "        for elm in ind_picks_imp:\n",
    "            picks_imp.append(raw.info[\"ch_names\"][elm])\n",
    "        epochs, valid_labels, log = preprocess(raw, picks_chan, picks_imp, duration, interval, params, THR_imp=THR_imp, get_log=True)\n",
    "        results[filename] = reporting(epochs, valid_labels, THR_classif, log)\n"
   ]
  },
  {
   "cell_type": "code",
   "execution_count": 14,
   "metadata": {},
   "outputs": [
    {
     "name": "stdout",
     "output_type": "stream",
     "text": [
      "dict_keys(['C:\\\\Users\\\\zeta\\\\documents\\\\EEG_polysomno\\\\PSG2\\\\1BA07_nuit_hab.edf'])\n"
     ]
    },
    {
     "data": {
      "application/vnd.jupyter.widget-view+json": {
       "model_id": "e1674d5d156444e194b5aad04614b683",
       "version_major": 2,
       "version_minor": 0
      },
      "text/plain": [
       "Canvas(toolbar=Toolbar(toolitems=[('Home', 'Reset original view', 'home', 'home'), ('Back', 'Back to previous …"
      ]
     },
     "metadata": {},
     "output_type": "display_data"
    },
    {
     "name": "stdout",
     "output_type": "stream",
     "text": [
      "[21.08454329078325, 15.697303154812202, 7.895093302716196, 2.1363193642643825, 0.09288345062019054, 0.0, 0.0, 0.0, 0.0]\n",
      "[0, 6]\n",
      "{'Clean data duration': 38758.25, 'Total burst duration': 8.25, 'Total number of burst': 31, 'Number of bursts per hour': 2.879386969225907, 'Total number of episodes': 1, 'Number of bursts per episode': 31.0, 'Number of episodes per hour': 0.09288345062019054, 'Number of tonic episodes per hour': 0.0, 'Number of phasic episodes per hour': 0.023220862655047636, 'Number of mixed episodes per hour': 0.0, 'Mean duration of tonic episode': nan, 'Mean duration of phasic episode': 2.75, 'Mean duration of mixed episode': nan}\n"
     ]
    }
   ],
   "source": [
    "print(results.keys())\n",
    "plt.figure()\n",
    "for elm in results.keys():\n",
    "    nb_ep=[]\n",
    "    for ep in results[elm][\"reports\"]:\n",
    "        nb_ep.append(ep[\"Number of episodes per hour\"])\n",
    "    print(nb_ep)\n",
    "    st = elm[-19:] + \" len \" + str(ep[\"Clean data duration\"])\n",
    "    plt.plot(nb_ep, label=st)\n",
    "plt.title('Comparison for number of episodes per hour')\n",
    "plt.legend()\n",
    "print(results[Config.bruxisme_files[0]][\"THR_classif\"][4])\n",
    "print(results[Config.bruxisme_files[0]][\"reports\"][4])"
   ]
  },
  {
   "cell_type": "code",
   "execution_count": 17,
   "metadata": {},
   "outputs": [
    {
     "name": "stdout",
     "output_type": "stream",
     "text": [
      "dict_keys(['C:\\\\Users\\\\zeta\\\\documents\\\\EEG_polysomno\\\\PSG2\\\\1BA07_nuit_hab.edf'])\n"
     ]
    },
    {
     "data": {
      "application/vnd.jupyter.widget-view+json": {
       "model_id": "dd2d63e8feb54cfb851818b9d14dc3c7",
       "version_major": 2,
       "version_minor": 0
      },
      "text/plain": [
       "Canvas(toolbar=Toolbar(toolitems=[('Home', 'Reset original view', 'home', 'home'), ('Back', 'Back to previous …"
      ]
     },
     "metadata": {},
     "output_type": "display_data"
    },
    {
     "name": "stdout",
     "output_type": "stream",
     "text": [
      "Number of bursts for each THR_classif for \\1BA07_nuit_hab.edf : [3192, 1654, 802, 283, 31, 0, 0, 0, 0]\n"
     ]
    },
    {
     "data": {
      "text/plain": [
       "<matplotlib.legend.Legend at 0x231938e2a20>"
      ]
     },
     "execution_count": 17,
     "metadata": {},
     "output_type": "execute_result"
    }
   ],
   "source": [
    "print(results.keys())\n",
    "plt.figure()\n",
    "for elm in results.keys():\n",
    "    nb_ep=[]\n",
    "    for ep in results[elm][\"reports\"]:\n",
    "        nb_ep.append(ep[\"Total number of burst\"])\n",
    "    print(f\"Number of bursts for each THR_classif for {elm[-19:]} : {nb_ep}\")\n",
    "    st = elm[-19:] + \" len \" + str(ep[\"Clean data duration\"])\n",
    "    plt.plot(nb_ep, label=st)\n",
    "plt.title('Comparison for total number of bursts')\n",
    "plt.legend()"
   ]
  },
  {
   "cell_type": "code",
   "execution_count": null,
   "metadata": {},
   "outputs": [],
   "source": []
  }
 ],
 "metadata": {
  "kernelspec": {
   "display_name": "Python 3",
   "language": "python",
   "name": "python3"
  },
  "language_info": {
   "codemirror_mode": {
    "name": "ipython",
    "version": 3
   },
   "file_extension": ".py",
   "mimetype": "text/x-python",
   "name": "python",
   "nbconvert_exporter": "python",
   "pygments_lexer": "ipython3",
   "version": "3.7.3"
  }
 },
 "nbformat": 4,
 "nbformat_minor": 2
}
