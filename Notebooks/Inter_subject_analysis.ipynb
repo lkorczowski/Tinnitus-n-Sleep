{
 "cells": [
  {
   "cell_type": "markdown",
   "metadata": {},
   "source": [
    "## Inter-subject analysis\n",
    "\n",
    "This notebook will \n",
    "- Process and generate reports for all the dataset following procedure detailed in Bruxism detection\n",
    "- Display several metrics for all patients of the datasets\n",
    "- Display group analysis differences between tinnitus overnight increase patients and stable overnight patients (for tinnitus masking volume and VAS scales)\n",
    "- Display correlation plots between tinnitus evolution overnight and number of bruxisme episodes per hour (for tinnitus masking volume and VAS scales)"
   ]
  },
  {
   "cell_type": "code",
   "execution_count": 91,
   "metadata": {},
   "outputs": [
    {
     "name": "stdout",
     "output_type": "stream",
     "text": [
      "config loaded\n"
     ]
    }
   ],
   "source": [
    "import os\n",
    "PATH = os.getcwd() \n",
    "import sys\n",
    "sys.path.append(PATH + '/../')\n",
    "import mne\n",
    "from tinnsleep.config import Config\n",
    "from tinnsleep.create_reports import preprocess, reporting\n",
    "import matplotlib.pyplot as plt\n",
    "%matplotlib widget\n",
    "import numpy as np\n",
    "import pandas as pd\n",
    "import pickle\n",
    "import scipy\n",
    "from tinnsleep.config import Config\n",
    "\n",
    "print(\"config loaded\")\n"
   ]
  },
  {
   "cell_type": "code",
   "execution_count": 92,
   "metadata": {},
   "outputs": [
    {
     "name": "stdout",
     "output_type": "stream",
     "text": [
      "parameters set\n"
     ]
    }
   ],
   "source": [
    "#Setting parameters\n",
    "EDF_list = Config.bruxisme_files\n",
    "os.chdir(\"C:/Users/Zeta/Documents/acou_sommeil_HD_ENS/Tinnitus-n-Sleep/Notebooks\")\n",
    "THR_classif=[[0,2], [0,3], [0,4], [0,5] , [0,6], [0,7], [0,8], [0,9], [0,10]]\n",
    "sfreq = 200\n",
    "window_length = 0.25                    # in seconds\n",
    "duration = int(window_length * sfreq)   # in samples\n",
    "interval = duration                     # no overlapping\n",
    "\n",
    "#Importing personnalized parameters for dataset\n",
    "df = pd.read_pickle(\"Resources/valid_chans_THR_imp\")\n",
    "dico_chans= df.to_dict(\"list\")\n",
    "print(\"parameters set\")\n"
   ]
  },
  {
   "cell_type": "markdown",
   "metadata": {},
   "source": [
    "## Processing of the dataset and report generation"
   ]
  },
  {
   "cell_type": "code",
   "execution_count": 4,
   "metadata": {},
   "outputs": [
    {
     "name": "stdout",
     "output_type": "stream",
     "text": [
      "Extracting EDF parameters from E:\\Acou_sommeil\\EDF_V2_PAUL\\1BA07_nuit_hab.edf...\n",
      "EDF file detected\n",
      "Setting channel info structure...\n",
      "Creating raw.info structure...\n",
      "E:/Acou_sommeil/EDF_V2_PAUL\\1BA07_nuit_hab.edf\n",
      "['1', '2']\n",
      "['1 Imp?dance', '2 Imp?dance']\n",
      "burst list empty\n",
      "burst list empty\n",
      "burst list empty\n",
      "burst list empty\n",
      "Extracting EDF parameters from E:\\Acou_sommeil\\EDF_V2_PAUL\\1BA07_nuit_son.edf...\n",
      "EDF file detected\n",
      "Setting channel info structure...\n",
      "Creating raw.info structure...\n",
      "E:/Acou_sommeil/EDF_V2_PAUL\\1BA07_nuit_son.edf\n",
      "['1', '2']\n",
      "['1 Imp?dance', '2 Imp?dance']\n",
      "burst list empty\n",
      "burst list empty\n",
      "Extracting EDF parameters from E:\\Acou_sommeil\\EDF_V2_PAUL\\1CC05_nuit_hab.edf...\n",
      "EDF file detected\n",
      "Setting channel info structure...\n",
      "Creating raw.info structure...\n",
      "E:/Acou_sommeil/EDF_V2_PAUL\\1CC05_nuit_hab.edf\n",
      "['1', '2']\n",
      "['1 Impedance', '2 Impedance']\n",
      "burst list empty\n",
      "Extracting EDF parameters from E:\\Acou_sommeil\\EDF_V2_PAUL\\1CC05_nuit_son.edf...\n",
      "EDF file detected\n",
      "Setting channel info structure...\n",
      "Creating raw.info structure...\n",
      "E:/Acou_sommeil/EDF_V2_PAUL\\1CC05_nuit_son.edf\n",
      "['1', '1-F']\n",
      "['1 Imp?dance', '1-F (Imp)']\n",
      "burst list empty\n",
      "burst list empty\n",
      "burst list empty\n",
      "burst list empty\n",
      "Extracting EDF parameters from E:\\Acou_sommeil\\EDF_V2_PAUL\\1DA15_nuit_hab.edf...\n",
      "EDF file detected\n",
      "Setting channel info structure...\n",
      "Creating raw.info structure...\n",
      "E:/Acou_sommeil/EDF_V2_PAUL\\1DA15_nuit_hab.edf\n",
      "['1']\n",
      "['1 Imp?dance']\n",
      "burst list empty\n",
      "burst list empty\n",
      "Extracting EDF parameters from E:\\Acou_sommeil\\EDF_V2_PAUL\\1DA15_nuit_son.edf...\n",
      "EDF file detected\n",
      "Setting channel info structure...\n",
      "Creating raw.info structure...\n",
      "E:/Acou_sommeil/EDF_V2_PAUL\\1DA15_nuit_son.edf\n",
      "['1', '2']\n",
      "['1 Imp?dance', '2 Imp?dance']\n",
      "burst list empty\n",
      "burst list empty\n",
      "Extracting EDF parameters from E:\\Acou_sommeil\\EDF_V2_PAUL\\1DL12_nuit_hab.edf...\n",
      "EDF file detected\n",
      "Setting channel info structure...\n",
      "Creating raw.info structure...\n",
      "E:/Acou_sommeil/EDF_V2_PAUL\\1DL12_nuit_hab.edf\n",
      "['1', '1-F']\n",
      "['1 Imp?dance', '1-F (Imp)']\n",
      "Extracting EDF parameters from E:\\Acou_sommeil\\EDF_V2_PAUL\\1DL12_nuit_son.edf...\n",
      "EDF file detected\n",
      "Setting channel info structure...\n",
      "Creating raw.info structure...\n",
      "E:/Acou_sommeil/EDF_V2_PAUL\\1DL12_nuit_son.edf\n",
      "['1', '2']\n",
      "['1 Imp?dance', '2 Imp?dance']\n",
      "burst list empty\n",
      "burst list empty\n",
      "Extracting EDF parameters from E:\\Acou_sommeil\\EDF_V2_PAUL\\1GB18_nuit_son.edf...\n",
      "EDF file detected\n",
      "Setting channel info structure...\n",
      "Creating raw.info structure...\n",
      "E:/Acou_sommeil/EDF_V2_PAUL\\1GB18_nuit_son.edf\n",
      "['1', '2']\n",
      "['1 Imp?dance', '2 Imp?dance']\n",
      "burst list empty\n",
      "Extracting EDF parameters from E:\\Acou_sommeil\\EDF_V2_PAUL\\1GB19_nuit_hab.edf...\n",
      "EDF file detected\n",
      "Setting channel info structure...\n",
      "Creating raw.info structure...\n",
      "E:/Acou_sommeil/EDF_V2_PAUL\\1GB19_nuit_hab.edf\n",
      "['1', '2']\n",
      "['1 Imp?dance', '2 Imp?dance']\n",
      "burst list empty\n",
      "burst list empty\n",
      "Extracting EDF parameters from E:\\Acou_sommeil\\EDF_V2_PAUL\\1GF14_nuit_hab.edf...\n",
      "EDF file detected\n",
      "Setting channel info structure...\n",
      "Creating raw.info structure...\n",
      "E:/Acou_sommeil/EDF_V2_PAUL\\1GF14_nuit_hab.edf\n",
      "Extracting EDF parameters from E:\\Acou_sommeil\\EDF_V2_PAUL\\1GF14_nuit_son.edf...\n",
      "EDF file detected\n",
      "Setting channel info structure...\n",
      "Creating raw.info structure...\n",
      "E:/Acou_sommeil/EDF_V2_PAUL\\1GF14_nuit_son.edf\n",
      "['1', '2']\n",
      "['1 Imp?dance', '2 Imp?dance']\n",
      "Extracting EDF parameters from E:\\Acou_sommeil\\EDF_V2_PAUL\\1MA16_nuit_hab.edf...\n",
      "EDF file detected\n",
      "Setting channel info structure...\n",
      "Creating raw.info structure...\n",
      "E:/Acou_sommeil/EDF_V2_PAUL\\1MA16_nuit_hab.edf\n",
      "['1', '2']\n",
      "['1 Imp?dance', '2 Imp?dance']\n",
      "burst list empty\n",
      "burst list empty\n",
      "Extracting EDF parameters from E:\\Acou_sommeil\\EDF_V2_PAUL\\1MA16_nuit_son.edf...\n",
      "EDF file detected\n",
      "Setting channel info structure...\n",
      "Creating raw.info structure...\n",
      "E:/Acou_sommeil/EDF_V2_PAUL\\1MA16_nuit_son.edf\n",
      "['1', '2']\n",
      "['1 Imp?dance', '2 Imp?dance']\n",
      "Extracting EDF parameters from E:\\Acou_sommeil\\EDF_V2_PAUL\\1MF19_nuit_hab.edf...\n",
      "EDF file detected\n",
      "Setting channel info structure...\n",
      "Creating raw.info structure...\n",
      "E:/Acou_sommeil/EDF_V2_PAUL\\1MF19_nuit_hab.edf\n",
      "['1', '2']\n",
      "['1 Imp?dance', '2 Imp?dance']\n",
      "burst list empty\n",
      "Extracting EDF parameters from E:\\Acou_sommeil\\EDF_V2_PAUL\\1MF19_nuit_son.edf...\n",
      "EDF file detected\n",
      "Setting channel info structure...\n",
      "Creating raw.info structure...\n",
      "E:/Acou_sommeil/EDF_V2_PAUL\\1MF19_nuit_son.edf\n",
      "['1', '1-F']\n",
      "['1 Impedance', '1-F (Imp)']\n",
      "burst list empty\n",
      "burst list empty\n",
      "Extracting EDF parameters from E:\\Acou_sommeil\\EDF_V2_PAUL\\1MN09_nuit_hab.edf...\n",
      "EDF file detected\n",
      "Setting channel info structure...\n",
      "Creating raw.info structure...\n",
      "E:/Acou_sommeil/EDF_V2_PAUL\\1MN09_nuit_hab.edf\n",
      "['1', '2']\n",
      "['1 Imp?dance', '2 Imp?dance']\n",
      "Extracting EDF parameters from E:\\Acou_sommeil\\EDF_V2_PAUL\\1MN09_nuit_son.edf...\n",
      "EDF file detected\n",
      "Setting channel info structure...\n",
      "Creating raw.info structure...\n",
      "E:/Acou_sommeil/EDF_V2_PAUL\\1MN09_nuit_son.edf\n",
      "['1', '2']\n",
      "['1 Impedance', '2 Impedance']\n",
      "burst list empty\n",
      "burst list empty\n",
      "burst list empty\n",
      "Extracting EDF parameters from E:\\Acou_sommeil\\EDF_V2_PAUL\\1PI07_nuit_hab.edf...\n",
      "EDF file detected\n",
      "Setting channel info structure...\n",
      "Creating raw.info structure...\n",
      "E:/Acou_sommeil/EDF_V2_PAUL\\1PI07_nuit_hab.edf\n",
      "['1', '2']\n",
      "['1 Imp?dance', '2 Imp?dance']\n",
      "burst list empty\n",
      "burst list empty\n",
      "burst list empty\n",
      "burst list empty\n",
      "burst list empty\n",
      "burst list empty\n",
      "Extracting EDF parameters from E:\\Acou_sommeil\\EDF_V2_PAUL\\1PI07_nuit_son.edf...\n",
      "EDF file detected\n",
      "Setting channel info structure...\n",
      "Creating raw.info structure...\n",
      "E:/Acou_sommeil/EDF_V2_PAUL\\1PI07_nuit_son.edf\n",
      "['1', '2']\n",
      "['1 Imp?dance', '2 Imp?dance']\n",
      "burst list empty\n",
      "burst list empty\n",
      "burst list empty\n",
      "burst list empty\n",
      "Extracting EDF parameters from E:\\Acou_sommeil\\EDF_V2_PAUL\\1PT06_nuit_hab.edf...\n",
      "EDF file detected\n",
      "Setting channel info structure...\n",
      "Creating raw.info structure...\n",
      "E:/Acou_sommeil/EDF_V2_PAUL\\1PT06_nuit_hab.edf\n",
      "['1', '1-F']\n",
      "['1 Imp?dance', '1-F (Imp)']\n",
      "burst list empty\n",
      "Extracting EDF parameters from E:\\Acou_sommeil\\EDF_V2_PAUL\\1PT06_nuit_son.edf...\n",
      "EDF file detected\n",
      "Setting channel info structure...\n",
      "Creating raw.info structure...\n",
      "E:/Acou_sommeil/EDF_V2_PAUL\\1PT06_nuit_son.edf\n",
      "['1', '1-F']\n",
      "['1 Imp?dance', '1-F (Imp)']\n",
      "Extracting EDF parameters from E:\\Acou_sommeil\\EDF_V2_PAUL\\1RA17_nuit_hab.edf...\n",
      "EDF file detected\n",
      "Setting channel info structure...\n",
      "Creating raw.info structure...\n",
      "E:/Acou_sommeil/EDF_V2_PAUL\\1RA17_nuit_hab.edf\n",
      "Extracting EDF parameters from E:\\Acou_sommeil\\EDF_V2_PAUL\\1RA17_nuit_son.edf...\n",
      "EDF file detected\n",
      "Setting channel info structure...\n",
      "Creating raw.info structure...\n",
      "E:/Acou_sommeil/EDF_V2_PAUL\\1RA17_nuit_son.edf\n",
      "['1', '2']\n",
      "['1 Impedance', '2 Impedance']\n",
      "burst list empty\n",
      "burst list empty\n",
      "burst list empty\n",
      "burst list empty\n",
      "burst list empty\n",
      "burst list empty\n",
      "burst list empty\n",
      "Extracting EDF parameters from E:\\Acou_sommeil\\EDF_V2_PAUL\\1SA14_nuit_hab.edf...\n",
      "EDF file detected\n",
      "Setting channel info structure...\n",
      "Creating raw.info structure...\n",
      "E:/Acou_sommeil/EDF_V2_PAUL\\1SA14_nuit_hab.edf\n",
      "['1', '2']\n",
      "['1 Impedance', '2 Impedance']\n",
      "Extracting EDF parameters from E:\\Acou_sommeil\\EDF_V2_PAUL\\1SA14_nuit_son.edf...\n",
      "EDF file detected\n",
      "Setting channel info structure...\n",
      "Creating raw.info structure...\n",
      "E:/Acou_sommeil/EDF_V2_PAUL\\1SA14_nuit_son.edf\n",
      "['1', '2']\n",
      "['1 Imp?dance', '2 Imp?dance']\n",
      "Extracting EDF parameters from E:\\Acou_sommeil\\EDF_V2_PAUL\\1ZN04_nuit_hab.edf...\n",
      "EDF file detected\n",
      "Setting channel info structure...\n",
      "Creating raw.info structure...\n",
      "E:/Acou_sommeil/EDF_V2_PAUL\\1ZN04_nuit_hab.edf\n",
      "['1', '1-F']\n",
      "['1 Impedance', '1-F (Imp)']\n",
      "burst list empty\n",
      "burst list empty\n",
      "Extracting EDF parameters from E:\\Acou_sommeil\\EDF_V2_PAUL\\1ZN04_nuit_son.edf...\n",
      "EDF file detected\n",
      "Setting channel info structure...\n",
      "Creating raw.info structure...\n",
      "E:/Acou_sommeil/EDF_V2_PAUL\\1ZN04_nuit_son.edf\n",
      "['1', '1-F']\n",
      "['1 Impedance', '1-F (Imp)']\n",
      "burst list empty\n",
      "burst list empty\n",
      "Extracting EDF parameters from E:\\Acou_sommeil\\EDF_V2_PAUL\\HZB_nuit_1.edf...\n",
      "EDF file detected\n",
      "Setting channel info structure...\n",
      "Creating raw.info structure...\n",
      "E:/Acou_sommeil/EDF_V2_PAUL\\HZB_nuit_1.edf\n",
      "['2']\n",
      "['2 Imp?dance']\n",
      "burst list empty\n",
      "burst list empty\n",
      "Extracting EDF parameters from E:\\Acou_sommeil\\EDF_V2_PAUL\\HZB_nuit_2.edf...\n",
      "EDF file detected\n",
      "Setting channel info structure...\n"
     ]
    },
    {
     "name": "stdout",
     "output_type": "stream",
     "text": [
      "Creating raw.info structure...\n",
      "E:/Acou_sommeil/EDF_V2_PAUL\\HZB_nuit_2.edf\n",
      "['1', '1-F']\n",
      "['1 Imp?dance', '1-F (Imp)']\n",
      "burst list empty\n",
      "burst list empty\n",
      "Extracting EDF parameters from E:\\Acou_sommeil\\EDF_V2_PAUL\\HZB_nuit_3.edf...\n",
      "EDF file detected\n",
      "Setting channel info structure...\n",
      "Creating raw.info structure...\n",
      "E:/Acou_sommeil/EDF_V2_PAUL\\HZB_nuit_3.edf\n",
      "['1', '2']\n",
      "['1 Imp?dance', '2 Imp?dance']\n",
      "burst list empty\n",
      "Extracting EDF parameters from E:\\Acou_sommeil\\EDF_V2_PAUL\\SCHMIDTLIN_nuit_1_dec_OD__0to0.edf...\n",
      "EDF file detected\n",
      "Setting channel info structure...\n",
      "Creating raw.info structure...\n",
      "E:/Acou_sommeil/EDF_V2_PAUL\\SCHMIDTLIN_nuit_1_dec_OD__0to0.edf\n",
      "Extracting EDF parameters from E:\\Acou_sommeil\\EDF_V2_PAUL\\SCHMIDTLIN_nuit_3_dec_OD__4to0to2.edf...\n",
      "EDF file detected\n",
      "Setting channel info structure...\n",
      "Creating raw.info structure...\n",
      "E:/Acou_sommeil/EDF_V2_PAUL\\SCHMIDTLIN_nuit_3_dec_OD__4to0to2.edf\n",
      "['1']\n",
      "['1 Imp?dance']\n",
      "burst list empty\n",
      "Extracting EDF parameters from E:\\Acou_sommeil\\EDF_V2_PAUL\\SCHMIDTLIN_nuit_4_dec_OD__3to3.edf...\n",
      "EDF file detected\n",
      "Setting channel info structure...\n",
      "Creating raw.info structure...\n",
      "E:/Acou_sommeil/EDF_V2_PAUL\\SCHMIDTLIN_nuit_4_dec_OD__3to3.edf\n",
      "['1']\n",
      "['1 Imp?dance']\n",
      "burst list empty\n",
      "burst list empty\n",
      "burst list empty\n",
      "burst list empty\n",
      "Extracting EDF parameters from E:\\Acou_sommeil\\EDF_V2_PAUL\\SCHMIDTLIN_nuit_5_dec_OD__0to1.edf...\n",
      "EDF file detected\n",
      "Setting channel info structure...\n",
      "Creating raw.info structure...\n",
      "E:/Acou_sommeil/EDF_V2_PAUL\\SCHMIDTLIN_nuit_5_dec_OD__0to1.edf\n",
      "['1']\n",
      "['1 Imp?dance']\n",
      "burst list empty\n",
      "burst list empty\n",
      "burst list empty\n",
      "burst list empty\n",
      "burst list empty\n",
      "burst list empty\n",
      "burst list empty\n",
      "Extracting EDF parameters from E:\\Acou_sommeil\\EDF_V2_PAUL\\SCHM_nuit_1.edf...\n",
      "EDF file detected\n",
      "Setting channel info structure...\n",
      "Creating raw.info structure...\n",
      "E:/Acou_sommeil/EDF_V2_PAUL\\SCHM_nuit_1.edf\n",
      "['1', '2']\n",
      "['1 Imp?dance', '2 Imp?dance']\n",
      "Extracting EDF parameters from E:\\Acou_sommeil\\EDF_V2_PAUL\\SCHM_nuit_2.edf...\n",
      "EDF file detected\n",
      "Setting channel info structure...\n",
      "Creating raw.info structure...\n",
      "E:/Acou_sommeil/EDF_V2_PAUL\\SCHM_nuit_2.edf\n",
      "['1', '2']\n",
      "['1 Impedance', '2 Impedance']\n",
      "Extracting EDF parameters from E:\\Acou_sommeil\\EDF_V2_PAUL\\SCHM_nuit_3.edf...\n",
      "EDF file detected\n",
      "Setting channel info structure...\n",
      "Creating raw.info structure...\n",
      "E:/Acou_sommeil/EDF_V2_PAUL\\SCHM_nuit_3.edf\n",
      "['1', '2']\n",
      "['1 Impedance', '2 Impedance']\n",
      "Extracting EDF parameters from E:\\Acou_sommeil\\EDF_V2_PAUL\\Schmidtlin_nuit_2_dec_3to0to4.edf...\n",
      "EDF file detected\n",
      "Setting channel info structure...\n",
      "Creating raw.info structure...\n",
      "E:/Acou_sommeil/EDF_V2_PAUL\\Schmidtlin_nuit_2_dec_3to0to4.edf\n",
      "['1', '1-F']\n",
      "['1 Imp?dance', '1-F (Imp)']\n",
      "Extracting EDF parameters from E:\\Acou_sommeil\\EDF_V2_PAUL\\Unger_2.edf...\n",
      "EDF file detected\n",
      "Setting channel info structure...\n",
      "Creating raw.info structure...\n",
      "E:/Acou_sommeil/EDF_V2_PAUL\\Unger_2.edf\n",
      "['1', '2']\n",
      "['1 Impedance', '2 Impedance']\n",
      "burst list empty\n",
      "burst list empty\n",
      "burst list empty\n",
      "burst list empty\n",
      "burst list empty\n",
      "Extracting EDF parameters from E:\\Acou_sommeil\\EDF_V2_PAUL\\jon_mema.edf...\n",
      "EDF file detected\n",
      "Setting channel info structure...\n",
      "Creating raw.info structure...\n",
      "E:/Acou_sommeil/EDF_V2_PAUL\\jon_mema.edf\n",
      "['1', '1-F']\n",
      "['1 Imp?dance', '1-F (Imp)']\n",
      "burst list empty\n",
      "burst list empty\n",
      "burst list empty\n",
      "burst list empty\n",
      "burst list empty\n",
      "burst list empty\n",
      "Extracting EDF parameters from E:\\Acou_sommeil\\EDF_V2_PAUL\\jose_mema.edf...\n",
      "EDF file detected\n",
      "Setting channel info structure...\n",
      "Creating raw.info structure...\n",
      "E:/Acou_sommeil/EDF_V2_PAUL\\jose_mema.edf\n",
      "['2']\n",
      "['2 Imp?dance']\n",
      "burst list empty\n",
      "burst list empty\n",
      "burst list empty\n",
      "burst list empty\n",
      "burst list empty\n",
      "burst list empty\n",
      "Extracting EDF parameters from E:\\Acou_sommeil\\EDF_V2_PAUL\\robin_mema_nuit_1.edf...\n",
      "EDF file detected\n",
      "Setting channel info structure...\n",
      "Creating raw.info structure...\n",
      "E:/Acou_sommeil/EDF_V2_PAUL\\robin_mema_nuit_1.edf\n",
      "['1', '1-F']\n",
      "['1 Imp?dance', '1-F (Imp)']\n",
      "Extracting EDF parameters from E:\\Acou_sommeil\\EDF_V2_PAUL\\robin_mema_nuit_2.edf...\n",
      "EDF file detected\n",
      "Setting channel info structure...\n",
      "Creating raw.info structure...\n",
      "E:/Acou_sommeil/EDF_V2_PAUL\\robin_mema_nuit_2.edf\n",
      "['1', '1-F']\n",
      "['1 Imp?dance', '1-F (Imp)']\n",
      "burst list empty\n",
      "burst list empty\n",
      "Extracting EDF parameters from E:\\Acou_sommeil\\EDF_V2_PAUL\\robin_nuit_23_sept.edf...\n",
      "EDF file detected\n",
      "Setting channel info structure...\n",
      "Creating raw.info structure...\n",
      "E:/Acou_sommeil/EDF_V2_PAUL\\robin_nuit_23_sept.edf\n",
      "['1', '1-F']\n",
      "['1 Impedance', '1-F (Imp)']\n",
      "Extracting EDF parameters from E:\\Acou_sommeil\\EDF_V2_PAUL\\robin_nuit_son_24_sept.edf...\n",
      "EDF file detected\n",
      "Setting channel info structure...\n",
      "Creating raw.info structure...\n",
      "E:/Acou_sommeil/EDF_V2_PAUL\\robin_nuit_son_24_sept.edf\n",
      "['1', '1-F']\n",
      "['1 Impedance', '1-F (Imp)']\n",
      "Extracting EDF parameters from E:\\Acou_sommeil\\EDF_V2_PAUL\\sophie_mema.edf...\n",
      "EDF file detected\n",
      "Setting channel info structure...\n",
      "Creating raw.info structure...\n",
      "E:/Acou_sommeil/EDF_V2_PAUL\\sophie_mema.edf\n",
      "['2']\n",
      "['2 Imp?dance']\n",
      "Extracting EDF parameters from E:\\Acou_sommeil\\EDF_V2_PAUL\\tom_mema.edf...\n",
      "EDF file detected\n",
      "Setting channel info structure...\n",
      "Creating raw.info structure...\n",
      "E:/Acou_sommeil/EDF_V2_PAUL\\tom_mema.edf\n",
      "['2']\n",
      "['2 Imp?dance']\n",
      "Extracting EDF parameters from E:\\Acou_sommeil\\EDF_V2_PAUL\\unger_nuit_1.edf...\n",
      "EDF file detected\n",
      "Setting channel info structure...\n",
      "Creating raw.info structure...\n",
      "E:/Acou_sommeil/EDF_V2_PAUL\\unger_nuit_1.edf\n",
      "['1', '1-F']\n",
      "['1 Impedance', '1-F (Imp)']\n",
      "burst list empty\n",
      "burst list empty\n",
      "burst list empty\n",
      "burst list empty\n",
      "burst list empty\n",
      "burst list empty\n"
     ]
    }
   ],
   "source": [
    "import warnings\n",
    "\n",
    "#EDF_list=['E:/Acou_sommeil/EDF_V2_PAUL\\\\jon_mema.edf']\n",
    "\n",
    "with warnings.catch_warnings():\n",
    "    warnings.simplefilter(\"ignore\", category=RuntimeWarning)\n",
    "    \n",
    "    results={}\n",
    "    print(\"Files processed : \")\n",
    "    for filename in EDF_list:\n",
    "        #opens the raw file\n",
    "        raw = mne.io.read_raw_edf(filename, preload=False, verbose=False)  # prepare loading\n",
    "        print(filename.split(\"\\\\\")[-1])\n",
    "        #Get channels indexes\n",
    "        ind_picks_chan= dico_chans[filename.split(\"\\\\\")[-1]][0]\n",
    "        ind_picks_imp= dico_chans[filename.split(\"\\\\\")[-1]][1]\n",
    "        #Get THR_imp value for filename\n",
    "        THR_imp = dico_chans[filename.split(\"\\\\\")[-1]][2]\n",
    "        \n",
    "        #Get channel names from indexes\n",
    "        if len(ind_picks_chan)>0: #ignore file if no channel is good\n",
    "            picks_chan=[]\n",
    "            for elm in ind_picks_chan:\n",
    "                picks_chan.append(raw.info[\"ch_names\"][elm])\n",
    "            picks_imp=[]\n",
    "            for elm in ind_picks_imp:\n",
    "                picks_imp.append(raw.info[\"ch_names\"][elm])\n",
    "            \n",
    "            #Setting parameters for is_good\n",
    "            params = dict(ch_names=picks_chan,\n",
    "                  rejection_thresholds=dict(emg=1e-04),  # two order of magnitude higher q0.01\n",
    "                  flat_thresholds=dict(emg=1e-09),  # one order of magnitude lower median\n",
    "                  channel_type_idx=dict(emg=[ i for i in range(len(picks_chan))]),\n",
    "                  full_report=True\n",
    "                  )\n",
    "            # Get the preprocessing steps done\n",
    "            epochs, valid_labels, log = preprocess(raw, picks_chan, picks_imp, duration, interval, params, THR_imp=THR_imp, get_log=True)\n",
    "            #If at least one epoch is good create report\n",
    "            if np.sum(valid_labels)>0 : \n",
    "                results[filename] = reporting(epochs, valid_labels, THR_classif, log)\n",
    "print(\"Reports created, process finished.\")"
   ]
  },
  {
   "cell_type": "markdown",
   "metadata": {},
   "source": [
    "## Data visualization for the entire cohort for nb episodes per hour as a function of THR_classif value : "
   ]
  },
  {
   "cell_type": "code",
   "execution_count": 101,
   "metadata": {},
   "outputs": [
    {
     "data": {
      "application/vnd.jupyter.widget-view+json": {
       "model_id": "e51179f5c6d94213a9c9d7f5a6a50c48",
       "version_major": 2,
       "version_minor": 0
      },
      "text/plain": [
       "Canvas(toolbar=Toolbar(toolitems=[('Home', 'Reset original view', 'home', 'home'), ('Back', 'Back to previous …"
      ]
     },
     "metadata": {},
     "output_type": "display_data"
    },
    {
     "data": {
      "text/plain": [
       "Text(0, 0.5, 'Nb of episodes per hour')"
      ]
     },
     "execution_count": 101,
     "metadata": {},
     "output_type": "execute_result"
    }
   ],
   "source": [
    "plt.figure()\n",
    "for elm in results.keys():\n",
    "    nb_ep=[]\n",
    "    for ep in results[elm][\"reports\"]:\n",
    "        nb_ep.append(ep[\"Number of episodes per hour\"])\n",
    "    st = elm.split(\"\\\\\")[-1] + \" len \" + str(ep[\"Clean data duration\"])\n",
    "    plt.plot([i+2 for i in range(9)], nb_ep)\n",
    "plt.title('Comparison for all subjects for nb of episodes per hour')\n",
    "plt.xlabel('THR_classif value')\n",
    "plt.ylabel('Nb of episodes per hour')\n"
   ]
  },
  {
   "cell_type": "markdown",
   "metadata": {},
   "source": [
    "## Data visualization for the entire cohort for nb bursts as a function of THR_classif value : "
   ]
  },
  {
   "cell_type": "code",
   "execution_count": 97,
   "metadata": {},
   "outputs": [
    {
     "data": {
      "application/vnd.jupyter.widget-view+json": {
       "model_id": "653a696a148442c997e6a118cd489359",
       "version_major": 2,
       "version_minor": 0
      },
      "text/plain": [
       "Canvas(toolbar=Toolbar(toolitems=[('Home', 'Reset original view', 'home', 'home'), ('Back', 'Back to previous …"
      ]
     },
     "metadata": {},
     "output_type": "display_data"
    },
    {
     "data": {
      "text/plain": [
       "Text(0, 0.5, 'Nb of burst on the recording')"
      ]
     },
     "execution_count": 97,
     "metadata": {},
     "output_type": "execute_result"
    }
   ],
   "source": [
    "plt.figure()\n",
    "for elm in results.keys():\n",
    "    nb_ep=[]\n",
    "    for ep in results[elm][\"reports\"]:\n",
    "        nb_ep.append(ep[\"Total number of burst\"])\n",
    "    #print(f\"Number of bursts for each THR_classif for {elm[-19:]} : {nb_ep}\")\n",
    "    st = elm.split(\"\\\\\")[-1] + \" len \" + str(ep[\"Clean data duration\"])\n",
    "    plt.plot(nb_ep)\n",
    "plt.title('Comparison for all subjects on total number of bursts')\n",
    "plt.xlabel('THR_classif value')\n",
    "plt.ylabel('Nb of burst on the recording')"
   ]
  },
  {
   "cell_type": "markdown",
   "metadata": {},
   "source": [
    "## Logs of the preprocessing : "
   ]
  },
  {
   "cell_type": "code",
   "execution_count": 171,
   "metadata": {},
   "outputs": [
    {
     "name": "stderr",
     "output_type": "stream",
     "text": [
      "C:\\Users\\Zeta\\Anaconda3\\lib\\site-packages\\ipykernel_launcher.py:14: RuntimeWarning: More than 20 figures have been opened. Figures created through the pyplot interface (`matplotlib.pyplot.figure`) are retained until explicitly closed and may consume too much memory. (To control this warning, see the rcParam `figure.max_open_warning`).\n",
      "  \n"
     ]
    },
    {
     "data": {
      "application/vnd.jupyter.widget-view+json": {
       "model_id": "4b35d0ec2b594c99a4299b3ec40da351",
       "version_major": 2,
       "version_minor": 0
      },
      "text/plain": [
       "Canvas(toolbar=Toolbar(toolitems=[('Home', 'Reset original view', 'home', 'home'), ('Back', 'Back to previous …"
      ]
     },
     "metadata": {},
     "output_type": "display_data"
    }
   ],
   "source": [
    "file=[]\n",
    "suppr_imp=[]\n",
    "suppr_amp=[]\n",
    "for elm in results.keys():\n",
    "    if results[elm][\"log\"]['suppressed_overall']/results[elm][\"log\"]['total_nb_epochs'] > 0.0001:\n",
    "        file.append(elm.split(\"\\\\\")[-1][:-4] + \" | \" + \n",
    "                    str(\"%.1f\" % (100 *results[elm][\"log\"]['suppressed_overall']/results[elm][\"log\"]['total_nb_epochs']))\n",
    "                   + \" % tot_suppr\")\n",
    "        suppr_imp.append((results[elm][\"log\"]['suppressed_imp_THR']/results[elm][\"log\"]['total_nb_epochs']))\n",
    "        suppr_amp.append(results[elm][\"log\"]['suppressed_amp_THR']/results[elm][\"log\"]['total_nb_epochs'])\n",
    "       \n",
    "\n",
    "\n",
    "fig, ax = plt.subplots(figsize=(8, 13))\n",
    "rect1 = ax.barh(file, suppr_imp)\n",
    "rect2 = ax.barh(file, suppr_amp, left=suppr_imp)\n",
    "plt.xlabel(\"% epochs rejected by imp_thr (bl) and by ampl_thr (or)\")\n",
    "plt.tight_layout()\n",
    "plt.show()\n"
   ]
  },
  {
   "cell_type": "markdown",
   "metadata": {},
   "source": [
    "## Extracting list of nb of episodes per hour for all THR_classif per patient"
   ]
  },
  {
   "cell_type": "code",
   "execution_count": 178,
   "metadata": {},
   "outputs": [
    {
     "name": "stdout",
     "output_type": "stream",
     "text": [
      "45\n",
      "[['sophie_mema.edf', [13.565600600360856, 11.036420827412222, 12.186047996934327, 10.346644525698958, 8.85212920532022, 7.357613884941481, 5.518210413706111, 2.8740679238052658, 1.8394034712353702]], ['tom_mema.edf', [16.606639107215727, 9.453009953338183, 7.153629153877544, 6.003938754147224, 4.854248354416905, 2.9380976881997056, 2.0438940439650124, 1.405177155225946, 0.38323013324343985]], ['unger_nuit_1.edf', [42.80844323542578, 13.05740160462794, 0.3305671292310871, 0.0, 0.0, 0.0, 0.0, 0.0, 0.0]]]\n"
     ]
    }
   ],
   "source": [
    "get_scores=[]\n",
    "for elm in results.keys():\n",
    "        #print (elm)\n",
    "        l_ep_h=[]\n",
    "        for ep in results[elm][\"reports\"]:\n",
    "            l_ep_h.append(ep[\"Number of episodes per hour\"])\n",
    "\n",
    "        get_scores.append([elm.split(\"\\\\\")[-1], l_ep_h])\n",
    "print(len(get_scores))\n",
    "print(get_scores[-3:])"
   ]
  },
  {
   "cell_type": "markdown",
   "metadata": {},
   "source": [
    "## Getting masking volume data"
   ]
  },
  {
   "cell_type": "code",
   "execution_count": null,
   "metadata": {},
   "outputs": [],
   "source": [
    "get_pickle = pd.read_pickle(\"Resources/evolution_acous_nuits_masquage_v2_metaData_stats\")\n",
    "evol_masking = get_pickle[\"results\"]"
   ]
  },
  {
   "cell_type": "markdown",
   "metadata": {},
   "source": [
    "## Comparing nb_ep/hour between patients with tinnitus increase (augm) and without (stable) for values of THR_classif"
   ]
  },
  {
   "cell_type": "code",
   "execution_count": 201,
   "metadata": {},
   "outputs": [
    {
     "name": "stdout",
     "output_type": "stream",
     "text": [
      "Nb_patients in each group : \n",
      "Tinnitus increase : 11\n",
      "Tinnitus stable : 17\n"
     ]
    },
    {
     "name": "stderr",
     "output_type": "stream",
     "text": [
      "C:\\Users\\Zeta\\Anaconda3\\lib\\site-packages\\ipykernel_launcher.py:55: RuntimeWarning: More than 20 figures have been opened. Figures created through the pyplot interface (`matplotlib.pyplot.figure`) are retained until explicitly closed and may consume too much memory. (To control this warning, see the rcParam `figure.max_open_warning`).\n"
     ]
    },
    {
     "data": {
      "application/vnd.jupyter.widget-view+json": {
       "model_id": "2bd5e6aff29442f9847c6d82ecf06389",
       "version_major": 2,
       "version_minor": 0
      },
      "text/plain": [
       "Canvas(toolbar=Toolbar(toolitems=[('Home', 'Reset original view', 'home', 'home'), ('Back', 'Back to previous …"
      ]
     },
     "metadata": {},
     "output_type": "display_data"
    },
    {
     "data": {
      "text/plain": [
       "Text(0, 0.5, 'Nb of episodes per hour')"
      ]
     },
     "execution_count": 201,
     "metadata": {},
     "output_type": "execute_result"
    }
   ],
   "source": [
    "# Files not to consider for analysis\n",
    "to_suppress=[\"Schmidtlin_nuit_2_dec_3to0to4.edf\", \"SCHMIDTLIN_nuit_1_dec_OD__0to0.edf\",\n",
    "             \"SCHMIDTLIN_nuit_3_dec_OD__4to0to2.edf\",\"1MA16_nuit_hab.edf\",\"SCHM_nuit_1.edf\",\n",
    "             \"HZB_nuit_3.edf\"]\n",
    "#Jutification : \"Schmidtlin_nuit_2_dec_3to0to4.edf\", \"SCHMIDTLIN_nuit_1_dec_OD__0to0.edf\", \n",
    "# \"SCHMIDTLIN_nuit_3_dec_OD__4to0to2.edf\" : compromised data\n",
    "# 1MA16_nuit_hab : patient awake all night\n",
    "# HZB_nuit_3.edf partial night \n",
    "\n",
    "#Preparing values for correlation scatter plots\n",
    "scat=[[] for i in range(len(THR_classif))]  #scatter plots with absolute values\n",
    "pourc_scat=[[] for i in range(len(THR_classif))]  #scatter plots with percentages values\n",
    "\n",
    "\n",
    "augm=[[] for i in range(len(THR_classif))]  #patients with tinnitus increase\n",
    "stable=[[] for i in range(len(THR_classif))] #patients with stable or decreasing tinnitus\n",
    "for elm in evol_masking:\n",
    "    for i in range(len(get_scores)):\n",
    "     if not to_suppress.__contains__(elm[0]):\n",
    "        if elm[0]==get_scores[i][0]:\n",
    "            \n",
    "            #For correlation scatter plots\n",
    "            for j in range(len(THR_classif)):\n",
    "                #getting points [abs evolution masking volume ; coreesponding nb_episode/hour]\n",
    "                scat[j].append([elm[-2], get_scores[i][1][j]])\n",
    "                if elm[-1] < 1 :  # removing a strong outlier\n",
    "                    #getting points [% evolution masking volume ; coreesponding nb_episode/hour]\n",
    "                    pourc_scat[j].append([elm[-1], get_scores[i][1][j]])\n",
    "            \n",
    "            #Sorting patients according to tinnitus evolution overnight\n",
    "            if (elm[2]>0):\n",
    "                for j in range(len(THR_classif)):\n",
    "                    augm[j].append(get_scores[i][1][j])\n",
    "            else:\n",
    "                for j in range(len(THR_classif)):\n",
    "                    stable[j].append(get_scores[i][1][j])\n",
    "                    \n",
    "#Calculating mean and standard deviation for all THR_classif values\n",
    "augm_m=[]\n",
    "augm_std=[]\n",
    "stable_m=[]\n",
    "stable_std=[]\n",
    "for elm in augm:\n",
    "    augm_m.append(np.mean(elm))\n",
    "    augm_std.append(np.std(elm))\n",
    "for elm in stable:\n",
    "    stable_m.append(np.mean(elm))\n",
    "    stable_std.append(np.std(elm))\n",
    "    \n",
    "print(\"Nb_patients in each group : \")\n",
    "print(\"Tinnitus increase : \" + str(len(augm[0])))\n",
    "print(\"Tinnitus stable : \" + str(len(stable[0])))\n",
    "    \n",
    "#Displaying\n",
    "plt.figure()\n",
    "plt.errorbar([i+2 for i in range(len(THR_classif))],stable_m, stable_std)\n",
    "plt.errorbar([i+2 for i in range(len(THR_classif))], augm_m, augm_std)\n",
    "plt.title(\"Comparing nb_episodes/hour (y) between patients with (or) \\n and without (bl) tinnitus increase\" )\n",
    "plt.xlabel('THR_classif value')\n",
    "plt.ylabel('Nb of episodes per hour')"
   ]
  },
  {
   "cell_type": "markdown",
   "metadata": {},
   "source": [
    "## Displaying correlation plots for absolute overnight evolutions of tinnitus"
   ]
  },
  {
   "cell_type": "code",
   "execution_count": 200,
   "metadata": {
    "scrolled": true
   },
   "outputs": [
    {
     "name": "stderr",
     "output_type": "stream",
     "text": [
      "C:\\Users\\Zeta\\Anaconda3\\lib\\site-packages\\ipykernel_launcher.py:10: RuntimeWarning: More than 20 figures have been opened. Figures created through the pyplot interface (`matplotlib.pyplot.figure`) are retained until explicitly closed and may consume too much memory. (To control this warning, see the rcParam `figure.max_open_warning`).\n",
      "  # Remove the CWD from sys.path while we load stuff.\n"
     ]
    },
    {
     "data": {
      "application/vnd.jupyter.widget-view+json": {
       "model_id": "318a20eea58d4d9bb3d08790152f080e",
       "version_major": 2,
       "version_minor": 0
      },
      "text/plain": [
       "Canvas(toolbar=Toolbar(toolitems=[('Home', 'Reset original view', 'home', 'home'), ('Back', 'Back to previous …"
      ]
     },
     "metadata": {},
     "output_type": "display_data"
    },
    {
     "name": "stderr",
     "output_type": "stream",
     "text": [
      "C:\\Users\\Zeta\\Anaconda3\\lib\\site-packages\\ipykernel_launcher.py:10: RuntimeWarning: More than 20 figures have been opened. Figures created through the pyplot interface (`matplotlib.pyplot.figure`) are retained until explicitly closed and may consume too much memory. (To control this warning, see the rcParam `figure.max_open_warning`).\n",
      "  # Remove the CWD from sys.path while we load stuff.\n"
     ]
    },
    {
     "data": {
      "application/vnd.jupyter.widget-view+json": {
       "model_id": "540a7fc9549b4ee58345ebfdb40ec8fd",
       "version_major": 2,
       "version_minor": 0
      },
      "text/plain": [
       "Canvas(toolbar=Toolbar(toolitems=[('Home', 'Reset original view', 'home', 'home'), ('Back', 'Back to previous …"
      ]
     },
     "metadata": {},
     "output_type": "display_data"
    },
    {
     "name": "stderr",
     "output_type": "stream",
     "text": [
      "C:\\Users\\Zeta\\Anaconda3\\lib\\site-packages\\ipykernel_launcher.py:10: RuntimeWarning: More than 20 figures have been opened. Figures created through the pyplot interface (`matplotlib.pyplot.figure`) are retained until explicitly closed and may consume too much memory. (To control this warning, see the rcParam `figure.max_open_warning`).\n",
      "  # Remove the CWD from sys.path while we load stuff.\n"
     ]
    },
    {
     "data": {
      "application/vnd.jupyter.widget-view+json": {
       "model_id": "784188054a024c4d839d162762027fde",
       "version_major": 2,
       "version_minor": 0
      },
      "text/plain": [
       "Canvas(toolbar=Toolbar(toolitems=[('Home', 'Reset original view', 'home', 'home'), ('Back', 'Back to previous …"
      ]
     },
     "metadata": {},
     "output_type": "display_data"
    },
    {
     "name": "stderr",
     "output_type": "stream",
     "text": [
      "C:\\Users\\Zeta\\Anaconda3\\lib\\site-packages\\ipykernel_launcher.py:10: RuntimeWarning: More than 20 figures have been opened. Figures created through the pyplot interface (`matplotlib.pyplot.figure`) are retained until explicitly closed and may consume too much memory. (To control this warning, see the rcParam `figure.max_open_warning`).\n",
      "  # Remove the CWD from sys.path while we load stuff.\n"
     ]
    },
    {
     "data": {
      "application/vnd.jupyter.widget-view+json": {
       "model_id": "78f9a1f6bee149b0ba1b49728953022e",
       "version_major": 2,
       "version_minor": 0
      },
      "text/plain": [
       "Canvas(toolbar=Toolbar(toolitems=[('Home', 'Reset original view', 'home', 'home'), ('Back', 'Back to previous …"
      ]
     },
     "metadata": {},
     "output_type": "display_data"
    },
    {
     "name": "stderr",
     "output_type": "stream",
     "text": [
      "C:\\Users\\Zeta\\Anaconda3\\lib\\site-packages\\ipykernel_launcher.py:10: RuntimeWarning: More than 20 figures have been opened. Figures created through the pyplot interface (`matplotlib.pyplot.figure`) are retained until explicitly closed and may consume too much memory. (To control this warning, see the rcParam `figure.max_open_warning`).\n",
      "  # Remove the CWD from sys.path while we load stuff.\n"
     ]
    },
    {
     "data": {
      "application/vnd.jupyter.widget-view+json": {
       "model_id": "7417abad0e784f9da7b3ee59e4d65731",
       "version_major": 2,
       "version_minor": 0
      },
      "text/plain": [
       "Canvas(toolbar=Toolbar(toolitems=[('Home', 'Reset original view', 'home', 'home'), ('Back', 'Back to previous …"
      ]
     },
     "metadata": {},
     "output_type": "display_data"
    },
    {
     "name": "stderr",
     "output_type": "stream",
     "text": [
      "C:\\Users\\Zeta\\Anaconda3\\lib\\site-packages\\ipykernel_launcher.py:10: RuntimeWarning: More than 20 figures have been opened. Figures created through the pyplot interface (`matplotlib.pyplot.figure`) are retained until explicitly closed and may consume too much memory. (To control this warning, see the rcParam `figure.max_open_warning`).\n",
      "  # Remove the CWD from sys.path while we load stuff.\n"
     ]
    },
    {
     "data": {
      "application/vnd.jupyter.widget-view+json": {
       "model_id": "156dade64a1b45058215dde7e8582e1c",
       "version_major": 2,
       "version_minor": 0
      },
      "text/plain": [
       "Canvas(toolbar=Toolbar(toolitems=[('Home', 'Reset original view', 'home', 'home'), ('Back', 'Back to previous …"
      ]
     },
     "metadata": {},
     "output_type": "display_data"
    },
    {
     "name": "stderr",
     "output_type": "stream",
     "text": [
      "C:\\Users\\Zeta\\Anaconda3\\lib\\site-packages\\ipykernel_launcher.py:10: RuntimeWarning: More than 20 figures have been opened. Figures created through the pyplot interface (`matplotlib.pyplot.figure`) are retained until explicitly closed and may consume too much memory. (To control this warning, see the rcParam `figure.max_open_warning`).\n",
      "  # Remove the CWD from sys.path while we load stuff.\n"
     ]
    },
    {
     "data": {
      "application/vnd.jupyter.widget-view+json": {
       "model_id": "c133ee6f046d472fa3cf7ce4e37382ad",
       "version_major": 2,
       "version_minor": 0
      },
      "text/plain": [
       "Canvas(toolbar=Toolbar(toolitems=[('Home', 'Reset original view', 'home', 'home'), ('Back', 'Back to previous …"
      ]
     },
     "metadata": {},
     "output_type": "display_data"
    },
    {
     "name": "stderr",
     "output_type": "stream",
     "text": [
      "C:\\Users\\Zeta\\Anaconda3\\lib\\site-packages\\ipykernel_launcher.py:10: RuntimeWarning: More than 20 figures have been opened. Figures created through the pyplot interface (`matplotlib.pyplot.figure`) are retained until explicitly closed and may consume too much memory. (To control this warning, see the rcParam `figure.max_open_warning`).\n",
      "  # Remove the CWD from sys.path while we load stuff.\n"
     ]
    },
    {
     "data": {
      "application/vnd.jupyter.widget-view+json": {
       "model_id": "46aee73779954ba9b6c88deb3dd6edbf",
       "version_major": 2,
       "version_minor": 0
      },
      "text/plain": [
       "Canvas(toolbar=Toolbar(toolitems=[('Home', 'Reset original view', 'home', 'home'), ('Back', 'Back to previous …"
      ]
     },
     "metadata": {},
     "output_type": "display_data"
    }
   ],
   "source": [
    "for j in range(len(THR_classsif)):  \n",
    "    tab = np.asanyarray(scat[j])\n",
    "    tab = tab.transpose()\n",
    "    #print(j+2)\n",
    "    \n",
    "    regre = scipy.stats.linregress(tab[0],tab[1])\n",
    "    #print(regre)\n",
    "    slope=regre[0]\n",
    "    intercept = regre[1]\n",
    "    plt.figure()\n",
    "    plt.scatter(tab[0], tab[1])\n",
    "    plt.plot([i-25 for i in range(40)],[intercept + slope *(i-25) for i in range(40)])\n",
    "    #plt.plot([i-1 for i in range(3)],[intercept + slope *(i-1) for i in range(3)])\n",
    "    plt.title(\"Correlation attempt for THR_classif of \" + str(j+2) + \" with p_val \"+ str(\"%.3f\" % regre[3]))\n",
    "    plt.xlabel('(Morning masking volume) - (night masking volume) ')\n",
    "    plt.ylabel('Nb of episodes per hour')"
   ]
  },
  {
   "cell_type": "markdown",
   "metadata": {},
   "source": [
    "## Displaying correlation plots for percentage overnight evolutions of tinnitus"
   ]
  },
  {
   "cell_type": "code",
   "execution_count": 203,
   "metadata": {},
   "outputs": [
    {
     "name": "stderr",
     "output_type": "stream",
     "text": [
      "C:\\Users\\Zeta\\Anaconda3\\lib\\site-packages\\ipykernel_launcher.py:7: RuntimeWarning: More than 20 figures have been opened. Figures created through the pyplot interface (`matplotlib.pyplot.figure`) are retained until explicitly closed and may consume too much memory. (To control this warning, see the rcParam `figure.max_open_warning`).\n",
      "  import sys\n"
     ]
    },
    {
     "data": {
      "application/vnd.jupyter.widget-view+json": {
       "model_id": "b16ee1bf2cbe4c0abf052cc1e7475432",
       "version_major": 2,
       "version_minor": 0
      },
      "text/plain": [
       "Canvas(toolbar=Toolbar(toolitems=[('Home', 'Reset original view', 'home', 'home'), ('Back', 'Back to previous …"
      ]
     },
     "metadata": {},
     "output_type": "display_data"
    },
    {
     "name": "stderr",
     "output_type": "stream",
     "text": [
      "C:\\Users\\Zeta\\Anaconda3\\lib\\site-packages\\ipykernel_launcher.py:7: RuntimeWarning: More than 20 figures have been opened. Figures created through the pyplot interface (`matplotlib.pyplot.figure`) are retained until explicitly closed and may consume too much memory. (To control this warning, see the rcParam `figure.max_open_warning`).\n",
      "  import sys\n"
     ]
    },
    {
     "data": {
      "application/vnd.jupyter.widget-view+json": {
       "model_id": "f1e639da1b8d4a3c854aae5836dd3893",
       "version_major": 2,
       "version_minor": 0
      },
      "text/plain": [
       "Canvas(toolbar=Toolbar(toolitems=[('Home', 'Reset original view', 'home', 'home'), ('Back', 'Back to previous …"
      ]
     },
     "metadata": {},
     "output_type": "display_data"
    },
    {
     "name": "stderr",
     "output_type": "stream",
     "text": [
      "C:\\Users\\Zeta\\Anaconda3\\lib\\site-packages\\ipykernel_launcher.py:7: RuntimeWarning: More than 20 figures have been opened. Figures created through the pyplot interface (`matplotlib.pyplot.figure`) are retained until explicitly closed and may consume too much memory. (To control this warning, see the rcParam `figure.max_open_warning`).\n",
      "  import sys\n"
     ]
    },
    {
     "data": {
      "application/vnd.jupyter.widget-view+json": {
       "model_id": "07db4b7830564f1892ea61c3e2c7103c",
       "version_major": 2,
       "version_minor": 0
      },
      "text/plain": [
       "Canvas(toolbar=Toolbar(toolitems=[('Home', 'Reset original view', 'home', 'home'), ('Back', 'Back to previous …"
      ]
     },
     "metadata": {},
     "output_type": "display_data"
    },
    {
     "name": "stderr",
     "output_type": "stream",
     "text": [
      "C:\\Users\\Zeta\\Anaconda3\\lib\\site-packages\\ipykernel_launcher.py:7: RuntimeWarning: More than 20 figures have been opened. Figures created through the pyplot interface (`matplotlib.pyplot.figure`) are retained until explicitly closed and may consume too much memory. (To control this warning, see the rcParam `figure.max_open_warning`).\n",
      "  import sys\n"
     ]
    },
    {
     "data": {
      "application/vnd.jupyter.widget-view+json": {
       "model_id": "7e73dd186fcf4f2d8e5e6702a363d1d5",
       "version_major": 2,
       "version_minor": 0
      },
      "text/plain": [
       "Canvas(toolbar=Toolbar(toolitems=[('Home', 'Reset original view', 'home', 'home'), ('Back', 'Back to previous …"
      ]
     },
     "metadata": {},
     "output_type": "display_data"
    },
    {
     "name": "stderr",
     "output_type": "stream",
     "text": [
      "C:\\Users\\Zeta\\Anaconda3\\lib\\site-packages\\ipykernel_launcher.py:7: RuntimeWarning: More than 20 figures have been opened. Figures created through the pyplot interface (`matplotlib.pyplot.figure`) are retained until explicitly closed and may consume too much memory. (To control this warning, see the rcParam `figure.max_open_warning`).\n",
      "  import sys\n"
     ]
    },
    {
     "data": {
      "application/vnd.jupyter.widget-view+json": {
       "model_id": "4c4f8f8bd4674f68af18e3a2090290c2",
       "version_major": 2,
       "version_minor": 0
      },
      "text/plain": [
       "Canvas(toolbar=Toolbar(toolitems=[('Home', 'Reset original view', 'home', 'home'), ('Back', 'Back to previous …"
      ]
     },
     "metadata": {},
     "output_type": "display_data"
    },
    {
     "name": "stderr",
     "output_type": "stream",
     "text": [
      "C:\\Users\\Zeta\\Anaconda3\\lib\\site-packages\\ipykernel_launcher.py:7: RuntimeWarning: More than 20 figures have been opened. Figures created through the pyplot interface (`matplotlib.pyplot.figure`) are retained until explicitly closed and may consume too much memory. (To control this warning, see the rcParam `figure.max_open_warning`).\n",
      "  import sys\n"
     ]
    },
    {
     "data": {
      "application/vnd.jupyter.widget-view+json": {
       "model_id": "17067ad9405e42088d7ccf635e52f2e9",
       "version_major": 2,
       "version_minor": 0
      },
      "text/plain": [
       "Canvas(toolbar=Toolbar(toolitems=[('Home', 'Reset original view', 'home', 'home'), ('Back', 'Back to previous …"
      ]
     },
     "metadata": {},
     "output_type": "display_data"
    },
    {
     "name": "stderr",
     "output_type": "stream",
     "text": [
      "C:\\Users\\Zeta\\Anaconda3\\lib\\site-packages\\ipykernel_launcher.py:7: RuntimeWarning: More than 20 figures have been opened. Figures created through the pyplot interface (`matplotlib.pyplot.figure`) are retained until explicitly closed and may consume too much memory. (To control this warning, see the rcParam `figure.max_open_warning`).\n",
      "  import sys\n"
     ]
    },
    {
     "data": {
      "application/vnd.jupyter.widget-view+json": {
       "model_id": "9aab2ea8a82e40339ee9f531c53502b9",
       "version_major": 2,
       "version_minor": 0
      },
      "text/plain": [
       "Canvas(toolbar=Toolbar(toolitems=[('Home', 'Reset original view', 'home', 'home'), ('Back', 'Back to previous …"
      ]
     },
     "metadata": {},
     "output_type": "display_data"
    },
    {
     "name": "stderr",
     "output_type": "stream",
     "text": [
      "C:\\Users\\Zeta\\Anaconda3\\lib\\site-packages\\ipykernel_launcher.py:7: RuntimeWarning: More than 20 figures have been opened. Figures created through the pyplot interface (`matplotlib.pyplot.figure`) are retained until explicitly closed and may consume too much memory. (To control this warning, see the rcParam `figure.max_open_warning`).\n",
      "  import sys\n"
     ]
    },
    {
     "data": {
      "application/vnd.jupyter.widget-view+json": {
       "model_id": "0a5a002c1faf48228e591448e9d0e89d",
       "version_major": 2,
       "version_minor": 0
      },
      "text/plain": [
       "Canvas(toolbar=Toolbar(toolitems=[('Home', 'Reset original view', 'home', 'home'), ('Back', 'Back to previous …"
      ]
     },
     "metadata": {},
     "output_type": "display_data"
    },
    {
     "name": "stderr",
     "output_type": "stream",
     "text": [
      "C:\\Users\\Zeta\\Anaconda3\\lib\\site-packages\\ipykernel_launcher.py:7: RuntimeWarning: More than 20 figures have been opened. Figures created through the pyplot interface (`matplotlib.pyplot.figure`) are retained until explicitly closed and may consume too much memory. (To control this warning, see the rcParam `figure.max_open_warning`).\n",
      "  import sys\n"
     ]
    },
    {
     "data": {
      "application/vnd.jupyter.widget-view+json": {
       "model_id": "a35681e9251241d6b4c2e85a5b847365",
       "version_major": 2,
       "version_minor": 0
      },
      "text/plain": [
       "Canvas(toolbar=Toolbar(toolitems=[('Home', 'Reset original view', 'home', 'home'), ('Back', 'Back to previous …"
      ]
     },
     "metadata": {},
     "output_type": "display_data"
    }
   ],
   "source": [
    "for j in range(len(THR_classif)):\n",
    "    tab = np.asanyarray(pourc_scat[j])\n",
    "    tab = tab.transpose()\n",
    "    regre = scipy.stats.linregress(tab[0],tab[1])\n",
    "    slope=regre[0]\n",
    "    intercept = regre[1]\n",
    "    plt.figure()\n",
    "    plt.scatter(tab[0], tab[1])\n",
    "    plt.plot([i-1 for i in range(3)],[intercept + slope *(i-1) for i in range(3)])\n",
    "    plt.title(\"Correlation attempt for THR_classif of \" + str(j+2) + \" with p_val \"+ str(\"%.3f\" % regre[3]))\n",
    "    plt.xlabel('(Morning masking volume) - (night masking volume) / (night masking volume) ')\n",
    "    plt.ylabel('Nb of episodes per hour')"
   ]
  },
  {
   "cell_type": "code",
   "execution_count": null,
   "metadata": {},
   "outputs": [],
   "source": []
  }
 ],
 "metadata": {
  "kernelspec": {
   "display_name": "Python 3",
   "language": "python",
   "name": "python3"
  },
  "language_info": {
   "codemirror_mode": {
    "name": "ipython",
    "version": 3
   },
   "file_extension": ".py",
   "mimetype": "text/x-python",
   "name": "python",
   "nbconvert_exporter": "python",
   "pygments_lexer": "ipython3",
   "version": "3.7.3"
  }
 },
 "nbformat": 4,
 "nbformat_minor": 2
}
