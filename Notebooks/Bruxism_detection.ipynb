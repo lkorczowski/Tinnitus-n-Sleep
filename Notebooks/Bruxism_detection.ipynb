{
 "cells": [
  {
   "cell_type": "markdown",
   "metadata": {
    "pycharm": {
     "name": "#%% md\n"
    }
   },
   "source": [
    "# Detection of Bruxism events in Tinnitus patients polysomnographic data\n",
    "This notebook will \n",
    "- load EMG channels of polusomnographic data\n",
    "- detect the EMG bursts in a unsupervised way\n",
    "- classify EMG bursts as different bruxism events\n",
    "- give insights on the bruxism events"
   ]
  },
  {
   "cell_type": "code",
   "execution_count": 5,
   "metadata": {
    "pycharm": {
     "is_executing": false
    }
   },
   "outputs": [
    {
     "name": "stdout",
     "output_type": "stream",
     "text": [
      "Config loaded\n"
     ]
    }
   ],
   "source": [
    "import os\n",
    "PATH = os.getcwd() \n",
    "import sys\n",
    "sys.path.append(PATH + '/../')\n",
    "import matplotlib.pyplot as plt\n",
    "%matplotlib widget\n",
    "import numpy as np\n",
    "import mne\n",
    "import scipy\n",
    "import seaborn as sns\n",
    "from tinnsleep.config import Config\n",
    "from tinnsleep.data import CreateRaw, RawToEpochs_sliding, CleanAnnotations, AnnotateRaw_sliding\n",
    "from tinnsleep.classification import AmplitudeThresholding\n",
    "from tinnsleep.check_impedance import create_annotation_mne, Impedance_thresholding_sliding, check_RMS, fuse_with_classif_result\n",
    "from tinnsleep.signal import rms\n",
    "from tinnsleep.visualization import plotTimeSeries, plotAnnotations, zoom_effect\n",
    "\n",
    "from IPython.core.display import display\n",
    "from ipywidgets import widgets\n",
    "print(\"Config loaded\")\n"
   ]
  },
  {
   "cell_type": "markdown",
   "metadata": {},
   "source": [
    "## Load, filter, and prepare data"
   ]
  },
  {
   "cell_type": "code",
   "execution_count": 2,
   "metadata": {
    "collapsed": false,
    "jupyter": {
     "outputs_hidden": false
    },
    "pycharm": {
     "is_executing": false,
     "name": "#%%\n"
    }
   },
   "outputs": [
    {
     "name": "stdout",
     "output_type": "stream",
     "text": [
      "Extracting EDF parameters from /Users/louis/Data/SIOPI/bruxisme/1BA07_nuit_hab.edf...\n",
      "EDF file detected\n",
      "Setting channel info structure...\n",
      "Creating raw.info structure...\n"
     ]
    },
    {
     "name": "stderr",
     "output_type": "stream",
     "text": [
      "<ipython-input-2-3ad3c8147a94>:4: RuntimeWarning: 7 channel names are too long, have been truncated to 15 characters:\n",
      "['Inductance Abdom', 'Inductance Thora', 'Intensit? lumine', 'Jambe droite Imp', 'Jambe gauche Imp', 'Tension (aliment', 'Tension (Bluetoo']\n",
      "  raw  = mne.io.read_raw_edf(filename, preload=False)  # prepare loading\n"
     ]
    },
    {
     "name": "stdout",
     "output_type": "stream",
     "text": [
      "Data loaded\n",
      "Data filtered\n",
      "keeping 8.03 hours of recording out of 11.03 hours\n"
     ]
    }
   ],
   "source": [
    "filename = Config.bruxisme_files[0]  # load file from config\n",
    "picks_chan = ['1', '2']           # subset of EMG electrodes\n",
    "\n",
    "raw  = mne.io.read_raw_edf(filename, preload=False)  # prepare loading\n",
    "raw  = CreateRaw(raw[picks_chan][0], picks_chan, ch_types=['emg'])        # pick channels and load\n",
    "raw  = raw.load_data()  # load data into memory \n",
    "print(\"Data loaded\")\n",
    "\n",
    "raw  = raw.filter(20., 99., n_jobs=4, \n",
    "                  fir_design='firwin', filter_length='auto', phase='zero-double',\n",
    "                  picks=picks_chan)\n",
    "ch_names = raw.info[\"ch_names\"]\n",
    "print(\"Data filtered\")\n",
    "\n",
    "tmin = raw.times[0]                     \n",
    "tmax = raw.times[-1]\n",
    "\n",
    "# remove the two first hours and last hour\n",
    "croptimes=dict(tmin=raw.times[0]+3600*2, tmax=raw.times[-1]-3600)\n",
    "raw.crop(**croptimes)\n",
    "offset = raw.times[0]\n",
    "print(f\"keeping {(raw.times[-1]-raw.times[0])/3600:0.2f} hours of recording out of {(tmax-tmin)/3600:0.2f} hours\")"
   ]
  },
  {
   "cell_type": "markdown",
   "metadata": {},
   "source": [
    "## Epoching data"
   ]
  },
  {
   "cell_type": "code",
   "execution_count": 3,
   "metadata": {
    "pycharm": {
     "is_executing": false,
     "name": "#%%\n"
    }
   },
   "outputs": [
    {
     "name": "stdout",
     "output_type": "stream",
     "text": [
      "Epochs done, shape (115700, 2, 50)\n"
     ]
    }
   ],
   "source": [
    "sfreq = raw.info[\"sfreq\"]\n",
    "window_length = 0.25                    # in seconds\n",
    "duration = int(window_length * sfreq)   # in samples\n",
    "interval = duration                     # no overlapping\n",
    "epochs = RawToEpochs_sliding(raw, duration=duration, interval=interval)\n",
    "print(f\"Epochs done, shape {epochs.shape}\")"
   ]
  },
  {
   "cell_type": "markdown",
   "metadata": {},
   "source": [
    "## Get the impedance & artefacts annotations"
   ]
  },
  {
   "cell_type": "code",
   "execution_count": 60,
   "metadata": {},
   "outputs": [
    {
     "name": "stdout",
     "output_type": "stream",
     "text": [
      "Extracting EDF parameters from /Users/louis/Data/SIOPI/bruxisme/1BA07_nuit_hab.edf...\n",
      "EDF file detected\n",
      "Setting channel info structure...\n",
      "Creating raw.info structure...\n",
      "['1 Imp?dance', '2 Imp?dance']\n"
     ]
    },
    {
     "name": "stderr",
     "output_type": "stream",
     "text": [
      "<ipython-input-60-f0e3994e2db5>:4: RuntimeWarning: 7 channel names are too long, have been truncated to 15 characters:\n",
      "['Inductance Abdom', 'Inductance Thora', 'Intensit? lumine', 'Jambe droite Imp', 'Jambe gauche Imp', 'Tension (aliment', 'Tension (Bluetoo']\n",
      "  raw_imp  = mne.io.read_raw_edf(filename, preload=False)  # prepare loading\n"
     ]
    },
    {
     "name": "stdout",
     "output_type": "stream",
     "text": [
      "[[False False]\n",
      " [False False]\n",
      " [False False]]\n",
      "rejected impedances for 26 epochs out of 158900 (0.02%)\n"
     ]
    }
   ],
   "source": [
    "# Value of the impedance threshold\n",
    "THR_imp = 5000\n",
    "\n",
    "raw_imp  = mne.io.read_raw_edf(filename, preload=False)  # prepare loading\n",
    "ch_names = raw_imp.info[\"ch_names\"]\n",
    "picks_chan = [ch_names[1],ch_names[5]]\n",
    "print(picks_chan)\n",
    "\n",
    "#Get the table of bad electrodes booleans from the impedance thresholding algo\n",
    "check_imp  = Impedance_thresholding_sliding(raw_imp[picks_chan][0], duration, interval,THR_imp) \n",
    "print(check_imp[:3])\n",
    "\n",
    "# convert to labels per epoch\n",
    "impedance_labels = np.any(check_imp, axis=-1)\n",
    "print(f\"rejected impedances for {np.sum(impedance_labels)} epochs out of {len(impedance_labels)} ({np.sum(impedance_labels)/len(impedance_labels)*100:.2f}%)\")"
   ]
  },
  {
   "cell_type": "code",
   "execution_count": 52,
   "metadata": {},
   "outputs": [
    {
     "name": "stdout",
     "output_type": "stream",
     "text": [
      "mean [-9.05867275e-13 -1.18524668e-12]\n",
      "median [2.65982311e-08 1.10616584e-08]\n",
      "quantile 0.05 [-6.97165086e-06 -7.10919239e-06]\n",
      "quantile 0.95 [6.93789249e-06 7.09388268e-06]\n"
     ]
    }
   ],
   "source": [
    "# baseline epochs amplitudes\n",
    "print(f\"mean {np.mean(np.mean(epochs, axis=0), axis=-1)}\")\n",
    "print(f\"median {np.median(np.median(epochs, axis=0), axis=-1)}\")\n",
    "print(f\"quantile 0.05 {np.quantile(np.quantile(epochs, 0.05, axis=0),0.05, axis=-1)}\")\n",
    "print(f\"quantile 0.95 {np.quantile(np.quantile(epochs, 0.95, axis=0),0.95, axis=-1)}\")"
   ]
  },
  {
   "cell_type": "code",
   "execution_count": 61,
   "metadata": {},
   "outputs": [
    {
     "name": "stdout",
     "output_type": "stream",
     "text": [
      "[True, True, True, True, True, True, True, True, True, True]\n",
      "[None, None, None, None, None, None, None, None, None, None]\n",
      "good amplitudes for 112938 epochs out of 115700 (97.61%)\n"
     ]
    }
   ],
   "source": [
    "# Epoch rejection based on |min-max| thresholding \n",
    "from tinnsleep.signal import is_good_epochs\n",
    "params = dict(ch_names=raw.info[\"ch_names\"],\n",
    "             rejection_thresholds=dict(emg=1e-04), # two order of magnitude higher q0.01\n",
    "             flat_thresholds=dict(emg=1e-09),    # one order of magnitude lower median\n",
    "             channel_type_idx=dict(emg=[0, 1]),\n",
    "             full_report=True\n",
    "            )\n",
    "amplitude_labels, bad_lists = is_good_epochs(epochs, **params)\n",
    "print(labels[:10])\n",
    "print(bad_lists[:10])\n",
    "print(f\"good amplitudes for {np.sum(amplitude_labels)} epochs out of {len(amplitude_labels)} ({np.sum(amplitude_labels)/len(amplitude_labels)*100:.2f}%)\")"
   ]
  },
  {
   "cell_type": "code",
   "execution_count": 63,
   "metadata": {},
   "outputs": [
    {
     "ename": "ValueError",
     "evalue": "all the input array dimensions for the concatenation axis must match exactly, but along dimension 0, the array at index 0 has size 158900 and the array at index 1 has size 115700",
     "output_type": "error",
     "traceback": [
      "\u001b[0;31m---------------------------------------------------------------------------\u001b[0m",
      "\u001b[0;31mValueError\u001b[0m                                Traceback (most recent call last)",
      "\u001b[0;32m<ipython-input-63-d367d2b6c988>\u001b[0m in \u001b[0;36m<module>\u001b[0;34m\u001b[0m\n\u001b[1;32m      1\u001b[0m \u001b[0;31m# Merge is_good and amplitude\u001b[0m\u001b[0;34m\u001b[0m\u001b[0;34m\u001b[0m\u001b[0;34m\u001b[0m\u001b[0m\n\u001b[0;32m----> 2\u001b[0;31m \u001b[0mvalid_labels\u001b[0m \u001b[0;34m=\u001b[0m \u001b[0mnp\u001b[0m\u001b[0;34m.\u001b[0m\u001b[0mc_\u001b[0m\u001b[0;34m[\u001b[0m\u001b[0mnp\u001b[0m\u001b[0;34m.\u001b[0m\u001b[0minvert\u001b[0m\u001b[0;34m(\u001b[0m\u001b[0mimpedance_labels\u001b[0m\u001b[0;34m)\u001b[0m\u001b[0;34m,\u001b[0m  \u001b[0mamplitude_labels\u001b[0m\u001b[0;34m]\u001b[0m\u001b[0;34m\u001b[0m\u001b[0;34m\u001b[0m\u001b[0m\n\u001b[0m\u001b[1;32m      3\u001b[0m \u001b[0mprint\u001b[0m\u001b[0;34m(\u001b[0m\u001b[0mvalid_labels\u001b[0m\u001b[0;34m[\u001b[0m\u001b[0;34m:\u001b[0m\u001b[0;36m3\u001b[0m\u001b[0;34m]\u001b[0m\u001b[0;34m)\u001b[0m\u001b[0;34m\u001b[0m\u001b[0;34m\u001b[0m\u001b[0m\n",
      "\u001b[0;32m~/anaconda3/envs/tinnsleep-env/lib/python3.8/site-packages/numpy/lib/index_tricks.py\u001b[0m in \u001b[0;36m__getitem__\u001b[0;34m(self, key)\u001b[0m\n\u001b[1;32m    404\u001b[0m                 \u001b[0mobjs\u001b[0m\u001b[0;34m[\u001b[0m\u001b[0mk\u001b[0m\u001b[0;34m]\u001b[0m \u001b[0;34m=\u001b[0m \u001b[0mobjs\u001b[0m\u001b[0;34m[\u001b[0m\u001b[0mk\u001b[0m\u001b[0;34m]\u001b[0m\u001b[0;34m.\u001b[0m\u001b[0mastype\u001b[0m\u001b[0;34m(\u001b[0m\u001b[0mfinal_dtype\u001b[0m\u001b[0;34m)\u001b[0m\u001b[0;34m\u001b[0m\u001b[0;34m\u001b[0m\u001b[0m\n\u001b[1;32m    405\u001b[0m \u001b[0;34m\u001b[0m\u001b[0m\n\u001b[0;32m--> 406\u001b[0;31m         \u001b[0mres\u001b[0m \u001b[0;34m=\u001b[0m \u001b[0mself\u001b[0m\u001b[0;34m.\u001b[0m\u001b[0mconcatenate\u001b[0m\u001b[0;34m(\u001b[0m\u001b[0mtuple\u001b[0m\u001b[0;34m(\u001b[0m\u001b[0mobjs\u001b[0m\u001b[0;34m)\u001b[0m\u001b[0;34m,\u001b[0m \u001b[0maxis\u001b[0m\u001b[0;34m=\u001b[0m\u001b[0maxis\u001b[0m\u001b[0;34m)\u001b[0m\u001b[0;34m\u001b[0m\u001b[0;34m\u001b[0m\u001b[0m\n\u001b[0m\u001b[1;32m    407\u001b[0m \u001b[0;34m\u001b[0m\u001b[0m\n\u001b[1;32m    408\u001b[0m         \u001b[0;32mif\u001b[0m \u001b[0mmatrix\u001b[0m\u001b[0;34m:\u001b[0m\u001b[0;34m\u001b[0m\u001b[0;34m\u001b[0m\u001b[0m\n",
      "\u001b[0;32m<__array_function__ internals>\u001b[0m in \u001b[0;36mconcatenate\u001b[0;34m(*args, **kwargs)\u001b[0m\n",
      "\u001b[0;31mValueError\u001b[0m: all the input array dimensions for the concatenation axis must match exactly, but along dimension 0, the array at index 0 has size 158900 and the array at index 1 has size 115700"
     ]
    }
   ],
   "source": [
    "# Merge is_good and amplitude\n",
    "#TODO: THERE IS A MISSMATCH BETWEEN LABEL SIZE\n",
    "valid_labels = np.any(np.c_[np.invert(impedance_labels),  amplitude_labels], axis=-1) # Logical OR\n",
    "print(valid_labels[:3])"
   ]
  },
  {
   "cell_type": "markdown",
   "metadata": {},
   "source": [
    "## Classifying epochs and annotate raw"
   ]
  },
  {
   "cell_type": "code",
   "execution_count": 6,
   "metadata": {
    "pycharm": {
     "is_executing": false
    }
   },
   "outputs": [
    {
     "name": "stdout",
     "output_type": "stream",
     "text": [
      "bursts count: 7417/115700 (6.41%)\n",
      "bursts time: 1854.25 seconds\n"
     ]
    }
   ],
   "source": [
    "# compute the sum of power over electrodes and samples in each window\n",
    "pipeline = AmplitudeThresholding(abs_threshold=0., rel_threshold=2)\n",
    "X        = rms(epochs)\n",
    "labels   = pipeline.fit_predict(X)\n",
    "print(f\"bursts count: {np.sum(labels)}/{len(labels)} ({np.sum(labels) / len(labels) * 100:.2f}%)\")\n",
    "print(f\"bursts time: {np.sum(labels) * window_length} seconds\")\n",
    "\n",
    "dict_annotations = {1: \"burst\"}\n",
    "annotations = []\n",
    "for k, label in enumerate(labels):\n",
    "    if label > 0:\n",
    "        annotations.append(dict(\n",
    "            onset=k*interval/sfreq,\n",
    "            duration=duration/sfreq,\n",
    "            description=dict_annotations[label],\n",
    "            orig_time=offset\n",
    "        )\n",
    "            \n",
    "        )"
   ]
  },
  {
   "cell_type": "markdown",
   "metadata": {
    "pycharm": {
     "name": "#%% md\n"
    }
   },
   "source": [
    "## Display Annotations"
   ]
  },
  {
   "cell_type": "code",
   "execution_count": 7,
   "metadata": {
    "collapsed": false,
    "jupyter": {
     "outputs_hidden": false
    },
    "pycharm": {
     "is_executing": false,
     "name": "#%%\n"
    }
   },
   "outputs": [
    {
     "data": {
      "application/vnd.jupyter.widget-view+json": {
       "model_id": "ef8e75274b8c4ac7b320a7f2c72c519b",
       "version_major": 2,
       "version_minor": 0
      },
      "text/plain": [
       "Canvas(toolbar=Toolbar(toolitems=[('Home', 'Reset original view', 'home', 'home'), ('Back', 'Back to previous …"
      ]
     },
     "metadata": {},
     "output_type": "display_data"
    }
   ],
   "source": [
    "plt.close(\"all\")\n",
    "\n",
    "# decimate signal to make it more readible \n",
    "raw_ds = raw.copy().resample(100)\n",
    "\n",
    "%matplotlib widget\n",
    "scalings=1e-4\n",
    "\n",
    "ax1 = plt.subplot(211)\n",
    "plotTimeSeries(raw_ds.get_data().T, sfreq=raw_ds.info[\"sfreq\"], ax=ax1, scalings=scalings, offset=offset)\n",
    "plotAnnotations(annotations, color=\"red\")\n",
    "ax1.set_xlim(5145,5165)\n",
    "ax2 = plt.subplot(212)\n",
    "plotTimeSeries(raw_ds.get_data().T, sfreq=raw_ds.info[\"sfreq\"], ax=ax2, scalings=scalings, offset=offset)\n",
    "z = zoom_effect(ax1, ax2)"
   ]
  },
  {
   "cell_type": "code",
   "execution_count": null,
   "metadata": {
    "collapsed": false,
    "jupyter": {
     "outputs_hidden": false
    },
    "pycharm": {
     "is_executing": false,
     "name": "#%%\n"
    }
   },
   "outputs": [],
   "source": [
    "# update manually the time axis\n",
    "ax1.set_xlim(5145,5165) # in seconds"
   ]
  },
  {
   "cell_type": "markdown",
   "metadata": {
    "jupyter": {
     "outputs_hidden": false
    },
    "pycharm": {
     "is_executing": false,
     "name": "#%%\n"
    }
   },
   "source": [
    "### (OPTIONAL) Enable widget"
   ]
  },
  {
   "cell_type": "code",
   "execution_count": 14,
   "metadata": {
    "collapsed": false,
    "jupyter": {
     "outputs_hidden": false
    },
    "pycharm": {
     "is_executing": false,
     "name": "#%%\n"
    }
   },
   "outputs": [
    {
     "data": {
      "application/vnd.jupyter.widget-view+json": {
       "model_id": "4a70d9b7d8804402bdebaff0f7315a15",
       "version_major": 2,
       "version_minor": 0
      },
      "text/plain": [
       "interactive(children=(FloatSlider(value=0.0, continuous_update=False, description='xmin', max=28924.995, step=…"
      ]
     },
     "metadata": {},
     "output_type": "display_data"
    }
   ],
   "source": [
    "from ipywidgets import interact, FloatSlider\n",
    "def update_axis(xmin, xmax):\n",
    "    if xmin<xmax:\n",
    "        ax1.set_xlim(xmin,xmax)\n",
    "\n",
    "i=FloatSlider(min=raw.times[0], max=raw.times[-1], step=10, continuous_update=False)\n",
    "ii=FloatSlider(min=raw.times[0], max=raw.times[-1], step=10, continuous_update=False)\n",
    "from ipywidgets import FloatSlider\n",
    "interact(update_axis,xmin=i, xmax=ii);"
   ]
  }
 ],
 "metadata": {
  "kernelspec": {
   "display_name": "tinnsleep-env",
   "language": "python",
   "name": "tinnsleep-env"
  },
  "language_info": {
   "codemirror_mode": {
    "name": "ipython",
    "version": 3
   },
   "file_extension": ".py",
   "mimetype": "text/x-python",
   "name": "python",
   "nbconvert_exporter": "python",
   "pygments_lexer": "ipython3",
   "version": "3.8.2"
  },
  "pycharm": {
   "stem_cell": {
    "cell_type": "raw",
    "metadata": {
     "collapsed": false
    },
    "source": []
   }
  }
 },
 "nbformat": 4,
 "nbformat_minor": 4
}
