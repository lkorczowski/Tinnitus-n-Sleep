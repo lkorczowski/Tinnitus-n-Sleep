{
 "cells": [
  {
   "cell_type": "markdown",
   "metadata": {
    "pycharm": {
     "name": "#%% md\n"
    }
   },
   "source": [
    "# Detection of Bruxism events in Tinnitus patients polysomnographic data\n",
    "This notebook will \n",
    "- load EMG channels of polusomnographic data\n",
    "- detect the EMG bursts in a unsupervised way\n",
    "- classify EMG bursts as different bruxism events\n",
    "- give insights on the bruxism events"
   ]
  },
  {
   "cell_type": "code",
   "execution_count": 1,
   "metadata": {
    "pycharm": {
     "is_executing": false
    }
   },
   "outputs": [
    {
     "name": "stdout",
     "output_type": "stream",
     "text": [
      "Config loaded\n"
     ]
    }
   ],
   "source": [
    "import os\n",
    "PATH = os.getcwd() \n",
    "import sys\n",
    "sys.path.append(PATH + '/../')\n",
    "import matplotlib.pyplot as plt\n",
    "%matplotlib widget\n",
    "import numpy as np\n",
    "import mne\n",
    "import scipy\n",
    "import seaborn as sns\n",
    "from tinnsleep.config import Config\n",
    "from tinnsleep.data import CreateRaw, RawToEpochs_sliding, CleanAnnotations, AnnotateRaw_sliding\n",
    "from tinnsleep.classification import AmplitudeThresholding\n",
    "from tinnsleep.check_impedance import create_annotation_mne, Impedance_thresholding_sliding, check_RMS, fuse_with_classif_result\n",
    "from tinnsleep.signal import rms\n",
    "from tinnsleep.visualization import plotTimeSeries, plotAnnotations, zoom_effect\n",
    "from IPython.core.display import display\n",
    "from ipywidgets import widgets\n",
    "print(\"Config loaded\")\n"
   ]
  },
  {
   "cell_type": "markdown",
   "metadata": {},
   "source": [
    "## Load, filter, and prepare data"
   ]
  },
  {
   "cell_type": "code",
   "execution_count": 21,
   "metadata": {
    "jupyter": {
     "outputs_hidden": false
    },
    "pycharm": {
     "is_executing": false,
     "name": "#%%\n"
    }
   },
   "outputs": [
    {
     "name": "stdout",
     "output_type": "stream",
     "text": [
      "Extracting EDF parameters from C:\\Users\\zeta\\documents\\EEG_polysomno\\PSG2\\testy_algo_Paul.edf...\n",
      "EDF file detected\n",
      "Setting channel info structure...\n",
      "Creating raw.info structure...\n"
     ]
    },
    {
     "name": "stderr",
     "output_type": "stream",
     "text": [
      "<ipython-input-21-32f922df553c>:4: RuntimeWarning: 6 channel names are too long, have been truncated to 15 characters:\n",
      "['Inductance Abdom', 'Inductance Thora', 'Jambe droite Imp', 'Jambe gauche Imp', 'Tension (aliment', 'Tension (Bluetoo']\n",
      "  raw  = mne.io.read_raw_edf(filename, preload=False)  # prepare loading\n"
     ]
    },
    {
     "name": "stdout",
     "output_type": "stream",
     "text": [
      "Data filtered\n",
      "keeping 3.94 hours of recording out of 6.94 hours\n"
     ]
    }
   ],
   "source": [
    "filename = Config.bruxisme_files[4]  # load file from config\n",
    "picks_chan = ['1', '2']           # subset of EMG electrodes\n",
    "\n",
    "raw  = mne.io.read_raw_edf(filename, preload=False)  # prepare loading\n",
    "tmin = raw.times[0]                     \n",
    "tmax = raw.times[-1]\n",
    "\n",
    "croptimes=dict(tmin=raw.times[0]+3600*2, tmax=raw.times[-1]-3600)\n",
    "raw.crop(**croptimes)\n",
    "\n",
    "raw  = CreateRaw(raw[picks_chan][0], picks_chan, ch_types=['emg'])        # pick channels and load\n",
    "\n",
    "raw  = raw.filter(20., 99., n_jobs=4, \n",
    "                  fir_design='firwin', filter_length='auto', phase='zero-double',\n",
    "                  picks=picks_chan)\n",
    "ch_names = raw.info[\"ch_names\"]\n",
    "print(\"Data filtered\")\n",
    "\n",
    "offset = raw.times[0]\n",
    "print(f\"keeping {(raw.times[-1]-raw.times[0])/3600:0.2f} hours of recording out of {(tmax-tmin)/3600:0.2f} hours\")"
   ]
  },
  {
   "cell_type": "markdown",
   "metadata": {},
   "source": [
    "## Epoching data"
   ]
  },
  {
   "cell_type": "code",
   "execution_count": 22,
   "metadata": {
    "pycharm": {
     "is_executing": false,
     "name": "#%%\n"
    }
   },
   "outputs": [
    {
     "name": "stdout",
     "output_type": "stream",
     "text": [
      "Epochs done, shape (56680, 2, 50)\n"
     ]
    }
   ],
   "source": [
    "sfreq = raw.info[\"sfreq\"]\n",
    "window_length = 0.25                    # in seconds\n",
    "duration = int(window_length * sfreq)   # in samples\n",
    "interval = duration                     # no overlapping\n",
    "epochs = RawToEpochs_sliding(raw, duration=duration, interval=interval)\n",
    "print(f\"Epochs done, shape {epochs.shape}\")\n"
   ]
  },
  {
   "cell_type": "markdown",
   "metadata": {},
   "source": [
    "## Get the impedance & artefacts annotations"
   ]
  },
  {
   "cell_type": "code",
   "execution_count": 33,
   "metadata": {},
   "outputs": [
    {
     "name": "stdout",
     "output_type": "stream",
     "text": [
      "Extracting EDF parameters from C:\\Users\\zeta\\documents\\EEG_polysomno\\PSG2\\testy_algo_Paul.edf...\n",
      "EDF file detected\n",
      "Setting channel info structure...\n",
      "Creating raw.info structure...\n",
      "['1 Imp?dance', '2 Imp?dance']\n"
     ]
    },
    {
     "name": "stderr",
     "output_type": "stream",
     "text": [
      "<ipython-input-33-9f8560d7ccd5>:4: RuntimeWarning: 6 channel names are too long, have been truncated to 15 characters:\n",
      "['Inductance Abdom', 'Inductance Thora', 'Jambe droite Imp', 'Jambe gauche Imp', 'Tension (aliment', 'Tension (Bluetoo']\n",
      "  raw_imp  = mne.io.read_raw_edf(filename, preload=False)  # prepare loading\n"
     ]
    },
    {
     "name": "stdout",
     "output_type": "stream",
     "text": [
      "[[False False]\n",
      " [False False]\n",
      " [False False]]\n",
      "rejected impedances for 3460 epochs out of 56680 (6.10%)\n"
     ]
    }
   ],
   "source": [
    "# Value of the impedance threshold\n",
    "THR_imp = 6000\n",
    "\n",
    "raw_imp  = mne.io.read_raw_edf(filename, preload=False)  # prepare loading\n",
    "ch_names = raw_imp.info[\"ch_names\"]\n",
    "picks_chan = [ch_names[1],ch_names[5]]\n",
    "print(picks_chan)\n",
    "\n",
    "croptimes=dict(tmin=raw_imp.times[0]+3600*2, tmax=raw_imp.times[-1]-3600)\n",
    "raw_imp.crop(**croptimes)\n",
    "\n",
    "#Get the table of bad electrodes booleans from the impedance thresholding algo\n",
    "check_imp  = Impedance_thresholding_sliding(raw_imp[picks_chan][0], duration, interval,THR_imp) \n",
    "print(check_imp[:3])\n",
    "\n",
    "# convert to labels per epoch\n",
    "impedance_labels = np.any(check_imp, axis=-1)\n",
    "print(f\"rejected impedances for {np.sum(impedance_labels)} epochs out of {len(impedance_labels)} ({np.sum(impedance_labels)/len(impedance_labels)*100:.2f}%)\")"
   ]
  },
  {
   "cell_type": "code",
   "execution_count": 26,
   "metadata": {},
   "outputs": [
    {
     "name": "stdout",
     "output_type": "stream",
     "text": [
      "mean [1.24457913e-12 5.22183402e-12]\n",
      "median [3.08122498e-08 1.85407675e-09]\n",
      "quantile 0.05 [-4.24080601e-06 -4.36192601e-06]\n",
      "quantile 0.95 [4.03393446e-06 4.25151249e-06]\n"
     ]
    }
   ],
   "source": [
    "# baseline epochs amplitudes\n",
    "print(f\"mean {np.mean(np.mean(epochs, axis=0), axis=-1)}\")\n",
    "print(f\"median {np.median(np.median(epochs, axis=0), axis=-1)}\")\n",
    "print(f\"quantile 0.05 {np.quantile(np.quantile(epochs, 0.05, axis=0),0.05, axis=-1)}\")\n",
    "print(f\"quantile 0.95 {np.quantile(np.quantile(epochs, 0.95, axis=0),0.95, axis=-1)}\")"
   ]
  },
  {
   "cell_type": "code",
   "execution_count": 34,
   "metadata": {},
   "outputs": [
    {
     "name": "stdout",
     "output_type": "stream",
     "text": [
      "[True, True, True, True, True, True, True, True, True, True]\n",
      "[None, None, None, None, None, None, None, None, None, None]\n",
      "good amplitudes for 56262 epochs out of 56680 (99.26%)\n"
     ]
    }
   ],
   "source": [
    "# Epoch rejection based on |min-max| thresholding \n",
    "from tinnsleep.signal import is_good_epochs\n",
    "params = dict(ch_names=raw.info[\"ch_names\"],\n",
    "             rejection_thresholds=dict(emg=1e-04), # two order of magnitude higher q0.01\n",
    "             flat_thresholds=dict(emg=1e-09),    # one order of magnitude lower median\n",
    "             channel_type_idx=dict(emg=[0, 1]),\n",
    "             full_report=True\n",
    "            )\n",
    "amplitude_labels, bad_lists = is_good_epochs(epochs, **params)\n",
    "print(amplitude_labels[:10])\n",
    "print(bad_lists[:10])\n",
    "print(f\"good amplitudes for {np.sum(amplitude_labels)} epochs out of {len(amplitude_labels)} ({np.sum(amplitude_labels)/len(amplitude_labels)*100:.2f}%)\")"
   ]
  },
  {
   "cell_type": "code",
   "execution_count": 35,
   "metadata": {},
   "outputs": [
    {
     "name": "stdout",
     "output_type": "stream",
     "text": [
      "52833\n",
      "good epochs for 52833 epochs out of 56680 (93.21%)\n",
      "56680\n",
      "[ True  True  True]\n"
     ]
    }
   ],
   "source": [
    "# Merge is_good and amplitude\n",
    "# Logical OR\n",
    "valid_labels = np.all(np.c_[np.invert(impedance_labels), amplitude_labels], axis=-1)\n",
    "\n",
    "print(np.sum(valid_labels))\n",
    "print(f\"good epochs for {np.sum(valid_labels)} epochs out of {len(valid_labels)} ({np.sum(valid_labels)/len(valid_labels)*100:.2f}%)\")\n",
    "print(len(valid_labels))\n",
    "print(valid_labels[:3])\n",
    "\n",
    "dict_annotations_artefacts = {1: \"artefact\"}\n",
    "annotations_artefacts = []\n",
    "for k, label in enumerate(np.invert(valid_labels)):\n",
    "    if label > 0:\n",
    "        annotations_artefacts.append(dict(\n",
    "            onset=k*interval/sfreq,\n",
    "            duration=duration/sfreq,\n",
    "            description=dict_annotations_artefacts[label],\n",
    "            orig_time=offset\n",
    "        )\n",
    "            \n",
    "        )"
   ]
  },
  {
   "cell_type": "markdown",
   "metadata": {},
   "source": [
    "## Classifying epochs and annotate raw"
   ]
  },
  {
   "cell_type": "code",
   "execution_count": 36,
   "metadata": {
    "pycharm": {
     "is_executing": false
    }
   },
   "outputs": [
    {
     "name": "stdout",
     "output_type": "stream",
     "text": [
      "bursts count: 2140/56680 (3.78%)\n",
      "bursts time: 535.0 seconds\n"
     ]
    }
   ],
   "source": [
    "# compute the sum of power over electrodes and samples in each window\n",
    "pipeline = AmplitudeThresholding(abs_threshold=0., rel_threshold=2)\n",
    "X        = rms(epochs[valid_labels]) # take only valid labels\n",
    "labels   = pipeline.fit_predict(X)\n",
    "labels   = fuse_with_classif_result(np.invert(valid_labels), labels) # add the missing labels removed with artefacts\n",
    "print(f\"bursts count: {np.sum(labels)}/{len(labels)} ({np.sum(labels) / len(labels) * 100:.2f}%)\")\n",
    "print(f\"bursts time: {np.sum(labels) * window_length} seconds\")\n",
    "\n",
    "dict_annotations = {1: \"burst\"}\n",
    "annotations = []\n",
    "for k, label in enumerate(labels):\n",
    "    if label > 0:\n",
    "        annotations.append(dict(\n",
    "            onset=k*interval/sfreq,\n",
    "            duration=duration/sfreq,\n",
    "            description=dict_annotations[label],\n",
    "            orig_time=offset\n",
    "        )\n",
    "            \n",
    "        )"
   ]
  },
  {
   "cell_type": "markdown",
   "metadata": {
    "pycharm": {
     "name": "#%% md\n"
    }
   },
   "source": [
    "## Display Annotations"
   ]
  },
  {
   "cell_type": "code",
   "execution_count": 37,
   "metadata": {
    "jupyter": {
     "outputs_hidden": false
    },
    "pycharm": {
     "is_executing": false,
     "name": "#%%\n"
    }
   },
   "outputs": [
    {
     "data": {
      "application/vnd.jupyter.widget-view+json": {
       "model_id": "c2f03ee4fdb0449fa3bb6c6d1f661dee",
       "version_major": 2,
       "version_minor": 0
      },
      "text/plain": [
       "Canvas(toolbar=Toolbar(toolitems=[('Home', 'Reset original view', 'home', 'home'), ('Back', 'Back to previous …"
      ]
     },
     "metadata": {},
     "output_type": "display_data"
    }
   ],
   "source": [
    "plt.close(\"all\")\n",
    "\n",
    "# decimate signal to make it more readible \n",
    "raw_ds = raw.copy().resample(100)\n",
    "\n",
    "%matplotlib widget\n",
    "scalings=1e-4\n",
    "\n",
    "ax1 = plt.subplot(211)\n",
    "plotTimeSeries(raw_ds.get_data().T, sfreq=raw_ds.info[\"sfreq\"], ax=ax1, scalings=scalings, offset=offset)\n",
    "plotAnnotations(annotations, color=\"red\")\n",
    "plotAnnotations(annotations_artefacts, color=\"green\")\n",
    "\n",
    "ax1.set_xlim(5145,5165)\n",
    "ax2 = plt.subplot(212)\n",
    "plotTimeSeries(raw_ds.get_data().T, sfreq=raw_ds.info[\"sfreq\"], ax=ax2, scalings=scalings, offset=offset)\n",
    "z = zoom_effect(ax1, ax2)"
   ]
  },
  {
   "cell_type": "code",
   "execution_count": 15,
   "metadata": {
    "jupyter": {
     "outputs_hidden": false
    },
    "pycharm": {
     "is_executing": false,
     "name": "#%%\n"
    }
   },
   "outputs": [
    {
     "data": {
      "text/plain": [
       "(5145, 5165)"
      ]
     },
     "execution_count": 15,
     "metadata": {},
     "output_type": "execute_result"
    }
   ],
   "source": [
    "# update manually the time axis\n",
    "ax1.set_xlim(5145,5165) # in seconds"
   ]
  },
  {
   "cell_type": "markdown",
   "metadata": {
    "jupyter": {
     "outputs_hidden": false
    },
    "pycharm": {
     "is_executing": false,
     "name": "#%%\n"
    }
   },
   "source": [
    "### (OPTIONAL) Enable widget"
   ]
  },
  {
   "cell_type": "code",
   "execution_count": 31,
   "metadata": {
    "jupyter": {
     "outputs_hidden": false
    },
    "pycharm": {
     "is_executing": false,
     "name": "#%%\n"
    }
   },
   "outputs": [
    {
     "data": {
      "application/vnd.jupyter.widget-view+json": {
       "model_id": "2bab0ae896d248a3827cf4271308fc8e",
       "version_major": 2,
       "version_minor": 0
      },
      "text/plain": [
       "interactive(children=(FloatSlider(value=0.0, continuous_update=False, description='xmin', max=14169.995, step=…"
      ]
     },
     "metadata": {},
     "output_type": "display_data"
    }
   ],
   "source": [
    "from ipywidgets import interact, FloatSlider\n",
    "def update_axis(xmin, xmax):\n",
    "    if xmin<xmax:\n",
    "        ax1.set_xlim(xmin,xmax)\n",
    "\n",
    "i=FloatSlider(min=raw.times[0], max=raw.times[-1], step=10, continuous_update=False)\n",
    "ii=FloatSlider(min=raw.times[0], max=raw.times[-1], step=10, continuous_update=False)\n",
    "from ipywidgets import FloatSlider\n",
    "interact(update_axis,xmin=i, xmax=ii);"
   ]
  },
  {
   "cell_type": "markdown",
   "metadata": {},
   "source": [
    "## Create reports for several recordings"
   ]
  },
  {
   "cell_type": "code",
   "execution_count": 48,
   "metadata": {},
   "outputs": [
    {
     "name": "stdout",
     "output_type": "stream",
     "text": [
      "parameters set\n"
     ]
    }
   ],
   "source": [
    "import os\n",
    "PATH = os.getcwd() \n",
    "import sys\n",
    "sys.path.append(PATH + '/../')\n",
    "import mne\n",
    "from tinnsleep.config import Config\n",
    "from tinnsleep.create_reports import preprocess, reporting\n",
    "\n",
    "#Setting parameters\n",
    "EDF_list = Config.bruxisme_files\n",
    "ind_picks_chan = [0, 4]\n",
    "ind_picks_imp = [1, 5]\n",
    "THR_classif=[[0,2], [0,3], [0,4], [0,5] , [0,6], [0,7], [0,8], [0,9], [0,10]]\n",
    "sfreq = 200\n",
    "window_length = 0.25                    # in seconds\n",
    "duration = int(window_length * sfreq)   # in samples\n",
    "interval = duration                     # no overlapping\n",
    "THR_imp = 8000\n",
    "params = dict(ch_names=['1', '2'],\n",
    "                  rejection_thresholds=dict(emg=1e-04),  # two order of magnitude higher q0.01\n",
    "                  flat_thresholds=dict(emg=1e-09),  # one order of magnitude lower median\n",
    "                  channel_type_idx=dict(emg=[0, 1]),\n",
    "                  full_report=True\n",
    "                  )\n",
    "\n",
    "print(\"parameters set\")\n"
   ]
  },
  {
   "cell_type": "code",
   "execution_count": 49,
   "metadata": {},
   "outputs": [
    {
     "name": "stdout",
     "output_type": "stream",
     "text": [
      "Extracting EDF parameters from C:\\Users\\zeta\\documents\\EEG_polysomno\\PSG2\\1BA07_nuit_hab.edf...\n",
      "EDF file detected\n",
      "Setting channel info structure...\n",
      "Creating raw.info structure...\n"
     ]
    },
    {
     "name": "stderr",
     "output_type": "stream",
     "text": [
      "<ipython-input-49-913456f60fa0>:3: RuntimeWarning: 7 channel names are too long, have been truncated to 15 characters:\n",
      "['Inductance Abdom', 'Inductance Thora', 'Intensit? lumine', 'Jambe droite Imp', 'Jambe gauche Imp', 'Tension (aliment', 'Tension (Bluetoo']\n",
      "  raw = mne.io.read_raw_edf(filename, preload=False)  # prepare loading\n"
     ]
    },
    {
     "name": "stdout",
     "output_type": "stream",
     "text": [
      "[ True  True  True ...  True  True False]\n",
      "[False  True  True ...  True  True False]\n",
      "[False False  True ... False False False]\n",
      "[False False False ... False False False]\n"
     ]
    },
    {
     "name": "stderr",
     "output_type": "stream",
     "text": [
      "C:\\Users\\Zeta\\Anaconda3\\lib\\site-packages\\numpy\\core\\fromnumeric.py:3118: RuntimeWarning: Mean of empty slice.\n",
      "  out=out, **kwargs)\n",
      "C:\\Users\\Zeta\\Anaconda3\\lib\\site-packages\\numpy\\core\\_methods.py:85: RuntimeWarning: invalid value encountered in double_scalars\n",
      "  ret = ret.dtype.type(ret / rcount)\n"
     ]
    },
    {
     "name": "stdout",
     "output_type": "stream",
     "text": [
      "[False False False ... False False False]\n"
     ]
    },
    {
     "name": "stderr",
     "output_type": "stream",
     "text": [
      "C:\\Users\\Zeta\\Anaconda3\\lib\\site-packages\\numpy\\core\\fromnumeric.py:3118: RuntimeWarning: Mean of empty slice.\n",
      "  out=out, **kwargs)\n",
      "C:\\Users\\Zeta\\Anaconda3\\lib\\site-packages\\numpy\\core\\_methods.py:85: RuntimeWarning: invalid value encountered in double_scalars\n",
      "  ret = ret.dtype.type(ret / rcount)\n"
     ]
    },
    {
     "name": "stdout",
     "output_type": "stream",
     "text": [
      "[False False False ... False False False]\n",
      "burst list empty\n"
     ]
    },
    {
     "name": "stderr",
     "output_type": "stream",
     "text": [
      "C:\\Users\\Zeta\\Anaconda3\\lib\\site-packages\\numpy\\core\\fromnumeric.py:3118: RuntimeWarning: Mean of empty slice.\n",
      "  out=out, **kwargs)\n",
      "C:\\Users\\Zeta\\Anaconda3\\lib\\site-packages\\numpy\\core\\_methods.py:85: RuntimeWarning: invalid value encountered in double_scalars\n",
      "  ret = ret.dtype.type(ret / rcount)\n"
     ]
    },
    {
     "name": "stdout",
     "output_type": "stream",
     "text": [
      "[False False False ... False False False]\n",
      "burst list empty\n"
     ]
    },
    {
     "name": "stderr",
     "output_type": "stream",
     "text": [
      "C:\\Users\\Zeta\\Anaconda3\\lib\\site-packages\\numpy\\core\\fromnumeric.py:3118: RuntimeWarning: Mean of empty slice.\n",
      "  out=out, **kwargs)\n",
      "C:\\Users\\Zeta\\Anaconda3\\lib\\site-packages\\numpy\\core\\_methods.py:85: RuntimeWarning: invalid value encountered in double_scalars\n",
      "  ret = ret.dtype.type(ret / rcount)\n"
     ]
    },
    {
     "name": "stdout",
     "output_type": "stream",
     "text": [
      "[False False False ... False False False]\n",
      "burst list empty\n"
     ]
    },
    {
     "name": "stderr",
     "output_type": "stream",
     "text": [
      "C:\\Users\\Zeta\\Anaconda3\\lib\\site-packages\\numpy\\core\\fromnumeric.py:3118: RuntimeWarning: Mean of empty slice.\n",
      "  out=out, **kwargs)\n",
      "C:\\Users\\Zeta\\Anaconda3\\lib\\site-packages\\numpy\\core\\_methods.py:85: RuntimeWarning: invalid value encountered in double_scalars\n",
      "  ret = ret.dtype.type(ret / rcount)\n"
     ]
    },
    {
     "name": "stdout",
     "output_type": "stream",
     "text": [
      "[False False False ... False False False]\n",
      "burst list empty\n"
     ]
    },
    {
     "name": "stderr",
     "output_type": "stream",
     "text": [
      "C:\\Users\\Zeta\\Anaconda3\\lib\\site-packages\\numpy\\core\\fromnumeric.py:3118: RuntimeWarning: Mean of empty slice.\n",
      "  out=out, **kwargs)\n",
      "C:\\Users\\Zeta\\Anaconda3\\lib\\site-packages\\numpy\\core\\_methods.py:85: RuntimeWarning: invalid value encountered in double_scalars\n",
      "  ret = ret.dtype.type(ret / rcount)\n"
     ]
    },
    {
     "name": "stdout",
     "output_type": "stream",
     "text": [
      "Extracting EDF parameters from C:\\Users\\zeta\\documents\\EEG_polysomno\\PSG2\\1DA15_nuit_hab.edf...\n",
      "EDF file detected\n",
      "Setting channel info structure...\n",
      "Creating raw.info structure...\n"
     ]
    },
    {
     "name": "stderr",
     "output_type": "stream",
     "text": [
      "<ipython-input-49-913456f60fa0>:3: RuntimeWarning: 6 channel names are too long, have been truncated to 15 characters:\n",
      "['Inductance Abdom', 'Inductance Thora', 'Jambe droite Imp', 'Jambe gauche Imp', 'Tension (aliment', 'Tension (Bluetoo']\n",
      "  raw = mne.io.read_raw_edf(filename, preload=False)  # prepare loading\n"
     ]
    },
    {
     "name": "stdout",
     "output_type": "stream",
     "text": [
      "[ True  True  True ... False False False]\n",
      "[ True  True  True ... False False False]\n",
      "[False False False ... False False False]\n",
      "[False False False ... False False False]\n"
     ]
    },
    {
     "name": "stderr",
     "output_type": "stream",
     "text": [
      "C:\\Users\\Zeta\\Anaconda3\\lib\\site-packages\\numpy\\core\\fromnumeric.py:3118: RuntimeWarning: Mean of empty slice.\n",
      "  out=out, **kwargs)\n",
      "C:\\Users\\Zeta\\Anaconda3\\lib\\site-packages\\numpy\\core\\_methods.py:85: RuntimeWarning: invalid value encountered in double_scalars\n",
      "  ret = ret.dtype.type(ret / rcount)\n"
     ]
    },
    {
     "name": "stdout",
     "output_type": "stream",
     "text": [
      "[False False False ... False False False]\n"
     ]
    },
    {
     "name": "stderr",
     "output_type": "stream",
     "text": [
      "C:\\Users\\Zeta\\Anaconda3\\lib\\site-packages\\numpy\\core\\fromnumeric.py:3118: RuntimeWarning: Mean of empty slice.\n",
      "  out=out, **kwargs)\n",
      "C:\\Users\\Zeta\\Anaconda3\\lib\\site-packages\\numpy\\core\\_methods.py:85: RuntimeWarning: invalid value encountered in double_scalars\n",
      "  ret = ret.dtype.type(ret / rcount)\n"
     ]
    },
    {
     "name": "stdout",
     "output_type": "stream",
     "text": [
      "[False False False ... False False False]\n",
      "burst list empty\n"
     ]
    },
    {
     "name": "stderr",
     "output_type": "stream",
     "text": [
      "C:\\Users\\Zeta\\Anaconda3\\lib\\site-packages\\numpy\\core\\fromnumeric.py:3118: RuntimeWarning: Mean of empty slice.\n",
      "  out=out, **kwargs)\n",
      "C:\\Users\\Zeta\\Anaconda3\\lib\\site-packages\\numpy\\core\\_methods.py:85: RuntimeWarning: invalid value encountered in double_scalars\n",
      "  ret = ret.dtype.type(ret / rcount)\n"
     ]
    },
    {
     "name": "stdout",
     "output_type": "stream",
     "text": [
      "[False False False ... False False False]\n",
      "burst list empty\n"
     ]
    },
    {
     "name": "stderr",
     "output_type": "stream",
     "text": [
      "C:\\Users\\Zeta\\Anaconda3\\lib\\site-packages\\numpy\\core\\fromnumeric.py:3118: RuntimeWarning: Mean of empty slice.\n",
      "  out=out, **kwargs)\n",
      "C:\\Users\\Zeta\\Anaconda3\\lib\\site-packages\\numpy\\core\\_methods.py:85: RuntimeWarning: invalid value encountered in double_scalars\n",
      "  ret = ret.dtype.type(ret / rcount)\n"
     ]
    },
    {
     "name": "stdout",
     "output_type": "stream",
     "text": [
      "[False False False ... False False False]\n",
      "burst list empty\n"
     ]
    },
    {
     "name": "stderr",
     "output_type": "stream",
     "text": [
      "C:\\Users\\Zeta\\Anaconda3\\lib\\site-packages\\numpy\\core\\fromnumeric.py:3118: RuntimeWarning: Mean of empty slice.\n",
      "  out=out, **kwargs)\n",
      "C:\\Users\\Zeta\\Anaconda3\\lib\\site-packages\\numpy\\core\\_methods.py:85: RuntimeWarning: invalid value encountered in double_scalars\n",
      "  ret = ret.dtype.type(ret / rcount)\n"
     ]
    },
    {
     "name": "stdout",
     "output_type": "stream",
     "text": [
      "[False False False ... False False False]\n",
      "burst list empty\n"
     ]
    },
    {
     "name": "stderr",
     "output_type": "stream",
     "text": [
      "C:\\Users\\Zeta\\Anaconda3\\lib\\site-packages\\numpy\\core\\fromnumeric.py:3118: RuntimeWarning: Mean of empty slice.\n",
      "  out=out, **kwargs)\n",
      "C:\\Users\\Zeta\\Anaconda3\\lib\\site-packages\\numpy\\core\\_methods.py:85: RuntimeWarning: invalid value encountered in double_scalars\n",
      "  ret = ret.dtype.type(ret / rcount)\n"
     ]
    },
    {
     "name": "stdout",
     "output_type": "stream",
     "text": [
      "Extracting EDF parameters from C:\\Users\\zeta\\documents\\EEG_polysomno\\PSG2\\1GB19_nuit_hab.edf...\n",
      "EDF file detected\n",
      "Setting channel info structure...\n",
      "Creating raw.info structure...\n"
     ]
    },
    {
     "name": "stderr",
     "output_type": "stream",
     "text": [
      "<ipython-input-49-913456f60fa0>:3: RuntimeWarning: 6 channel names are too long, have been truncated to 15 characters:\n",
      "['Inductance Abdom', 'Inductance Thora', 'Jambe droite Imp', 'Jambe gauche Imp', 'Tension (aliment', 'Tension (Bluetoo']\n",
      "  raw = mne.io.read_raw_edf(filename, preload=False)  # prepare loading\n"
     ]
    },
    {
     "name": "stdout",
     "output_type": "stream",
     "text": [
      "[ True  True  True ...  True  True  True]\n",
      "[ True  True  True ...  True  True  True]\n",
      "[ True  True  True ... False False False]\n",
      "[ True  True  True ... False False False]\n"
     ]
    },
    {
     "name": "stderr",
     "output_type": "stream",
     "text": [
      "C:\\Users\\Zeta\\Anaconda3\\lib\\site-packages\\numpy\\core\\fromnumeric.py:3118: RuntimeWarning: Mean of empty slice.\n",
      "  out=out, **kwargs)\n",
      "C:\\Users\\Zeta\\Anaconda3\\lib\\site-packages\\numpy\\core\\_methods.py:85: RuntimeWarning: invalid value encountered in double_scalars\n",
      "  ret = ret.dtype.type(ret / rcount)\n"
     ]
    },
    {
     "name": "stdout",
     "output_type": "stream",
     "text": [
      "[False  True  True ... False False False]\n"
     ]
    },
    {
     "name": "stderr",
     "output_type": "stream",
     "text": [
      "C:\\Users\\Zeta\\Anaconda3\\lib\\site-packages\\numpy\\core\\fromnumeric.py:3118: RuntimeWarning: Mean of empty slice.\n",
      "  out=out, **kwargs)\n",
      "C:\\Users\\Zeta\\Anaconda3\\lib\\site-packages\\numpy\\core\\_methods.py:85: RuntimeWarning: invalid value encountered in double_scalars\n",
      "  ret = ret.dtype.type(ret / rcount)\n"
     ]
    },
    {
     "name": "stdout",
     "output_type": "stream",
     "text": [
      "[False False False ... False False False]\n"
     ]
    },
    {
     "name": "stderr",
     "output_type": "stream",
     "text": [
      "C:\\Users\\Zeta\\Anaconda3\\lib\\site-packages\\numpy\\core\\fromnumeric.py:3118: RuntimeWarning: Mean of empty slice.\n",
      "  out=out, **kwargs)\n",
      "C:\\Users\\Zeta\\Anaconda3\\lib\\site-packages\\numpy\\core\\_methods.py:85: RuntimeWarning: invalid value encountered in double_scalars\n",
      "  ret = ret.dtype.type(ret / rcount)\n"
     ]
    },
    {
     "name": "stdout",
     "output_type": "stream",
     "text": [
      "[False False False ... False False False]\n"
     ]
    },
    {
     "name": "stderr",
     "output_type": "stream",
     "text": [
      "C:\\Users\\Zeta\\Anaconda3\\lib\\site-packages\\numpy\\core\\fromnumeric.py:3118: RuntimeWarning: Mean of empty slice.\n",
      "  out=out, **kwargs)\n",
      "C:\\Users\\Zeta\\Anaconda3\\lib\\site-packages\\numpy\\core\\_methods.py:85: RuntimeWarning: invalid value encountered in double_scalars\n",
      "  ret = ret.dtype.type(ret / rcount)\n"
     ]
    },
    {
     "name": "stdout",
     "output_type": "stream",
     "text": [
      "[False False False ... False False False]\n",
      "burst list empty\n"
     ]
    },
    {
     "name": "stderr",
     "output_type": "stream",
     "text": [
      "C:\\Users\\Zeta\\Anaconda3\\lib\\site-packages\\numpy\\core\\fromnumeric.py:3118: RuntimeWarning: Mean of empty slice.\n",
      "  out=out, **kwargs)\n",
      "C:\\Users\\Zeta\\Anaconda3\\lib\\site-packages\\numpy\\core\\_methods.py:85: RuntimeWarning: invalid value encountered in double_scalars\n",
      "  ret = ret.dtype.type(ret / rcount)\n"
     ]
    },
    {
     "name": "stdout",
     "output_type": "stream",
     "text": [
      "[False False False ... False False False]\n",
      "burst list empty\n"
     ]
    },
    {
     "name": "stderr",
     "output_type": "stream",
     "text": [
      "C:\\Users\\Zeta\\Anaconda3\\lib\\site-packages\\numpy\\core\\fromnumeric.py:3118: RuntimeWarning: Mean of empty slice.\n",
      "  out=out, **kwargs)\n",
      "C:\\Users\\Zeta\\Anaconda3\\lib\\site-packages\\numpy\\core\\_methods.py:85: RuntimeWarning: invalid value encountered in double_scalars\n",
      "  ret = ret.dtype.type(ret / rcount)\n"
     ]
    },
    {
     "name": "stdout",
     "output_type": "stream",
     "text": [
      "Extracting EDF parameters from C:\\Users\\zeta\\documents\\EEG_polysomno\\PSG2\\1RA17_nuit_hab.edf...\n",
      "EDF file detected\n",
      "Setting channel info structure...\n",
      "Creating raw.info structure...\n"
     ]
    },
    {
     "name": "stderr",
     "output_type": "stream",
     "text": [
      "<ipython-input-49-913456f60fa0>:3: RuntimeWarning: 7 channel names are too long, have been truncated to 15 characters:\n",
      "['Inductance Abdom', 'Inductance Thora', 'Intensit? lumine', 'Jambe droite Imp', 'Jambe gauche Imp', 'Tension (aliment', 'Tension (Bluetoo']\n",
      "  raw = mne.io.read_raw_edf(filename, preload=False)  # prepare loading\n"
     ]
    },
    {
     "name": "stdout",
     "output_type": "stream",
     "text": [
      "[False False False ...  True  True False]\n",
      "[False False False ... False False False]\n",
      "[False False False ... False False False]\n"
     ]
    },
    {
     "name": "stderr",
     "output_type": "stream",
     "text": [
      "C:\\Users\\Zeta\\Anaconda3\\lib\\site-packages\\numpy\\core\\fromnumeric.py:3118: RuntimeWarning: Mean of empty slice.\n",
      "  out=out, **kwargs)\n",
      "C:\\Users\\Zeta\\Anaconda3\\lib\\site-packages\\numpy\\core\\_methods.py:85: RuntimeWarning: invalid value encountered in double_scalars\n",
      "  ret = ret.dtype.type(ret / rcount)\n"
     ]
    },
    {
     "name": "stdout",
     "output_type": "stream",
     "text": [
      "[False False False ... False False False]\n"
     ]
    },
    {
     "name": "stderr",
     "output_type": "stream",
     "text": [
      "C:\\Users\\Zeta\\Anaconda3\\lib\\site-packages\\numpy\\core\\fromnumeric.py:3118: RuntimeWarning: Mean of empty slice.\n",
      "  out=out, **kwargs)\n",
      "C:\\Users\\Zeta\\Anaconda3\\lib\\site-packages\\numpy\\core\\_methods.py:85: RuntimeWarning: invalid value encountered in double_scalars\n",
      "  ret = ret.dtype.type(ret / rcount)\n"
     ]
    },
    {
     "name": "stdout",
     "output_type": "stream",
     "text": [
      "[False False False ... False False False]\n"
     ]
    },
    {
     "name": "stderr",
     "output_type": "stream",
     "text": [
      "C:\\Users\\Zeta\\Anaconda3\\lib\\site-packages\\numpy\\core\\fromnumeric.py:3118: RuntimeWarning: Mean of empty slice.\n",
      "  out=out, **kwargs)\n",
      "C:\\Users\\Zeta\\Anaconda3\\lib\\site-packages\\numpy\\core\\_methods.py:85: RuntimeWarning: invalid value encountered in double_scalars\n",
      "  ret = ret.dtype.type(ret / rcount)\n"
     ]
    },
    {
     "name": "stdout",
     "output_type": "stream",
     "text": [
      "[False False False ... False False False]\n"
     ]
    },
    {
     "name": "stderr",
     "output_type": "stream",
     "text": [
      "C:\\Users\\Zeta\\Anaconda3\\lib\\site-packages\\numpy\\core\\fromnumeric.py:3118: RuntimeWarning: Mean of empty slice.\n",
      "  out=out, **kwargs)\n",
      "C:\\Users\\Zeta\\Anaconda3\\lib\\site-packages\\numpy\\core\\_methods.py:85: RuntimeWarning: invalid value encountered in double_scalars\n",
      "  ret = ret.dtype.type(ret / rcount)\n"
     ]
    },
    {
     "name": "stdout",
     "output_type": "stream",
     "text": [
      "[False False False ... False False False]\n"
     ]
    },
    {
     "name": "stderr",
     "output_type": "stream",
     "text": [
      "C:\\Users\\Zeta\\Anaconda3\\lib\\site-packages\\numpy\\core\\fromnumeric.py:3118: RuntimeWarning: Mean of empty slice.\n",
      "  out=out, **kwargs)\n",
      "C:\\Users\\Zeta\\Anaconda3\\lib\\site-packages\\numpy\\core\\_methods.py:85: RuntimeWarning: invalid value encountered in double_scalars\n",
      "  ret = ret.dtype.type(ret / rcount)\n"
     ]
    },
    {
     "name": "stdout",
     "output_type": "stream",
     "text": [
      "[False False False ... False False False]\n",
      "burst list empty\n"
     ]
    },
    {
     "name": "stderr",
     "output_type": "stream",
     "text": [
      "C:\\Users\\Zeta\\Anaconda3\\lib\\site-packages\\numpy\\core\\fromnumeric.py:3118: RuntimeWarning: Mean of empty slice.\n",
      "  out=out, **kwargs)\n",
      "C:\\Users\\Zeta\\Anaconda3\\lib\\site-packages\\numpy\\core\\_methods.py:85: RuntimeWarning: invalid value encountered in double_scalars\n",
      "  ret = ret.dtype.type(ret / rcount)\n"
     ]
    },
    {
     "name": "stdout",
     "output_type": "stream",
     "text": [
      "[False False False ... False False False]\n",
      "burst list empty\n"
     ]
    },
    {
     "name": "stderr",
     "output_type": "stream",
     "text": [
      "C:\\Users\\Zeta\\Anaconda3\\lib\\site-packages\\numpy\\core\\fromnumeric.py:3118: RuntimeWarning: Mean of empty slice.\n",
      "  out=out, **kwargs)\n",
      "C:\\Users\\Zeta\\Anaconda3\\lib\\site-packages\\numpy\\core\\_methods.py:85: RuntimeWarning: invalid value encountered in double_scalars\n",
      "  ret = ret.dtype.type(ret / rcount)\n"
     ]
    },
    {
     "name": "stdout",
     "output_type": "stream",
     "text": [
      "Extracting EDF parameters from C:\\Users\\zeta\\documents\\EEG_polysomno\\PSG2\\testy_algo_Paul.edf...\n",
      "EDF file detected\n",
      "Setting channel info structure...\n",
      "Creating raw.info structure...\n"
     ]
    },
    {
     "name": "stderr",
     "output_type": "stream",
     "text": [
      "<ipython-input-49-913456f60fa0>:3: RuntimeWarning: 6 channel names are too long, have been truncated to 15 characters:\n",
      "['Inductance Abdom', 'Inductance Thora', 'Jambe droite Imp', 'Jambe gauche Imp', 'Tension (aliment', 'Tension (Bluetoo']\n",
      "  raw = mne.io.read_raw_edf(filename, preload=False)  # prepare loading\n"
     ]
    },
    {
     "name": "stdout",
     "output_type": "stream",
     "text": [
      "[ True  True  True ... False False False]\n",
      "[ True  True False ... False False False]\n",
      "[False False False ... False False False]\n",
      "[False False False ... False False False]\n",
      "[False False False ... False False False]\n"
     ]
    },
    {
     "name": "stderr",
     "output_type": "stream",
     "text": [
      "C:\\Users\\Zeta\\Anaconda3\\lib\\site-packages\\numpy\\core\\fromnumeric.py:3118: RuntimeWarning: Mean of empty slice.\n",
      "  out=out, **kwargs)\n",
      "C:\\Users\\Zeta\\Anaconda3\\lib\\site-packages\\numpy\\core\\_methods.py:85: RuntimeWarning: invalid value encountered in double_scalars\n",
      "  ret = ret.dtype.type(ret / rcount)\n"
     ]
    },
    {
     "name": "stdout",
     "output_type": "stream",
     "text": [
      "[False False False ... False False False]\n"
     ]
    },
    {
     "name": "stderr",
     "output_type": "stream",
     "text": [
      "C:\\Users\\Zeta\\Anaconda3\\lib\\site-packages\\numpy\\core\\fromnumeric.py:3118: RuntimeWarning: Mean of empty slice.\n",
      "  out=out, **kwargs)\n",
      "C:\\Users\\Zeta\\Anaconda3\\lib\\site-packages\\numpy\\core\\_methods.py:85: RuntimeWarning: invalid value encountered in double_scalars\n",
      "  ret = ret.dtype.type(ret / rcount)\n"
     ]
    },
    {
     "name": "stdout",
     "output_type": "stream",
     "text": [
      "[False False False ... False False False]\n"
     ]
    },
    {
     "name": "stderr",
     "output_type": "stream",
     "text": [
      "C:\\Users\\Zeta\\Anaconda3\\lib\\site-packages\\numpy\\core\\fromnumeric.py:3118: RuntimeWarning: Mean of empty slice.\n",
      "  out=out, **kwargs)\n",
      "C:\\Users\\Zeta\\Anaconda3\\lib\\site-packages\\numpy\\core\\_methods.py:85: RuntimeWarning: invalid value encountered in double_scalars\n",
      "  ret = ret.dtype.type(ret / rcount)\n"
     ]
    },
    {
     "name": "stdout",
     "output_type": "stream",
     "text": [
      "[False False False ... False False False]\n"
     ]
    },
    {
     "name": "stderr",
     "output_type": "stream",
     "text": [
      "C:\\Users\\Zeta\\Anaconda3\\lib\\site-packages\\numpy\\core\\fromnumeric.py:3118: RuntimeWarning: Mean of empty slice.\n",
      "  out=out, **kwargs)\n",
      "C:\\Users\\Zeta\\Anaconda3\\lib\\site-packages\\numpy\\core\\_methods.py:85: RuntimeWarning: invalid value encountered in double_scalars\n",
      "  ret = ret.dtype.type(ret / rcount)\n"
     ]
    },
    {
     "name": "stdout",
     "output_type": "stream",
     "text": [
      "[False False False ... False False False]\n",
      "burst list empty\n"
     ]
    },
    {
     "name": "stderr",
     "output_type": "stream",
     "text": [
      "C:\\Users\\Zeta\\Anaconda3\\lib\\site-packages\\numpy\\core\\fromnumeric.py:3118: RuntimeWarning: Mean of empty slice.\n",
      "  out=out, **kwargs)\n",
      "C:\\Users\\Zeta\\Anaconda3\\lib\\site-packages\\numpy\\core\\_methods.py:85: RuntimeWarning: invalid value encountered in double_scalars\n",
      "  ret = ret.dtype.type(ret / rcount)\n"
     ]
    }
   ],
   "source": [
    "results={}\n",
    "for filename in EDF_list:\n",
    "    raw = mne.io.read_raw_edf(filename, preload=False)  # prepare loading\n",
    "    picks_chan=[]\n",
    "    for elm in ind_picks_chan:\n",
    "        picks_chan.append(raw.info[\"ch_names\"][elm])\n",
    "    picks_imp=[]\n",
    "    for elm in ind_picks_imp:\n",
    "        picks_imp.append(raw.info[\"ch_names\"][elm])\n",
    "    epochs, valid_labels, log = preprocess(raw, picks_chan, picks_imp, duration, interval, params, THR_imp=THR_imp, get_log=True)\n",
    "    results[filename] = reporting(epochs, valid_labels, THR_classif, log)\n"
   ]
  },
  {
   "cell_type": "code",
   "execution_count": 62,
   "metadata": {},
   "outputs": [
    {
     "name": "stdout",
     "output_type": "stream",
     "text": [
      "dict_keys(['C:\\\\Users\\\\zeta\\\\documents\\\\EEG_polysomno\\\\PSG2\\\\1BA07_nuit_hab.edf', 'C:\\\\Users\\\\zeta\\\\documents\\\\EEG_polysomno\\\\PSG2\\\\1DA15_nuit_hab.edf', 'C:\\\\Users\\\\zeta\\\\documents\\\\EEG_polysomno\\\\PSG2\\\\1GB19_nuit_hab.edf', 'C:\\\\Users\\\\zeta\\\\documents\\\\EEG_polysomno\\\\PSG2\\\\1RA17_nuit_hab.edf', 'C:\\\\Users\\\\zeta\\\\documents\\\\EEG_polysomno\\\\PSG2\\\\testy_algo_Paul.edf'])\n"
     ]
    },
    {
     "data": {
      "application/vnd.jupyter.widget-view+json": {
       "model_id": "56342967b53b4026b166e239b6391028",
       "version_major": 2,
       "version_minor": 0
      },
      "text/plain": [
       "Canvas(toolbar=Toolbar(toolitems=[('Home', 'Reset original view', 'home', 'home'), ('Back', 'Back to previous …"
      ]
     },
     "metadata": {},
     "output_type": "display_data"
    },
    {
     "name": "stdout",
     "output_type": "stream",
     "text": [
      "[21.08454329078325, 15.697303154812202, 7.895093302716196, 2.1363193642643825, 0.09288345062019054, 0.0, 0.0, 0.0, 0.0]\n",
      "[24.0065133951072, 20.098476330787424, 15.073857248090567, 6.141201101073935, 0.0, 0.0, 0.0, 0.0, 0.0]\n",
      "[24.301344422463565, 18.83644878678994, 14.069199402478905, 4.069603132948443, 0.2325487504541968, 0.0, 0.0, 0.0, 0.0]\n",
      "[7.788836001730853, 4.673301601038512, 1.5577672003461704, 1.5577672003461704, 1.5577672003461704, 1.5577672003461704, 1.5577672003461704, 0.0, 0.0]\n",
      "[16.691361011157813, 12.046808381966073, 7.83768256176106, 5.079979438178465, 4.2091258202050135, 2.031991775271386, 0.0, 0.0, 0.0]\n",
      "[0, 6]\n",
      "{'Clean data duration': 38758.25, 'Total burst duration': 8.25, 'Total number of burst': 31, 'Number of bursts per hour': 2.879386969225907, 'Total number of episodes': 1, 'Number of bursts per episode': 31.0, 'Number of episodes per hour': 0.09288345062019054, 'Number of tonic episodes per hour': 0.0, 'Number of phasic episodes per hour': 0.023220862655047636, 'Number of mixed episodes per hour': 0.0, 'Mean duration of tonic episode': nan, 'Mean duration of phasic episode': 2.75, 'Mean duration of mixed episode': nan}\n"
     ]
    }
   ],
   "source": [
    "print(results.keys())\n",
    "plt.figure()\n",
    "for elm in results.keys():\n",
    "    nb_ep=[]\n",
    "    for ep in results[elm][\"reports\"]:\n",
    "        nb_ep.append(ep[\"Number of episodes per hour\"])\n",
    "    print(nb_ep)\n",
    "    st = elm[-19:] + \" len \" + str(ep[\"Clean data duration\"])\n",
    "    plt.plot(nb_ep, label=st)\n",
    "plt.title('Comparison for number of episodes per hour')\n",
    "plt.legend()\n",
    "print(results['C:\\\\Users\\\\zeta\\\\documents\\\\EEG_polysomno\\\\PSG2\\\\1BA07_nuit_hab.edf'][\"THR_classif\"][4])\n",
    "print(results['C:\\\\Users\\\\zeta\\\\documents\\\\EEG_polysomno\\\\PSG2\\\\1BA07_nuit_hab.edf'][\"reports\"][4])\n"
   ]
  },
  {
   "cell_type": "code",
   "execution_count": 61,
   "metadata": {},
   "outputs": [
    {
     "name": "stdout",
     "output_type": "stream",
     "text": [
      "dict_keys(['C:\\\\Users\\\\zeta\\\\documents\\\\EEG_polysomno\\\\PSG2\\\\1BA07_nuit_hab.edf', 'C:\\\\Users\\\\zeta\\\\documents\\\\EEG_polysomno\\\\PSG2\\\\1DA15_nuit_hab.edf', 'C:\\\\Users\\\\zeta\\\\documents\\\\EEG_polysomno\\\\PSG2\\\\1GB19_nuit_hab.edf', 'C:\\\\Users\\\\zeta\\\\documents\\\\EEG_polysomno\\\\PSG2\\\\1RA17_nuit_hab.edf', 'C:\\\\Users\\\\zeta\\\\documents\\\\EEG_polysomno\\\\PSG2\\\\testy_algo_Paul.edf'])\n"
     ]
    },
    {
     "data": {
      "application/vnd.jupyter.widget-view+json": {
       "model_id": "43a9a4d48a194f76a709de8375ba7ab4",
       "version_major": 2,
       "version_minor": 0
      },
      "text/plain": [
       "Canvas(toolbar=Toolbar(toolitems=[('Home', 'Reset original view', 'home', 'home'), ('Back', 'Back to previous …"
      ]
     },
     "metadata": {},
     "output_type": "display_data"
    },
    {
     "name": "stdout",
     "output_type": "stream",
     "text": [
      "[3192, 1654, 802, 283, 31, 0, 0, 0, 0]\n",
      "[358, 279, 224, 91, 14, 0, 0, 0, 0]\n",
      "[1645, 1567, 1018, 393, 67, 5, 1, 0, 0]\n",
      "[53, 23, 10, 5, 2, 2, 3, 0, 0]\n",
      "[812, 486, 284, 239, 187, 95, 29, 3, 0]\n"
     ]
    },
    {
     "data": {
      "text/plain": [
       "<matplotlib.legend.Legend at 0x21d10f97588>"
      ]
     },
     "execution_count": 61,
     "metadata": {},
     "output_type": "execute_result"
    }
   ],
   "source": [
    "print(results.keys())\n",
    "plt.figure()\n",
    "for elm in results.keys():\n",
    "    nb_ep=[]\n",
    "    for ep in results[elm][\"reports\"]:\n",
    "        nb_ep.append(ep[\"Total number of burst\"])\n",
    "    print(nb_ep)\n",
    "    st = elm[-19:] + \" len \" + str(ep[\"Clean data duration\"])\n",
    "    plt.plot(nb_ep, label=st)\n",
    "plt.title('Comparison for total number of bursts')\n",
    "plt.legend()"
   ]
  },
  {
   "cell_type": "code",
   "execution_count": null,
   "metadata": {},
   "outputs": [],
   "source": []
  }
 ],
 "metadata": {
  "kernelspec": {
   "display_name": "Python 3",
   "language": "python",
   "name": "python3"
  },
  "language_info": {
   "codemirror_mode": {
    "name": "ipython",
    "version": 3
   },
   "file_extension": ".py",
   "mimetype": "text/x-python",
   "name": "python",
   "nbconvert_exporter": "python",
   "pygments_lexer": "ipython3",
   "version": "3.7.3"
  },
  "pycharm": {
   "stem_cell": {
    "cell_type": "raw",
    "metadata": {
     "collapsed": false
    },
    "source": []
   }
  }
 },
 "nbformat": 4,
 "nbformat_minor": 4
}
